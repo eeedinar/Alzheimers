{
 "cells": [
  {
   "cell_type": "code",
   "execution_count": 1,
   "id": "configured-waste",
   "metadata": {},
   "outputs": [],
   "source": [
    "%matplotlib widget\n",
    "from essential_func import *\n",
    "qgrid2 = np.hstack([np.arange(0.005, 0.0499, 0.001), np.arange(0.05, 0.099, 0.002), np.arange(0.1, 3.2, 0.005)])"
   ]
  },
  {
   "cell_type": "code",
   "execution_count": 7,
   "id": "breeding-cathedral",
   "metadata": {},
   "outputs": [
    {
     "name": "stdout",
     "output_type": "stream",
     "text": [
      "frame information extraction completes with _SAXS shape (1, 1043, 981) _WAXS shape (1, 1043, 981)...\n",
      "Circular averaging starts now ... \n",
      "2016_B8c_masked_100.h5 total 1-d averaging time 0.4481034580000198 seconds\n"
     ]
    },
    {
     "name": "stderr",
     "output_type": "stream",
     "text": [
      "/Users/bashit.a/Documents/Alzheimer/Dec-15/py4xs/data2d.py:350: RuntimeWarning: invalid value encountered in sqrt\n",
      "  dI = np.sqrt(Iq2-Iq*Iq)\n"
     ]
    },
    {
     "data": {
      "application/vnd.jupyter.widget-view+json": {
       "model_id": "784fe61e9d2c40d8819dd0adf9b8f3b9",
       "version_major": 2,
       "version_minor": 0
      },
      "text/plain": [
       "Canvas(toolbar=Toolbar(toolitems=[('Home', 'Reset original view', 'home', 'home'), ('Back', 'Back to previous …"
      ]
     },
     "metadata": {},
     "output_type": "display_data"
    }
   ],
   "source": [
    "############### -------- configure patch size and copy the pathces tuplte to the next cell for computing 1-d averaging for all frames ------------- ###################\n",
    "frame = 100\n",
    "file = '2016_B8c_masked.h5'\n",
    "patches = patches = [\n",
    "\n",
    "\n",
    "                    ]\n",
    "mica_patching(file, frame, patches, qgrid2)"
   ]
  },
  {
   "cell_type": "code",
   "execution_count": 5,
   "id": "circular-malpractice",
   "metadata": {},
   "outputs": [
    {
     "name": "stdout",
     "output_type": "stream",
     "text": [
      "2016_B8c_masked.h5 is being created in /Users/bashit.a/Documents/Alzheimer/Dec-15 ...\n",
      "2016_B8c_masked.h5 copy is done\n",
      "2016_B8c_masked.h5 Loading data into a numpy array started \n",
      "2016_B8c_masked.h5 Loading data into a numpy array finished in 17.170424957999998 seconds\n",
      "2016_B8c_masked.h5 Patching Started \n",
      "2016_B8c_masked.h5 Patching Finished\n",
      "2016_B8c_masked.h5 patched pilW2_image dataset creation staring ... \n",
      "2016_B8c_masked.h5 patched pilW2_image dataset creation finished in 25.279902500000006 seconds\n",
      "Circular averaging starts now ... \n",
      "data received: sn=2016_B8c, fr1=0\n",
      "data received: sn=2016_B8c, fr1=160\n",
      "data received: sn=2016_B8c, fr1=320\n",
      "data received: sn=2016_B8c, fr1=480\n",
      "data received: sn=2016_B8c, fr1=640\n",
      "data received: sn=2016_B8c, fr1=800\n",
      "data received: sn=2016_B8c, fr1=960\n",
      "data received: sn=2016_B8c, fr1=1120\n",
      "2016_B8c_masked.h5 total 1-d averaging time 136.16326216700003 seconds\n",
      "Successfully created 1934_SNa_masked.h5 ---> 2016_B8c_masked.h5\n"
     ]
    }
   ],
   "source": [
    "# 1-d averaging after patches for one file\n",
    "### spec\n",
    "source_file = \"2016_B8c.h5\"\n",
    "patches = [\n",
    "                             [[800, 0], [980, 150]],\n",
    "                             [[165, 0], [365, 140]],\n",
    "                             [[595, 215], [625, 240]],\n",
    "                             [[0, 580], [40, 620]],\n",
    "                             [[605, 890], [655, 920]],\n",
    "                             [[0, 910], [75, 965]],\n",
    "                             [[290, 385], [340, 405]],\n",
    "                             [[900, 700], [950, 740]]\n",
    "          ]\n",
    "\n",
    "### computation\n",
    "masked_file = circ_avg_from_patches(source_file, qgrid2, patches)\n",
    "print(f'Successfully created {file} ---> {masked_file}')"
   ]
  },
  {
   "cell_type": "code",
   "execution_count": 4,
   "id": "reflected-tomorrow",
   "metadata": {},
   "outputs": [
    {
     "name": "stdout",
     "output_type": "stream",
     "text": [
      "[[[800, 0], 180, 150, 'red'], [[245, 0], 140, 130, 'green'], [[0, 590], 40, 25, 'orange'], [[300, 720], 45, 30, 'black'], [[625, 895], 40, 35, 'yellow'], [[15, 930], 60, 40, 'brown'], [[900, 705], 50, 40, 'pink']]\n"
     ]
    }
   ],
   "source": [
    "## patching information retrival from _masked.h5 file\n",
    "from essential_func import *\n",
    "\n",
    "#specs\n",
    "file = \"1934_SNa_masked.h5\"\n",
    "\n",
    "# computation\n",
    "try: patches = get_patch_attributes(f'{file}'); print(patches)\n",
    "except: print(f'{file} does not have patches information on the processed folder')"
   ]
  },
  {
   "cell_type": "code",
   "execution_count": 19,
   "id": "integral-envelope",
   "metadata": {},
   "outputs": [],
   "source": [
    "### check config.json file integrity\n",
    "from essential_func import *\n",
    "No_error_no_prb = get_json_str_data('config-dec-15.json');"
   ]
  },
  {
   "cell_type": "code",
   "execution_count": null,
   "id": "superior-kennedy",
   "metadata": {},
   "outputs": [
    {
     "name": "stdout",
     "output_type": "stream",
     "text": [
      "DID not PATCH 1934_B8_masked.h5 already exists - did not copy, \n",
      "1-D Averaging is NOT performed as 1934_B8_masked.h5 already exist \n",
      "TO do patching on 1934_B8_masked.h5 delete the file first manually and run this cell again\n",
      "1934_SN_masked.h5 is being created in /Users/bashit.a/Documents/Alzheimer/Dec-15 ...\n",
      "1934_SN_masked.h5 copy is done\n",
      "1934_SN_masked.h5 Loading data into a numpy array started \n",
      "1934_SN_masked.h5 Loading data into a numpy array finished in 71.519835875 seconds\n",
      "1934_SN_masked.h5 Patching Started \n",
      "1934_SN_masked.h5 Patching Finished\n",
      "1934_SN_masked.h5 patched pilW2_image dataset creation staring ... \n",
      "1934_SN_masked.h5 patched pilW2_image dataset creation finished in 117.57385520800001 seconds\n",
      "Circular averaging starts now ... \n",
      "data received: sn=1934_SN, fr1=0\n",
      "data received: sn=1934_SN, fr1=620\n",
      "data received: sn=1934_SN, fr1=1240\n",
      "data received: sn=1934_SN, fr1=1860\n",
      "data received: sn=1934_SN, fr1=2480\n",
      "data received: sn=1934_SN, fr1=3100\n",
      "data received: sn=1934_SN, fr1=3720\n",
      "data received: sn=1934_SN, fr1=4340\n",
      "1934_SN_masked.h5 total 1-d averaging time 542.095783959 seconds\n",
      "DID not PATCH 1934_SNa_masked.h5 already exists - did not copy, \n",
      "1-D Averaging is NOT performed as 1934_SNa_masked.h5 already exist \n",
      "TO do patching on 1934_SNa_masked.h5 delete the file first manually and run this cell again\n",
      "DID not PATCH 1943_B1_masked.h5 already exists - did not copy, \n",
      "1-D Averaging is NOT performed as 1943_B1_masked.h5 already exist \n",
      "TO do patching on 1943_B1_masked.h5 delete the file first manually and run this cell again\n",
      "DID not PATCH 1943_B1a_masked.h5 already exists - did not copy, \n",
      "1-D Averaging is NOT performed as 1943_B1a_masked.h5 already exist \n",
      "TO do patching on 1943_B1a_masked.h5 delete the file first manually and run this cell again\n",
      "DID not PATCH 2016_B8_masked.h5 already exists - did not copy, \n",
      "1-D Averaging is NOT performed as 2016_B8_masked.h5 already exist \n",
      "TO do patching on 2016_B8_masked.h5 delete the file first manually and run this cell again\n",
      "DID not PATCH 2016_B8a_masked.h5 already exists - did not copy, \n",
      "1-D Averaging is NOT performed as 2016_B8a_masked.h5 already exist \n",
      "TO do patching on 2016_B8a_masked.h5 delete the file first manually and run this cell again\n",
      "DID not PATCH 2016_B8b_masked.h5 already exists - did not copy, \n",
      "1-D Averaging is NOT performed as 2016_B8b_masked.h5 already exist \n",
      "TO do patching on 2016_B8b_masked.h5 delete the file first manually and run this cell again\n",
      "DID not PATCH 2016_B8c_masked.h5 already exists - did not copy, \n",
      "1-D Averaging is NOT performed as 2016_B8c_masked.h5 already exist \n",
      "TO do patching on 2016_B8c_masked.h5 delete the file first manually and run this cell again\n",
      "DID not PATCH 2047_B1_masked.h5 already exists - did not copy, \n",
      "1-D Averaging is NOT performed as 2047_B1_masked.h5 already exist \n",
      "TO do patching on 2047_B1_masked.h5 delete the file first manually and run this cell again\n",
      "DID not PATCH 2047_B1a_masked.h5 already exists - did not copy, \n",
      "1-D Averaging is NOT performed as 2047_B1a_masked.h5 already exist \n",
      "TO do patching on 2047_B1a_masked.h5 delete the file first manually and run this cell again\n",
      "2048_B16_masked.h5 is being created in /Users/bashit.a/Documents/Alzheimer/Dec-15 ...\n",
      "2048_B16_masked.h5 copy is done\n",
      "2048_B16_masked.h5 Loading data into a numpy array started \n"
     ]
    }
   ],
   "source": [
    "# 1-d averaging after patches for ALL files in the current directory\n",
    "\n",
    "data = get_json_str_data(\"config-dec-15.json\")\n",
    "### do masking and 1-d averaging (Lin Yang's code by BNL used here for 1-d averaging)\n",
    "files = []\n",
    "for file in data['files']:\n",
    "    source_file , patches = file['name'], file['patches']\n",
    "    try: masked_file = circ_avg_from_patches(source_file, qgrid2, patches)\n",
    "    except: continue\n",
    "    files.append((source_file, masked_file))\n",
    "\n",
    "print(f'Successfully created (source file, masked file) \\n\\n')\n",
    "[print(s, '--->' ,t) for s,t in files]\n",
    "pass"
   ]
  },
  {
   "cell_type": "code",
   "execution_count": 4,
   "id": "missing-mechanism",
   "metadata": {},
   "outputs": [
    {
     "data": {
      "application/vnd.jupyter.widget-view+json": {
       "model_id": "4dc0879757214f2497adc7599882370e",
       "version_major": 2,
       "version_minor": 0
      },
      "text/plain": [
       "Canvas(toolbar=Toolbar(toolitems=[('Home', 'Reset original view', 'home', 'home'), ('Back', 'Back to previous …"
      ]
     },
     "metadata": {},
     "output_type": "display_data"
    },
    {
     "data": {
      "application/vnd.jupyter.widget-view+json": {
       "model_id": "2716850147a1468996d79a2869b9e83c",
       "version_major": 2,
       "version_minor": 0
      },
      "text/plain": [
       "interactive(children=(IntSlider(value=0, description='Frame', max=4960), Output()), _dom_classes=('widget-inte…"
      ]
     },
     "metadata": {},
     "output_type": "display_data"
    }
   ],
   "source": [
    "### 1d circularly averaged data for masked file \n",
    "%matplotlib widget\n",
    "from essential_func import *\n",
    "import ipywidgets   # from IPython.display import display; display(amp)\n",
    "\n",
    "# specs  \n",
    "masked_file = \"1934_SN_masked.h5\"   \n",
    "scattering = '_WAXS2'\n",
    "\n",
    "# semi-specs\n",
    "file = masked_file \n",
    "qgrid2 = np.hstack([np.arange(0.005, 0.0499, 0.001), np.arange(0.05, 0.099, 0.002), np.arange(0.1, 3.2, 0.005)])\n",
    "\n",
    "# computation\n",
    "Iq = read_Iq(file, scattering)    \n",
    "Width, Height = width_height(file)    \n",
    "n_patterns = Width*Height \n",
    "\n",
    "f,ax = plt.subplots()\n",
    "def update_plot(frame):\n",
    "    ax.clear()\n",
    "    ax.set_yscale('log')\n",
    "    ax.plot(qgrid2, (Iq[frame]), label = f'{scattering} {frame}')\n",
    "\n",
    "frame = ipywidgets.IntSlider(min=0, max=n_patterns-1, value=0, description = \"Frame\")\n",
    "ipywidgets.interactive(update_plot, frame=frame)"
   ]
  },
  {
   "cell_type": "code",
   "execution_count": 5,
   "id": "extra-gothic",
   "metadata": {},
   "outputs": [
    {
     "data": {
      "application/vnd.jupyter.widget-view+json": {
       "model_id": "ae8d05eb23554dafaa93ed4bfe30fecb",
       "version_major": 2,
       "version_minor": 0
      },
      "text/plain": [
       "Canvas(toolbar=Toolbar(toolitems=[('Home', 'Reset original view', 'home', 'home'), ('Back', 'Back to previous …"
      ]
     },
     "metadata": {},
     "output_type": "display_data"
    },
    {
     "name": "stdout",
     "output_type": "stream",
     "text": [
      "low valid idx = 2, low valid Q = 0.007, high valid idx = 124 , high valid Q = 0.370\n",
      "low valid idx = 109, low valid Q = 0.295, high valid idx = 578 , high valid Q = 2.640\n",
      "Task Finished. Figure Number =  1\n"
     ]
    }
   ],
   "source": [
    "### show heat map for any file\n",
    "%matplotlib widget    \n",
    "from essential_func import *\n",
    "\n",
    "file = '2048_B8.h5'\n",
    "#file = masked_file    \n",
    "scatterings = ('_SAXS', '_WAXS2')\n",
    "\n",
    "#plot_one_heat_maps(file, scatterings)\n",
    "f = plot_heat_map_from_file(file, qgrid2, scatterings = scatterings)\n",
    "print('Task Finished. Figure Number = ' , f.number)"
   ]
  },
  {
   "cell_type": "code",
   "execution_count": 6,
   "id": "independent-arnold",
   "metadata": {},
   "outputs": [
    {
     "data": {
      "application/vnd.jupyter.widget-view+json": {
       "model_id": "800a07ceee9647b98678f5708a51aa7b",
       "version_major": 2,
       "version_minor": 0
      },
      "text/plain": [
       "interactive(children=(Dropdown(description='File : ', options=('1934_B8.h5', '1934_B8_masked.h5', '1934_SN.h5'…"
      ]
     },
     "metadata": {},
     "output_type": "display_data"
    },
    {
     "data": {
      "text/plain": [
       "<function essential_func.file_polyfit_heatmap_plot(file, indices, qgrid2)>"
      ]
     },
     "execution_count": 6,
     "metadata": {},
     "output_type": "execute_result"
    }
   ],
   "source": [
    "################# --------- Find Q range to plot heat maps --------- #################\n",
    "%matplotlib widget\n",
    "from essential_func import *\n",
    "import ipywidgets         # from IPython.display import display; display(amp)\n",
    "from ipywidgets import fixed\n",
    "\n",
    "\n",
    "# semi-specs\n",
    "qgrid2 = np.hstack([np.arange(0.005, 0.0499, 0.001), np.arange(0.05, 0.099, 0.002), np.arange(0.1, 3.2, 0.005)])\n",
    "\n",
    "### q_low, q_high, q_low - idx[2] and q_high + idx[2] for poly fit, number of points\n",
    "indices = ((0.115, 0.16, 13,   48, '_SAXS' , 'bumpy'),      # 72, 81\n",
    "           (1.48,  1.57, 10, 4.15, '_WAXS2', 'paraffin'),   # 345, 355\n",
    "           (1.30,  1.38, 10,  4.7, '_WAXS2', 'amyloid'),    # 309, 323\n",
    "           (1.89,  1.93,  7,  3.2, '_WAXS2', 'mica')        # 427, 433\n",
    "          )\n",
    "\n",
    "## polyhit with heatmap from drop down list\n",
    "files = cwd_files_type_search('.h5')\n",
    "dropdown = ipywidgets.Dropdown(options=files, value = files[0],description='File : ', disabled=False)\n",
    "ipywidgets.interact(file_polyfit_heatmap_plot, file = dropdown, indices = fixed(indices), qgrid2 = fixed(qgrid2))\n",
    "\n",
    "\n",
    "## polyhit with heatmap for one file\n",
    "# file = '2048_B8.h5'\n",
    "# file_polyfit_heatmap_plot(file, indices, qgrid2)"
   ]
  },
  {
   "cell_type": "code",
   "execution_count": 2,
   "id": "nervous-ballet",
   "metadata": {},
   "outputs": [
    {
     "name": "stdout",
     "output_type": "stream",
     "text": [
      "Current location /Users/bashit.a/Documents/Alzheimer/Dec-15\n",
      "Changing to /Users/bashit.a/Documents/Alzheimer/Dec-15//PDF directory \n",
      "result.pdf file written successfully\n",
      "Back to root directory  /Users/bashit.a/Documents/Alzheimer/Dec-15\n"
     ]
    }
   ],
   "source": [
    "### Merge all PDFs in the directory specified\n",
    "### you can put all your pdfs that you want to merge to the PDF folder\n",
    "from essential_func import *\n",
    "pdfs_merging(directory = '/PDF', output = 'result.pdf')"
   ]
  },
  {
   "cell_type": "code",
   "execution_count": 8,
   "id": "english-slave",
   "metadata": {},
   "outputs": [
    {
     "name": "stdout",
     "output_type": "stream",
     "text": [
      "/Users/bashit.a/Documents/Alzheimer/Dec-15\n"
     ]
    },
    {
     "data": {
      "application/vnd.jupyter.widget-view+json": {
       "model_id": "ec07058902094d54bb7e45123f22dbf9",
       "version_major": 2,
       "version_minor": 0
      },
      "text/plain": [
       "Canvas(toolbar=Toolbar(toolitems=[('Home', 'Reset original view', 'home', 'home'), ('Back', 'Back to previous …"
      ]
     },
     "metadata": {},
     "output_type": "display_data"
    },
    {
     "name": "stdout",
     "output_type": "stream",
     "text": [
      "low valid idx = 2, low valid Q = 0.007, high valid idx = 124 , high valid Q = 0.370\n",
      "low valid idx = 109, low valid Q = 0.295, high valid idx = 578 , high valid Q = 2.640\n"
     ]
    },
    {
     "data": {
      "application/vnd.jupyter.widget-view+json": {
       "model_id": "be218d709735441d8891344367e3dee2",
       "version_major": 2,
       "version_minor": 0
      },
      "text/plain": [
       "Canvas(toolbar=Toolbar(toolitems=[('Home', 'Reset original view', 'home', 'home'), ('Back', 'Back to previous …"
      ]
     },
     "metadata": {},
     "output_type": "display_data"
    },
    {
     "name": "stdout",
     "output_type": "stream",
     "text": [
      "Scaling factor, 45131.328/45333.208 = 0.9955467523939625\n"
     ]
    },
    {
     "data": {
      "application/vnd.jupyter.widget-view+json": {
       "model_id": "977ada6fe12840c082aa24eda17a6301",
       "version_major": 2,
       "version_minor": 0
      },
      "text/plain": [
       "Canvas(toolbar=Toolbar(toolitems=[('Home', 'Reset original view', 'home', 'home'), ('Back', 'Back to previous …"
      ]
     },
     "metadata": {},
     "output_type": "display_data"
    },
    {
     "data": {
      "text/plain": [
       "<matplotlib.legend.Legend at 0x14e045e80>"
      ]
     },
     "execution_count": 8,
     "metadata": {},
     "output_type": "execute_result"
    }
   ],
   "source": [
    "%matplotlib widget\n",
    "from essential_func import *\n",
    "from py4xs.hdf import h5xs\n",
    "import os\n",
    "from py4xs.slnxs import trans_mode\n",
    "\n",
    "print(f'{os.getcwd()}')\n",
    "\n",
    "# specs\n",
    "# file = '1934_SN_masked.h5'  \n",
    "# frames = (4518, 3687, 3045)     # amyloid, mica, dark  ---> frames can be choosen from SAXS heat map\n",
    "\n",
    "file = '2048_B8_masked.h5'\n",
    "frames = (2080, 1358, 2223, )     # amyloid, mica, dark\n",
    "show_eb = False                  # show errorbar in the plot\n",
    "\n",
    "\n",
    "## semi-spec\n",
    "qgrid2 = np.hstack([np.arange(0.005, 0.0499, 0.001), np.arange(0.05, 0.099, 0.002), np.arange(0.1, 3.2, 0.005)])\n",
    "\n",
    "# creating objects\n",
    "dt  = h5xs(f'{file}', transField=\"em2_sum_all_mean_value\")\n",
    "sn = h5_top_group(file)\n",
    "dt.load_d1s(sn=sn)\n",
    "\n",
    "## heat map from file\n",
    "scatterings = ('_SAXS', '_WAXS2')\n",
    "f = plot_heat_map_from_file(file, qgrid2, scatterings = scatterings)\n",
    "\n",
    "### 1-d plot for bright, moderate and dark frames\n",
    "scatterings = ('_SAXS',          '_WAXS2',        'merged',    )\n",
    "colors =      (('r','b','g'), ('r','b','g'), ('r+','bo','g--'),)\n",
    "f, axs = plt.subplots(1, 3, figsize=(15,5), num=f'{file}')\n",
    "xscale = 'linear'\n",
    "yscale = 'log'\n",
    "\n",
    "for i, (scattering, color) in enumerate(zip(scatterings,colors)):\n",
    "    axs[i].plot(dt.qgrid, dt.d1s[sn][scattering][frames[0]].data, color[0], label = f'bright {frames[0]}')\n",
    "    axs[i].plot(dt.qgrid, dt.d1s[sn][scattering][frames[1]].data, color[1], label = f'moderate {frames[1]}')\n",
    "    axs[i].plot(dt.qgrid, dt.d1s[sn][scattering][frames[2]].data, color[2], label = f'dark {frames[2]}')\n",
    "    axs[i].set(title = f'{scattering} {file}', xscale= xscale, yscale= yscale)\n",
    "    axs[i].legend()\n",
    "\n",
    "## background correction calculations\n",
    "sc_factor=1.\n",
    "\n",
    "dset = dt.d1s[sn][scattering][frames[0]]\n",
    "dbak = dt.d1s[sn][scattering][frames[2]]\n",
    "\n",
    "dt.set_trans(transMode=trans_mode.external)\n",
    "sc  = dset.trans / dbak.trans\n",
    "print(f'Scaling factor, {dset.trans}/{dbak.trans} = {sc}')\n",
    "Iq  = dset.data - dbak.data * sc * sc_factor\n",
    "dI  = dset.err  + dbak.err * sc * sc_factor\n",
    "idx = (dset.data > 0) & (dbak.data > 0)\n",
    "\n",
    "## plotting settings\n",
    "f, axs = plt.subplots(1,2,figsize=(16,4))\n",
    "plt.subplots_adjust(bottom=0.15)\n",
    "\n",
    "axs[0].plot(dbak.qgrid[idx], dset.data[idx], color[0], label = f'bright {frames[0]}')\n",
    "axs[0].plot(dbak.qgrid[idx], dbak.data[idx], color[2], label = f'dark-bcg {frames[2]}')\n",
    "\n",
    "if show_eb:\n",
    "    axs[0].errorbar(dbak.qgrid[idx], Iq[idx], dI[idx])\n",
    "    axs[1].errorbar(dbak.qgrid[idx], Iq[idx], dI[idx], label = f'{frames[0]} bcor')\n",
    "else:\n",
    "    axs[0].plot(dbak.qgrid[idx], Iq[idx], label = 'bcor')\n",
    "    axs[1].plot(dbak.qgrid[idx], Iq[idx], label = f'{frames[0]} bcor')\n",
    "\n",
    "\n",
    "axs[0].set(xlabel = \"$q (\\AA^{-1})$\", ylabel = \"$I$\", title = f'Background correction {file} errorbar = {show_eb}', xscale = xscale, yscale = yscale, )\n",
    "axs[1].set(xscale = xscale, yscale = yscale, title = f'Final Background Subtracted {file} errorbar = {show_eb}' , )\n",
    "axs[0].legend()\n",
    "axs[1].legend()"
   ]
  },
  {
   "cell_type": "code",
   "execution_count": 2,
   "id": "activated-sister",
   "metadata": {
    "collapsed": true,
    "jupyter": {
     "outputs_hidden": true
    }
   },
   "outputs": [
    {
     "name": "stdout",
     "output_type": "stream",
     "text": [
      "Loading file 1934_B8.h5\n"
     ]
    },
    {
     "data": {
      "application/vnd.jupyter.widget-view+json": {
       "model_id": "969a180cd4924dcf92a0e183e18324b3",
       "version_major": 2,
       "version_minor": 0
      },
      "text/plain": [
       "Canvas(toolbar=Toolbar(toolitems=[('Home', 'Reset original view', 'home', 'home'), ('Back', 'Back to previous …"
      ]
     },
     "metadata": {},
     "output_type": "display_data"
    },
    {
     "name": "stdout",
     "output_type": "stream",
     "text": [
      "low valid idx = 2, low valid Q = 0.007, high valid idx = 124 , high valid Q = 0.370\n",
      "low valid idx = 109, low valid Q = 0.295, high valid idx = 578 , high valid Q = 2.640\n",
      "1934_B8.h5 Task Finished. Figure Number =  1\n",
      "Loading file 1934_SN.h5\n"
     ]
    },
    {
     "data": {
      "application/vnd.jupyter.widget-view+json": {
       "model_id": "3b0fd43b6eee46619f3e4f49aa8d2cae",
       "version_major": 2,
       "version_minor": 0
      },
      "text/plain": [
       "Canvas(toolbar=Toolbar(toolitems=[('Home', 'Reset original view', 'home', 'home'), ('Back', 'Back to previous …"
      ]
     },
     "metadata": {},
     "output_type": "display_data"
    },
    {
     "name": "stdout",
     "output_type": "stream",
     "text": [
      "low valid idx = 2, low valid Q = 0.007, high valid idx = 124 , high valid Q = 0.370\n",
      "low valid idx = 109, low valid Q = 0.295, high valid idx = 578 , high valid Q = 2.640\n",
      "1934_SN.h5 Task Finished. Figure Number =  2\n",
      "Loading file 1934_SNa.h5\n"
     ]
    },
    {
     "data": {
      "application/vnd.jupyter.widget-view+json": {
       "model_id": "1abbc910688f458d84b41a1a59ff3519",
       "version_major": 2,
       "version_minor": 0
      },
      "text/plain": [
       "Canvas(toolbar=Toolbar(toolitems=[('Home', 'Reset original view', 'home', 'home'), ('Back', 'Back to previous …"
      ]
     },
     "metadata": {},
     "output_type": "display_data"
    },
    {
     "name": "stdout",
     "output_type": "stream",
     "text": [
      "low valid idx = 2, low valid Q = 0.007, high valid idx = 124 , high valid Q = 0.370\n",
      "low valid idx = 109, low valid Q = 0.295, high valid idx = 578 , high valid Q = 2.640\n",
      "1934_SNa.h5 Task Finished. Figure Number =  3\n",
      "Loading file 1943_B1.h5\n"
     ]
    },
    {
     "data": {
      "application/vnd.jupyter.widget-view+json": {
       "model_id": "96b878b344a340fa9af21fc410867317",
       "version_major": 2,
       "version_minor": 0
      },
      "text/plain": [
       "Canvas(toolbar=Toolbar(toolitems=[('Home', 'Reset original view', 'home', 'home'), ('Back', 'Back to previous …"
      ]
     },
     "metadata": {},
     "output_type": "display_data"
    },
    {
     "name": "stdout",
     "output_type": "stream",
     "text": [
      "low valid idx = 2, low valid Q = 0.007, high valid idx = 124 , high valid Q = 0.370\n",
      "low valid idx = 109, low valid Q = 0.295, high valid idx = 578 , high valid Q = 2.640\n",
      "1943_B1.h5 Task Finished. Figure Number =  4\n",
      "Loading file 1943_B1a.h5\n"
     ]
    },
    {
     "data": {
      "application/vnd.jupyter.widget-view+json": {
       "model_id": "78d2880f02fa4f02ae77dd938dc0ece9",
       "version_major": 2,
       "version_minor": 0
      },
      "text/plain": [
       "Canvas(toolbar=Toolbar(toolitems=[('Home', 'Reset original view', 'home', 'home'), ('Back', 'Back to previous …"
      ]
     },
     "metadata": {},
     "output_type": "display_data"
    },
    {
     "name": "stdout",
     "output_type": "stream",
     "text": [
      "low valid idx = 2, low valid Q = 0.007, high valid idx = 124 , high valid Q = 0.370\n",
      "low valid idx = 109, low valid Q = 0.295, high valid idx = 578 , high valid Q = 2.640\n",
      "1943_B1a.h5 Task Finished. Figure Number =  5\n",
      "Loading file 2016_B8.h5\n"
     ]
    },
    {
     "data": {
      "application/vnd.jupyter.widget-view+json": {
       "model_id": "4ebf0a667fff4cabb5acb3a9bdb96aba",
       "version_major": 2,
       "version_minor": 0
      },
      "text/plain": [
       "Canvas(toolbar=Toolbar(toolitems=[('Home', 'Reset original view', 'home', 'home'), ('Back', 'Back to previous …"
      ]
     },
     "metadata": {},
     "output_type": "display_data"
    },
    {
     "name": "stdout",
     "output_type": "stream",
     "text": [
      "low valid idx = 2, low valid Q = 0.007, high valid idx = 124 , high valid Q = 0.370\n",
      "low valid idx = 109, low valid Q = 0.295, high valid idx = 578 , high valid Q = 2.640\n",
      "2016_B8.h5 Task Finished. Figure Number =  6\n",
      "Loading file 2016_B8a.h5\n"
     ]
    },
    {
     "data": {
      "application/vnd.jupyter.widget-view+json": {
       "model_id": "d03b7c1da0704ea79ebdc245504d9f90",
       "version_major": 2,
       "version_minor": 0
      },
      "text/plain": [
       "Canvas(toolbar=Toolbar(toolitems=[('Home', 'Reset original view', 'home', 'home'), ('Back', 'Back to previous …"
      ]
     },
     "metadata": {},
     "output_type": "display_data"
    },
    {
     "name": "stdout",
     "output_type": "stream",
     "text": [
      "low valid idx = 2, low valid Q = 0.007, high valid idx = 124 , high valid Q = 0.370\n",
      "low valid idx = 109, low valid Q = 0.295, high valid idx = 578 , high valid Q = 2.640\n",
      "2016_B8a.h5 Task Finished. Figure Number =  7\n",
      "Loading file 2016_B8b.h5\n"
     ]
    },
    {
     "data": {
      "application/vnd.jupyter.widget-view+json": {
       "model_id": "0e8d3b9a115d4ee8947bb565f9b84db6",
       "version_major": 2,
       "version_minor": 0
      },
      "text/plain": [
       "Canvas(toolbar=Toolbar(toolitems=[('Home', 'Reset original view', 'home', 'home'), ('Back', 'Back to previous …"
      ]
     },
     "metadata": {},
     "output_type": "display_data"
    },
    {
     "name": "stdout",
     "output_type": "stream",
     "text": [
      "low valid idx = 2, low valid Q = 0.007, high valid idx = 124 , high valid Q = 0.370\n",
      "low valid idx = 109, low valid Q = 0.295, high valid idx = 578 , high valid Q = 2.640\n",
      "2016_B8b.h5 Task Finished. Figure Number =  8\n",
      "Loading file 2016_B8c.h5\n"
     ]
    },
    {
     "data": {
      "application/vnd.jupyter.widget-view+json": {
       "model_id": "ad410b474e684bceacc4447ef4c1b1ea",
       "version_major": 2,
       "version_minor": 0
      },
      "text/plain": [
       "Canvas(toolbar=Toolbar(toolitems=[('Home', 'Reset original view', 'home', 'home'), ('Back', 'Back to previous …"
      ]
     },
     "metadata": {},
     "output_type": "display_data"
    },
    {
     "name": "stdout",
     "output_type": "stream",
     "text": [
      "low valid idx = 2, low valid Q = 0.007, high valid idx = 124 , high valid Q = 0.370\n",
      "low valid idx = 109, low valid Q = 0.295, high valid idx = 578 , high valid Q = 2.640\n",
      "2016_B8c.h5 Task Finished. Figure Number =  9\n",
      "Loading file 2047_B1.h5\n"
     ]
    },
    {
     "data": {
      "application/vnd.jupyter.widget-view+json": {
       "model_id": "1002ab0f072b4dc0bfa559c11ce20ba8",
       "version_major": 2,
       "version_minor": 0
      },
      "text/plain": [
       "Canvas(toolbar=Toolbar(toolitems=[('Home', 'Reset original view', 'home', 'home'), ('Back', 'Back to previous …"
      ]
     },
     "metadata": {},
     "output_type": "display_data"
    },
    {
     "name": "stdout",
     "output_type": "stream",
     "text": [
      "low valid idx = 2, low valid Q = 0.007, high valid idx = 124 , high valid Q = 0.370\n",
      "low valid idx = 109, low valid Q = 0.295, high valid idx = 578 , high valid Q = 2.640\n",
      "2047_B1.h5 Task Finished. Figure Number =  10\n",
      "Loading file 2047_B1a.h5\n"
     ]
    },
    {
     "data": {
      "application/vnd.jupyter.widget-view+json": {
       "model_id": "e09696545e804ed9a2bb9fb87f3eb0b8",
       "version_major": 2,
       "version_minor": 0
      },
      "text/plain": [
       "Canvas(toolbar=Toolbar(toolitems=[('Home', 'Reset original view', 'home', 'home'), ('Back', 'Back to previous …"
      ]
     },
     "metadata": {},
     "output_type": "display_data"
    },
    {
     "name": "stdout",
     "output_type": "stream",
     "text": [
      "low valid idx = 2, low valid Q = 0.007, high valid idx = 124 , high valid Q = 0.370\n",
      "low valid idx = 109, low valid Q = 0.295, high valid idx = 578 , high valid Q = 2.640\n",
      "2047_B1a.h5 Task Finished. Figure Number =  11\n",
      "Loading file 2048_B16.h5\n"
     ]
    },
    {
     "data": {
      "application/vnd.jupyter.widget-view+json": {
       "model_id": "3f3f815b86e14bb591e990c1c3ea69df",
       "version_major": 2,
       "version_minor": 0
      },
      "text/plain": [
       "Canvas(toolbar=Toolbar(toolitems=[('Home', 'Reset original view', 'home', 'home'), ('Back', 'Back to previous …"
      ]
     },
     "metadata": {},
     "output_type": "display_data"
    },
    {
     "name": "stdout",
     "output_type": "stream",
     "text": [
      "low valid idx = 2, low valid Q = 0.007, high valid idx = 124 , high valid Q = 0.370\n",
      "low valid idx = 109, low valid Q = 0.295, high valid idx = 578 , high valid Q = 2.640\n",
      "2048_B16.h5 Task Finished. Figure Number =  12\n",
      "Loading file 2048_B16a.h5\n"
     ]
    },
    {
     "data": {
      "application/vnd.jupyter.widget-view+json": {
       "model_id": "c987df55a7ec4903bf85ce6ce58d845f",
       "version_major": 2,
       "version_minor": 0
      },
      "text/plain": [
       "Canvas(toolbar=Toolbar(toolitems=[('Home', 'Reset original view', 'home', 'home'), ('Back', 'Back to previous …"
      ]
     },
     "metadata": {},
     "output_type": "display_data"
    },
    {
     "name": "stdout",
     "output_type": "stream",
     "text": [
      "low valid idx = 2, low valid Q = 0.007, high valid idx = 124 , high valid Q = 0.370\n",
      "low valid idx = 109, low valid Q = 0.295, high valid idx = 578 , high valid Q = 2.640\n",
      "2048_B16a.h5 Task Finished. Figure Number =  13\n",
      "Loading file 2048_B16b.h5\n"
     ]
    },
    {
     "data": {
      "application/vnd.jupyter.widget-view+json": {
       "model_id": "914e02660f5b4619a65abb29b82b4639",
       "version_major": 2,
       "version_minor": 0
      },
      "text/plain": [
       "Canvas(toolbar=Toolbar(toolitems=[('Home', 'Reset original view', 'home', 'home'), ('Back', 'Back to previous …"
      ]
     },
     "metadata": {},
     "output_type": "display_data"
    },
    {
     "name": "stdout",
     "output_type": "stream",
     "text": [
      "low valid idx = 2, low valid Q = 0.007, high valid idx = 124 , high valid Q = 0.370\n",
      "low valid idx = 109, low valid Q = 0.295, high valid idx = 578 , high valid Q = 2.640\n",
      "2048_B16b.h5 Task Finished. Figure Number =  14\n",
      "Loading file 2048_B6.h5\n"
     ]
    },
    {
     "data": {
      "application/vnd.jupyter.widget-view+json": {
       "model_id": "b9e859658b514281b91072b52c0cffed",
       "version_major": 2,
       "version_minor": 0
      },
      "text/plain": [
       "Canvas(toolbar=Toolbar(toolitems=[('Home', 'Reset original view', 'home', 'home'), ('Back', 'Back to previous …"
      ]
     },
     "metadata": {},
     "output_type": "display_data"
    },
    {
     "name": "stdout",
     "output_type": "stream",
     "text": [
      "low valid idx = 2, low valid Q = 0.007, high valid idx = 124 , high valid Q = 0.370\n",
      "low valid idx = 109, low valid Q = 0.295, high valid idx = 578 , high valid Q = 2.640\n",
      "2048_B6.h5 Task Finished. Figure Number =  15\n",
      "Loading file 2048_B8.h5\n"
     ]
    },
    {
     "data": {
      "application/vnd.jupyter.widget-view+json": {
       "model_id": "7be8c3b8fbe5403e87d02431523e458f",
       "version_major": 2,
       "version_minor": 0
      },
      "text/plain": [
       "Canvas(toolbar=Toolbar(toolitems=[('Home', 'Reset original view', 'home', 'home'), ('Back', 'Back to previous …"
      ]
     },
     "metadata": {},
     "output_type": "display_data"
    },
    {
     "name": "stdout",
     "output_type": "stream",
     "text": [
      "low valid idx = 2, low valid Q = 0.007, high valid idx = 124 , high valid Q = 0.370\n",
      "low valid idx = 109, low valid Q = 0.295, high valid idx = 578 , high valid Q = 2.640\n",
      "2048_B8.h5 Task Finished. Figure Number =  16\n",
      "Loading file 2048_B8_masked_test.h5\n"
     ]
    },
    {
     "data": {
      "application/vnd.jupyter.widget-view+json": {
       "model_id": "4844e02d6f074d909e2ea2a776e28a82",
       "version_major": 2,
       "version_minor": 0
      },
      "text/plain": [
       "Canvas(toolbar=Toolbar(toolitems=[('Home', 'Reset original view', 'home', 'home'), ('Back', 'Back to previous …"
      ]
     },
     "metadata": {},
     "output_type": "display_data"
    },
    {
     "name": "stdout",
     "output_type": "stream",
     "text": [
      "low valid idx = 2, low valid Q = 0.007, high valid idx = 124 , high valid Q = 0.370\n",
      "low valid idx = 109, low valid Q = 0.295, high valid idx = 578 , high valid Q = 2.640\n",
      "2048_B8_masked_test.h5 Task Finished. Figure Number =  17\n",
      "Loading file exp.h5\n"
     ]
    },
    {
     "data": {
      "application/vnd.jupyter.widget-view+json": {
       "model_id": "d6bfb36799134747a65460ad0eb09fd4",
       "version_major": 2,
       "version_minor": 0
      },
      "text/plain": [
       "Canvas(toolbar=Toolbar(toolitems=[('Home', 'Reset original view', 'home', 'home'), ('Back', 'Back to previous …"
      ]
     },
     "metadata": {},
     "output_type": "display_data"
    },
    {
     "name": "stdout",
     "output_type": "stream",
     "text": [
      "Loading file mica.h5\n"
     ]
    },
    {
     "data": {
      "application/vnd.jupyter.widget-view+json": {
       "model_id": "adba09e11e684cf09e8fe3bd0a7b1c88",
       "version_major": 2,
       "version_minor": 0
      },
      "text/plain": [
       "Canvas(toolbar=Toolbar(toolitems=[('Home', 'Reset original view', 'home', 'home'), ('Back', 'Back to previous …"
      ]
     },
     "metadata": {},
     "output_type": "display_data"
    },
    {
     "name": "stdout",
     "output_type": "stream",
     "text": [
      "low valid idx = 2, low valid Q = 0.007, high valid idx = 124 , high valid Q = 0.370\n",
      "low valid idx = 109, low valid Q = 0.295, high valid idx = 578 , high valid Q = 2.640\n",
      "mica.h5 Task Finished. Figure Number =  19\n",
      "Loading file std.h5\n"
     ]
    },
    {
     "data": {
      "application/vnd.jupyter.widget-view+json": {
       "model_id": "e91ed88f11c0460a90b1e7dc13ad55f3",
       "version_major": 2,
       "version_minor": 0
      },
      "text/plain": [
       "Canvas(toolbar=Toolbar(toolitems=[('Home', 'Reset original view', 'home', 'home'), ('Back', 'Back to previous …"
      ]
     },
     "metadata": {},
     "output_type": "display_data"
    },
    {
     "name": "stdout",
     "output_type": "stream",
     "text": [
      "PDF creation Finished\n"
     ]
    }
   ],
   "source": [
    "# pdf generation package all files in the cwd\n",
    "%matplotlib widget\n",
    "from essential_func import *\n",
    "\n",
    "### heat plots for all files in a folder\n",
    "scatterings = ('_SAXS', '_WAXS2')\n",
    "qgrid2 = np.hstack([np.arange(0.005, 0.0499, 0.001), np.arange(0.05, 0.099, 0.002), np.arange(0.1, 3.2, 0.005)])\n",
    "\n",
    "plot_all_heat_maps_cwd('output.pdf', qgrid2, scatterings)"
   ]
  },
  {
   "cell_type": "code",
   "execution_count": 10,
   "id": "silent-diesel",
   "metadata": {},
   "outputs": [],
   "source": [
    "# import pylab as plt\n",
    "# from matplotlib.widgets import Cursor\n",
    "# import numpy as np\n",
    "# x,  y  = np.random.randn(2,10)\n",
    "# print(x.shape, y.shape)\n",
    "# f, axs = plt.subplots(1,2)\n",
    "# axs[0].plot(x,y,'o')\n",
    "# axs[1].plot(x,y,'o')\n",
    "\n",
    "# cursor = Cursor(axs[0],\n",
    "#                 horizOn = True,\n",
    "#                 vertOn = True,\n",
    "#                 color= 'green',\n",
    "#                 linewidth = 1\n",
    "#                )\n",
    "# pos = []\n",
    "# def onclick(event):\n",
    "#     x1, y1 = event.xdata, event.ydata\n",
    "#     pos.append((x1,y1))\n",
    "#     print(x1,y1)\n",
    "\n",
    "# f.canvas.mpl_connect('button_press_event',  onclick)\n",
    "#print(pos)\n",
    "\n",
    "# def hover(event):\n",
    "#     if event.inaxes != ax:\n",
    "#         return\n",
    "#     info = 'x={:.2f}, y={:.2f}'.format(event.xdata, event.ydata)\n",
    "#     ax.format_coord = lambda x, y: info\n",
    "# cid = ax.figure.canvas.mpl_connect(\"motion_notify_event\", hover)\n",
    "\n",
    "# ratio = Height/Width\n",
    "# xleft, xright = ax.get_xlim()\n",
    "# ybottom, ytop = ax.get_ylim()\n",
    "# abs((xright-xleft)/(ybottom-ytop))*ratio\n",
    "# 1/ax.get_data_ratio()"
   ]
  },
  {
   "cell_type": "code",
   "execution_count": 11,
   "id": "controlling-building",
   "metadata": {},
   "outputs": [
    {
     "data": {
      "application/vnd.jupyter.widget-view+json": {
       "model_id": "235568e0d11641dc9c85547e9e2dea23",
       "version_major": 2,
       "version_minor": 0
      },
      "text/plain": [
       "Canvas(toolbar=Toolbar(toolitems=[('Home', 'Reset original view', 'home', 'home'), ('Back', 'Back to previous …"
      ]
     },
     "metadata": {},
     "output_type": "display_data"
    },
    {
     "name": "stdout",
     "output_type": "stream",
     "text": [
      "Diff_patt_idx_before snaking: \n",
      " [[ 0  1  2  3  4  5]\n",
      " [ 6  7  8  9 10 11]\n",
      " [12 13 14 15 16 17]] \n",
      "\n",
      " Diff_patt_before snaking: \n",
      " [[13 14  7  3  3  4]\n",
      " [18  5 11 19 12  9]\n",
      " [ 6 12  4  6 17 10]] \n",
      "\n",
      " X,Y coordinates_after_snaking: \n",
      " [[12 13 14 15 16 17]\n",
      " [11 10  9  8  7  6]\n",
      " [ 0  1  2  3  4  5]] \n",
      "\n",
      " Diff_patt_after snaking: \n",
      " [[ 6 12  4  6 17 10]\n",
      " [ 9 12 19 11  5 18]\n",
      " [13 14  7  3  3  4]] \n",
      "\n",
      "\n"
     ]
    }
   ],
   "source": [
    "### -------- py4xs version --------\n",
    "\n",
    "%matplotlib widget\n",
    "import matplotlib.pyplot as plt\n",
    "import numpy as np\n",
    "# Fixing random state for reproducibility\n",
    "np.random.seed(19680801)\n",
    "\n",
    "Height = 3\n",
    "Width = 6\n",
    "X = np.random.randint(1, 20, size=(Height, Width))\n",
    "\n",
    "fig, ax = plt.subplots()\n",
    "ax.imshow(X, interpolation = 'none', origin='upper', extent=[0,Width,0,Height],aspect='equal')\n",
    "\n",
    "def snaking( Width, Height, X=None,):\n",
    "    if X is None:\n",
    "        X_coor = np.arange(Height*Width).reshape(Height,Width)\n",
    "    else:\n",
    "        X_coor = X\n",
    "    output = np.zeros_like(X_coor)           # \n",
    "    temp = np.flipud(X_coor)                # flipud matrix\n",
    "    idx_odd = np.arange(1,Height,2)                # Get odd indices to fliplr\n",
    "    output[idx_odd,:]  = np.fliplr(temp[idx_odd])   # flipping odd indices\n",
    "    idx_even = np.arange(0,Height,2)               # Get odd indices to leave to as it is\n",
    "    output[idx_even,:] = temp[idx_even]             # leaving as it is\n",
    "    return output\n",
    "\n",
    "frame_cor = snaking(Width, Height)\n",
    "diff_patterns = snaking(Width, Height, X)\n",
    "\n",
    "print('Diff_patt_idx_before snaking: \\n', np.arange(Height*Width).reshape(Height,Width), '\\n\\n',\n",
    "      'Diff_patt_before snaking: \\n', X, '\\n\\n', \n",
    "      'X,Y coordinates_after_snaking: \\n', frame_cor, '\\n\\n',\n",
    "      'Diff_patt_after snaking: \\n', diff_patterns, '\\n\\n',)\n",
    "\n",
    "numrows, numcols = X.shape\n",
    "def format_coord(x, y):\n",
    "    col = int(x)\n",
    "    row = int(y)\n",
    "    if 0 <= col < numcols and 0 <= row < numrows:\n",
    "        z = np.flipud(frame_cor)[row, col]\n",
    "        return 'x=%1.4f, y=%1.4f, FRAME=%d' % (x, y, z)\n",
    "    else:\n",
    "        return 'x=%1.4f, y=%1.4f' % (x, y)\n",
    "\n",
    "ax.format_coord = format_coord\n",
    "\n",
    "plt.show()"
   ]
  },
  {
   "cell_type": "code",
   "execution_count": null,
   "id": "polish-tolerance",
   "metadata": {},
   "outputs": [],
   "source": [
    "# --------- template matching purposes -------------\n",
    "\n",
    "\n",
    "# plot zoomed patch figure\n",
    "#plt.figure()\n",
    "#pil_im = img[0:150, 800:800+150]\n",
    "#plt.imshow(pil_im, cmap = 'rainbow', ); \n",
    "#plt.show();\n",
    "\n",
    "# --------- template matching -------------\n",
    "# template_file = ''\n",
    "# Cropped image of above dimension OPENCV to PIL_IMAGE\n",
    "# https://stackoverflow.com/questions/43232813/convert-opencv-image-format-to-pil-image-format\n",
    "# PIL to OpenCV\n",
    "#pil_im = Image.fromarray(img_rgb)\n",
    "#pil_im = pil_im.crop((left, top, right, bottom))\n",
    "# load template and find height and width of the template shape (convert your BGR image to Gray image)\n",
    "#template = pil_im\n",
    "#h, w = template.shape[::]\n",
    "# print(f'template width {w} Height {h}')\n",
    "# print(np.min(template), np.max(template), np.min(img), np.max(img))\n",
    "# print(f'templete {template.shape} type {type(template)} pil_im {img.shape} type {type(img)}')\n",
    "#res = cv2.matchTemplate(img_rgb, template, cv2.TM_CCOEFF)"
   ]
  },
  {
   "cell_type": "code",
   "execution_count": 19,
   "id": "proud-reasoning",
   "metadata": {},
   "outputs": [
    {
     "name": "stdout",
     "output_type": "stream",
     "text": [
      "45131.328\n",
      "45639.848\n"
     ]
    }
   ],
   "source": [
    "### Finding Radius of gyration\n",
    "from py4xs.hdf import h5xs,h5exp,lsh5,proc_d1merge\n",
    "from py4xs.data2d import Data2d\n",
    "from py4xs.slnxs import trans_mode\n",
    "import numpy as np\n",
    "import pylab as plt\n",
    "import warnings,json\n",
    "\n",
    "warnings.filterwarnings('ignore')\n",
    "\n",
    "dt0  = h5xs(\"mica.h5\", transField=\"em2_sum_all_mean_value\")\n",
    "dt  = h5xs(\"2048_B8.h5\", transField=\"em2_sum_all_mean_value\")\n",
    "\n",
    "dt.load_d1s()\n",
    "dt0.load_d1s()\n",
    "\n",
    "dt.set_trans(transMode=trans_mode.external)\n",
    "dt0.set_trans(transMode=trans_mode.external)\n",
    "\n",
    "print(dt.d1s['2048_B8']['merged'][2080].trans)\n",
    "print(dt0.d1s['mica']['merged'][10].trans)\n",
    "#print(dt.d1s['2048_B8']['merged'][2080].overlaps)\n",
    "#dt0.d1s['mica']['merged'][10].plot()"
   ]
  },
  {
   "cell_type": "code",
   "execution_count": 20,
   "id": "opposite-evolution",
   "metadata": {},
   "outputs": [],
   "source": [
    "td = np.vstack((dt.qgrid, dt.d1s['2048_B8']['merged'][2080].data))\n",
    "qs = 0.007\n",
    "qe = 10\n",
    "rg = 15\n",
    "# td = td[:, td[0, :] >= qs]     # find td for  greater than q=0.007\n",
    "# td = td[:, td[0, :] <= qe]     # find td for smaller than q=1.3/1.5=0.086\n",
    "# td[0, :] = td[0, :] * td[0, :]\n",
    "# td[1, :] = np.log(td[1, :])\n",
    "# rg, i0 = np.polyfit(td[0, :], td[1, :], 1)"
   ]
  },
  {
   "cell_type": "code",
   "execution_count": 21,
   "id": "responsible-peripheral",
   "metadata": {},
   "outputs": [
    {
     "name": "stdout",
     "output_type": "stream",
     "text": [
      "0 0.08666666666666667 -831.264016704801 20.377926211495332\n",
      "1 0.026032341584365102 -6234.912831830037 281.9576616244667\n",
      "2 0.026032341584365102 -6234.912831830037 281.9576616244667\n",
      "3 0.026032341584365102 -6234.912831830037 281.9576616244667\n",
      "4 0.026032341584365102 -6234.912831830037 281.9576616244667\n",
      "5 0.026032341584365102 -6234.912831830037 281.9576616244667\n",
      "6 0.026032341584365102 -6234.912831830037 281.9576616244667\n",
      "7 0.026032341584365102 -6234.912831830037 281.9576616244667\n",
      "8 0.026032341584365102 -6234.912831830037 281.9576616244667\n",
      "9 0.026032341584365102 -6234.912831830037 281.9576616244667\n",
      "136.76526786977064\n"
     ]
    }
   ],
   "source": [
    "from numpy.polynomial import polynomial as P\n",
    "cnt = 0\n",
    "while cnt < 10:\n",
    "    if qe > 1.3/rg and 1.3/rg > qs+0.004: \n",
    "        qe = 1.3/rg\n",
    "    td = np.vstack((dt.qgrid, dt.d1s['2048_B8']['merged'][2080].data))\n",
    "    td = td[:, td[0, :] >= qs]     # find td for  greater than q=0.007\n",
    "    td = td[:, td[0, :] <= qe]     # find td for smaller than q=1.3/1.5=0.086\n",
    "    td[0, :] = td[0, :] * td[0, :]\n",
    "    td[1, :] = np.log(td[1, :])\n",
    "    rg, i0 = np.polyfit(td[0, :], td[1, :], 1)\n",
    "    i0 = np.exp(i0)\n",
    "    \n",
    "    print(cnt, qe, rg, i0)\n",
    "    \n",
    "    if rg<0:\n",
    "        rg = np.sqrt(-rg * 3.)\n",
    "    else:\n",
    "        rg = 1e-6   # \n",
    "        print(\"likely strong inter-particle interaction ...\")\n",
    "        break\n",
    "    cnt += 1\n",
    "print(rg)"
   ]
  },
  {
   "cell_type": "code",
   "execution_count": 72,
   "id": "twelve-antenna",
   "metadata": {},
   "outputs": [
    {
     "name": "stdout",
     "output_type": "stream",
     "text": [
      "(690,)\n",
      "(200,)\n"
     ]
    }
   ],
   "source": [
    "%matplotlib widget\n",
    "qmax = 5;\n",
    "dmax=200.;\n",
    "\n",
    "if dt.qgrid[-1] < qmax: \n",
    "    qmax = dt.qgrid[-1]\n",
    "\n",
    "tqgrid = np.arange(0, qmax, qmax / len(dt.qgrid))\n",
    "tint = np.interp(tqgrid, dt.qgrid, dt.d1s['2048_B8']['merged'][2080].data)\n",
    "print(tint.shape)\n",
    "tint[tqgrid * rg < 1.] = i0 * np.exp(-(tqgrid[tqgrid * rg < 1.] * rg) ** 2 / 3.)\n",
    "#print(tint)\n",
    "\n",
    "# tint -= tint[-10:].sum()/10\n",
    "# Hanning window for reducing fringes in p(r)\n",
    "tw = np.hanning(2 * len(tqgrid) + 1)[len(tqgrid):-1]\n",
    "\n",
    "# plotting hanning window\n",
    "tmp = np.hanning(2 * len(tqgrid) + 1)\n",
    "#plt.plot(np.arange(0,len(tint[tqgrid * rg < 1.])), tint[tqgrid * rg < 1.])\n",
    "#plt.yscale('log')\n",
    "tint *= tw\n",
    "#plt.show()\n",
    "\n",
    "trgrid = np.arange(0, dmax, 1.)\n",
    "kern = np.asmatrix([[rj ** 2 * np.sinc(qi * rj / np.pi) for rj in trgrid] for qi in tqgrid])\n",
    "tt = np.asmatrix(tint * tqgrid ** 2).T\n",
    "tpr = np.reshape(np.array((kern.T * tt).T), len(trgrid))\n",
    "tpr /= tpr.sum()\n",
    "print(tpr.shape)"
   ]
  },
  {
   "cell_type": "code",
   "execution_count": 39,
   "id": "elder-composer",
   "metadata": {},
   "outputs": [
    {
     "data": {
      "text/plain": [
       "array([0.        , 0.00463043, 0.00926087, 0.0138913 , 0.01852174,\n",
       "       0.02315217, 0.02778261, 0.03241304, 0.03704348, 0.04167391])"
      ]
     },
     "execution_count": 39,
     "metadata": {},
     "output_type": "execute_result"
    }
   ],
   "source": [
    "tqgrid = np.arange(0, qmax, qmax / len(dt.qgrid))\n",
    "tint = np.interp(tqgrid, dt.qgrid, dt.d1s['2048_B8']['merged'][2080].data)\n",
    "tqgrid[0:10]"
   ]
  },
  {
   "cell_type": "code",
   "execution_count": 40,
   "id": "urban-description",
   "metadata": {},
   "outputs": [
    {
     "data": {
      "text/plain": [
       "array([  0.        ,   0.        , 226.1832685 ,  59.61769605,\n",
       "        22.97810842,  11.09743954,   6.12499604,   3.7438397 ,\n",
       "         2.53240456,   1.68923436])"
      ]
     },
     "execution_count": 40,
     "metadata": {},
     "output_type": "execute_result"
    }
   ],
   "source": [
    "tint[0:10]"
   ]
  },
  {
   "cell_type": "code",
   "execution_count": 41,
   "id": "delayed-receipt",
   "metadata": {},
   "outputs": [
    {
     "data": {
      "text/plain": [
       "array([  0.        ,   0.        , 537.48069252, 361.86465338,\n",
       "       245.04076906, 172.75368358, 126.1101004 ,  95.09058784,\n",
       "        74.10259362,  57.85124512])"
      ]
     },
     "execution_count": 41,
     "metadata": {},
     "output_type": "execute_result"
    }
   ],
   "source": [
    "dt.d1s['2048_B8']['merged'][2080].data[0:10]"
   ]
  }
 ],
 "metadata": {
  "kernelspec": {
   "display_name": "Python 3",
   "language": "python",
   "name": "python3"
  },
  "language_info": {
   "codemirror_mode": {
    "name": "ipython",
    "version": 3
   },
   "file_extension": ".py",
   "mimetype": "text/x-python",
   "name": "python",
   "nbconvert_exporter": "python",
   "pygments_lexer": "ipython3",
   "version": "3.8.6"
  }
 },
 "nbformat": 4,
 "nbformat_minor": 5
}
