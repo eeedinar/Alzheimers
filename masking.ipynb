{
 "cells": [
  {
   "cell_type": "code",
   "execution_count": 8,
   "id": "married-pocket",
   "metadata": {},
   "outputs": [
    {
     "name": "stdout",
     "output_type": "stream",
     "text": [
      "data is being loaded ...\n",
      "data is loaded ...\n",
      "frame information extraction starts ...\n",
      "frame information extraction completes with _SAXS shape (1, 1043, 981) _WAXS shape (1, 1043, 981)...\n",
      "start processing: load_data()\n",
      "['2048_B16']\n",
      "processing started: sample = 2048_B16, starting frame = #0\n",
      "loading data from 2D image:  2048_B16_f00000_SAXS\n",
      "loading data from 2D image:  2048_B16_f00000_WAXS2\n",
      "processing completed:  2048_B16 0\n",
      "writting attribute to 2048_B16: merged\n",
      "writting attribute to 2048_B16: _SAXS\n",
      "writting attribute to 2048_B16: _WAXS2\n",
      "done, time lapsed: 0.46 sec\n"
     ]
    },
    {
     "data": {
      "application/vnd.jupyter.widget-view+json": {
       "model_id": "d8a5d1a7a33b455583b1038b9f527e48",
       "version_major": 2,
       "version_minor": 0
      },
      "text/plain": [
       "Canvas(toolbar=Toolbar(toolitems=[('Home', 'Reset original view', 'home', 'home'), ('Back', 'Back to previous …"
      ]
     },
     "metadata": {},
     "output_type": "display_data"
    },
    {
     "data": {
      "application/vnd.jupyter.widget-view+json": {
       "model_id": "fc59a8df62d6498e856d4e6cdbd49f09",
       "version_major": 2,
       "version_minor": 0
      },
      "text/plain": [
       "Canvas(toolbar=Toolbar(toolitems=[('Home', 'Reset original view', 'home', 'home'), ('Back', 'Back to previous …"
      ]
     },
     "metadata": {},
     "output_type": "display_data"
    },
    {
     "name": "stderr",
     "output_type": "stream",
     "text": [
      "WARNING:matplotlib.legend:No handles with labels found to put in legend.\n"
     ]
    }
   ],
   "source": [
    "############### -------- configure patch size and copy the pathces tuplte to the next cell for computing 1-d averaging for all frames ------------- ###################\n",
    "%matplotlib widget\n",
    "import os, shutil, h5py, time\n",
    "import numpy as np\n",
    "\n",
    "# specs\n",
    "frame = 1346\n",
    "source_file = '2048_B16.h5'                                         \n",
    "\n",
    "# xy,   width_p, height_p, bounding_box_color for drawing Rectangle\n",
    "patches = (\n",
    "\n",
    "( (25, 275), 115, 80, 'red' ),\n",
    "\n",
    "( (80, 885), 90, 75, 'green' ),\n",
    "\n",
    "( (735, 240), 55, 50, 'orange'),\n",
    "\n",
    "( (260, 585), 45, 35, 'blue' ),\n",
    "\n",
    "( (455, 865), 35, 20, 'pink' ),\n",
    "\n",
    ")\n",
    "\n",
    "## semi-specs\n",
    "valid_range_min, valid_range_max = (0,10)\n",
    "scattering = '_WAXS2'\n",
    "masked_file = f'{source_file.split(\".\")[0]}_masked_{frame}.h5'\n",
    "\n",
    "## computation\n",
    "with h5py.File(source_file,'r') as hdf:\n",
    "\n",
    "    print('data is being loaded ...')\n",
    "    dset = hdf.get(f'{masked_file.split(\"_masked\")[0]}/primary/data')\n",
    "    print('data is loaded ...')\n",
    "    \n",
    "    print('frame information extraction starts ...')\n",
    "    dset_saxs = np.expand_dims(dset['pil1M_image'][frame], axis=0)\n",
    "    dset_waxs = np.expand_dims(dset['pilW2_image'][frame], axis=0)\n",
    "    print(f'frame information extraction completes with _SAXS shape {dset_saxs.shape} _WAXS shape {dset_waxs.shape}...')\n",
    "\n",
    "if os.path.isfile(masked_file):\n",
    "    os.remove(masked_file)\n",
    "with h5py.File(masked_file,'w') as hdf:\n",
    "\n",
    "    for frame in range(len(dset_waxs)):\n",
    "        for xy, width_p, height_p, color in patches:           \n",
    "            ##### careful here dset_waxs = 0 ; becasue there is only one frame \n",
    "            dset_waxs[0][xy[1]: xy[1]+height_p, xy[0]: xy[0]+width_p] = 0   # height px and width px will not be counted img[0:70, 860:860+60]\n",
    "\n",
    "    dset = hdf.create_group(f'/{masked_file.split(\"_masked\")[0]}/primary/data')\n",
    "    dset.create_dataset('pil1M_image', data = dset_saxs, compression=\"lzf\")\n",
    "    dset.create_dataset('pilW2_image', data = dset_waxs, compression=\"lzf\")\n",
    "    \n",
    "        \n",
    "from py4xs.hdf import h5xs,h5exp,lsh5\n",
    "from py4xs.data2d import Data2d\n",
    "import numpy as np\n",
    "import pylab as plt\n",
    "de = h5exp(\"exp.h5\")\n",
    "qgrid2 = np.hstack([np.arange(0.005, 0.0499, 0.001), np.arange(0.05, 0.099, 0.002), np.arange(0.1, 3.2, 0.005)])\n",
    "\n",
    "dt  = h5xs(masked_file, [de.detectors, qgrid2])\n",
    "dt.load_data(N=1, debug=True)\n",
    "#dt.d1s[f'{masked_file.split(\"_masked\")[0]}']['_WAXS2'][0].plot()\n",
    "\n",
    "# figure with patches\n",
    "from matplotlib.patches import Rectangle\n",
    "\n",
    "img = np.clip(dset_waxs[0], valid_range_min, valid_range_max, dtype = np.int8)\n",
    "\n",
    "plt.figure()\n",
    "plt.imshow(img, cmap = 'rainbow')\n",
    "for xy, width_p, height_p, color in patches:\n",
    "    plt.gca().add_patch(Rectangle(xy=xy, width=width_p, height=height_p,\n",
    "                                angle=0,\n",
    "                                edgecolor=color,\n",
    "                                facecolor='none',\n",
    "                                fill=False,\n",
    "                                lw=1))\n",
    "    \n",
    "    img[xy[1]: xy[1]+height_p, xy[0]: xy[0]+width_p] = 0   # height px and width px will not be counted img[0:70, 860:860+60]\n",
    "plt.show()\n",
    "\n",
    "### plot WAXS data\n",
    "with h5py.File(masked_file,'r') as hdf:\n",
    "    dset_merged = hdf.get(f'{masked_file.split(\"_masked\")[0]}/processed')\n",
    "    dset_merged = dset_merged[scattering][:]\n",
    "\n",
    "f, ax = plt.subplots(num=f'scattering data')\n",
    "plt.subplots_adjust(bottom=0.15)\n",
    "#ax = plt.gca()\n",
    "ax.set_xlabel(\"$q (\\AA^{-1})$\",)\n",
    "ax.set_ylabel(\"$I$\",)\n",
    "#ax.set_xscale('log')\n",
    "#ax.set_yscale('log')\n",
    "ax.errorbar(qgrid2, dset_merged[0][0], dset_merged[0][1], label=f'{scattering} {frame}')   # here dataset has only one frame\n",
    "#ax.plot(qgrid2, dset_merged[0][0], label=f'{scattering} {frame}')   # here dataset has only one frame\n",
    "ax.legend()\n",
    "plt.show()\n",
    "\n",
    "if os.path.isfile(masked_file):\n",
    "    os.remove(masked_file)"
   ]
  },
  {
   "cell_type": "code",
   "execution_count": 2,
   "id": "quarterly-blackjack",
   "metadata": {},
   "outputs": [],
   "source": [
    "# --------- template matching purposes -------------\n",
    "\n",
    "\n",
    "# plot zoomed patch figure\n",
    "#plt.figure()\n",
    "#pil_im = img[0:150, 800:800+150]\n",
    "#plt.imshow(pil_im, cmap = 'rainbow', ); \n",
    "#plt.show();\n",
    "\n",
    "# --------- template matching -------------\n",
    "# template_file = ''\n",
    "# Cropped image of above dimension OPENCV to PIL_IMAGE\n",
    "# https://stackoverflow.com/questions/43232813/convert-opencv-image-format-to-pil-image-format\n",
    "# PIL to OpenCV\n",
    "#pil_im = Image.fromarray(img_rgb)\n",
    "#pil_im = pil_im.crop((left, top, right, bottom))\n",
    "# load template and find height and width of the template shape (convert your BGR image to Gray image)\n",
    "#template = pil_im\n",
    "#h, w = template.shape[::]\n",
    "# print(f'template width {w} Height {h}')\n",
    "# print(np.min(template), np.max(template), np.min(img), np.max(img))\n",
    "# print(f'templete {template.shape} type {type(template)} pil_im {img.shape} type {type(img)}')\n",
    "#res = cv2.matchTemplate(img_rgb, template, cv2.TM_CCOEFF)"
   ]
  },
  {
   "cell_type": "code",
   "execution_count": 9,
   "id": "satellite-attempt",
   "metadata": {},
   "outputs": [
    {
     "name": "stdout",
     "output_type": "stream",
     "text": [
      "2048_B16_masked.h5 is being created in /Users/bashit.a/Documents/Alzheimer/Dec-15 ...\n",
      "2048_B16_masked.h5 copy is done\n",
      "2048_B16_masked.h5 Loading data into a numpy array started \n",
      "2048_B16_masked.h5 Loading data into a numpy array finished \n",
      "2048_B16_masked.h5 Patching Started \n",
      "2048_B16_masked.h5 Patching Finished\n",
      "2048_B16_masked.h5 file saving staring at 1612543516.6477902\n",
      "2048_B16_masked.h5 file saving finished at 85.49897980690002 seconds\n",
      "Circular averaging staring at 1612543602.915169\n",
      "data received: sn=2048_B16, fr1=0\n",
      "data received: sn=2048_B16, fr1=465\n",
      "data received: sn=2048_B16, fr1=930\n",
      "data received: sn=2048_B16, fr1=1395\n",
      "data received: sn=2048_B16, fr1=1860\n",
      "data received: sn=2048_B16, fr1=2325\n",
      "data received: sn=2048_B16, fr1=2790\n",
      "data received: sn=2048_B16, fr1=3255\n",
      "total processing time 428.04442286491394 seconds\n"
     ]
    }
   ],
   "source": [
    "# Masked Mica h5py file creation pathes information from the previous cell\n",
    "\n",
    "## import packages\n",
    "import os, shutil, h5py, time\n",
    "import numpy as np\n",
    "\n",
    "## specs\n",
    "masked_file = f'{source_file.split(\".\")[0]}_masked.h5'\n",
    "\n",
    "## computation\n",
    "if os.path.isfile(masked_file):\n",
    "    print(f'DID not PATCH {masked_file} already exists - did not copy, ')\n",
    "    print(f'1-D Averaging is NOT performed as {masked_file} already exist ')\n",
    "    print(f'TO do patching on {masked_file} delete the file first manually and run this cell again')\n",
    "\n",
    "\n",
    "else:\n",
    "    print(f'{masked_file} is being created in {os.getcwd()} ...')\n",
    "    shutil.copy2(source_file, masked_file)       # create a new file\n",
    "    print(f'{masked_file} copy is done')\n",
    "\n",
    "    # read _WAXS2 source data, replace masked data and save masked out data on _WAXS2\n",
    "    with h5py.File(masked_file,'r+') as hdf:\n",
    "        try:\n",
    "            dset = hdf.get(f'{masked_file.split(\"_masked\")[0]}')\n",
    "            del dset['processed']\n",
    "            #del dset[\"_SAXS\"], dset[\"_WAXS2\"], dset[\"merged\"]\n",
    "        except:\n",
    "            pass\n",
    "\n",
    "        dset = dset.get(f'/{masked_file.split(\"_masked\")[0]}/primary/data')\n",
    "        print(f'{masked_file} Loading data into a numpy array started ')\n",
    "        dset_waxs = np.array(dset.get('pilW2_image'))\n",
    "        del dset['pilW2_image']\n",
    "        print(f'{masked_file} Loading data into a numpy array finished ')\n",
    "\n",
    "\n",
    "        # Loop over the data to mask out the patches\n",
    "        print(f'{masked_file} Patching Started ')\n",
    "        for frame in range(len(dset_waxs)):\n",
    "            for xy, width_p, height_p, color in patches:\n",
    "                dset_waxs[frame][xy[1]: xy[1]+height_p, xy[0]: xy[0]+width_p] = 0   # height px and width px will not be counted img[0:70, 860:860+60]\n",
    "        print(f'{masked_file} Patching Finished')\n",
    "        \n",
    "        tic = time.time()\n",
    "        print(f'{masked_file} file saving staring at {tic}')\n",
    "        # 'lzf' (no compression_opts), chunks=(1,1043,981), compression_opts=1\n",
    "        dset.create_dataset('pilW2_image', data = dset_waxs, compression=\"gzip\", compression_opts=1)  \n",
    "        tac = time.time()\n",
    "        print(f'{masked_file} file saving finished at {tac-tic} seconds')\n",
    "\n",
    "    ## create 1d data from lin code\n",
    "    from py4xs.hdf import h5xs,h5exp,lsh5\n",
    "    from py4xs.data2d import Data2d\n",
    "    import numpy as np\n",
    "    import pylab as plt\n",
    "\n",
    "    de = h5exp(\"exp.h5\")\n",
    "    qgrid2 = np.hstack([np.arange(0.005, 0.0499, 0.001), np.arange(0.05, 0.099, 0.002), np.arange(0.1, 3.2, 0.005)])\n",
    "\n",
    "    dt  = h5xs(f'{masked_file}', [de.detectors, qgrid2])\n",
    "    tic = time.time()\n",
    "    print(f'Circular averaging staring at {tic}')\n",
    "    dt.load_data(N=8)\n",
    "    tac = time.time()\n",
    "    print(f'total processing time {tac-tic} seconds')\n"
   ]
  },
  {
   "cell_type": "code",
   "execution_count": 3,
   "id": "nervous-receipt",
   "metadata": {},
   "outputs": [],
   "source": [
    "########################### ---------- Essential functions ---------- ###########################\n",
    "\n",
    "### valid indices search function\n",
    "def h5_top_group(file):\n",
    "    \"\"\" \n",
    "        input argument string of a h5py file name\n",
    "        returns seperator\n",
    "        seperator = h5_top_group(file)\n",
    "    \"\"\"\n",
    "    return file.split('_masked')[0] if file.find('_masked') >= 0 else file.split('.')[0]\n",
    "\n",
    "def valid_idx_search(qgrid, Iq):\n",
    "    \"\"\"\n",
    "        Iq shape (#frames, #1-d avg. values) ex. (3721,690)\n",
    "\n",
    "        function call: \n",
    "        idx_l, idx_u, valid_diff_values = valid_idx_search(qgrid2, Iq)\n",
    "        \n",
    "        retrun:\n",
    "            idx_l = first valid   indices    SAXS = 2,   WAXS = 109 , merged = 0\n",
    "            idx_u = first invalid indices    SAXS = 125, WAXS = 579 , merged = 690\n",
    "            valid_diff_values = (#frames, only valid values)  ex. \n",
    "            '_SAXS'  = (4941, 123) --> 125 - 2 = 123\n",
    "            '_WAXS2' = (4941, 470) --> 579-109 = 470\n",
    "    \"\"\"\n",
    "    list_ = ~np.isnan(Iq[0,:].flatten())                      # list_ = [False, False, True, True, ...] boolean list in the first frame \n",
    "    idx_l = np.argmax(list_==True)                            # find first occurance of a boolean True ; SAXS = 2,   WAXS = 109 , merged = 0\n",
    "    idx_u  = len(list_) - np.argmax(list_[::-1]==True)        # find last occurance of a invalid number;   SAXS = 125 , WAXS = 579 , merged = 690 valid on 124, 578 , 689 indices\n",
    "    print(f'low valid idx = {idx_l}, low valid Q = {qgrid[idx_l]:0.3f}, high valid idx = {idx_u-1} , high valid Q = {qgrid[idx_u-1]:0.3f}')\n",
    "    \n",
    "    valid_diff_values = Iq[:, idx_l:idx_u]                 # SAXS-Iq --> (1,2:125,:3721)\n",
    "    \n",
    "    return idx_l, idx_u, valid_diff_values\n",
    "\n",
    "### find representative value for each frame\n",
    "def find_rep_value(qgrid, Iq, args=None, method = 'polyfit'):\n",
    "    \"\"\"\n",
    "    Iq (3721,690) may contain valid or invalid values\n",
    "    for polynomial averaging:\n",
    "        method = 'polynomial' \n",
    "    for circular averaging:\n",
    "        method = 'circ'\n",
    "    diff_patterns = find_rep_value(qgrid2, Iq, args, method = 'polyfit')\n",
    "    diff_patterns = find_rep_value(qgrid2, Iq, method = 'circ')\n",
    "    \n",
    "    \"\"\"    \n",
    "    if method == 'polyfit':\n",
    "        poly_ord, idx_l, idx_u, limit_l, limit_u = args\n",
    "        n_patterns = len(Iq)\n",
    "        diff_patterns = [];\n",
    "        for frame in range(n_patterns):                      # range(100) --> look for first 100 frames\n",
    "\n",
    "            X = qgrid[idx_l:idx_u]\n",
    "            y = Iq[frame][idx_l:idx_u]\n",
    "\n",
    "            # Find coefficients\n",
    "            coefs = np.polyfit(X,y,poly_ord)\n",
    "            #print(coefs)\n",
    "\n",
    "            X_test = X[limit_l:limit_u]\n",
    "            y_test = y[limit_l:limit_u]\n",
    "            diff_patterns.append(np.max(y_test - np.polyval(coefs, X_test)));        # (0,2:125,0)  reshape diff_patterns shape (0, 2:125, 3721)\n",
    "        diff_patterns = np.array(diff_patterns)      \n",
    "    \n",
    "    elif method == 'circ':\n",
    "        n_patterns = len(Iq)\n",
    "        _ , _ , valid_diff_values = valid_idx_search(qgrid, Iq)\n",
    "        diff_patterns = np.zeros(len(valid_diff_values));\n",
    "        \n",
    "        for frame in range(n_patterns):                      # range(100) --> look for first 100 frames\n",
    "            diff_patterns[frame] = np.mean(valid_diff_values[frame])\n",
    "\n",
    "    return diff_patterns\n",
    "\n",
    "### snaking function\n",
    "import numpy as np\n",
    "def snaking( Width, Height, X=None,):\n",
    "    \"\"\"\n",
    "        img_orig = snaking(Width, Height, diff_patterns)\n",
    "    \"\"\"\n",
    "    if X is None:\n",
    "        X_coor = np.arange(Height*Width).reshape(Height,Width)\n",
    "    else:\n",
    "        X_coor = X.reshape(Height,Width)            # input id numpy reshaped as height * width\n",
    "    img_orig = np.zeros_like(X_coor)                  # \n",
    "    temp = np.flipud(X_coor)                        # flipud matrix\n",
    "    idx_odd = np.arange(1,Height,2)                 # Get odd indices to fliplr\n",
    "    img_orig[idx_odd,:]  = np.fliplr(temp[idx_odd])   # flipping odd indices\n",
    "    idx_even = np.arange(0,Height,2)                # Get odd indices to leave to as it is\n",
    "    img_orig[idx_even,:] = temp[idx_even]             # leaving as it is\n",
    "    return img_orig\n",
    "\n",
    "### snaking width_height extraction\n",
    "## attrs in h5py is recorded in json format\n",
    "\n",
    "import json\n",
    "def width_height(file):\n",
    "    \"\"\"\n",
    "        Width, Height = width_height(file)\n",
    "    \"\"\"    \n",
    "    with h5py.File(file,'r') as hdf:\n",
    "        dset = hdf.get(h5_top_group(file))\n",
    "        header = json.loads(dset.attrs['start'])\n",
    "        Height, Width = header['shape']  \n",
    "    return Width, Height\n",
    "\n",
    "import h5py\n",
    "def read_Iq(file, scattering):\n",
    "    \"\"\"\n",
    "        read Iq data\n",
    "        Iq = read_Iq(file, scattering)\n",
    "    \"\"\"\n",
    "    with h5py.File(file,'r') as hdf:\n",
    "        Iq = hdf.get(f'{h5_top_group(file)}/processed')              # Iq = hdf.get('2048_B16/processed')\n",
    "        Iq = np.array(Iq.get(scattering))                            # Iq = np.array(2048_B16/processed/merged')\n",
    "        Iq = Iq[:,0,:]                                               # Iq shape (3721, 690)\n",
    "\n",
    "    return Iq\n",
    "\n",
    "### generate heatmap for differnet scatterings\n",
    "def plot_heat_map_from_data(img_orig, Width, Height, args, title= None):\n",
    "    \"\"\"\n",
    "        plot_heat_map_from_data(img_orig, Width, Height, args = None, title= None)\n",
    "    \"\"\"\n",
    "    ########## --------- matplotlib mouse hovering function for snaking --------- ########## \n",
    "    frame_cor = snaking(Width, Height)                  # snaking indices for heat map, \n",
    "    numrows, numcols = Height, Width                    # format_coord function requires this global variables\n",
    "    def format_coord(x, y):\n",
    "        col = int(x)                                  # truncate x values\n",
    "        row = int(y)                                  # truncate y values\n",
    "        if 0 <= col < numcols and 0 <= row < numrows:\n",
    "            z = np.flipud(frame_cor)[row, col]        # flipping to get correct value of z     \n",
    "            return 'x=%1.2f, y=%1.2f, FRAME=%d' % (x, y, z)\n",
    "        else:\n",
    "            return 'x=%1.2f, y=%1.2f' % (x, y)        # outside the plotting range, no need\n",
    "    \n",
    "    ### plotting\n",
    "    f, ax = args\n",
    "    ax.clear()\n",
    "    ax.imshow(img_orig, cmap = \"viridis\", interpolation = 'none', origin='upper', extent=[0,Width,0,Height], aspect='equal')\n",
    "    ax.format_coord = format_coord\n",
    "    ax.set(title = title, xticks = (np.arange(0,Width,5)), yticks = (np.arange(0,Height,5)))\n",
    "\n",
    "\n",
    "import pylab as plt\n",
    "def plot_heat_map_from_file(file, qgrid, scatterings = None, args = None):\n",
    "    \"\"\"\n",
    "        Input args:\n",
    "            must be tupple scattering = ('_SAXS',)\n",
    "            args = (f, axs)\n",
    "        f = plot_heat_map_from_file(file, qgrid, scatterings = scattering)\n",
    "        f = plot_heat_map_from_file(file, qgrid, scatterings = None, args = (f,axs))\n",
    "    \"\"\"\n",
    "    ## No given scattering argument plot all SAXS, WAXS, Merged\n",
    "    if scatterings == None:\n",
    "        scatterings = ('_SAXS',          '_WAXS2',        'merged'    )\n",
    "    \n",
    "    f, axs = plt.subplots(1, len(scatterings), num=f'{file}', figsize=(10,5))\n",
    "\n",
    "    if len(scatterings) == 1:   \n",
    "        axs = [axs]       # for one scatterings input making axs a list to use in the loop as axs[i]\n",
    "\n",
    "    ### mouse hovering function call\n",
    "    Width, Height = width_height(file)\n",
    "    \n",
    "    for i, scattering in enumerate(scatterings):\n",
    "        \n",
    "        Iq = read_Iq(file, scattering)\n",
    "        diff_patterns = find_rep_value(qgrid, Iq, method = 'circ')\n",
    "        img_orig = snaking(Width, Height, diff_patterns)\n",
    "        \n",
    "        plot_heat_map_from_data(img_orig, Width, Height, args = (f, axs[i]), title= f'{scattering} {file}')\n",
    "    #plt.tight_layout()\n",
    "    plt.show()\n",
    "    return f\n",
    "\n",
    "def plot_all_heat_maps_cwd(pdf, qgrid, scatterings):\n",
    "    \"\"\"\n",
    "        import matplotlib.backends.backend_pdf                        # pdf generation package\n",
    "        pdf = matplotlib.backends.backend_pdf.PdfPages('output.pdf')\n",
    "        scatterings = ('_SAXS', '_WAXS2')\n",
    "        \n",
    "        Function call:\n",
    "            plot_all_heat_maps_cwd(pdf, scatterings)\n",
    "    \"\"\"\n",
    "    import os\n",
    "    \n",
    "    files = []\n",
    "    for file in [each for each in os.listdir(os.getcwd()) if each.endswith('.h5')]:\n",
    "        files.append(file)\n",
    "    files_sorted = sorted(files)\n",
    "\n",
    "    for file in files_sorted:\n",
    "        print(f'Loading file {file}')\n",
    "        \n",
    "        try:       \n",
    "            f = plot_heat_map_from_file(file, qgrid, scatterings = scatterings ) # figure object\n",
    "            print(f'{file} Task Finished. Figure Number = ' , f.number)\n",
    "        except:    continue\n",
    "          \n",
    "        pdf.savefig(f);   #f.savefig(\"foo.pdf\", ) \n",
    "\n",
    "    pdf.close();\n",
    "    print('PDF creation Finished')"
   ]
  },
  {
   "cell_type": "code",
   "execution_count": 4,
   "id": "practical-worst",
   "metadata": {},
   "outputs": [
    {
     "name": "stdout",
     "output_type": "stream",
     "text": [
      "2048_B8_masked.h5\n"
     ]
    },
    {
     "data": {
      "application/vnd.jupyter.widget-view+json": {
       "model_id": "5af39b40d0c741efb209c61eac00a055",
       "version_major": 2,
       "version_minor": 0
      },
      "text/plain": [
       "Canvas(toolbar=Toolbar(toolitems=[('Home', 'Reset original view', 'home', 'home'), ('Back', 'Back to previous …"
      ]
     },
     "metadata": {},
     "output_type": "display_data"
    },
    {
     "data": {
      "application/vnd.jupyter.widget-view+json": {
       "model_id": "6a87c57010d946f78adfae6ead8d9fba",
       "version_major": 2,
       "version_minor": 0
      },
      "text/plain": [
       "interactive(children=(IntSlider(value=0, description='Frame', max=4940), Output()), _dom_classes=('widget-inte…"
      ]
     },
     "metadata": {},
     "output_type": "display_data"
    }
   ],
   "source": [
    "%matplotlib widget\n",
    "\n",
    "### 1d circularly averaged loading for masked file \n",
    "\n",
    "# specs  \n",
    "print(masked_file)\n",
    "file = masked_file    \n",
    "scattering = '_WAXS2'\n",
    "qgrid2 = np.hstack([np.arange(0.005, 0.0499, 0.001), np.arange(0.05, 0.099, 0.002), np.arange(0.1, 3.2, 0.005)])\n",
    "\n",
    "# computation\n",
    "Iq = read_Iq(file, scattering)    \n",
    "Width, Height = width_height(file)    \n",
    "n_patterns = Width*Height \n",
    "\n",
    "    \n",
    "import ipywidgets   # from IPython.display import display; display(amp)\n",
    "\n",
    "f,ax = plt.subplots()\n",
    "def update_plot(frame):\n",
    "    ax.clear()\n",
    "    #ax.set_yscale('log')\n",
    "    ax.plot(qgrid2, (Iq[frame]), label = f'{scattering} {frame}')\n",
    "\n",
    "frame = ipywidgets.IntSlider(min=0, max=n_patterns-1, value=0, description = \"Frame\")\n",
    "ipywidgets.interactive(update_plot, frame=frame)"
   ]
  },
  {
   "cell_type": "code",
   "execution_count": 5,
   "id": "metropolitan-hopkins",
   "metadata": {},
   "outputs": [
    {
     "data": {
      "application/vnd.jupyter.widget-view+json": {
       "model_id": "1bd4f2f5224d4296940556aa81ab6373",
       "version_major": 2,
       "version_minor": 0
      },
      "text/plain": [
       "Canvas(toolbar=Toolbar(toolitems=[('Home', 'Reset original view', 'home', 'home'), ('Back', 'Back to previous …"
      ]
     },
     "metadata": {},
     "output_type": "display_data"
    },
    {
     "name": "stdout",
     "output_type": "stream",
     "text": [
      "low valid idx = 2, low valid Q = 0.007, high valid idx = 124 , high valid Q = 0.370\n",
      "low valid idx = 109, low valid Q = 0.295, high valid idx = 578 , high valid Q = 2.640\n",
      "Task Finished. Figure Number =  1\n"
     ]
    }
   ],
   "source": [
    "### show heat map for any file\n",
    "%matplotlib widget    \n",
    "file = masked_file    \n",
    "scatterings = ('_SAXS', '_WAXS2')\n",
    "\n",
    "#plot_one_heat_maps(file, scatterings)\n",
    "f = plot_heat_map_from_file(file, qgrid2, scatterings = scatterings)\n",
    "print('Task Finished. Figure Number = ' , f.number)"
   ]
  },
  {
   "cell_type": "code",
   "execution_count": 6,
   "id": "cloudy-sperm",
   "metadata": {},
   "outputs": [
    {
     "data": {
      "application/vnd.jupyter.widget-view+json": {
       "model_id": "0c5fdb603abd4c17bcc4102eb19810eb",
       "version_major": 2,
       "version_minor": 0
      },
      "text/plain": [
       "Canvas(toolbar=Toolbar(toolitems=[('Home', 'Reset original view', 'home', 'home'), ('Back', 'Back to previous …"
      ]
     },
     "metadata": {},
     "output_type": "display_data"
    },
    {
     "data": {
      "application/vnd.jupyter.widget-view+json": {
       "model_id": "1830bae4d4444d5bbcf3c7ee290aa944",
       "version_major": 2,
       "version_minor": 0
      },
      "text/plain": [
       "interactive(children=(IntSlider(value=0, description='Frame', max=4940), IntSlider(value=1, description='Poly …"
      ]
     },
     "metadata": {},
     "output_type": "display_data"
    }
   ],
   "source": [
    "################# --------- Find Q range to plot heat maps --------- #################\n",
    "%matplotlib widget\n",
    "import h5py\n",
    "import pylab as plt\n",
    "import numpy as np\n",
    "import ipywidgets as widgets         # from IPython.display import display; display(amp)\n",
    "from ipywidgets import fixed\n",
    "#from IPython.display import display  ; display(frame, poly_fit)\n",
    "# emperical values\n",
    "# idx_l   = 60 ; idx_u   = 90 ;  limit_l = 13 ; limit_u = 20 ;\n",
    "\n",
    "# specs\n",
    "file = masked_file\n",
    "qgrid2 = np.hstack([np.arange(0.005, 0.0499, 0.001), np.arange(0.05, 0.099, 0.002), np.arange(0.1, 3.2, 0.005)])\n",
    "\n",
    "\n",
    "### q_low, q_high, q_low - idx[2] and q_high + idx[2] for poly fit, number of points\n",
    "indices = ((0.115, 0.16, 13,   48, '_SAXS' , 'bumpy'),      # 72, 81\n",
    "           (1.48,  1.57, 10, 4.15, '_WAXS2', 'paraffin'),   # 345, 355\n",
    "           (1.30,  1.38, 10,  4.7, '_WAXS2', 'amyloid'),    # 309, 323\n",
    "           (1.89,  1.93,  7,  3.2, '_WAXS2', 'mica')        # 427, 433\n",
    "          )\n",
    "\n",
    "############ ------------ computation ------------ ############ \n",
    "## matplotlib mouse hovering function for snaking\n",
    "# format_coord function requires this global variables\n",
    "Width, Height = width_height(file)\n",
    "frame_cor = snaking(Width, Height)                  # snaking indices for heat map, \n",
    "numrows, numcols = Height, Width                    # format_coord function requires this global variables\n",
    "n_patterns = Width*Height\n",
    "\n",
    "# polyfit and q value function\n",
    "f, axs = plt.subplots(2,len(indices), figsize = (15,9), num = f'{masked_file}')\n",
    "def update_plot(frame_polyfit, poly_ord = 1):\n",
    "\n",
    "    for idx_indices,index in enumerate(indices):\n",
    "        \n",
    "        ### extracting values from the patches\n",
    "        idx_l_t = np.max(np.where(qgrid2 <= index[0]))  # 73\n",
    "        idx_u_t = np.max(np.where(qgrid2 <= index[1]))  # 81\n",
    "        idx_l =  idx_l_t - index[2]                     # 73 - 13 = 60\n",
    "        idx_u =  idx_u_t + index[2]                     # 81 + 13 = 90\n",
    "        limit_l = index[2]\n",
    "        limit_u = index[2] + idx_u_t - idx_l_t\n",
    "        scattering = index[4]\n",
    "        comment = index[5]\n",
    "        print(idx_l, idx_u, limit_l, limit_u)\n",
    "\n",
    "        ### read Iq data\n",
    "        Iq = read_Iq(file, scattering)    \n",
    "        \n",
    "        \n",
    "        X = qgrid2\n",
    "        y = Iq[frame_polyfit]\n",
    "\n",
    "        print(idx_l, idx_u, X[idx_l], y[idx_l], X[idx_u-1] , y[idx_u-1])\n",
    "        X = qgrid2[idx_l:idx_u]\n",
    "        y = y[idx_l:idx_u]\n",
    "\n",
    "        coefs = np.polyfit(X,y,poly_ord)\n",
    "        print(coefs)\n",
    "\n",
    "        X_test = X[limit_l:limit_u]\n",
    "        y_test = y[limit_l:limit_u]\n",
    "        print(X_test, y_test)\n",
    "        print(y[limit_l + np.argmax(np.abs(y_test - np.polyval(coefs, X_test)))])\n",
    "\n",
    "        ## plot polynomial and heat map\n",
    "        axs[0, idx_indices].clear()\n",
    "        axs[0, idx_indices].scatter(X,y, color='red' , label = 'exp data') \n",
    "        axs[0, idx_indices].scatter(X_test, y_test, color='purple' , label = 'fit data')\n",
    "        axs[0, idx_indices].scatter(X, np.polyval(coefs, X), color = 'black' , label = 'polyfit')\n",
    "        axs[0, idx_indices].set(title = f'Poly_ord {poly_ord} Frame - {frame_polyfit} {comment}' ,\n",
    "                                xlabel = 'X' , ylabel = 'y', xscale='linear', yscale = 'linear' )\n",
    "        axs[0, idx_indices].legend()\n",
    "\n",
    "        ## gather heat map data\n",
    "        args = poly_ord, idx_l, idx_u, limit_l, limit_u\n",
    "        diff_patterns = find_rep_value(qgrid2, Iq, args, method = 'polyfit')\n",
    "        \n",
    "        # snaked diff. patterns and plot heat map\n",
    "        img_orig = snaking(Width, Height, diff_patterns)   \n",
    "        plot_heat_map_from_data(img_orig, Width, Height, args = (f,axs[1, idx_indices]), title = (f'Q~{index[0], index[1]} {scattering} {index[3]}$\\AA$'), )\n",
    "\n",
    "#        axs[1, idx_indices].set_yticklabels([str(i) for i in [*range(0,Height,3)][::-1]], fontsize=8)        \n",
    "#        f.colorbar(pos, ax= axs[1, idx_indices])\n",
    "    \n",
    "    plt.suptitle('Polyfit and Heat maps')\n",
    "    plt.tight_layout()\n",
    "    plt.show()\n",
    "\n",
    "frame = widgets.IntSlider(min=0, max=n_patterns-1, value=0, description=\"Frame\")\n",
    "poly_ord = widgets.IntSlider(min=1, max=10, value=1, description='Poly fit order')\n",
    "widgets.interactive(update_plot, frame_polyfit=frame, poly_ord = poly_ord)"
   ]
  },
  {
   "cell_type": "code",
   "execution_count": 9,
   "id": "negative-duncan",
   "metadata": {},
   "outputs": [
    {
     "name": "stdout",
     "output_type": "stream",
     "text": [
      "/Users/bashit.a/Documents/Alzheimer/Dec-15\n"
     ]
    },
    {
     "data": {
      "application/vnd.jupyter.widget-view+json": {
       "model_id": "72b8142790b34bceaf74a70b176f4d41",
       "version_major": 2,
       "version_minor": 0
      },
      "text/plain": [
       "Canvas(toolbar=Toolbar(toolitems=[('Home', 'Reset original view', 'home', 'home'), ('Back', 'Back to previous …"
      ]
     },
     "metadata": {},
     "output_type": "display_data"
    },
    {
     "ename": "AttributeError",
     "evalue": "'NoneType' object has no attribute 'get'",
     "output_type": "error",
     "traceback": [
      "\u001b[0;31m---------------------------------------------------------------------------\u001b[0m",
      "\u001b[0;31mAttributeError\u001b[0m                            Traceback (most recent call last)",
      "\u001b[0;32m<ipython-input-9-e544c7093205>\u001b[0m in \u001b[0;36m<module>\u001b[0;34m\u001b[0m\n\u001b[1;32m     26\u001b[0m \u001b[0;31m## heat map from file\u001b[0m\u001b[0;34m\u001b[0m\u001b[0;34m\u001b[0m\u001b[0;34m\u001b[0m\u001b[0m\n\u001b[1;32m     27\u001b[0m \u001b[0mscatterings\u001b[0m \u001b[0;34m=\u001b[0m \u001b[0;34m(\u001b[0m\u001b[0;34m'_SAXS'\u001b[0m\u001b[0;34m,\u001b[0m \u001b[0;34m'_WAXS2'\u001b[0m\u001b[0;34m)\u001b[0m\u001b[0;34m\u001b[0m\u001b[0;34m\u001b[0m\u001b[0m\n\u001b[0;32m---> 28\u001b[0;31m \u001b[0mf\u001b[0m \u001b[0;34m=\u001b[0m \u001b[0mplot_heat_map_from_file\u001b[0m\u001b[0;34m(\u001b[0m\u001b[0mfile\u001b[0m\u001b[0;34m,\u001b[0m \u001b[0mqgrid2\u001b[0m\u001b[0;34m,\u001b[0m \u001b[0mscatterings\u001b[0m \u001b[0;34m=\u001b[0m \u001b[0mscatterings\u001b[0m\u001b[0;34m)\u001b[0m\u001b[0;34m\u001b[0m\u001b[0;34m\u001b[0m\u001b[0m\n\u001b[0m\u001b[1;32m     29\u001b[0m \u001b[0;34m\u001b[0m\u001b[0m\n\u001b[1;32m     30\u001b[0m \u001b[0;31m### 1-d plot for bright, moderate and dark frames\u001b[0m\u001b[0;34m\u001b[0m\u001b[0;34m\u001b[0m\u001b[0;34m\u001b[0m\u001b[0m\n",
      "\u001b[0;32m<ipython-input-6-18d7bc7687ef>\u001b[0m in \u001b[0;36mplot_heat_map_from_file\u001b[0;34m(file, qgrid, scatterings, args)\u001b[0m\n\u001b[1;32m    166\u001b[0m     \u001b[0;32mfor\u001b[0m \u001b[0mi\u001b[0m\u001b[0;34m,\u001b[0m \u001b[0mscattering\u001b[0m \u001b[0;32min\u001b[0m \u001b[0menumerate\u001b[0m\u001b[0;34m(\u001b[0m\u001b[0mscatterings\u001b[0m\u001b[0;34m)\u001b[0m\u001b[0;34m:\u001b[0m\u001b[0;34m\u001b[0m\u001b[0;34m\u001b[0m\u001b[0m\n\u001b[1;32m    167\u001b[0m \u001b[0;34m\u001b[0m\u001b[0m\n\u001b[0;32m--> 168\u001b[0;31m         \u001b[0mIq\u001b[0m \u001b[0;34m=\u001b[0m \u001b[0mread_Iq\u001b[0m\u001b[0;34m(\u001b[0m\u001b[0mfile\u001b[0m\u001b[0;34m,\u001b[0m \u001b[0mscattering\u001b[0m\u001b[0;34m)\u001b[0m\u001b[0;34m\u001b[0m\u001b[0;34m\u001b[0m\u001b[0m\n\u001b[0m\u001b[1;32m    169\u001b[0m         \u001b[0mdiff_patterns\u001b[0m \u001b[0;34m=\u001b[0m \u001b[0mfind_rep_value\u001b[0m\u001b[0;34m(\u001b[0m\u001b[0mqgrid\u001b[0m\u001b[0;34m,\u001b[0m \u001b[0mIq\u001b[0m\u001b[0;34m,\u001b[0m \u001b[0mmethod\u001b[0m \u001b[0;34m=\u001b[0m \u001b[0;34m'circ'\u001b[0m\u001b[0;34m)\u001b[0m\u001b[0;34m\u001b[0m\u001b[0;34m\u001b[0m\u001b[0m\n\u001b[1;32m    170\u001b[0m         \u001b[0mimg_orig\u001b[0m \u001b[0;34m=\u001b[0m \u001b[0msnaking\u001b[0m\u001b[0;34m(\u001b[0m\u001b[0mWidth\u001b[0m\u001b[0;34m,\u001b[0m \u001b[0mHeight\u001b[0m\u001b[0;34m,\u001b[0m \u001b[0mdiff_patterns\u001b[0m\u001b[0;34m)\u001b[0m\u001b[0;34m\u001b[0m\u001b[0;34m\u001b[0m\u001b[0m\n",
      "\u001b[0;32m<ipython-input-6-18d7bc7687ef>\u001b[0m in \u001b[0;36mread_Iq\u001b[0;34m(file, scattering)\u001b[0m\n\u001b[1;32m    113\u001b[0m     \u001b[0;32mwith\u001b[0m \u001b[0mh5py\u001b[0m\u001b[0;34m.\u001b[0m\u001b[0mFile\u001b[0m\u001b[0;34m(\u001b[0m\u001b[0mfile\u001b[0m\u001b[0;34m,\u001b[0m\u001b[0;34m'r'\u001b[0m\u001b[0;34m)\u001b[0m \u001b[0;32mas\u001b[0m \u001b[0mhdf\u001b[0m\u001b[0;34m:\u001b[0m\u001b[0;34m\u001b[0m\u001b[0;34m\u001b[0m\u001b[0m\n\u001b[1;32m    114\u001b[0m         \u001b[0mIq\u001b[0m \u001b[0;34m=\u001b[0m \u001b[0mhdf\u001b[0m\u001b[0;34m.\u001b[0m\u001b[0mget\u001b[0m\u001b[0;34m(\u001b[0m\u001b[0;34mf'{h5_top_group(file)}/processed'\u001b[0m\u001b[0;34m)\u001b[0m              \u001b[0;31m# Iq = hdf.get('2048_B16/processed')\u001b[0m\u001b[0;34m\u001b[0m\u001b[0;34m\u001b[0m\u001b[0m\n\u001b[0;32m--> 115\u001b[0;31m         \u001b[0mIq\u001b[0m \u001b[0;34m=\u001b[0m \u001b[0mnp\u001b[0m\u001b[0;34m.\u001b[0m\u001b[0marray\u001b[0m\u001b[0;34m(\u001b[0m\u001b[0mIq\u001b[0m\u001b[0;34m.\u001b[0m\u001b[0mget\u001b[0m\u001b[0;34m(\u001b[0m\u001b[0mscattering\u001b[0m\u001b[0;34m)\u001b[0m\u001b[0;34m)\u001b[0m                            \u001b[0;31m# Iq = np.array(2048_B16/processed/merged')\u001b[0m\u001b[0;34m\u001b[0m\u001b[0;34m\u001b[0m\u001b[0m\n\u001b[0m\u001b[1;32m    116\u001b[0m         \u001b[0mIq\u001b[0m \u001b[0;34m=\u001b[0m \u001b[0mIq\u001b[0m\u001b[0;34m[\u001b[0m\u001b[0;34m:\u001b[0m\u001b[0;34m,\u001b[0m\u001b[0;36m0\u001b[0m\u001b[0;34m,\u001b[0m\u001b[0;34m:\u001b[0m\u001b[0;34m]\u001b[0m                                               \u001b[0;31m# Iq shape (3721, 690)\u001b[0m\u001b[0;34m\u001b[0m\u001b[0;34m\u001b[0m\u001b[0m\n\u001b[1;32m    117\u001b[0m \u001b[0;34m\u001b[0m\u001b[0m\n",
      "\u001b[0;31mAttributeError\u001b[0m: 'NoneType' object has no attribute 'get'"
     ]
    }
   ],
   "source": [
    "%matplotlib widget\n",
    "from py4xs.hdf import h5xs\n",
    "import os\n",
    "from py4xs.slnxs import trans_mode\n",
    "\n",
    "print(f'{os.getcwd()}')\n",
    "\n",
    "# specs\n",
    "# file = '1934_SN_masked.h5'  \n",
    "# frames = (4518, 3687, 3045)     # amyloid, mica, dark  ---> frames can be choosen from SAXS heat map\n",
    "\n",
    "file = '2048_B8_masked.h5'\n",
    "frames = (2080, 1358, 1824)     # amyloid, mica, dark\n",
    "show_eb = False                  # show errorbar in the plot\n",
    "\n",
    "\n",
    "## semi-spec\n",
    "qgrid2 = np.hstack([np.arange(0.005, 0.0499, 0.001), np.arange(0.05, 0.099, 0.002), np.arange(0.1, 3.2, 0.005)])\n",
    "\n",
    "# creating objects\n",
    "dt  = h5xs(f'{file}', transField=\"em2_sum_all_mean_value\")\n",
    "sn = h5_top_group(file)\n",
    "dt.load_d1s(sn=sn)\n",
    "\n",
    "\n",
    "## heat map from file\n",
    "scatterings = ('_SAXS', '_WAXS2')\n",
    "f = plot_heat_map_from_file(file, qgrid2, scatterings = scatterings)\n",
    "\n",
    "### 1-d plot for bright, moderate and dark frames\n",
    "scatterings = ('_SAXS',          '_WAXS2',        'merged',    )\n",
    "colors =      (('r','b','g'), ('r','b','g'), ('r+','bo','g--'),)\n",
    "f, axs = plt.subplots(1, 3, figsize=(15,5), num=f'{file}')\n",
    "xscale = 'linear'\n",
    "yscale = 'log'\n",
    "\n",
    "for i, (scattering, color) in enumerate(zip(scatterings,colors)):\n",
    "    axs[i].plot(dt.qgrid, dt.d1s[sn][scattering][frames[0]].data, color[0], label = f'bright {frames[0]}')\n",
    "    axs[i].plot(dt.qgrid, dt.d1s[sn][scattering][frames[1]].data, color[1], label = f'moderate {frames[1]}')\n",
    "    axs[i].plot(dt.qgrid, dt.d1s[sn][scattering][frames[2]].data, color[2], label = f'dark {frames[2]}')\n",
    "    axs[i].set(title = f'{scattering} {file}', xscale= xscale, yscale= yscale)\n",
    "    axs[i].legend()\n",
    "\n",
    "## background correction calculations\n",
    "sc_factor=1.\n",
    "\n",
    "dset = dt.d1s[sn][scattering][frames[0]]\n",
    "dbak = dt.d1s[sn][scattering][frames[2]]\n",
    "\n",
    "dt.set_trans(transMode=trans_mode.external)\n",
    "sc  = dset.trans / dbak.trans\n",
    "print(f'Scaling factor, {dset.trans}/{dbak.trans} = {sc}')\n",
    "Iq  = dset.data - dbak.data * sc * sc_factor\n",
    "dI  = dset.err  + dbak.err * sc * sc_factor\n",
    "idx = (dset.data > 0) & (dbak.data > 0)\n",
    "\n",
    "## plotting settings\n",
    "f, axs = plt.subplots(1,2,figsize=(16,4))\n",
    "plt.subplots_adjust(bottom=0.15)\n",
    "\n",
    "axs[0].plot(dbak.qgrid[idx], dset.data[idx], color[0], label = f'bright {frames[0]}')\n",
    "axs[0].plot(dbak.qgrid[idx], dbak.data[idx], color[2], label = f'dark-bcg {frames[2]}')\n",
    "\n",
    "if show_eb:\n",
    "    axs[0].errorbar(dbak.qgrid[idx], Iq[idx], dI[idx])\n",
    "    axs[1].errorbar(dbak.qgrid[idx], Iq[idx], dI[idx], label = f'{frames[0]} bcor')\n",
    "else:\n",
    "    axs[0].plot(dbak.qgrid[idx], Iq[idx], label = 'bcor')\n",
    "    axs[1].plot(dbak.qgrid[idx], Iq[idx], label = f'{frames[0]} bcor')\n",
    "\n",
    "\n",
    "axs[0].set(xlabel = \"$q (\\AA^{-1})$\", ylabel = \"$I$\", title = f'Background correction {file} errorbar = {show_eb}', xscale = xscale, yscale = yscale, )\n",
    "axs[1].set(xscale = xscale, yscale = yscale, title = f'Final Background Subtracted {file} errorbar = {show_eb}' , )\n",
    "axs[0].legend()\n",
    "axs[1].legend()\n"
   ]
  },
  {
   "cell_type": "code",
   "execution_count": 59,
   "id": "affiliated-ideal",
   "metadata": {},
   "outputs": [
    {
     "name": "stdout",
     "output_type": "stream",
     "text": [
      "Loading file 1934_B8.h5\n"
     ]
    },
    {
     "data": {
      "application/vnd.jupyter.widget-view+json": {
       "model_id": "87ee1bf7cff74d2d8961c789714c831f",
       "version_major": 2,
       "version_minor": 0
      },
      "text/plain": [
       "Canvas(toolbar=Toolbar(toolitems=[('Home', 'Reset original view', 'home', 'home'), ('Back', 'Back to previous …"
      ]
     },
     "metadata": {},
     "output_type": "display_data"
    },
    {
     "name": "stdout",
     "output_type": "stream",
     "text": [
      "low valid idx = 2, low valid Q = 0.007, high valid idx = 124 , high valid Q = 0.370\n",
      "low valid idx = 109, low valid Q = 0.295, high valid idx = 578 , high valid Q = 2.640\n",
      "1934_B8.h5 Task Finished. Figure Number =  1\n",
      "Loading file 1934_SN.h5\n"
     ]
    },
    {
     "data": {
      "application/vnd.jupyter.widget-view+json": {
       "model_id": "219b396253784efa8c5a3663f3ad1245",
       "version_major": 2,
       "version_minor": 0
      },
      "text/plain": [
       "Canvas(toolbar=Toolbar(toolitems=[('Home', 'Reset original view', 'home', 'home'), ('Back', 'Back to previous …"
      ]
     },
     "metadata": {},
     "output_type": "display_data"
    },
    {
     "name": "stdout",
     "output_type": "stream",
     "text": [
      "low valid idx = 2, low valid Q = 0.007, high valid idx = 124 , high valid Q = 0.370\n",
      "low valid idx = 109, low valid Q = 0.295, high valid idx = 578 , high valid Q = 2.640\n",
      "1934_SN.h5 Task Finished. Figure Number =  2\n",
      "Loading file 1934_SN_masked.h5\n"
     ]
    },
    {
     "data": {
      "application/vnd.jupyter.widget-view+json": {
       "model_id": "ab63767a80c040b0aa54ba4a9d208fee",
       "version_major": 2,
       "version_minor": 0
      },
      "text/plain": [
       "Canvas(toolbar=Toolbar(toolitems=[('Home', 'Reset original view', 'home', 'home'), ('Back', 'Back to previous …"
      ]
     },
     "metadata": {},
     "output_type": "display_data"
    },
    {
     "name": "stdout",
     "output_type": "stream",
     "text": [
      "low valid idx = 2, low valid Q = 0.007, high valid idx = 124 , high valid Q = 0.370\n",
      "low valid idx = 109, low valid Q = 0.295, high valid idx = 578 , high valid Q = 2.640\n",
      "1934_SN_masked.h5 Task Finished. Figure Number =  3\n",
      "Loading file 1934_SNa.h5\n"
     ]
    },
    {
     "data": {
      "application/vnd.jupyter.widget-view+json": {
       "model_id": "00b5f337c3ea4d4ca81576617394836d",
       "version_major": 2,
       "version_minor": 0
      },
      "text/plain": [
       "Canvas(toolbar=Toolbar(toolitems=[('Home', 'Reset original view', 'home', 'home'), ('Back', 'Back to previous …"
      ]
     },
     "metadata": {},
     "output_type": "display_data"
    },
    {
     "name": "stdout",
     "output_type": "stream",
     "text": [
      "low valid idx = 2, low valid Q = 0.007, high valid idx = 124 , high valid Q = 0.370\n",
      "low valid idx = 109, low valid Q = 0.295, high valid idx = 578 , high valid Q = 2.640\n",
      "1934_SNa.h5 Task Finished. Figure Number =  4\n",
      "Loading file 1943_B1.h5\n"
     ]
    },
    {
     "data": {
      "application/vnd.jupyter.widget-view+json": {
       "model_id": "460e4dbb773e4486b3eef8bc42129717",
       "version_major": 2,
       "version_minor": 0
      },
      "text/plain": [
       "Canvas(toolbar=Toolbar(toolitems=[('Home', 'Reset original view', 'home', 'home'), ('Back', 'Back to previous …"
      ]
     },
     "metadata": {},
     "output_type": "display_data"
    },
    {
     "name": "stdout",
     "output_type": "stream",
     "text": [
      "low valid idx = 2, low valid Q = 0.007, high valid idx = 124 , high valid Q = 0.370\n",
      "low valid idx = 109, low valid Q = 0.295, high valid idx = 578 , high valid Q = 2.640\n",
      "1943_B1.h5 Task Finished. Figure Number =  5\n",
      "Loading file 1943_B1a.h5\n"
     ]
    },
    {
     "data": {
      "application/vnd.jupyter.widget-view+json": {
       "model_id": "142d55d3069f40cabfba66ad412ab5da",
       "version_major": 2,
       "version_minor": 0
      },
      "text/plain": [
       "Canvas(toolbar=Toolbar(toolitems=[('Home', 'Reset original view', 'home', 'home'), ('Back', 'Back to previous …"
      ]
     },
     "metadata": {},
     "output_type": "display_data"
    },
    {
     "name": "stdout",
     "output_type": "stream",
     "text": [
      "low valid idx = 2, low valid Q = 0.007, high valid idx = 124 , high valid Q = 0.370\n",
      "low valid idx = 109, low valid Q = 0.295, high valid idx = 578 , high valid Q = 2.640\n",
      "1943_B1a.h5 Task Finished. Figure Number =  6\n",
      "Loading file 2016_B8.h5\n"
     ]
    },
    {
     "data": {
      "application/vnd.jupyter.widget-view+json": {
       "model_id": "179ce3523e40428eaa3f779bb41a316f",
       "version_major": 2,
       "version_minor": 0
      },
      "text/plain": [
       "Canvas(toolbar=Toolbar(toolitems=[('Home', 'Reset original view', 'home', 'home'), ('Back', 'Back to previous …"
      ]
     },
     "metadata": {},
     "output_type": "display_data"
    },
    {
     "name": "stdout",
     "output_type": "stream",
     "text": [
      "low valid idx = 2, low valid Q = 0.007, high valid idx = 124 , high valid Q = 0.370\n",
      "low valid idx = 109, low valid Q = 0.295, high valid idx = 578 , high valid Q = 2.640\n",
      "2016_B8.h5 Task Finished. Figure Number =  7\n",
      "Loading file 2016_B8a.h5\n"
     ]
    },
    {
     "data": {
      "application/vnd.jupyter.widget-view+json": {
       "model_id": "5f01902dc45d4e50acacd0eb0803f843",
       "version_major": 2,
       "version_minor": 0
      },
      "text/plain": [
       "Canvas(toolbar=Toolbar(toolitems=[('Home', 'Reset original view', 'home', 'home'), ('Back', 'Back to previous …"
      ]
     },
     "metadata": {},
     "output_type": "display_data"
    },
    {
     "name": "stdout",
     "output_type": "stream",
     "text": [
      "low valid idx = 2, low valid Q = 0.007, high valid idx = 124 , high valid Q = 0.370\n",
      "low valid idx = 109, low valid Q = 0.295, high valid idx = 578 , high valid Q = 2.640\n",
      "2016_B8a.h5 Task Finished. Figure Number =  8\n",
      "Loading file 2016_B8b.h5\n"
     ]
    },
    {
     "data": {
      "application/vnd.jupyter.widget-view+json": {
       "model_id": "733d129410d74215b2132c7e612679c9",
       "version_major": 2,
       "version_minor": 0
      },
      "text/plain": [
       "Canvas(toolbar=Toolbar(toolitems=[('Home', 'Reset original view', 'home', 'home'), ('Back', 'Back to previous …"
      ]
     },
     "metadata": {},
     "output_type": "display_data"
    },
    {
     "name": "stdout",
     "output_type": "stream",
     "text": [
      "low valid idx = 2, low valid Q = 0.007, high valid idx = 124 , high valid Q = 0.370\n",
      "low valid idx = 109, low valid Q = 0.295, high valid idx = 578 , high valid Q = 2.640\n",
      "2016_B8b.h5 Task Finished. Figure Number =  9\n",
      "Loading file 2016_B8c.h5\n"
     ]
    },
    {
     "data": {
      "application/vnd.jupyter.widget-view+json": {
       "model_id": "3b4a6d2d45f341eb825da4a7880582b2",
       "version_major": 2,
       "version_minor": 0
      },
      "text/plain": [
       "Canvas(toolbar=Toolbar(toolitems=[('Home', 'Reset original view', 'home', 'home'), ('Back', 'Back to previous …"
      ]
     },
     "metadata": {},
     "output_type": "display_data"
    },
    {
     "name": "stdout",
     "output_type": "stream",
     "text": [
      "low valid idx = 2, low valid Q = 0.007, high valid idx = 124 , high valid Q = 0.370\n",
      "low valid idx = 109, low valid Q = 0.295, high valid idx = 578 , high valid Q = 2.640\n",
      "2016_B8c.h5 Task Finished. Figure Number =  10\n",
      "Loading file 2047_B1.h5\n"
     ]
    },
    {
     "data": {
      "application/vnd.jupyter.widget-view+json": {
       "model_id": "a8541679d4c049bc8c2efa7f63e2298e",
       "version_major": 2,
       "version_minor": 0
      },
      "text/plain": [
       "Canvas(toolbar=Toolbar(toolitems=[('Home', 'Reset original view', 'home', 'home'), ('Back', 'Back to previous …"
      ]
     },
     "metadata": {},
     "output_type": "display_data"
    },
    {
     "name": "stdout",
     "output_type": "stream",
     "text": [
      "low valid idx = 2, low valid Q = 0.007, high valid idx = 124 , high valid Q = 0.370\n",
      "low valid idx = 109, low valid Q = 0.295, high valid idx = 578 , high valid Q = 2.640\n",
      "2047_B1.h5 Task Finished. Figure Number =  11\n",
      "Loading file 2048_B16.h5\n"
     ]
    },
    {
     "data": {
      "application/vnd.jupyter.widget-view+json": {
       "model_id": "fb2c59bd0d03428897db78cff43ae0ad",
       "version_major": 2,
       "version_minor": 0
      },
      "text/plain": [
       "Canvas(toolbar=Toolbar(toolitems=[('Home', 'Reset original view', 'home', 'home'), ('Back', 'Back to previous …"
      ]
     },
     "metadata": {},
     "output_type": "display_data"
    },
    {
     "name": "stdout",
     "output_type": "stream",
     "text": [
      "low valid idx = 2, low valid Q = 0.007, high valid idx = 124 , high valid Q = 0.370\n",
      "low valid idx = 109, low valid Q = 0.295, high valid idx = 578 , high valid Q = 2.640\n",
      "2048_B16.h5 Task Finished. Figure Number =  12\n",
      "Loading file 2048_B16a.h5\n"
     ]
    },
    {
     "data": {
      "application/vnd.jupyter.widget-view+json": {
       "model_id": "e96369b1575a4918b3bef78189cc4f77",
       "version_major": 2,
       "version_minor": 0
      },
      "text/plain": [
       "Canvas(toolbar=Toolbar(toolitems=[('Home', 'Reset original view', 'home', 'home'), ('Back', 'Back to previous …"
      ]
     },
     "metadata": {},
     "output_type": "display_data"
    },
    {
     "name": "stdout",
     "output_type": "stream",
     "text": [
      "low valid idx = 2, low valid Q = 0.007, high valid idx = 124 , high valid Q = 0.370\n",
      "low valid idx = 109, low valid Q = 0.295, high valid idx = 578 , high valid Q = 2.640\n",
      "2048_B16a.h5 Task Finished. Figure Number =  13\n",
      "Loading file 2048_B16b.h5\n"
     ]
    },
    {
     "data": {
      "application/vnd.jupyter.widget-view+json": {
       "model_id": "a00e011f962d40ceaaabfdc1260bc5d4",
       "version_major": 2,
       "version_minor": 0
      },
      "text/plain": [
       "Canvas(toolbar=Toolbar(toolitems=[('Home', 'Reset original view', 'home', 'home'), ('Back', 'Back to previous …"
      ]
     },
     "metadata": {},
     "output_type": "display_data"
    },
    {
     "name": "stdout",
     "output_type": "stream",
     "text": [
      "low valid idx = 2, low valid Q = 0.007, high valid idx = 124 , high valid Q = 0.370\n",
      "low valid idx = 109, low valid Q = 0.295, high valid idx = 578 , high valid Q = 2.640\n",
      "2048_B16b.h5 Task Finished. Figure Number =  14\n",
      "Loading file 2048_B6.h5\n"
     ]
    },
    {
     "data": {
      "application/vnd.jupyter.widget-view+json": {
       "model_id": "8267d7d48bc64878a5eac0a36b9f2423",
       "version_major": 2,
       "version_minor": 0
      },
      "text/plain": [
       "Canvas(toolbar=Toolbar(toolitems=[('Home', 'Reset original view', 'home', 'home'), ('Back', 'Back to previous …"
      ]
     },
     "metadata": {},
     "output_type": "display_data"
    },
    {
     "name": "stdout",
     "output_type": "stream",
     "text": [
      "low valid idx = 2, low valid Q = 0.007, high valid idx = 124 , high valid Q = 0.370\n",
      "low valid idx = 109, low valid Q = 0.295, high valid idx = 578 , high valid Q = 2.640\n",
      "2048_B6.h5 Task Finished. Figure Number =  15\n",
      "Loading file 2048_B8.h5\n"
     ]
    },
    {
     "data": {
      "application/vnd.jupyter.widget-view+json": {
       "model_id": "04912f58533a44a491f9fa1e0431835c",
       "version_major": 2,
       "version_minor": 0
      },
      "text/plain": [
       "Canvas(toolbar=Toolbar(toolitems=[('Home', 'Reset original view', 'home', 'home'), ('Back', 'Back to previous …"
      ]
     },
     "metadata": {},
     "output_type": "display_data"
    },
    {
     "name": "stdout",
     "output_type": "stream",
     "text": [
      "low valid idx = 2, low valid Q = 0.007, high valid idx = 124 , high valid Q = 0.370\n",
      "low valid idx = 109, low valid Q = 0.295, high valid idx = 578 , high valid Q = 2.640\n",
      "2048_B8.h5 Task Finished. Figure Number =  16\n",
      "Loading file 2048_B8_masked.h5\n"
     ]
    },
    {
     "data": {
      "application/vnd.jupyter.widget-view+json": {
       "model_id": "ff9dfc71f89e4764a1700d2bd1e0dc86",
       "version_major": 2,
       "version_minor": 0
      },
      "text/plain": [
       "Canvas(toolbar=Toolbar(toolitems=[('Home', 'Reset original view', 'home', 'home'), ('Back', 'Back to previous …"
      ]
     },
     "metadata": {},
     "output_type": "display_data"
    },
    {
     "name": "stdout",
     "output_type": "stream",
     "text": [
      "low valid idx = 2, low valid Q = 0.007, high valid idx = 124 , high valid Q = 0.370\n",
      "low valid idx = 109, low valid Q = 0.295, high valid idx = 578 , high valid Q = 2.640\n",
      "2048_B8_masked.h5 Task Finished. Figure Number =  17\n",
      "Loading file exp.h5\n"
     ]
    },
    {
     "data": {
      "application/vnd.jupyter.widget-view+json": {
       "model_id": "bc43dd9796d24b8d8f32663a1c060096",
       "version_major": 2,
       "version_minor": 0
      },
      "text/plain": [
       "Canvas(toolbar=Toolbar(toolitems=[('Home', 'Reset original view', 'home', 'home'), ('Back', 'Back to previous …"
      ]
     },
     "metadata": {},
     "output_type": "display_data"
    },
    {
     "name": "stdout",
     "output_type": "stream",
     "text": [
      "Loading file mica.h5\n"
     ]
    },
    {
     "data": {
      "application/vnd.jupyter.widget-view+json": {
       "model_id": "3665d35e003d4d7fad813d212df82e86",
       "version_major": 2,
       "version_minor": 0
      },
      "text/plain": [
       "Canvas(toolbar=Toolbar(toolitems=[('Home', 'Reset original view', 'home', 'home'), ('Back', 'Back to previous …"
      ]
     },
     "metadata": {},
     "output_type": "display_data"
    },
    {
     "name": "stdout",
     "output_type": "stream",
     "text": [
      "low valid idx = 2, low valid Q = 0.007, high valid idx = 124 , high valid Q = 0.370\n",
      "low valid idx = 109, low valid Q = 0.295, high valid idx = 578 , high valid Q = 2.640\n",
      "mica.h5 Task Finished. Figure Number =  19\n",
      "Loading file std.h5\n"
     ]
    },
    {
     "data": {
      "application/vnd.jupyter.widget-view+json": {
       "model_id": "8f4c863a9d1246b7910bff76de87cffb",
       "version_major": 2,
       "version_minor": 0
      },
      "text/plain": [
       "Canvas(toolbar=Toolbar(toolitems=[('Home', 'Reset original view', 'home', 'home'), ('Back', 'Back to previous …"
      ]
     },
     "metadata": {},
     "output_type": "display_data"
    },
    {
     "name": "stdout",
     "output_type": "stream",
     "text": [
      "PDF creation Finished\n"
     ]
    }
   ],
   "source": [
    "# pdf generation package all files in the cwd\n",
    "\n",
    "%matplotlib widget\n",
    "import pylab as plt\n",
    "import matplotlib.backends.backend_pdf                        \n",
    "import h5py\n",
    "import numpy as np\n",
    "\n",
    "\n",
    "### heat plots for all files in a folder\n",
    "pdf = matplotlib.backends.backend_pdf.PdfPages('output.pdf')\n",
    "scatterings = ('_SAXS', '_WAXS2')\n",
    "plot_all_heat_maps_cwd(pdf, qgrid2, scatterings)"
   ]
  },
  {
   "cell_type": "code",
   "execution_count": 10,
   "id": "sustainable-groove",
   "metadata": {},
   "outputs": [],
   "source": [
    "# import pylab as plt\n",
    "# from matplotlib.widgets import Cursor\n",
    "# import numpy as np\n",
    "# x,  y  = np.random.randn(2,10)\n",
    "# print(x.shape, y.shape)\n",
    "# f, axs = plt.subplots(1,2)\n",
    "# axs[0].plot(x,y,'o')\n",
    "# axs[1].plot(x,y,'o')\n",
    "\n",
    "# cursor = Cursor(axs[0],\n",
    "#                 horizOn = True,\n",
    "#                 vertOn = True,\n",
    "#                 color= 'green',\n",
    "#                 linewidth = 1\n",
    "#                )\n",
    "# pos = []\n",
    "# def onclick(event):\n",
    "#     x1, y1 = event.xdata, event.ydata\n",
    "#     pos.append((x1,y1))\n",
    "#     print(x1,y1)\n",
    "\n",
    "# f.canvas.mpl_connect('button_press_event',  onclick)\n",
    "#print(pos)\n",
    "\n",
    "# def hover(event):\n",
    "#     if event.inaxes != ax:\n",
    "#         return\n",
    "#     info = 'x={:.2f}, y={:.2f}'.format(event.xdata, event.ydata)\n",
    "#     ax.format_coord = lambda x, y: info\n",
    "# cid = ax.figure.canvas.mpl_connect(\"motion_notify_event\", hover)\n",
    "\n",
    "# ratio = Height/Width\n",
    "# xleft, xright = ax.get_xlim()\n",
    "# ybottom, ytop = ax.get_ylim()\n",
    "# abs((xright-xleft)/(ybottom-ytop))*ratio\n",
    "# 1/ax.get_data_ratio()"
   ]
  },
  {
   "cell_type": "code",
   "execution_count": 11,
   "id": "simple-internet",
   "metadata": {},
   "outputs": [
    {
     "data": {
      "application/vnd.jupyter.widget-view+json": {
       "model_id": "235568e0d11641dc9c85547e9e2dea23",
       "version_major": 2,
       "version_minor": 0
      },
      "text/plain": [
       "Canvas(toolbar=Toolbar(toolitems=[('Home', 'Reset original view', 'home', 'home'), ('Back', 'Back to previous …"
      ]
     },
     "metadata": {},
     "output_type": "display_data"
    },
    {
     "name": "stdout",
     "output_type": "stream",
     "text": [
      "Diff_patt_idx_before snaking: \n",
      " [[ 0  1  2  3  4  5]\n",
      " [ 6  7  8  9 10 11]\n",
      " [12 13 14 15 16 17]] \n",
      "\n",
      " Diff_patt_before snaking: \n",
      " [[13 14  7  3  3  4]\n",
      " [18  5 11 19 12  9]\n",
      " [ 6 12  4  6 17 10]] \n",
      "\n",
      " X,Y coordinates_after_snaking: \n",
      " [[12 13 14 15 16 17]\n",
      " [11 10  9  8  7  6]\n",
      " [ 0  1  2  3  4  5]] \n",
      "\n",
      " Diff_patt_after snaking: \n",
      " [[ 6 12  4  6 17 10]\n",
      " [ 9 12 19 11  5 18]\n",
      " [13 14  7  3  3  4]] \n",
      "\n",
      "\n"
     ]
    }
   ],
   "source": [
    "%matplotlib widget\n",
    "import matplotlib.pyplot as plt\n",
    "import numpy as np\n",
    "# Fixing random state for reproducibility\n",
    "np.random.seed(19680801)\n",
    "\n",
    "Height = 3\n",
    "Width = 6\n",
    "X = np.random.randint(1, 20, size=(Height, Width))\n",
    "\n",
    "fig, ax = plt.subplots()\n",
    "ax.imshow(X, interpolation = 'none', origin='upper', extent=[0,Width,0,Height],aspect='equal')\n",
    "\n",
    "def snaking( Width, Height, X=None,):\n",
    "    if X is None:\n",
    "        X_coor = np.arange(Height*Width).reshape(Height,Width)\n",
    "    else:\n",
    "        X_coor = X\n",
    "    output = np.zeros_like(X_coor)           # \n",
    "    temp = np.flipud(X_coor)                # flipud matrix\n",
    "    idx_odd = np.arange(1,Height,2)                # Get odd indices to fliplr\n",
    "    output[idx_odd,:]  = np.fliplr(temp[idx_odd])   # flipping odd indices\n",
    "    idx_even = np.arange(0,Height,2)               # Get odd indices to leave to as it is\n",
    "    output[idx_even,:] = temp[idx_even]             # leaving as it is\n",
    "    return output\n",
    "\n",
    "frame_cor = snaking(Width, Height)\n",
    "diff_patterns = snaking(Width, Height, X)\n",
    "\n",
    "print('Diff_patt_idx_before snaking: \\n', np.arange(Height*Width).reshape(Height,Width), '\\n\\n',\n",
    "      'Diff_patt_before snaking: \\n', X, '\\n\\n', \n",
    "      'X,Y coordinates_after_snaking: \\n', frame_cor, '\\n\\n',\n",
    "      'Diff_patt_after snaking: \\n', diff_patterns, '\\n\\n',)\n",
    "\n",
    "numrows, numcols = X.shape\n",
    "def format_coord(x, y):\n",
    "    col = int(x)\n",
    "    row = int(y)\n",
    "    if 0 <= col < numcols and 0 <= row < numrows:\n",
    "        z = np.flipud(frame_cor)[row, col]\n",
    "        return 'x=%1.4f, y=%1.4f, FRAME=%d' % (x, y, z)\n",
    "    else:\n",
    "        return 'x=%1.4f, y=%1.4f' % (x, y)\n",
    "\n",
    "ax.format_coord = format_coord\n",
    "\n",
    "plt.show()"
   ]
  },
  {
   "cell_type": "code",
   "execution_count": null,
   "id": "alleged-alias",
   "metadata": {},
   "outputs": [],
   "source": []
  }
 ],
 "metadata": {
  "kernelspec": {
   "display_name": "Python 3",
   "language": "python",
   "name": "python3"
  },
  "language_info": {
   "codemirror_mode": {
    "name": "ipython",
    "version": 3
   },
   "file_extension": ".py",
   "mimetype": "text/x-python",
   "name": "python",
   "nbconvert_exporter": "python",
   "pygments_lexer": "ipython3",
   "version": "3.8.6"
  }
 },
 "nbformat": 4,
 "nbformat_minor": 5
}
