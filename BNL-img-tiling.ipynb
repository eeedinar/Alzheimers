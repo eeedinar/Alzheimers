{
 "cells": [
  {
   "cell_type": "code",
   "execution_count": 3,
   "id": "greater-storage",
   "metadata": {},
   "outputs": [],
   "source": [
    "# load necessary files\n",
    "import numpy as np\n",
    "import os\n",
    "from PIL import Image, ImageOps    # to read the image only\n",
    "from pylab import plt\n",
    "import pandas as pd\n",
    "\n",
    "#Specs\n",
    "IMAGE_WIDTH  = 1280       # shape[1] represents width.\n",
    "IMAGE_HEIGHT = 1024       # shape[0] represents height \n",
    "REMOVE_N_ROWS  = -240     # -240/None how many last rows in every image to remove  or USE   None for no removal\n",
    "REMOVE_N_COLUMNS = -480   # -480/None how many last columns in every image to remove or USE None for no removal\n",
    "IMG_EXT = '.png'          # image extensions in the directory\n",
    "FOLDER_ABS_PATH = '/Users/bashit.a/Documents/Alzheimer/Dec-15/cam_test'   # images directory location"
   ]
  },
  {
   "cell_type": "code",
   "execution_count": 5,
   "id": "colonial-group",
   "metadata": {},
   "outputs": [
    {
     "name": "stdout",
     "output_type": "stream",
     "text": [
      "s2-1.0mm, x = [-7,7], y = [-3,3]\n"
     ]
    },
    {
     "data": {
      "application/vnd.jupyter.widget-view+json": {
       "model_id": "0af98f6b4c704e14b2748a6a11ad3b48",
       "version_major": 2,
       "version_minor": 0
      },
      "text/plain": [
       "Canvas(toolbar=Toolbar(toolitems=[('Home', 'Reset original view', 'home', 'home'), ('Back', 'Back to previous …"
      ]
     },
     "metadata": {},
     "output_type": "display_data"
    }
   ],
   "source": [
    "%matplotlib widget\n",
    "\n",
    "def tile_images(IMAGE_WIDTH, IMAGE_HEIGHT, FOLDER_ABS_PATH, REMOVE_N_ROWS=None, REMOVE_N_COLUMNS=None, IMG_EXT='png', show_grid=False, return_tiled_files=False):\n",
    "\n",
    "    rootDir = os.getcwd()     # get current directory\n",
    "    try:\n",
    "        f = lambda x, Estep : [int(var[var.find(x)+2 : var.find(x)+4]) for var in Estep] # +2 (add +2(for -,x = 2 indices) index after finding -x ): +4 (x can have maximum 2 digits)\n",
    "\n",
    "        # change python running directory to the FOLDER_ABS_PATH\n",
    "        os.chdir(FOLDER_ABS_PATH)\n",
    "\n",
    "        Timages = sorted([each for each in os.listdir(os.getcwd()) if each.endswith(IMG_EXT)])     # get all files in the current dirctory \"endswith\"\n",
    "        Nfiles = np.unique([f[:f.find('-x')] for f in Timages])         # get number of steps/files in the current directory f.find('-x') --> first occurance of '-x' = steps1.2\n",
    "\n",
    "        Estep = {} ; Files2D = {}; img = {}; img_tile = {}; minmax = {} # declare data holder dictionary\n",
    "\n",
    "        for idx, Nstep in enumerate(Nfiles):                       \n",
    "            Estep[idx] = sorted([each for each in os.listdir(os.getcwd()) if each.startswith(Nstep)])      # get all files in the current dirctory \"startswith\"\n",
    "\n",
    "            # find minimum and maximum digits after x and y in each file\n",
    "            xMin, xMax = min(f('-x', Estep[idx])), max(f('-x', Estep[idx]))   \n",
    "            yMin, yMax = min(f('-y', Estep[idx])), max(f('-y', Estep[idx]))   \n",
    "            print(f'{Nstep}, x = [{xMin},{xMax}], y = [{yMin},{yMax}]')\n",
    "\n",
    "            Files2D[Nstep] = np.zeros((yMax-yMin+1, xMax-xMin+1), dtype=object)     # creating zero matrix for plotting with object data type\n",
    "            img[Nstep] = np.zeros_like(Files2D[Nstep], dtype=object)                # same as Files2D[Nstep] shape\n",
    "\n",
    "            for file, x, y in zip(Estep[idx], f('-x', Estep[idx]), f('-y', Estep[idx])):\n",
    "                img_temp =  np.array(ImageOps.grayscale(Image.open(file)))          # read images as grayscale using PIL     \n",
    "\n",
    "                xIdx, yIdx = x+abs(xMin), y+abs(yMin)      # indices to write values on the grid - abs value is used to make sure indices don't go negetive\n",
    "                if x==xMax and y==yMin:\n",
    "                    img[Nstep][yIdx][xIdx] = img_temp[:,:]                                 # right bottom condition\n",
    "                elif x==xMax:\n",
    "                    img[Nstep][yIdx][xIdx] = img_temp[:REMOVE_N_ROWS,:]                    # bottom row condition except right bottom\n",
    "                elif y==yMin:\n",
    "                    img[Nstep][yIdx][xIdx] = img_temp[:,:REMOVE_N_COLUMNS]                 # right column condition except right bottom     \n",
    "                else:\n",
    "                    img[Nstep][yIdx][xIdx] = img_temp[:REMOVE_N_ROWS,:REMOVE_N_COLUMNS]    # crop each image except the above conditions\n",
    "\n",
    "                Files2D[Nstep][yIdx][xIdx] = file + str(img[Nstep][y+abs(yMin)][x+abs(xMin)].shape)           # Check how grid is formed by file name and shape\n",
    "\n",
    "            Files2D[Nstep]  = np.flipud(Files2D[Nstep]);          # (0,0) is at the bottom left - File Name Matrix\n",
    "            img[Nstep]      = np.flipud(img[Nstep])               # (0,0) is at the bottom left - Image Matrix (object type)\n",
    "            img_tile[Nstep] = np.vstack([np.hstack(list_h) for list_h in img[Nstep]])         # return final image \n",
    "\n",
    "        for idx, Nstep in enumerate(Nfiles):           # without seperate loop plotting fails\n",
    "            f, ax = plt.subplots(num=Nstep)            # figsize = (10,5)\n",
    "            ax.imshow(img_tile[Nstep], origin='upper', extent=[0,len(img_tile[Nstep][0,:]),0,len(img_tile[Nstep][:,0])], aspect='equal')   # [0, max(columns), 0, max(rows)]\n",
    "\n",
    "            CROPPED_WIDTH, CROPPED_HEIGHT = IMAGE_WIDTH+int(REMOVE_N_COLUMNS or 0), IMAGE_HEIGHT+int(REMOVE_N_ROWS or 0)   # get the size of cropped image width and height int(value or 0) requires when value is None    \n",
    "            xticks      = np.hstack([np.arange(0, (xMax - xMin +1)*CROPPED_WIDTH, CROPPED_WIDTH)])\n",
    "            yticks      = np.hstack([0, np.arange(IMAGE_HEIGHT, len(img_tile[Nstep]), CROPPED_HEIGHT)])\n",
    "\n",
    "            ax.set(xticks = xticks, xticklabels = np.asarray(xticks/CROPPED_WIDTH , dtype=int) + xMin,\n",
    "                   yticks = yticks, yticklabels = np.asarray(yticks/CROPPED_HEIGHT, dtype=int) + yMin,\n",
    "                   xlabel = 'x -->' , ylabel = 'y -->', title = Nstep);                                 # set xtick and ytick labels\n",
    "\n",
    "            ax.format_coord = lambda x,y: \"(X={0:02d} \".format(np.clip(int(x/CROPPED_WIDTH) + xMin, None, xMax)) + \\\n",
    "                        (\"Y={0:02d})\".format(np.asarray((y-IMAGE_HEIGHT)/CROPPED_HEIGHT, dtype=int) + yMin +1) if y >= IMAGE_HEIGHT else \"Y={0:02d})\".format(yMin))\n",
    "        plt.tight_layout()\n",
    "        ax.grid(color='r', linestyle='-', linewidth=0.4)\n",
    "        ax.grid(show_grid)\n",
    "        \n",
    "        os.chdir(rootDir)      # all operations are done get back to the root directory\n",
    "        \n",
    "        pd.set_option('display.max_columns',None)\n",
    "        return pd.DataFrame(Files2D[Nstep]) if return_tiled_files==True else None\n",
    "    except:\n",
    "        os.chdir(rootDir)      # if fails to execute the desired operation get back to the root dirctory\n",
    "        \n",
    "tile_images(IMAGE_WIDTH, IMAGE_HEIGHT, FOLDER_ABS_PATH, REMOVE_N_ROWS, REMOVE_N_COLUMNS, IMG_EXT='png', show_grid=True, return_tiled_files=False)"
   ]
  },
  {
   "cell_type": "code",
   "execution_count": null,
   "id": "controversial-newspaper",
   "metadata": {},
   "outputs": [],
   "source": []
  }
 ],
 "metadata": {
  "kernelspec": {
   "display_name": "Python 3",
   "language": "python",
   "name": "python3"
  },
  "language_info": {
   "codemirror_mode": {
    "name": "ipython",
    "version": 3
   },
   "file_extension": ".py",
   "mimetype": "text/x-python",
   "name": "python",
   "nbconvert_exporter": "python",
   "pygments_lexer": "ipython3",
   "version": "3.8.6"
  }
 },
 "nbformat": 4,
 "nbformat_minor": 5
}
