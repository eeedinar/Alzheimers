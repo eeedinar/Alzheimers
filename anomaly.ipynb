{
 "cells": [
  {
   "cell_type": "code",
   "execution_count": 17,
   "id": "vertical-killer",
   "metadata": {},
   "outputs": [],
   "source": [
    "#### load packages, *.h5 folder and exp.h5 file location\n",
    "%matplotlib widget"
   ]
  },
  {
   "cell_type": "code",
   "execution_count": 18,
   "id": "north-bride",
   "metadata": {},
   "outputs": [
    {
     "name": "stdout",
     "output_type": "stream",
     "text": [
      "Python directory is set to load samples from : Mar-2023-Sample#1898\n"
     ]
    }
   ],
   "source": [
    "from essential_func import *\n",
    "import matplotlib.pyplot as plt\n",
    "import numpy as np\n",
    "import pandas as pd\n",
    "import tensorflow as tf\n",
    "\n",
    "from sklearn.metrics import accuracy_score, precision_score, recall_score\n",
    "from sklearn.model_selection import train_test_split\n",
    "from tensorflow.keras import layers, losses\n",
    "from tensorflow.keras.datasets import fashion_mnist\n",
    "from tensorflow.keras.models import Model\n",
    "\n",
    "\n",
    "\n",
    "qgrid2 = np.hstack([np.arange(0.005, 0.0499, 0.001), np.arange(0.05, 0.099, 0.002), np.arange(0.1, 3.2, 0.005)])\n",
    "\n",
    "samples_csv                = 'data_directory.csv'\n",
    "default_sample_dir         = 'Mar-2023-Sample#1898'       # 'July-2021-Sample#6'    '21-Nov'   'July-sorted'   '20-Dec'    '22-Oct'   'Oct-2022-1971'   'Mar-2023-Sample#1898'\n",
    "csv_and_code_abs_directory = '/Users/bashit.a/Documents/Alzheimer/Codes/'\n",
    "\n",
    "dropdown_name, dropdown_name_list, cwd, exp_folder = change_python_path(dropdown_name = default_sample_dir, csv_file_location = csv_and_code_abs_directory, samples_csv = samples_csv)"
   ]
  },
  {
   "cell_type": "code",
   "execution_count": 19,
   "id": "standing-calgary",
   "metadata": {},
   "outputs": [],
   "source": [
    "%matplotlib widget\n",
    "heatmap_labels_file = \"/Users/bashit.a/Documents/Alzheimer/heatmap_labels.csv\"\n",
    "\n",
    "annotation = [['1898_CING-roi0_0_0_masked_intp.h5', [np.arange(0,16), np.arange(225,246), np.arange(246,273), np.arange(381,409), np.arange(492, 502), np.arange(655,686), np.arange(656, 668), np.arange(681, 695), np.arange(738, 751), np.arange(820, 835), np.arange(1191, 1205), np.arange(1341, 1351), np.arange(1421, 1430), np.arange(1524, 1551),], 1],\\\n",
    "             ['1898_EC-roi0_0_0_masked_intp.h5', [np.arange(14, 43), np.arange(2388, 2419), np.arange(3295, 3323),], 1], \\\n",
    "             ['1898_EC-roi0_0_0_masked_intp.h5', [np.array([2868, 2870, 2744, 2745, 2129, 1960, 2185, 2158, 3181, 3180,])], 0,] \\\n",
    "             ]\n",
    "\n",
    "df         = pd.DataFrame([], columns=['file', 'frame', 'merged', 'label'])\n",
    "df.to_csv(heatmap_labels_file, index=False)\n",
    "\n",
    "\n",
    "data    = pd.DataFrame([], columns = np.arange(0,len(qgrid2)))\n",
    "labels  = np.array([])"
   ]
  },
  {
   "cell_type": "code",
   "execution_count": 20,
   "id": "elect-seven",
   "metadata": {},
   "outputs": [],
   "source": [
    "%matplotlib widget\n",
    "\n",
    "idx = 0\n",
    "for item in annotation:\n",
    "    file    = item[0]\n",
    "    frames  = [j for i in item[1] for j in i]\n",
    "    label   = item[2]\n",
    "    directory = cwd\n",
    "    Iq = read_Iq(file, scattering=\"merged\", directory=directory)\n",
    "    for fr  in frames:\n",
    "        df.at[idx, 'file'] = file\n",
    "        df.at[idx, 'frame'] = fr\n",
    "        df.at[idx, 'merged'] = Iq[fr]\n",
    "        df.at[idx, 'label']  = label\n",
    "        \n",
    "        data.at[idx,:]    = Iq[fr]\n",
    "        labels = np.append(labels, label)\n",
    "        idx = idx+1"
   ]
  },
  {
   "cell_type": "code",
   "execution_count": 21,
   "id": "wound-subject",
   "metadata": {
    "tags": []
   },
   "outputs": [],
   "source": [
    "idx_l , idx_u = qgrid_to_indices(qgrid2, 0.6) , qgrid_to_indices(qgrid2, 2)\n",
    "\n",
    "n_points = len(np.arange(idx_l , idx_u))\n",
    "\n",
    "data = data.values[:,idx_l:idx_u]\n",
    "data = data.astype(np.float64)"
   ]
  },
  {
   "cell_type": "code",
   "execution_count": 22,
   "id": "demographic-setup",
   "metadata": {},
   "outputs": [],
   "source": [
    "train_data, test_data, train_labels, test_labels = train_test_split(\n",
    "    data, labels, test_size=0.2, random_state=21\n",
    ")"
   ]
  },
  {
   "cell_type": "code",
   "execution_count": 23,
   "id": "failing-certificate",
   "metadata": {},
   "outputs": [],
   "source": [
    "min_val = tf.reduce_min(train_data)\n",
    "max_val = tf.reduce_max(train_data)\n",
    "\n",
    "train_data = (train_data - min_val) / (max_val - min_val)\n",
    "test_data = (test_data - min_val) / (max_val - min_val)\n",
    "\n",
    "train_data = tf.cast(train_data, tf.float32)\n",
    "test_data = tf.cast(test_data, tf.float32)"
   ]
  },
  {
   "cell_type": "code",
   "execution_count": 24,
   "id": "collectible-physiology",
   "metadata": {},
   "outputs": [],
   "source": [
    "train_labels = train_labels.astype(bool)  \n",
    "test_labels = test_labels.astype(bool)\n",
    "\n",
    "normal_train_data = train_data[train_labels]\n",
    "normal_test_data = test_data[test_labels]\n",
    "\n",
    "anomalous_train_data = train_data[~train_labels]\n",
    "anomalous_test_data = test_data[~test_labels]"
   ]
  },
  {
   "cell_type": "code",
   "execution_count": 25,
   "id": "acting-dispatch",
   "metadata": {
    "tags": []
   },
   "outputs": [
    {
     "data": {
      "application/vnd.jupyter.widget-view+json": {
       "model_id": "47d4bdb420a04777a60b7e55afadc154",
       "version_major": 2,
       "version_minor": 0
      },
      "text/plain": [
       "Canvas(toolbar=Toolbar(toolitems=[('Home', 'Reset original view', 'home', 'home'), ('Back', 'Back to previous …"
      ]
     },
     "metadata": {},
     "output_type": "display_data"
    }
   ],
   "source": [
    "plt.figure()\n",
    "plt.grid()\n",
    "plt.plot(qgrid2[idx_l:idx_u], normal_train_data[0])\n",
    "plt.title(\"A Normal Tissue\")\n",
    "plt.show()"
   ]
  },
  {
   "cell_type": "code",
   "execution_count": 26,
   "id": "august-founder",
   "metadata": {
    "tags": []
   },
   "outputs": [
    {
     "data": {
      "application/vnd.jupyter.widget-view+json": {
       "model_id": "4a479de30ebc4dd1b0e8f97f8f2ea42d",
       "version_major": 2,
       "version_minor": 0
      },
      "text/plain": [
       "Canvas(toolbar=Toolbar(toolitems=[('Home', 'Reset original view', 'home', 'home'), ('Back', 'Back to previous …"
      ]
     },
     "metadata": {},
     "output_type": "display_data"
    }
   ],
   "source": [
    "plt.figure()\n",
    "plt.grid()\n",
    "plt.plot(qgrid2[idx_l:idx_u], anomalous_train_data[0])\n",
    "plt.title(\"An Anomalous Tissue\")\n",
    "plt.show()"
   ]
  },
  {
   "cell_type": "code",
   "execution_count": 27,
   "id": "charitable-hearing",
   "metadata": {},
   "outputs": [],
   "source": [
    "class AnomalyDetector(Model):\n",
    "    def __init__(self):\n",
    "        super(AnomalyDetector, self).__init__()\n",
    "        self.encoder = tf.keras.Sequential([\n",
    "            layers.Dense(32, activation=\"relu\"),\n",
    "            layers.Dense(16, activation=\"relu\"),\n",
    "            layers.Dense(8, activation=\"relu\")])\n",
    "\n",
    "        self.decoder = tf.keras.Sequential([\n",
    "            layers.Dense(16, activation=\"relu\"),\n",
    "            layers.Dense(32, activation=\"relu\"),\n",
    "            layers.Dense(n_points, activation=\"sigmoid\")])\n",
    "    \n",
    "    def call(self, x):\n",
    "        encoded = self.encoder(x)\n",
    "        decoded = self.decoder(encoded)\n",
    "        return decoded\n",
    "\n",
    "autoencoder = AnomalyDetector()"
   ]
  },
  {
   "cell_type": "code",
   "execution_count": 28,
   "id": "million-executive",
   "metadata": {},
   "outputs": [],
   "source": [
    "autoencoder.compile(optimizer='adam', loss='mae')"
   ]
  },
  {
   "cell_type": "code",
   "execution_count": 29,
   "id": "fleet-stevens",
   "metadata": {
    "tags": []
   },
   "outputs": [
    {
     "name": "stdout",
     "output_type": "stream",
     "text": [
      "Epoch 1/250\n",
      "1/1 [==============================] - 0s 466ms/step - loss: 0.2753 - val_loss: 0.2796\n",
      "Epoch 2/250\n",
      "1/1 [==============================] - 0s 20ms/step - loss: 0.2747 - val_loss: 0.2792\n",
      "Epoch 3/250\n",
      "1/1 [==============================] - 0s 19ms/step - loss: 0.2744 - val_loss: 0.2790\n",
      "Epoch 4/250\n",
      "1/1 [==============================] - 0s 19ms/step - loss: 0.2741 - val_loss: 0.2787\n",
      "Epoch 5/250\n",
      "1/1 [==============================] - 0s 22ms/step - loss: 0.2738 - val_loss: 0.2784\n",
      "Epoch 6/250\n",
      "1/1 [==============================] - 0s 19ms/step - loss: 0.2736 - val_loss: 0.2782\n",
      "Epoch 7/250\n",
      "1/1 [==============================] - 0s 17ms/step - loss: 0.2733 - val_loss: 0.2778\n",
      "Epoch 8/250\n",
      "1/1 [==============================] - 0s 19ms/step - loss: 0.2730 - val_loss: 0.2775\n",
      "Epoch 9/250\n",
      "1/1 [==============================] - 0s 18ms/step - loss: 0.2726 - val_loss: 0.2770\n",
      "Epoch 10/250\n",
      "1/1 [==============================] - 0s 20ms/step - loss: 0.2721 - val_loss: 0.2764\n",
      "Epoch 11/250\n",
      "1/1 [==============================] - 0s 21ms/step - loss: 0.2715 - val_loss: 0.2757\n",
      "Epoch 12/250\n",
      "1/1 [==============================] - 0s 18ms/step - loss: 0.2708 - val_loss: 0.2749\n",
      "Epoch 13/250\n",
      "1/1 [==============================] - 0s 17ms/step - loss: 0.2700 - val_loss: 0.2740\n",
      "Epoch 14/250\n",
      "1/1 [==============================] - 0s 17ms/step - loss: 0.2691 - val_loss: 0.2730\n",
      "Epoch 15/250\n",
      "1/1 [==============================] - 0s 19ms/step - loss: 0.2681 - val_loss: 0.2719\n",
      "Epoch 16/250\n",
      "1/1 [==============================] - 0s 18ms/step - loss: 0.2669 - val_loss: 0.2706\n",
      "Epoch 17/250\n",
      "1/1 [==============================] - 0s 20ms/step - loss: 0.2656 - val_loss: 0.2692\n",
      "Epoch 18/250\n",
      "1/1 [==============================] - 0s 23ms/step - loss: 0.2642 - val_loss: 0.2676\n",
      "Epoch 19/250\n",
      "1/1 [==============================] - 0s 17ms/step - loss: 0.2626 - val_loss: 0.2658\n",
      "Epoch 20/250\n",
      "1/1 [==============================] - 0s 17ms/step - loss: 0.2608 - val_loss: 0.2637\n",
      "Epoch 21/250\n",
      "1/1 [==============================] - 0s 17ms/step - loss: 0.2587 - val_loss: 0.2614\n",
      "Epoch 22/250\n",
      "1/1 [==============================] - 0s 20ms/step - loss: 0.2563 - val_loss: 0.2589\n",
      "Epoch 23/250\n",
      "1/1 [==============================] - 0s 19ms/step - loss: 0.2538 - val_loss: 0.2560\n",
      "Epoch 24/250\n",
      "1/1 [==============================] - 0s 18ms/step - loss: 0.2509 - val_loss: 0.2529\n",
      "Epoch 25/250\n",
      "1/1 [==============================] - 0s 19ms/step - loss: 0.2478 - val_loss: 0.2494\n",
      "Epoch 26/250\n",
      "1/1 [==============================] - 0s 16ms/step - loss: 0.2443 - val_loss: 0.2455\n",
      "Epoch 27/250\n",
      "1/1 [==============================] - 0s 17ms/step - loss: 0.2404 - val_loss: 0.2412\n",
      "Epoch 28/250\n",
      "1/1 [==============================] - 0s 16ms/step - loss: 0.2362 - val_loss: 0.2365\n",
      "Epoch 29/250\n",
      "1/1 [==============================] - 0s 18ms/step - loss: 0.2315 - val_loss: 0.2314\n",
      "Epoch 30/250\n",
      "1/1 [==============================] - 0s 18ms/step - loss: 0.2265 - val_loss: 0.2258\n",
      "Epoch 31/250\n",
      "1/1 [==============================] - 0s 21ms/step - loss: 0.2210 - val_loss: 0.2198\n",
      "Epoch 32/250\n",
      "1/1 [==============================] - 0s 26ms/step - loss: 0.2150 - val_loss: 0.2133\n",
      "Epoch 33/250\n",
      "1/1 [==============================] - 0s 17ms/step - loss: 0.2086 - val_loss: 0.2063\n",
      "Epoch 34/250\n",
      "1/1 [==============================] - 0s 18ms/step - loss: 0.2017 - val_loss: 0.1989\n",
      "Epoch 35/250\n",
      "1/1 [==============================] - 0s 18ms/step - loss: 0.1945 - val_loss: 0.1910\n",
      "Epoch 36/250\n",
      "1/1 [==============================] - 0s 20ms/step - loss: 0.1868 - val_loss: 0.1828\n",
      "Epoch 37/250\n",
      "1/1 [==============================] - 0s 22ms/step - loss: 0.1789 - val_loss: 0.1743\n",
      "Epoch 38/250\n",
      "1/1 [==============================] - 0s 17ms/step - loss: 0.1707 - val_loss: 0.1655\n",
      "Epoch 39/250\n",
      "1/1 [==============================] - 0s 19ms/step - loss: 0.1623 - val_loss: 0.1566\n",
      "Epoch 40/250\n",
      "1/1 [==============================] - 0s 18ms/step - loss: 0.1537 - val_loss: 0.1476\n",
      "Epoch 41/250\n",
      "1/1 [==============================] - 0s 18ms/step - loss: 0.1452 - val_loss: 0.1388\n",
      "Epoch 42/250\n",
      "1/1 [==============================] - 0s 21ms/step - loss: 0.1369 - val_loss: 0.1303\n",
      "Epoch 43/250\n",
      "1/1 [==============================] - 0s 17ms/step - loss: 0.1290 - val_loss: 0.1223\n",
      "Epoch 44/250\n",
      "1/1 [==============================] - 0s 20ms/step - loss: 0.1216 - val_loss: 0.1149\n",
      "Epoch 45/250\n",
      "1/1 [==============================] - 0s 18ms/step - loss: 0.1149 - val_loss: 0.1082\n",
      "Epoch 46/250\n",
      "1/1 [==============================] - 0s 20ms/step - loss: 0.1088 - val_loss: 0.1021\n",
      "Epoch 47/250\n",
      "1/1 [==============================] - 0s 18ms/step - loss: 0.1034 - val_loss: 0.0967\n",
      "Epoch 48/250\n",
      "1/1 [==============================] - 0s 20ms/step - loss: 0.0988 - val_loss: 0.0920\n",
      "Epoch 49/250\n",
      "1/1 [==============================] - 0s 19ms/step - loss: 0.0948 - val_loss: 0.0879\n",
      "Epoch 50/250\n",
      "1/1 [==============================] - 0s 17ms/step - loss: 0.0915 - val_loss: 0.0843\n",
      "Epoch 51/250\n",
      "1/1 [==============================] - 0s 18ms/step - loss: 0.0886 - val_loss: 0.0810\n",
      "Epoch 52/250\n",
      "1/1 [==============================] - 0s 18ms/step - loss: 0.0859 - val_loss: 0.0777\n",
      "Epoch 53/250\n",
      "1/1 [==============================] - 0s 19ms/step - loss: 0.0833 - val_loss: 0.0744\n",
      "Epoch 54/250\n",
      "1/1 [==============================] - 0s 18ms/step - loss: 0.0805 - val_loss: 0.0709\n",
      "Epoch 55/250\n",
      "1/1 [==============================] - 0s 19ms/step - loss: 0.0774 - val_loss: 0.0672\n",
      "Epoch 56/250\n",
      "1/1 [==============================] - 0s 20ms/step - loss: 0.0739 - val_loss: 0.0633\n",
      "Epoch 57/250\n",
      "1/1 [==============================] - 0s 17ms/step - loss: 0.0702 - val_loss: 0.0593\n",
      "Epoch 58/250\n",
      "1/1 [==============================] - 0s 19ms/step - loss: 0.0664 - val_loss: 0.0555\n",
      "Epoch 59/250\n",
      "1/1 [==============================] - 0s 17ms/step - loss: 0.0625 - val_loss: 0.0520\n",
      "Epoch 60/250\n",
      "1/1 [==============================] - 0s 25ms/step - loss: 0.0589 - val_loss: 0.0491\n",
      "Epoch 61/250\n",
      "1/1 [==============================] - 0s 19ms/step - loss: 0.0556 - val_loss: 0.0468\n",
      "Epoch 62/250\n",
      "1/1 [==============================] - 0s 17ms/step - loss: 0.0529 - val_loss: 0.0453\n",
      "Epoch 63/250\n",
      "1/1 [==============================] - 0s 18ms/step - loss: 0.0509 - val_loss: 0.0445\n",
      "Epoch 64/250\n",
      "1/1 [==============================] - 0s 18ms/step - loss: 0.0495 - val_loss: 0.0441\n",
      "Epoch 65/250\n",
      "1/1 [==============================] - 0s 19ms/step - loss: 0.0486 - val_loss: 0.0440\n",
      "Epoch 66/250\n",
      "1/1 [==============================] - 0s 22ms/step - loss: 0.0481 - val_loss: 0.0439\n",
      "Epoch 67/250\n",
      "1/1 [==============================] - 0s 18ms/step - loss: 0.0477 - val_loss: 0.0436\n",
      "Epoch 68/250\n",
      "1/1 [==============================] - 0s 17ms/step - loss: 0.0472 - val_loss: 0.0431\n",
      "Epoch 69/250\n",
      "1/1 [==============================] - 0s 17ms/step - loss: 0.0466 - val_loss: 0.0423\n",
      "Epoch 70/250\n",
      "1/1 [==============================] - 0s 19ms/step - loss: 0.0459 - val_loss: 0.0412\n",
      "Epoch 71/250\n",
      "1/1 [==============================] - 0s 20ms/step - loss: 0.0451 - val_loss: 0.0400\n",
      "Epoch 72/250\n",
      "1/1 [==============================] - 0s 18ms/step - loss: 0.0442 - val_loss: 0.0388\n",
      "Epoch 73/250\n",
      "1/1 [==============================] - 0s 21ms/step - loss: 0.0434 - val_loss: 0.0376\n",
      "Epoch 74/250\n",
      "1/1 [==============================] - 0s 17ms/step - loss: 0.0426 - val_loss: 0.0366\n",
      "Epoch 75/250\n",
      "1/1 [==============================] - 0s 17ms/step - loss: 0.0420 - val_loss: 0.0357\n",
      "Epoch 76/250\n",
      "1/1 [==============================] - 0s 18ms/step - loss: 0.0416 - val_loss: 0.0350\n",
      "Epoch 77/250\n",
      "1/1 [==============================] - 0s 20ms/step - loss: 0.0413 - val_loss: 0.0345\n",
      "Epoch 78/250\n",
      "1/1 [==============================] - 0s 15ms/step - loss: 0.0412 - val_loss: 0.0341\n",
      "Epoch 79/250\n",
      "1/1 [==============================] - 0s 55ms/step - loss: 0.0410 - val_loss: 0.0338\n",
      "Epoch 80/250\n",
      "1/1 [==============================] - 0s 19ms/step - loss: 0.0409 - val_loss: 0.0335\n",
      "Epoch 81/250\n",
      "1/1 [==============================] - 0s 17ms/step - loss: 0.0407 - val_loss: 0.0333\n",
      "Epoch 82/250\n",
      "1/1 [==============================] - 0s 18ms/step - loss: 0.0404 - val_loss: 0.0331\n",
      "Epoch 83/250\n",
      "1/1 [==============================] - 0s 18ms/step - loss: 0.0401 - val_loss: 0.0329\n",
      "Epoch 84/250\n",
      "1/1 [==============================] - 0s 21ms/step - loss: 0.0398 - val_loss: 0.0328\n",
      "Epoch 85/250\n",
      "1/1 [==============================] - 0s 26ms/step - loss: 0.0395 - val_loss: 0.0328\n",
      "Epoch 86/250\n",
      "1/1 [==============================] - 0s 19ms/step - loss: 0.0393 - val_loss: 0.0329\n",
      "Epoch 87/250\n",
      "1/1 [==============================] - 0s 19ms/step - loss: 0.0391 - val_loss: 0.0330\n",
      "Epoch 88/250\n",
      "1/1 [==============================] - 0s 18ms/step - loss: 0.0390 - val_loss: 0.0331\n",
      "Epoch 89/250\n",
      "1/1 [==============================] - 0s 18ms/step - loss: 0.0389 - val_loss: 0.0331\n",
      "Epoch 90/250\n",
      "1/1 [==============================] - 0s 20ms/step - loss: 0.0389 - val_loss: 0.0331\n",
      "Epoch 91/250\n",
      "1/1 [==============================] - 0s 17ms/step - loss: 0.0388 - val_loss: 0.0330\n",
      "Epoch 92/250\n",
      "1/1 [==============================] - 0s 20ms/step - loss: 0.0387 - val_loss: 0.0329\n",
      "Epoch 93/250\n",
      "1/1 [==============================] - 0s 18ms/step - loss: 0.0386 - val_loss: 0.0326\n",
      "Epoch 94/250\n",
      "1/1 [==============================] - 0s 20ms/step - loss: 0.0384 - val_loss: 0.0324\n",
      "Epoch 95/250\n",
      "1/1 [==============================] - 0s 19ms/step - loss: 0.0383 - val_loss: 0.0322\n",
      "Epoch 96/250\n",
      "1/1 [==============================] - 0s 17ms/step - loss: 0.0382 - val_loss: 0.0319\n",
      "Epoch 97/250\n",
      "1/1 [==============================] - 0s 18ms/step - loss: 0.0381 - val_loss: 0.0318\n",
      "Epoch 98/250\n",
      "1/1 [==============================] - 0s 16ms/step - loss: 0.0380 - val_loss: 0.0316\n",
      "Epoch 99/250\n",
      "1/1 [==============================] - 0s 20ms/step - loss: 0.0380 - val_loss: 0.0315\n",
      "Epoch 100/250\n",
      "1/1 [==============================] - 0s 18ms/step - loss: 0.0380 - val_loss: 0.0314\n",
      "Epoch 101/250\n",
      "1/1 [==============================] - 0s 18ms/step - loss: 0.0379 - val_loss: 0.0314\n",
      "Epoch 102/250\n",
      "1/1 [==============================] - 0s 20ms/step - loss: 0.0379 - val_loss: 0.0314\n",
      "Epoch 103/250\n",
      "1/1 [==============================] - 0s 17ms/step - loss: 0.0378 - val_loss: 0.0314\n",
      "Epoch 104/250\n",
      "1/1 [==============================] - 0s 18ms/step - loss: 0.0378 - val_loss: 0.0315\n",
      "Epoch 105/250\n",
      "1/1 [==============================] - 0s 17ms/step - loss: 0.0377 - val_loss: 0.0315\n",
      "Epoch 106/250\n",
      "1/1 [==============================] - 0s 19ms/step - loss: 0.0377 - val_loss: 0.0316\n",
      "Epoch 107/250\n",
      "1/1 [==============================] - 0s 19ms/step - loss: 0.0376 - val_loss: 0.0316\n",
      "Epoch 108/250\n",
      "1/1 [==============================] - 0s 18ms/step - loss: 0.0376 - val_loss: 0.0317\n",
      "Epoch 109/250\n",
      "1/1 [==============================] - 0s 20ms/step - loss: 0.0376 - val_loss: 0.0317\n",
      "Epoch 110/250\n",
      "1/1 [==============================] - 0s 17ms/step - loss: 0.0376 - val_loss: 0.0317\n",
      "Epoch 111/250\n",
      "1/1 [==============================] - 0s 19ms/step - loss: 0.0375 - val_loss: 0.0316\n",
      "Epoch 112/250\n",
      "1/1 [==============================] - 0s 16ms/step - loss: 0.0375 - val_loss: 0.0316\n",
      "Epoch 113/250\n",
      "1/1 [==============================] - 0s 22ms/step - loss: 0.0375 - val_loss: 0.0315\n",
      "Epoch 114/250\n",
      "1/1 [==============================] - 0s 18ms/step - loss: 0.0374 - val_loss: 0.0314\n",
      "Epoch 115/250\n",
      "1/1 [==============================] - 0s 19ms/step - loss: 0.0374 - val_loss: 0.0313\n",
      "Epoch 116/250\n",
      "1/1 [==============================] - 0s 17ms/step - loss: 0.0374 - val_loss: 0.0313\n",
      "Epoch 117/250\n",
      "1/1 [==============================] - 0s 19ms/step - loss: 0.0373 - val_loss: 0.0312\n",
      "Epoch 118/250\n",
      "1/1 [==============================] - 0s 16ms/step - loss: 0.0373 - val_loss: 0.0311\n",
      "Epoch 119/250\n",
      "1/1 [==============================] - 0s 18ms/step - loss: 0.0373 - val_loss: 0.0311\n",
      "Epoch 120/250\n",
      "1/1 [==============================] - 0s 19ms/step - loss: 0.0373 - val_loss: 0.0311\n",
      "Epoch 121/250\n",
      "1/1 [==============================] - 0s 19ms/step - loss: 0.0372 - val_loss: 0.0311\n",
      "Epoch 122/250\n",
      "1/1 [==============================] - 0s 20ms/step - loss: 0.0372 - val_loss: 0.0311\n",
      "Epoch 123/250\n",
      "1/1 [==============================] - 0s 20ms/step - loss: 0.0372 - val_loss: 0.0311\n",
      "Epoch 124/250\n",
      "1/1 [==============================] - 0s 20ms/step - loss: 0.0372 - val_loss: 0.0311\n",
      "Epoch 125/250\n",
      "1/1 [==============================] - 0s 19ms/step - loss: 0.0371 - val_loss: 0.0311\n",
      "Epoch 126/250\n",
      "1/1 [==============================] - 0s 18ms/step - loss: 0.0371 - val_loss: 0.0311\n",
      "Epoch 127/250\n",
      "1/1 [==============================] - 0s 20ms/step - loss: 0.0371 - val_loss: 0.0311\n",
      "Epoch 128/250\n",
      "1/1 [==============================] - 0s 18ms/step - loss: 0.0371 - val_loss: 0.0311\n",
      "Epoch 129/250\n",
      "1/1 [==============================] - 0s 19ms/step - loss: 0.0370 - val_loss: 0.0311\n",
      "Epoch 130/250\n",
      "1/1 [==============================] - 0s 19ms/step - loss: 0.0370 - val_loss: 0.0310\n",
      "Epoch 131/250\n",
      "1/1 [==============================] - 0s 18ms/step - loss: 0.0370 - val_loss: 0.0310\n",
      "Epoch 132/250\n",
      "1/1 [==============================] - 0s 18ms/step - loss: 0.0370 - val_loss: 0.0310\n",
      "Epoch 133/250\n",
      "1/1 [==============================] - 0s 20ms/step - loss: 0.0370 - val_loss: 0.0309\n",
      "Epoch 134/250\n",
      "1/1 [==============================] - 0s 20ms/step - loss: 0.0369 - val_loss: 0.0309\n",
      "Epoch 135/250\n",
      "1/1 [==============================] - 0s 19ms/step - loss: 0.0369 - val_loss: 0.0309\n",
      "Epoch 136/250\n",
      "1/1 [==============================] - 0s 24ms/step - loss: 0.0369 - val_loss: 0.0309\n",
      "Epoch 137/250\n",
      "1/1 [==============================] - 0s 18ms/step - loss: 0.0369 - val_loss: 0.0308\n",
      "Epoch 138/250\n",
      "1/1 [==============================] - 0s 18ms/step - loss: 0.0368 - val_loss: 0.0308\n",
      "Epoch 139/250\n",
      "1/1 [==============================] - 0s 19ms/step - loss: 0.0368 - val_loss: 0.0308\n",
      "Epoch 140/250\n",
      "1/1 [==============================] - 0s 18ms/step - loss: 0.0368 - val_loss: 0.0308\n",
      "Epoch 141/250\n",
      "1/1 [==============================] - 0s 20ms/step - loss: 0.0368 - val_loss: 0.0308\n",
      "Epoch 142/250\n",
      "1/1 [==============================] - 0s 18ms/step - loss: 0.0368 - val_loss: 0.0308\n",
      "Epoch 143/250\n",
      "1/1 [==============================] - 0s 19ms/step - loss: 0.0367 - val_loss: 0.0308\n",
      "Epoch 144/250\n",
      "1/1 [==============================] - 0s 18ms/step - loss: 0.0367 - val_loss: 0.0308\n",
      "Epoch 145/250\n",
      "1/1 [==============================] - 0s 17ms/step - loss: 0.0367 - val_loss: 0.0308\n",
      "Epoch 146/250\n",
      "1/1 [==============================] - 0s 18ms/step - loss: 0.0367 - val_loss: 0.0307\n",
      "Epoch 147/250\n",
      "1/1 [==============================] - 0s 17ms/step - loss: 0.0366 - val_loss: 0.0307\n",
      "Epoch 148/250\n",
      "1/1 [==============================] - 0s 19ms/step - loss: 0.0366 - val_loss: 0.0307\n",
      "Epoch 149/250\n",
      "1/1 [==============================] - 0s 18ms/step - loss: 0.0366 - val_loss: 0.0307\n",
      "Epoch 150/250\n",
      "1/1 [==============================] - 0s 21ms/step - loss: 0.0366 - val_loss: 0.0306\n",
      "Epoch 151/250\n",
      "1/1 [==============================] - 0s 18ms/step - loss: 0.0365 - val_loss: 0.0306\n",
      "Epoch 152/250\n",
      "1/1 [==============================] - 0s 17ms/step - loss: 0.0365 - val_loss: 0.0306\n",
      "Epoch 153/250\n",
      "1/1 [==============================] - 0s 18ms/step - loss: 0.0365 - val_loss: 0.0306\n",
      "Epoch 154/250\n",
      "1/1 [==============================] - 0s 17ms/step - loss: 0.0365 - val_loss: 0.0306\n",
      "Epoch 155/250\n",
      "1/1 [==============================] - 0s 19ms/step - loss: 0.0365 - val_loss: 0.0306\n",
      "Epoch 156/250\n",
      "1/1 [==============================] - 0s 20ms/step - loss: 0.0364 - val_loss: 0.0305\n",
      "Epoch 157/250\n",
      "1/1 [==============================] - 0s 18ms/step - loss: 0.0364 - val_loss: 0.0305\n",
      "Epoch 158/250\n",
      "1/1 [==============================] - 0s 17ms/step - loss: 0.0364 - val_loss: 0.0305\n",
      "Epoch 159/250\n",
      "1/1 [==============================] - 0s 16ms/step - loss: 0.0364 - val_loss: 0.0305\n",
      "Epoch 160/250\n",
      "1/1 [==============================] - 0s 19ms/step - loss: 0.0363 - val_loss: 0.0305\n",
      "Epoch 161/250\n",
      "1/1 [==============================] - 0s 17ms/step - loss: 0.0363 - val_loss: 0.0304\n",
      "Epoch 162/250\n",
      "1/1 [==============================] - 0s 20ms/step - loss: 0.0363 - val_loss: 0.0304\n",
      "Epoch 163/250\n",
      "1/1 [==============================] - 0s 19ms/step - loss: 0.0363 - val_loss: 0.0304\n",
      "Epoch 164/250\n",
      "1/1 [==============================] - 0s 23ms/step - loss: 0.0362 - val_loss: 0.0304\n",
      "Epoch 165/250\n",
      "1/1 [==============================] - 0s 16ms/step - loss: 0.0362 - val_loss: 0.0304\n",
      "Epoch 166/250\n",
      "1/1 [==============================] - 0s 17ms/step - loss: 0.0362 - val_loss: 0.0304\n",
      "Epoch 167/250\n",
      "1/1 [==============================] - 0s 19ms/step - loss: 0.0362 - val_loss: 0.0303\n",
      "Epoch 168/250\n",
      "1/1 [==============================] - 0s 17ms/step - loss: 0.0361 - val_loss: 0.0303\n",
      "Epoch 169/250\n",
      "1/1 [==============================] - 0s 19ms/step - loss: 0.0361 - val_loss: 0.0303\n",
      "Epoch 170/250\n",
      "1/1 [==============================] - 0s 19ms/step - loss: 0.0361 - val_loss: 0.0303\n",
      "Epoch 171/250\n",
      "1/1 [==============================] - 0s 18ms/step - loss: 0.0361 - val_loss: 0.0303\n",
      "Epoch 172/250\n",
      "1/1 [==============================] - 0s 17ms/step - loss: 0.0360 - val_loss: 0.0302\n",
      "Epoch 173/250\n",
      "1/1 [==============================] - 0s 17ms/step - loss: 0.0360 - val_loss: 0.0302\n",
      "Epoch 174/250\n",
      "1/1 [==============================] - 0s 17ms/step - loss: 0.0360 - val_loss: 0.0302\n",
      "Epoch 175/250\n",
      "1/1 [==============================] - 0s 15ms/step - loss: 0.0360 - val_loss: 0.0302\n",
      "Epoch 176/250\n",
      "1/1 [==============================] - 0s 18ms/step - loss: 0.0359 - val_loss: 0.0302\n",
      "Epoch 177/250\n",
      "1/1 [==============================] - 0s 16ms/step - loss: 0.0359 - val_loss: 0.0301\n",
      "Epoch 178/250\n",
      "1/1 [==============================] - 0s 20ms/step - loss: 0.0359 - val_loss: 0.0301\n",
      "Epoch 179/250\n",
      "1/1 [==============================] - 0s 18ms/step - loss: 0.0359 - val_loss: 0.0301\n",
      "Epoch 180/250\n",
      "1/1 [==============================] - 0s 15ms/step - loss: 0.0358 - val_loss: 0.0301\n",
      "Epoch 181/250\n",
      "1/1 [==============================] - 0s 18ms/step - loss: 0.0358 - val_loss: 0.0301\n",
      "Epoch 182/250\n",
      "1/1 [==============================] - 0s 18ms/step - loss: 0.0358 - val_loss: 0.0300\n",
      "Epoch 183/250\n",
      "1/1 [==============================] - 0s 20ms/step - loss: 0.0358 - val_loss: 0.0300\n",
      "Epoch 184/250\n",
      "1/1 [==============================] - 0s 16ms/step - loss: 0.0357 - val_loss: 0.0300\n",
      "Epoch 185/250\n",
      "1/1 [==============================] - 0s 18ms/step - loss: 0.0357 - val_loss: 0.0300\n",
      "Epoch 186/250\n",
      "1/1 [==============================] - 0s 17ms/step - loss: 0.0357 - val_loss: 0.0299\n",
      "Epoch 187/250\n",
      "1/1 [==============================] - 0s 17ms/step - loss: 0.0356 - val_loss: 0.0299\n",
      "Epoch 188/250\n",
      "1/1 [==============================] - 0s 17ms/step - loss: 0.0356 - val_loss: 0.0299\n",
      "Epoch 189/250\n",
      "1/1 [==============================] - 0s 20ms/step - loss: 0.0356 - val_loss: 0.0299\n",
      "Epoch 190/250\n",
      "1/1 [==============================] - 0s 22ms/step - loss: 0.0356 - val_loss: 0.0299\n",
      "Epoch 191/250\n",
      "1/1 [==============================] - 0s 17ms/step - loss: 0.0355 - val_loss: 0.0298\n",
      "Epoch 192/250\n",
      "1/1 [==============================] - 0s 21ms/step - loss: 0.0355 - val_loss: 0.0298\n",
      "Epoch 193/250\n",
      "1/1 [==============================] - 0s 18ms/step - loss: 0.0355 - val_loss: 0.0298\n",
      "Epoch 194/250\n",
      "1/1 [==============================] - 0s 17ms/step - loss: 0.0355 - val_loss: 0.0298\n",
      "Epoch 195/250\n",
      "1/1 [==============================] - 0s 19ms/step - loss: 0.0354 - val_loss: 0.0298\n",
      "Epoch 196/250\n",
      "1/1 [==============================] - 0s 19ms/step - loss: 0.0354 - val_loss: 0.0297\n",
      "Epoch 197/250\n",
      "1/1 [==============================] - 0s 19ms/step - loss: 0.0354 - val_loss: 0.0297\n",
      "Epoch 198/250\n",
      "1/1 [==============================] - 0s 16ms/step - loss: 0.0353 - val_loss: 0.0297\n",
      "Epoch 199/250\n",
      "1/1 [==============================] - 0s 17ms/step - loss: 0.0353 - val_loss: 0.0297\n",
      "Epoch 200/250\n",
      "1/1 [==============================] - 0s 17ms/step - loss: 0.0353 - val_loss: 0.0296\n",
      "Epoch 201/250\n",
      "1/1 [==============================] - 0s 16ms/step - loss: 0.0353 - val_loss: 0.0296\n",
      "Epoch 202/250\n",
      "1/1 [==============================] - 0s 19ms/step - loss: 0.0352 - val_loss: 0.0296\n",
      "Epoch 203/250\n",
      "1/1 [==============================] - 0s 20ms/step - loss: 0.0352 - val_loss: 0.0296\n",
      "Epoch 204/250\n",
      "1/1 [==============================] - 0s 21ms/step - loss: 0.0352 - val_loss: 0.0296\n",
      "Epoch 205/250\n",
      "1/1 [==============================] - 0s 16ms/step - loss: 0.0351 - val_loss: 0.0295\n",
      "Epoch 206/250\n",
      "1/1 [==============================] - 0s 18ms/step - loss: 0.0351 - val_loss: 0.0295\n",
      "Epoch 207/250\n",
      "1/1 [==============================] - 0s 16ms/step - loss: 0.0351 - val_loss: 0.0295\n",
      "Epoch 208/250\n",
      "1/1 [==============================] - 0s 16ms/step - loss: 0.0351 - val_loss: 0.0295\n",
      "Epoch 209/250\n",
      "1/1 [==============================] - 0s 16ms/step - loss: 0.0350 - val_loss: 0.0294\n",
      "Epoch 210/250\n",
      "1/1 [==============================] - 0s 17ms/step - loss: 0.0350 - val_loss: 0.0294\n",
      "Epoch 211/250\n",
      "1/1 [==============================] - 0s 18ms/step - loss: 0.0350 - val_loss: 0.0294\n",
      "Epoch 212/250\n",
      "1/1 [==============================] - 0s 19ms/step - loss: 0.0349 - val_loss: 0.0294\n",
      "Epoch 213/250\n",
      "1/1 [==============================] - 0s 19ms/step - loss: 0.0349 - val_loss: 0.0293\n",
      "Epoch 214/250\n",
      "1/1 [==============================] - 0s 20ms/step - loss: 0.0349 - val_loss: 0.0293\n",
      "Epoch 215/250\n",
      "1/1 [==============================] - 0s 19ms/step - loss: 0.0348 - val_loss: 0.0293\n",
      "Epoch 216/250\n",
      "1/1 [==============================] - 0s 17ms/step - loss: 0.0348 - val_loss: 0.0293\n",
      "Epoch 217/250\n",
      "1/1 [==============================] - 0s 23ms/step - loss: 0.0348 - val_loss: 0.0293\n",
      "Epoch 218/250\n",
      "1/1 [==============================] - 0s 33ms/step - loss: 0.0348 - val_loss: 0.0292\n",
      "Epoch 219/250\n",
      "1/1 [==============================] - 0s 23ms/step - loss: 0.0347 - val_loss: 0.0292\n",
      "Epoch 220/250\n",
      "1/1 [==============================] - 0s 16ms/step - loss: 0.0347 - val_loss: 0.0292\n",
      "Epoch 221/250\n",
      "1/1 [==============================] - 0s 20ms/step - loss: 0.0347 - val_loss: 0.0292\n",
      "Epoch 222/250\n",
      "1/1 [==============================] - 0s 19ms/step - loss: 0.0346 - val_loss: 0.0291\n",
      "Epoch 223/250\n",
      "1/1 [==============================] - 0s 20ms/step - loss: 0.0346 - val_loss: 0.0291\n",
      "Epoch 224/250\n",
      "1/1 [==============================] - 0s 21ms/step - loss: 0.0346 - val_loss: 0.0291\n",
      "Epoch 225/250\n",
      "1/1 [==============================] - 0s 21ms/step - loss: 0.0345 - val_loss: 0.0291\n",
      "Epoch 226/250\n",
      "1/1 [==============================] - 0s 18ms/step - loss: 0.0345 - val_loss: 0.0290\n",
      "Epoch 227/250\n",
      "1/1 [==============================] - 0s 21ms/step - loss: 0.0345 - val_loss: 0.0290\n",
      "Epoch 228/250\n",
      "1/1 [==============================] - 0s 23ms/step - loss: 0.0344 - val_loss: 0.0290\n",
      "Epoch 229/250\n",
      "1/1 [==============================] - 0s 18ms/step - loss: 0.0344 - val_loss: 0.0289\n",
      "Epoch 230/250\n",
      "1/1 [==============================] - 0s 21ms/step - loss: 0.0344 - val_loss: 0.0289\n",
      "Epoch 231/250\n",
      "1/1 [==============================] - 0s 20ms/step - loss: 0.0343 - val_loss: 0.0289\n",
      "Epoch 232/250\n",
      "1/1 [==============================] - 0s 21ms/step - loss: 0.0343 - val_loss: 0.0289\n",
      "Epoch 233/250\n",
      "1/1 [==============================] - 0s 18ms/step - loss: 0.0343 - val_loss: 0.0288\n",
      "Epoch 234/250\n",
      "1/1 [==============================] - 0s 20ms/step - loss: 0.0342 - val_loss: 0.0288\n",
      "Epoch 235/250\n",
      "1/1 [==============================] - 0s 19ms/step - loss: 0.0342 - val_loss: 0.0288\n",
      "Epoch 236/250\n",
      "1/1 [==============================] - 0s 17ms/step - loss: 0.0342 - val_loss: 0.0288\n",
      "Epoch 237/250\n",
      "1/1 [==============================] - 0s 19ms/step - loss: 0.0341 - val_loss: 0.0287\n",
      "Epoch 238/250\n",
      "1/1 [==============================] - 0s 22ms/step - loss: 0.0341 - val_loss: 0.0287\n",
      "Epoch 239/250\n",
      "1/1 [==============================] - 0s 20ms/step - loss: 0.0341 - val_loss: 0.0287\n",
      "Epoch 240/250\n",
      "1/1 [==============================] - 0s 17ms/step - loss: 0.0340 - val_loss: 0.0287\n",
      "Epoch 241/250\n",
      "1/1 [==============================] - 0s 22ms/step - loss: 0.0340 - val_loss: 0.0286\n",
      "Epoch 242/250\n",
      "1/1 [==============================] - 0s 18ms/step - loss: 0.0339 - val_loss: 0.0286\n",
      "Epoch 243/250\n",
      "1/1 [==============================] - 0s 21ms/step - loss: 0.0339 - val_loss: 0.0286\n",
      "Epoch 244/250\n",
      "1/1 [==============================] - 0s 21ms/step - loss: 0.0339 - val_loss: 0.0285\n",
      "Epoch 245/250\n",
      "1/1 [==============================] - 0s 24ms/step - loss: 0.0338 - val_loss: 0.0285\n",
      "Epoch 246/250\n",
      "1/1 [==============================] - 0s 21ms/step - loss: 0.0338 - val_loss: 0.0285\n",
      "Epoch 247/250\n",
      "1/1 [==============================] - 0s 17ms/step - loss: 0.0337 - val_loss: 0.0286\n",
      "Epoch 248/250\n",
      "1/1 [==============================] - 0s 20ms/step - loss: 0.0336 - val_loss: 0.0285\n",
      "Epoch 249/250\n",
      "1/1 [==============================] - 0s 20ms/step - loss: 0.0336 - val_loss: 0.0285\n",
      "Epoch 250/250\n",
      "1/1 [==============================] - 0s 20ms/step - loss: 0.0335 - val_loss: 0.0283\n"
     ]
    }
   ],
   "source": [
    "history = autoencoder.fit(normal_train_data, normal_train_data, \n",
    "          epochs=250, \n",
    "          batch_size=512,\n",
    "          validation_data=(test_data, test_data),\n",
    "          shuffle=True)"
   ]
  },
  {
   "cell_type": "code",
   "execution_count": 30,
   "id": "expected-scientist",
   "metadata": {},
   "outputs": [
    {
     "data": {
      "application/vnd.jupyter.widget-view+json": {
       "model_id": "dc1cf83ee1ac41b1af340d6995fa0785",
       "version_major": 2,
       "version_minor": 0
      },
      "text/plain": [
       "Canvas(toolbar=Toolbar(toolitems=[('Home', 'Reset original view', 'home', 'home'), ('Back', 'Back to previous …"
      ]
     },
     "metadata": {},
     "output_type": "display_data"
    },
    {
     "data": {
      "text/plain": [
       "<matplotlib.legend.Legend at 0x17f3dfac0>"
      ]
     },
     "execution_count": 30,
     "metadata": {},
     "output_type": "execute_result"
    }
   ],
   "source": [
    "plt.figure()\n",
    "plt.plot(history.history[\"loss\"], label=\"Training Loss\")\n",
    "plt.plot(history.history[\"val_loss\"], label=\"Validation Loss\")\n",
    "plt.legend()"
   ]
  },
  {
   "cell_type": "code",
   "execution_count": 32,
   "id": "fallen-waste",
   "metadata": {},
   "outputs": [
    {
     "data": {
      "application/vnd.jupyter.widget-view+json": {
       "model_id": "679b3e5467174aabac4fb8347ab71578",
       "version_major": 2,
       "version_minor": 0
      },
      "text/plain": [
       "Canvas(toolbar=Toolbar(toolitems=[('Home', 'Reset original view', 'home', 'home'), ('Back', 'Back to previous …"
      ]
     },
     "metadata": {},
     "output_type": "display_data"
    }
   ],
   "source": [
    "encoded_data = autoencoder.encoder(normal_test_data).numpy()\n",
    "decoded_data = autoencoder.decoder(encoded_data).numpy()\n",
    "\n",
    "plt.figure()\n",
    "plt.plot(normal_test_data[0], 'b')\n",
    "plt.plot(decoded_data[0], 'r')\n",
    "plt.fill_between(qgrid2[idx_l:idx_u], decoded_data[0], normal_test_data[0], color='lightcoral')\n",
    "plt.legend(labels=[\"Input\", \"Reconstruction\", \"Error\"])\n",
    "plt.show()"
   ]
  },
  {
   "cell_type": "code",
   "execution_count": 33,
   "id": "weird-commons",
   "metadata": {},
   "outputs": [
    {
     "data": {
      "application/vnd.jupyter.widget-view+json": {
       "model_id": "5a93ff9ca41d4435a866baadaa4f1947",
       "version_major": 2,
       "version_minor": 0
      },
      "text/plain": [
       "Canvas(toolbar=Toolbar(toolitems=[('Home', 'Reset original view', 'home', 'home'), ('Back', 'Back to previous …"
      ]
     },
     "metadata": {},
     "output_type": "display_data"
    }
   ],
   "source": [
    "encoded_data = autoencoder.encoder(anomalous_test_data).numpy()\n",
    "decoded_data = autoencoder.decoder(encoded_data).numpy()\n",
    "\n",
    "plt.figure()\n",
    "plt.plot(anomalous_test_data[0], 'b')\n",
    "plt.plot(decoded_data[0], 'r')\n",
    "plt.fill_between(qgrid2[idx_l:idx_u], decoded_data[0], anomalous_test_data[0], color='lightcoral')\n",
    "plt.legend(labels=[\"Input\", \"Reconstruction\", \"Error\"])\n",
    "plt.show()"
   ]
  },
  {
   "cell_type": "code",
   "execution_count": 34,
   "id": "expanded-gregory",
   "metadata": {},
   "outputs": [
    {
     "data": {
      "application/vnd.jupyter.widget-view+json": {
       "model_id": "1861afd0d7bb4d9a90f02c36d9a49b6b",
       "version_major": 2,
       "version_minor": 0
      },
      "text/plain": [
       "Canvas(toolbar=Toolbar(toolitems=[('Home', 'Reset original view', 'home', 'home'), ('Back', 'Back to previous …"
      ]
     },
     "metadata": {},
     "output_type": "display_data"
    }
   ],
   "source": [
    "reconstructions = autoencoder.predict(normal_train_data)\n",
    "train_loss = tf.keras.losses.mae(reconstructions, normal_train_data)\n",
    "\n",
    "plt.figure()\n",
    "plt.hist(train_loss[None,:], bins=50)\n",
    "plt.xlabel(\"Train loss\")\n",
    "plt.ylabel(\"No of examples\")\n",
    "plt.show()"
   ]
  },
  {
   "cell_type": "code",
   "execution_count": 58,
   "id": "greek-break",
   "metadata": {},
   "outputs": [
    {
     "name": "stdout",
     "output_type": "stream",
     "text": [
      "Threshold:  0.038093192813297115\n"
     ]
    }
   ],
   "source": [
    "threshold = np.mean(train_loss) + np.std(train_loss)/6\n",
    "print(\"Threshold: \", threshold)"
   ]
  },
  {
   "cell_type": "code",
   "execution_count": 59,
   "id": "caroline-adrian",
   "metadata": {},
   "outputs": [
    {
     "data": {
      "application/vnd.jupyter.widget-view+json": {
       "model_id": "4e0d40e14c9e4796ace49cadf53283e7",
       "version_major": 2,
       "version_minor": 0
      },
      "text/plain": [
       "Canvas(toolbar=Toolbar(toolitems=[('Home', 'Reset original view', 'home', 'home'), ('Back', 'Back to previous …"
      ]
     },
     "metadata": {},
     "output_type": "display_data"
    }
   ],
   "source": [
    "reconstructions = autoencoder.predict(anomalous_test_data)\n",
    "test_loss = tf.keras.losses.mae(reconstructions, anomalous_test_data)\n",
    "\n",
    "plt.figure()\n",
    "plt.hist(test_loss[None, :], bins=10)\n",
    "plt.xlabel(\"Test loss\")\n",
    "plt.ylabel(\"No of examples\")\n",
    "plt.show()"
   ]
  },
  {
   "cell_type": "code",
   "execution_count": 60,
   "id": "stupid-monkey",
   "metadata": {},
   "outputs": [],
   "source": [
    "def predict(model, data, threshold):\n",
    "    reconstructions = model(data)\n",
    "    loss = tf.keras.losses.mae(reconstructions, data)\n",
    "    return tf.math.less(loss, threshold)\n",
    "\n",
    "def print_stats(predictions, labels):\n",
    "    print(\"Accuracy = {}\".format(accuracy_score(labels, predictions)))\n",
    "    print(\"Precision = {}\".format(precision_score(labels, predictions)))\n",
    "    print(\"Recall = {}\".format(recall_score(labels, predictions)))"
   ]
  },
  {
   "cell_type": "code",
   "execution_count": 61,
   "id": "chronic-obligation",
   "metadata": {},
   "outputs": [
    {
     "name": "stdout",
     "output_type": "stream",
     "text": [
      "Accuracy = 0.8260869565217391\n",
      "Precision = 1.0\n",
      "Recall = 0.8235294117647058\n"
     ]
    },
    {
     "data": {
      "text/plain": [
       "<tf.Tensor: shape=(2, 2), dtype=int32, numpy=\n",
       "array([[ 1,  0],\n",
       "       [12, 56]], dtype=int32)>"
      ]
     },
     "execution_count": 61,
     "metadata": {},
     "output_type": "execute_result"
    }
   ],
   "source": [
    "preds = predict(autoencoder, test_data, threshold)\n",
    "print_stats(preds, test_labels)\n",
    "tf.math.confusion_matrix(test_labels, preds)"
   ]
  },
  {
   "cell_type": "code",
   "execution_count": 62,
   "id": "fifty-foster",
   "metadata": {},
   "outputs": [
    {
     "name": "stdout",
     "output_type": "stream",
     "text": [
      "Accuracy = 0.4444444444444444\n",
      "Precision = 0.0\n",
      "Recall = 0.0\n"
     ]
    },
    {
     "name": "stderr",
     "output_type": "stream",
     "text": [
      "/Users/bashit.a/.local/lib/python3.8/site-packages/sklearn/metrics/_classification.py:1327: UndefinedMetricWarning: Recall is ill-defined and being set to 0.0 due to no true samples. Use `zero_division` parameter to control this behavior.\n",
      "  _warn_prf(average, modifier, msg_start, len(result))\n"
     ]
    },
    {
     "data": {
      "text/plain": [
       "<tf.Tensor: shape=(2, 2), dtype=int32, numpy=\n",
       "array([[4, 5],\n",
       "       [0, 0]], dtype=int32)>"
      ]
     },
     "execution_count": 62,
     "metadata": {},
     "output_type": "execute_result"
    }
   ],
   "source": [
    "preds = predict(autoencoder, anomalous_train_data, threshold)\n",
    "print_stats(preds, train_labels[~train_labels])\n",
    "tf.math.confusion_matrix(train_labels[~train_labels], preds)"
   ]
  },
  {
   "cell_type": "code",
   "execution_count": 64,
   "id": "crazy-evolution",
   "metadata": {},
   "outputs": [
    {
     "data": {
      "text/plain": [
       "<tf.Tensor: shape=(69,), dtype=bool, numpy=\n",
       "array([ True,  True,  True,  True,  True, False,  True, False, False,\n",
       "        True,  True,  True,  True,  True,  True,  True, False,  True,\n",
       "        True,  True,  True,  True, False,  True,  True,  True,  True,\n",
       "        True,  True,  True,  True,  True,  True,  True,  True, False,\n",
       "        True,  True, False,  True,  True,  True, False,  True, False,\n",
       "        True, False,  True,  True,  True,  True, False,  True,  True,\n",
       "       False,  True,  True,  True,  True, False,  True,  True,  True,\n",
       "        True,  True,  True,  True,  True,  True])>"
      ]
     },
     "execution_count": 64,
     "metadata": {},
     "output_type": "execute_result"
    }
   ],
   "source": [
    "predict(autoencoder, test_data, threshold)"
   ]
  },
  {
   "cell_type": "code",
   "execution_count": 65,
   "id": "enormous-athens",
   "metadata": {},
   "outputs": [
    {
     "data": {
      "text/plain": [
       "array([ True,  True,  True,  True,  True, False,  True,  True,  True,\n",
       "        True,  True,  True,  True,  True,  True,  True,  True,  True,\n",
       "        True,  True,  True,  True,  True,  True,  True,  True,  True,\n",
       "        True,  True,  True,  True,  True,  True,  True,  True,  True,\n",
       "        True,  True,  True,  True,  True,  True,  True,  True,  True,\n",
       "        True,  True,  True,  True,  True,  True,  True,  True,  True,\n",
       "        True,  True,  True,  True,  True,  True,  True,  True,  True,\n",
       "        True,  True,  True,  True,  True,  True])"
      ]
     },
     "execution_count": 65,
     "metadata": {},
     "output_type": "execute_result"
    }
   ],
   "source": [
    "test_labels"
   ]
  },
  {
   "cell_type": "code",
   "execution_count": null,
   "id": "moved-disabled",
   "metadata": {},
   "outputs": [],
   "source": []
  }
 ],
 "metadata": {
  "kernelspec": {
   "display_name": "Python 3 (ipykernel)",
   "language": "python",
   "name": "python3"
  },
  "language_info": {
   "codemirror_mode": {
    "name": "ipython",
    "version": 3
   },
   "file_extension": ".py",
   "mimetype": "text/x-python",
   "name": "python",
   "nbconvert_exporter": "python",
   "pygments_lexer": "ipython3",
   "version": "3.11.4"
  }
 },
 "nbformat": 4,
 "nbformat_minor": 5
}
