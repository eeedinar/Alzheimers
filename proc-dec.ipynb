{
 "cells": [
  {
   "cell_type": "code",
   "execution_count": 1,
   "metadata": {},
   "outputs": [],
   "source": [
    "%matplotlib widget"
   ]
  },
  {
   "cell_type": "code",
   "execution_count": 2,
   "metadata": {},
   "outputs": [],
   "source": [
    "from py4xs.hdf import h5xs,h5exp,lsh5,proc_d1merge\n",
    "from py4xs.data2d import Data2d\n",
    "from py4xs.slnxs import trans_mode\n",
    "import numpy as np\n",
    "import pylab as plt\n",
    "import warnings,json\n",
    "import os\n",
    "\n",
    "warnings.filterwarnings('ignore')"
   ]
  },
  {
   "cell_type": "markdown",
   "metadata": {},
   "source": [
    "## create the h5xs object for azimuthal average first\n",
    "assign the detector configuration and q-grid:\n",
    "\n",
    "  `dt0  = h5xs(\"mica.h5\", [de.detectors, qgrid2])`\n",
    "\n",
    "then do the batch processing:\n",
    "\n",
    "  `dt0.load_data()   `\n",
    "\n",
    "In general this is going to take a lot of memory. For larger datasets, run load_data(N=16) to avoid crash. This may not work on you laptop if you don't have enough memory. This step is time consuming. I recommend running this for all h5 files first. The data1d objects created from azimuthal average will be saved back to the h5 file.\n",
    "  \n",
    "## recreating the h5xs object for further processing\n",
    "\n",
    "Re-create the data1d objects from information saved in the h5 fil is a lot faster and does not require a lot of memory.\n",
    "\n",
    "  `dt0 = h5xs(\"mica.h5\", transField=\"em2_sum_all_mean_value\")` <br>\n",
    "  `dt0.load_d1s()`\n",
    "\n",
    "Then populate the *trans* attribute for all data1d objects based on the specified transfield. When calling bkg_cor() later for background subtraction, this *trans* value should be accounted for (data scaled) automatically.\n",
    "\n",
    "  `dt0.set_trans(transMode=trans_mode.external)`"
   ]
  },
  {
   "cell_type": "code",
   "execution_count": 3,
   "metadata": {},
   "outputs": [],
   "source": [
    "de = h5exp(\"exp.h5\")"
   ]
  },
  {
   "cell_type": "code",
   "execution_count": 25,
   "metadata": {},
   "outputs": [],
   "source": [
    "dt0 = h5xs(\"mica.h5\", [de.detectors, de.qgrid], transField=\"em2_sum_all_mean_value\")"
   ]
  },
  {
   "cell_type": "code",
   "execution_count": null,
   "metadata": {},
   "outputs": [],
   "source": [
    "dt0  = h5xs(\"mica.h5\", transField=\"em2_sum_all_mean_value\")\n",
    "dt  = h5xs(\"2016_B8.h5\", transField=\"em2_sum_all_mean_value\")\n",
    "\n",
    "dt.load_data(N=1)\n",
    "dt0.load_data(N=1)\n",
    "\n",
    "dt.set_trans(transMode=trans_mode.external)\n",
    "dt0.set_trans(transMode=trans_mode.external)"
   ]
  },
  {
   "cell_type": "code",
   "execution_count": 3,
   "metadata": {},
   "outputs": [
    {
     "name": "stdout",
     "output_type": "stream",
     "text": [
      "[False, True]\n"
     ]
    },
    {
     "data": {
      "application/vnd.jupyter.widget-view+json": {
       "model_id": "22a3acb6a2f9415c81a39f17b645fe58",
       "version_major": 2,
       "version_minor": 0
      },
      "text/plain": [
       "Canvas(toolbar=Toolbar(toolitems=[('Home', 'Reset original view', 'home', 'home'), ('Back', 'Back to previous …"
      ]
     },
     "metadata": {},
     "output_type": "display_data"
    },
    {
     "data": {
      "text/plain": [
       "[<matplotlib.lines.Line2D at 0x12f6abd00>]"
      ]
     },
     "execution_count": 3,
     "metadata": {},
     "output_type": "execute_result"
    }
   ],
   "source": [
    "# scan header\n",
    "os.chdir('/Users/bashit.a/Documents/Alzheimer/July-2021/BNL-Data/sample-6/')   # location where your h5 and exp file are  Nov-2021    Dec-2020      Mar-24/BNL-Data/        July-2021/BNL-Data/sample-3/\n",
    "\n",
    "dt  = h5xs(\"2029_Dentate_gyrus-roi0.h5\", transField=\"em2_sum_all_mean_value\")\n",
    "\n",
    "header = json.loads(dt.fh5[dt.samples[0]].attrs['start'])\n",
    "print(header['snaking'])\n",
    "\n",
    "xpos = dt.fh5[f\"{dt.samples[0]}/primary/data/ss_sx\"][...]\n",
    "ypos = dt.fh5[f\"{dt.samples[0]}/primary/data/ss_sz\"][...]\n",
    "plt.figure()\n",
    "plt.plot(xpos, ypos)"
   ]
  },
  {
   "cell_type": "code",
   "execution_count": 8,
   "metadata": {},
   "outputs": [
    {
     "data": {
      "text/plain": [
       "array([5.825037, 5.830001, 5.835   , 5.840003, 5.844997, 5.850001,\n",
       "       5.854997, 5.860002, 5.865003, 5.869998, 5.875   , 5.880002,\n",
       "       5.884999, 5.89    , 5.895001, 5.899999, 5.904998, 5.909997,\n",
       "       5.915   , 5.920001, 5.925002, 5.930002, 5.935   , 5.940003,\n",
       "       5.945   , 5.950002, 5.955001, 5.959999, 5.965002, 5.970004,\n",
       "       5.974999, 5.980002, 5.984999, 5.989998, 5.994999, 5.999998,\n",
       "       6.004998, 6.01    , 6.014998, 6.020002, 6.024999, 6.03    ,\n",
       "       6.035   , 6.04    , 6.045   , 6.049998, 6.054997, 6.06    ,\n",
       "       6.064999, 6.07    , 6.074999, 6.080001, 6.085001, 6.089998,\n",
       "       6.090271, 6.100001, 6.104998, 6.11    , 6.115001, 6.119998,\n",
       "       6.125002, 6.13    , 6.135002, 6.134994, 6.130001, 6.124997,\n",
       "       6.120002, 6.115002, 6.110005, 6.104998, 6.100001, 6.099137,\n",
       "       6.09    , 6.085   , 6.080001, 6.079699, 6.070002, 6.065   ,\n",
       "       6.060002, 6.055   , 6.049998, 6.044999, 6.039998, 6.039646,\n",
       "       6.029999, 6.025001, 6.020001, 6.015003, 6.01    , 6.004999,\n",
       "       5.999999, 5.995001, 5.990002, 5.984999, 5.979999, 5.975002,\n",
       "       5.97    , 5.965002, 5.960001, 5.955   , 5.954602, 5.945003,\n",
       "       5.939999, 5.935001, 5.934748, 5.925   , 5.920002, 5.915001,\n",
       "       5.914283, 5.905   , 5.9     , 5.895   , 5.889998, 5.885001,\n",
       "       5.879999, 5.874998, 5.869998, 5.869341, 5.86    , 5.855   ])"
      ]
     },
     "execution_count": 8,
     "metadata": {},
     "output_type": "execute_result"
    }
   ],
   "source": [
    "ypos[:120]"
   ]
  },
  {
   "cell_type": "code",
   "execution_count": 6,
   "metadata": {},
   "outputs": [
    {
     "data": {
      "text/plain": [
       "45390.687999999995"
      ]
     },
     "execution_count": 6,
     "metadata": {},
     "output_type": "execute_result"
    }
   ],
   "source": [
    "dt.d1s['2016_B8']['merged'][300].trans"
   ]
  },
  {
   "cell_type": "code",
   "execution_count": 4,
   "metadata": {},
   "outputs": [
    {
     "data": {
      "application/vnd.jupyter.widget-view+json": {
       "model_id": "e8cbc29aa13f44ed8904989a8356c868",
       "version_major": 2,
       "version_minor": 0
      },
      "text/plain": [
       "Canvas(toolbar=Toolbar(toolitems=[('Home', 'Reset original view', 'home', 'home'), ('Back', 'Back to previous …"
      ]
     },
     "metadata": {},
     "output_type": "display_data"
    }
   ],
   "source": [
    "dt.d1s['2016_B8']['merged'][300].plot()"
   ]
  },
  {
   "cell_type": "code",
   "execution_count": 6,
   "metadata": {},
   "outputs": [
    {
     "data": {
      "application/vnd.jupyter.widget-view+json": {
       "model_id": "31b54d027bd24b50aa6cab41406b6011",
       "version_major": 2,
       "version_minor": 0
      },
      "text/plain": [
       "Canvas(toolbar=Toolbar(toolitems=[('Home', 'Reset original view', 'home', 'home'), ('Back', 'Back to previous …"
      ]
     },
     "metadata": {},
     "output_type": "display_data"
    }
   ],
   "source": [
    "dt.d1s['2016_B8']['merged'][300].plot()"
   ]
  },
  {
   "cell_type": "code",
   "execution_count": 8,
   "metadata": {},
   "outputs": [
    {
     "data": {
      "text/plain": [
       "45639.848"
      ]
     },
     "execution_count": 8,
     "metadata": {},
     "output_type": "execute_result"
    }
   ],
   "source": [
    "dt0.d1s['mica']['merged'][10].trans"
   ]
  },
  {
   "cell_type": "code",
   "execution_count": 5,
   "metadata": {},
   "outputs": [
    {
     "data": {
      "application/vnd.jupyter.widget-view+json": {
       "model_id": "beccb9ae9bc84cac8a29c52609783d3d",
       "version_major": 2,
       "version_minor": 0
      },
      "text/plain": [
       "Canvas(toolbar=Toolbar(toolitems=[('Home', 'Reset original view', 'home', 'home'), ('Back', 'Back to previous …"
      ]
     },
     "metadata": {},
     "output_type": "display_data"
    }
   ],
   "source": [
    "dt0.d1s['mica']['merged'][10].plot()"
   ]
  },
  {
   "cell_type": "code",
   "execution_count": 9,
   "metadata": {},
   "outputs": [],
   "source": [
    "d1 = dt.d1s['2016_B8']['merged'][300].bkg_cor(dt0.d1s['mica']['merged'][10])"
   ]
  },
  {
   "cell_type": "code",
   "execution_count": 10,
   "metadata": {},
   "outputs": [
    {
     "data": {
      "application/vnd.jupyter.widget-view+json": {
       "model_id": "5cc7b68e69e4447b89fe935c98796dc9",
       "version_major": 2,
       "version_minor": 0
      },
      "text/plain": [
       "Canvas(toolbar=Toolbar(toolitems=[('Home', 'Reset original view', 'home', 'home'), ('Back', 'Back to previous …"
      ]
     },
     "metadata": {},
     "output_type": "display_data"
    }
   ],
   "source": [
    "d1.plot()"
   ]
  },
  {
   "cell_type": "code",
   "execution_count": 30,
   "metadata": {},
   "outputs": [
    {
     "data": {
      "application/vnd.jupyter.widget-view+json": {
       "model_id": "86b542cd6f8c4e35a346a17c6b642863",
       "version_major": 2,
       "version_minor": 0
      },
      "text/plain": [
       "Canvas(toolbar=Toolbar(toolitems=[('Home', 'Reset original view', 'home', 'home'), ('Back', 'Back to previous …"
      ]
     },
     "metadata": {},
     "output_type": "display_data"
    }
   ],
   "source": [
    "dt0.show_data(logScale=True, clim=(0.05, 10), showRef=[[0.33], \"r--\"], showMask=True)"
   ]
  },
  {
   "cell_type": "code",
   "execution_count": 29,
   "metadata": {},
   "outputs": [],
   "source": [
    "dt0.detectors[0].exp_para.mask.add_item(\"h\", [468, 697, 792])"
   ]
  },
  {
   "cell_type": "code",
   "execution_count": 21,
   "metadata": {},
   "outputs": [
    {
     "name": "stdout",
     "output_type": "stream",
     "text": [
      "Object `exp_para.mask.add_item` not found.\n"
     ]
    }
   ],
   "source": [
    "dt.detectors[0].exp_para.mask.add_item?"
   ]
  },
  {
   "cell_type": "code",
   "execution_count": null,
   "metadata": {},
   "outputs": [],
   "source": [
    "dt.detectors[0].exp_para.mask.add_item"
   ]
  },
  {
   "cell_type": "code",
   "execution_count": 19,
   "metadata": {},
   "outputs": [
    {
     "data": {
      "text/plain": [
       "791.4101338749713"
      ]
     },
     "execution_count": 19,
     "metadata": {},
     "output_type": "execute_result"
    }
   ],
   "source": [
    "np.sqrt((971-468)**2+(697-86)**2)"
   ]
  },
  {
   "cell_type": "code",
   "execution_count": null,
   "metadata": {},
   "outputs": [],
   "source": []
  }
 ],
 "metadata": {
  "kernelspec": {
   "display_name": "Python 3",
   "language": "python",
   "name": "python3"
  },
  "language_info": {
   "codemirror_mode": {
    "name": "ipython",
    "version": 3
   },
   "file_extension": ".py",
   "mimetype": "text/x-python",
   "name": "python",
   "nbconvert_exporter": "python",
   "pygments_lexer": "ipython3",
   "version": "3.8.6"
  }
 },
 "nbformat": 4,
 "nbformat_minor": 4
}
