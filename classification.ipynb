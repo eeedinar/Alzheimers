{
 "cells": [
  {
   "cell_type": "code",
   "execution_count": 102,
   "id": "3dec5065-49ff-4bf7-9380-bcc92e8b1123",
   "metadata": {},
   "outputs": [
    {
     "name": "stdout",
     "output_type": "stream",
     "text": [
      "Python directory is set to load samples from : 20-Dec\n"
     ]
    }
   ],
   "source": [
    "#### load packages, *.h5 folder and exp.h5 file location\n",
    "%matplotlib widget\n",
    "\n",
    "from essential_func import *\n",
    "from analysis_data import *\n",
    "\n",
    "qgrid2 = np.hstack([np.arange(0.005, 0.0499, 0.001), np.arange(0.05, 0.099, 0.002), np.arange(0.1, 3.2, 0.005)])\n",
    "\n",
    "default_sample_dir = '20-Dec'  #'July-sorted'  # '20-Dec' # 'July-2021-Sample#6'\n",
    "csv_and_code_abs_directory = '/Users/bashit.a/Documents/Alzheimer/Codes/'\n",
    "samples_csv = 'data_directory.csv'\n",
    "\n",
    "dropdown_name_list, cwd, exp_folder = change_python_path(dropdown_name = default_sample_dir, csv_file_location = csv_and_code_abs_directory, samples_csv = samples_csv)"
   ]
  },
  {
   "cell_type": "code",
   "execution_count": 2,
   "id": "669dfc85-7a38-4bcd-a332-f0b9270b844f",
   "metadata": {},
   "outputs": [
    {
     "data": {
      "application/vnd.jupyter.widget-view+json": {
       "model_id": "0d04855577e74bb2bde73f0ed8fdd768",
       "version_major": 2,
       "version_minor": 0
      },
      "text/plain": [
       "HBox(children=(Dropdown(description='File : ', options=('._1934_B8_masked.h5', '._1934_SN.h5', '._2048_B8_mask…"
      ]
     },
     "metadata": {},
     "output_type": "display_data"
    },
    {
     "data": {
      "application/vnd.jupyter.widget-view+json": {
       "model_id": "49a83b6d3d714a849fc0103207bd93dc",
       "version_major": 2,
       "version_minor": 0
      },
      "text/plain": [
       "HBox(children=(IntSlider(value=4, continuous_update=False, description='N-point : ', max=10, min=1), Checkbox(…"
      ]
     },
     "metadata": {},
     "output_type": "display_data"
    },
    {
     "data": {
      "application/vnd.jupyter.widget-view+json": {
       "model_id": "d33def87398b485b9fb7fc9d0d0973ce",
       "version_major": 2,
       "version_minor": 0
      },
      "text/plain": [
       "HBox(children=(VBox(children=(IntSlider(value=4, continuous_update=False, description='clusters', max=20, min=…"
      ]
     },
     "metadata": {},
     "output_type": "display_data"
    }
   ],
   "source": [
    "#### GMM and t-SNE plot\n",
    "import functools\n",
    "\n",
    "### figures output widgets\n",
    "out1 = ipywidgets.Output()\n",
    "out2 = ipywidgets.Output()\n",
    "\n",
    "### GMM model\n",
    "def train_GMM(X, n_components):\n",
    "    from sklearn.mixture import GaussianMixture               # import package\n",
    "    gaussian_model = GaussianMixture(n_components=n_components)          # define the model\n",
    "    \n",
    "    from sklearn import cluster\n",
    "    #birch = cluster.Birch(n_clusters=n_components)\n",
    "    \n",
    "    gaussian_model.fit(X)                                     # train the model\n",
    "    labels = gaussian_model.predict(X)                        # assign each data point to a cluster\n",
    "    return labels\n",
    "\n",
    "@out1.capture(clear_output=True)\n",
    "def unsupervised_map(file, labels, clusters):\n",
    "    f1, ax1 = plt.subplots(num=1)\n",
    "    plot_labels(file, labels, title='GMM', args = (f1, ax1), cmap = discrete_cmap( N= len(np.unique(labels)), base_cmap = 'brg') )   # discrete_cmap( N= len(np.unique(labels)), base_cmap = 'brg') 'Pastel1'\n",
    "\n",
    "@out2.capture(clear_output=True)\n",
    "def manifold_plot(X, labels, perplexity, n_iter, animation):\n",
    "    tsne_data = manifold_tsne(X, perplexity, n_iter, dim=3)\n",
    "    print(animation)\n",
    "    f2, ax2 = plt.subplots(num=2)\n",
    "    plot_3d(tsne_data, labels, args = (f2,ax2), cmap = discrete_cmap( N= len(np.unique(labels)), base_cmap = 'brg'))  # discrete_cmap( N= len(np.unique(labels)), base_cmap = 'bwr')   'Pastel1'\n",
    "    if animation: plot_3d_animation(tsne_data, labels, elev=35, azim=60, anim_frames=100, anim_interval=10)\n",
    "\n",
    "def on_button_clicked_params():\n",
    "    return dropdown.value, search_q.value, n_point.value, normalize.value, clusters.value, perplexity.value, n_iter.value, animation.value\n",
    "\n",
    "def on_button_clicked(_):   # \n",
    "    %matplotlib widget\n",
    "    \n",
    "    ### get function arguments\n",
    "    dropdown, search_q, n_point, normalize, clusters, perplexity, n_iter, animation = on_button_clicked_params()\n",
    "    \n",
    "    ### Data preprocessing\n",
    "    q_min, q_max = search_q\n",
    "    X = file_preprocess(file = dropdown, window_size=n_point, qgrid=qgrid2, q_min=q_min, q_max=q_max, normalize=normalize)\n",
    "    \n",
    "    ### Unsupervised model training and visualizing\n",
    "    labels = train_GMM(X, n_components=clusters)\n",
    "    labels = sort_labels(labels)\n",
    "    unsupervised_map(dropdown, labels, clusters)\n",
    "    manifold_plot(X, labels, perplexity, n_iter, animation)\n",
    "    \n",
    "### file selection and operation widgets  \n",
    "files      = cwd_files_search_with('.h5')\n",
    "dropdown   = ipywidgets.Dropdown(options= files, value = files[0], description='File : ', disabled=False)\n",
    "search_q   = ipywidgets.FloatRangeSlider( value=(1.0, 2.0), min=qgrid2[0],   max=qgrid2[-1], step=0.0001,   description='q Range:',  disabled=False,  continuous_update=False,  layout=ipywidgets.Layout(width='40%'), orientation='horizontal',  readout=True, readout_format='.3f',)\n",
    "n_point    = ipywidgets.IntSlider(value=4,                   min=1,         max=10, step=1, description='N-point : ', continuous_update=False, )\n",
    "normalize  = ipywidgets.Checkbox(value=False, description='Normalize', disabled=False, indent=False )\n",
    "\n",
    "### clustering and manifold widgets\n",
    "clusters   = ipywidgets.IntSlider(value=4, min=1, max=20, step=1, description='clusters', continuous_update=False          )\n",
    "perplexity = ipywidgets.IntSlider(value=30, min=10, max=1000, step=10, description='perplexity', continuous_update=False   )\n",
    "n_iter     = ipywidgets.IntSlider(value=1000, min=500, max=10000, step=500, description='n_iter', continuous_update=False  )\n",
    "button     = ipywidgets.Button(description='Go!');                                      button.style.button_color = \"green\";\n",
    "\n",
    "button.on_click(on_button_clicked)\n",
    "\n",
    "### animation object\n",
    "animation  = ipywidgets.Checkbox(value=False, description='Animation', disabled=False, indent=False )\n",
    "\n",
    "\n",
    "display(ipywidgets.HBox([dropdown, search_q  ]))\n",
    "display(ipywidgets.HBox([n_point, normalize, animation ]))\n",
    "display(ipywidgets.HBox([ipywidgets.VBox([clusters, perplexity, n_iter, button]), out1, out2]))"
   ]
  },
  {
   "cell_type": "code",
   "execution_count": 6,
   "id": "983ea877-03da-450d-bd45-3192a5df6989",
   "metadata": {},
   "outputs": [
    {
     "data": {
      "application/vnd.jupyter.widget-view+json": {
       "model_id": "a87daca8cadf4c0bbca4bc7de59d4a78",
       "version_major": 2,
       "version_minor": 0
      },
      "text/plain": [
       "HBox(children=(Dropdown(description='File : ', options=('._1934_B8_masked.h5', '._1934_SN.h5', '._2048_B8_mask…"
      ]
     },
     "metadata": {},
     "output_type": "display_data"
    },
    {
     "data": {
      "application/vnd.jupyter.widget-view+json": {
       "model_id": "44b26ef7a644486ab087e54d4e9e6386",
       "version_major": 2,
       "version_minor": 0
      },
      "text/plain": [
       "HBox(children=(IntSlider(value=4, continuous_update=False, description='N-point : ', max=10, min=1), Checkbox(…"
      ]
     },
     "metadata": {},
     "output_type": "display_data"
    },
    {
     "data": {
      "application/vnd.jupyter.widget-view+json": {
       "model_id": "b94ad3ea60454423b7981abcfaf798a5",
       "version_major": 2,
       "version_minor": 0
      },
      "text/plain": [
       "HBox(children=(VBox(children=(IntSlider(value=4, continuous_update=False, description='clusters', max=20, min=…"
      ]
     },
     "metadata": {},
     "output_type": "display_data"
    }
   ],
   "source": [
    "### Data preprocessing\n",
    "# file = \"2048 B8 masked.h5\"\n",
    "# q_min, q_max = qgrid2[0], qgrid2[-1]\n",
    "# X = file_preprocess(file = dropdown.value, window_size=n_point.value, qgrid=qgrid2, q_min=q_min, q_max=q_max, normalize=normalize.value)\n",
    "\n",
    "### file selection and operation widgets  \n",
    "files      = cwd_files_search_with('.h5')\n",
    "dropdown   = ipywidgets.Dropdown(options= files, value = files[0], description='File : ', disabled=False)\n",
    "n_point    = ipywidgets.IntSlider(value=4,                   min=1,         max=10, step=1, description='N-point : ', continuous_update=False, )\n",
    "normalize  = ipywidgets.Checkbox(value=False, description='Normalize', disabled=False, indent=False )\n",
    "\n",
    "### clustering and manifold widgets\n",
    "clusters   = ipywidgets.IntSlider(value=4, min=1, max=20, step=1, description='clusters', continuous_update=False          )\n",
    "button     = ipywidgets.Button(description='Go!');                                      button.style.button_color = \"green\";\n",
    "\n",
    "def on_button_clicked_params():\n",
    "    return dropdown.value, n_point.value, normalize.value, clusters.value, animation.value\n",
    "\n",
    "def on_button_clicked(_):   # \n",
    "    %matplotlib widget\n",
    "    \n",
    "    ### get function arguments\n",
    "    dropdown, n_point, normalize, clusters, perplexity, n_iter, animation = on_button_clicked_params()\n",
    "    \n",
    "    ### Data preprocessing\n",
    "    q_min, q_max = qgrid2[0], qgrid2[-1]\n",
    "    X = file_preprocess(file = dropdown, window_size=n_point, qgrid=qgrid2, q_min=q_min, q_max=q_max, normalize=normalize)\n",
    "    \n",
    "    ### Unsupervised model training and visualizing\n",
    "    labels = train_GMM(X, n_components=clusters)\n",
    "    labels = sort_labels(labels)\n",
    "    unsupervised_map(dropdown, labels, clusters)\n",
    "    manifold_plot(X, labels, perplexity, n_iter, animation)\n",
    "\n",
    "button.on_click(on_button_clicked)\n",
    "\n",
    "### animation object\n",
    "animation  = ipywidgets.Checkbox(value=False, description='Animation', disabled=False, indent=False )\n",
    "\n",
    "\n",
    "display(ipywidgets.HBox([dropdown,  ]))\n",
    "display(ipywidgets.HBox([n_point, normalize, animation ]))\n",
    "display(ipywidgets.HBox([ipywidgets.VBox([clusters, button]), out1, out2]))"
   ]
  },
  {
   "cell_type": "code",
   "execution_count": 72,
   "id": "5948d3c9-59cf-49ab-9df9-591ab2ab2166",
   "metadata": {},
   "outputs": [
    {
     "data": {
      "text/plain": [
       "(4941, 576)"
      ]
     },
     "execution_count": 72,
     "metadata": {},
     "output_type": "execute_result"
    }
   ],
   "source": [
    "q_min, q_max = qgrid2[indices]\n",
    "X = file_preprocess(file = dropdown.value, window_size=n_point.value, qgrid=qgrid2, q_min=q_min, q_max=q_max, normalize=normalize.value)"
   ]
  },
  {
   "cell_type": "code",
   "execution_count": 74,
   "id": "3623c06e-b578-4b32-821c-9b228280762f",
   "metadata": {},
   "outputs": [
    {
     "data": {
      "text/plain": [
       "array([0.02094909, 0.0213352 , 0.02015027, ..., 0.02158781, 0.02102682,\n",
       "       0.0207962 ])"
      ]
     },
     "execution_count": 74,
     "metadata": {},
     "output_type": "execute_result"
    }
   ],
   "source": []
  },
  {
   "cell_type": "code",
   "execution_count": 75,
   "id": "238d93e5-1846-4b88-9e64-9ca9763f1b77",
   "metadata": {},
   "outputs": [
    {
     "data": {
      "text/plain": [
       "[2, 578]"
      ]
     },
     "execution_count": 75,
     "metadata": {},
     "output_type": "execute_result"
    }
   ],
   "source": [
    "### looking for zeros in the merged dataset\n",
    "def search_indices_for_non_zero(Iq):\n",
    "    indices = []\n",
    "\n",
    "    for i in range(0,Iq.shape[1],1):\n",
    "        if np.sum(Iq[:,i])!=0:\n",
    "            indices.append(i)\n",
    "            break\n",
    "\n",
    "    for i in range(Iq.shape[1]-1,0,-1):\n",
    "        if np.sum(Iq[:,i])!=0:\n",
    "            indices.append(i)\n",
    "            break\n",
    "    return indices\n",
    "indices = search_indices_for_non_zero(Iq)\n",
    "\n",
    "indices"
   ]
  },
  {
   "cell_type": "code",
   "execution_count": 86,
   "id": "ec3374cc-fd4e-4098-b210-67b1b7e5d1b2",
   "metadata": {},
   "outputs": [
    {
     "data": {
      "application/vnd.jupyter.widget-view+json": {
       "model_id": "c974222e6ec64da7851ea3464b4d2790",
       "version_major": 2,
       "version_minor": 0
      },
      "text/plain": [
       "Tab(children=(Accordion(children=(VBox(children=(HBox(children=(RadioButtons(options=('all', 'trained', 'testi…"
      ]
     },
     "metadata": {},
     "output_type": "display_data"
    }
   ],
   "source": [
    "### visualization\n",
    "qgrid           = np.round(qgrid2[indices[0]:indices[1]],3)\n",
    "from sklearn import preprocessing\n",
    "import plotly.express as px\n",
    "\n",
    "\n",
    "data_input_w    = ipywidgets.RadioButtons(options=['all', 'trained', 'testing'],value='all')\n",
    "preprocessing_w = ipywidgets.RadioButtons(options=['no_scaling', 'min_max', 'standard_scalar'],value='no_scaling')\n",
    "plot_type_w     = ipywidgets.RadioButtons(options=['RAW-DATA', 'PCA'],value='RAW-DATA')\n",
    "dimension_w     = ipywidgets.RadioButtons(options=['2D', '3D'],value='3D')\n",
    "dim_1_w         = ipywidgets.SelectionSlider(options = qgrid, value = qgrid[50], orientation='vertical' , description='x-qgrid', continuous_update=False, style = {'description_width': 'initial'}, readout=True, readout_format='.2f',)\n",
    "dim_2_w         = ipywidgets.SelectionSlider(options = qgrid, value = qgrid[100], orientation='vertical' , description='y-qgrid', continuous_update=False, style = {'description_width': 'initial'},readout=True, readout_format='.2f',)\n",
    "dim_3_w         = ipywidgets.SelectionSlider(options = qgrid, value = qgrid[150], orientation='vertical' , description='z-qgrid', continuous_update=False, style = {'description_width': 'initial'},readout=True, readout_format='.2f',)\n",
    "classifier_w    = ipywidgets.RadioButtons(options=['SVM', 'KMeans', 'Meanshift'],value='SVM')\n",
    "\n",
    "\n",
    "min_max_scaler = preprocessing.MinMaxScaler()\n",
    "scaler         = preprocessing.StandardScaler()\n",
    "\n",
    "def plot_data_func(data_input_w, preprocessing_w, plot_type_w, dimension_w, dim_1_w ,dim_2_w ,dim_3_w ):\n",
    "\n",
    "    q_indices =  np.array([qgrid_to_indices(qgrid, qvalue=qvalue) for qvalue in [dim_1_w ,dim_2_w ,dim_3_w]])\n",
    "    print('{}'.format(qgrid[q_indices]))\n",
    "    \n",
    "    if data_input_w == 'all':\n",
    "        \n",
    "        if preprocessing_w == 'min_max':\n",
    "            x1,y1,z1  = zip(*min_max_scaler.fit_transform(X[:,q_indices]))  \n",
    "        elif preprocessing_w == 'standard_scalar':    \n",
    "            x1,y1,z1  = zip(*scaler.fit_transform(X[:,q_indices]))  \n",
    "        else:\n",
    "            x1,y1,z1 = zip(*X[:,q_indices])\n",
    "\n",
    "        if plot_type_w =='PCA': \n",
    "            x1,y1,z1 = zip(*pca.fit(X).transform(X))\n",
    "    \n",
    "    fig = px.scatter_3d(x=x1, y=y1, z=z1, template=\"plotly_white\")  #  color=label1, symbol=pdb1, hover_name=twist1,\n",
    "    fig.update_layout(\n",
    "        autosize=True,\n",
    "        width=1400,\n",
    "        height=800,)\n",
    "    fig.show()\n",
    "    \n",
    "    \n",
    "plot_data = ipywidgets.interactive_output(plot_data_func, { 'data_input_w' : data_input_w    ,\\\n",
    "                                                            'preprocessing_w' : preprocessing_w ,\\\n",
    "                                                            'plot_type_w': plot_type_w,\\\n",
    "                                                            'dimension_w' : dimension_w     ,\\\n",
    "                                                            'dim_1_w' : dim_1_w         ,\\\n",
    "                                                            'dim_2_w' : dim_2_w         ,\\\n",
    "                                                            'dim_3_w' : dim_3_w     })\n",
    "\n",
    "accordion_data            = ipywidgets.Accordion(children = [ipywidgets.VBox([ipywidgets.HBox([data_input_w, preprocessing_w, plot_type_w, dimension_w, dim_1_w, dim_2_w, dim_3_w, ]), plot_data])], titles   = ['Data'] )\n",
    "accordion_classifier      = ipywidgets.Accordion(children = [classifier_w], titles   = ['Classifier'] )\n",
    "\n",
    "tab = ipywidgets.Tab()\n",
    "tab.children = [accordion_data, accordion_classifier]\n",
    "tab.titles = ['1','4','3']\n",
    "\n",
    "display(tab)"
   ]
  },
  {
   "cell_type": "code",
   "execution_count": 87,
   "id": "f0f782ff-2889-4a3f-b8c8-64d1d87c69f6",
   "metadata": {},
   "outputs": [],
   "source": [
    "img_gray = np.asarray(X, dtype=np.uint8)"
   ]
  },
  {
   "cell_type": "code",
   "execution_count": 92,
   "id": "9732083b-c245-4930-98c3-912f977cf423",
   "metadata": {},
   "outputs": [
    {
     "data": {
      "text/plain": [
       "<AxesSubplot: >"
      ]
     },
     "execution_count": 92,
     "metadata": {},
     "output_type": "execute_result"
    },
    {
     "data": {
      "image/png": "[encoded data removed]",
      "text/plain": [
       "<Figure size 640x480 with 2 Axes>"
      ]
     },
     "metadata": {},
     "output_type": "display_data"
    }
   ],
   "source": [
    "%matplotlib inline\n",
    "import seaborn as sns\n",
    "sns.heatmap(img_gray)"
   ]
  },
  {
   "cell_type": "code",
   "execution_count": 103,
   "id": "b44602ff-1332-47d4-ac21-e3d1a079dc4e",
   "metadata": {},
   "outputs": [
    {
     "name": "stdout",
     "output_type": "stream",
     "text": [
      "Warning: Cannot change to a different GUI toolkit: notebook. Using widget instead.\n"
     ]
    },
    {
     "data": {
      "application/vnd.jupyter.widget-view+json": {
       "model_id": "e1364e2144e54d399144eaf563d3a7fa",
       "version_major": 2,
       "version_minor": 0
      },
      "text/plain": [
       "Button(description='Disconnect mpl', style=ButtonStyle())"
      ]
     },
     "metadata": {},
     "output_type": "display_data"
    },
    {
     "data": {
      "application/vnd.jupyter.widget-view+json": {
       "model_id": "bcaadb0f89f7456795818ca5b36a9a98",
       "version_major": 2,
       "version_minor": 0
      },
      "image/png": "[encoded data removed]",
      "text/html": [
       "\n",
       "            <div style=\"display: inline-block;\">\n",
       "                <div class=\"jupyter-widgets widget-label\" style=\"text-align: center;\">\n",
       "                    Figure\n",
       "                </div>\n",
       "                <img src='data:image/png;base64,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' width=640.0/>\n",
       "            </div>\n",
       "        "
      ],
      "text/plain": [
       "Canvas(toolbar=Toolbar(toolitems=[('Home', 'Reset original view', 'home', 'home'), ('Back', 'Back to previous …"
      ]
     },
     "metadata": {},
     "output_type": "display_data"
    }
   ],
   "source": [
    "%matplotlib widget\n",
    "\n",
    "import matplotlib.pyplot as plt\n",
    "import IPython.display as Disp\n",
    "from ipywidgets import widgets\n",
    "import numpy as np\n",
    "import cv2\n",
    "\n",
    "class bbox_select():\n",
    "    %matplotlib notebook \n",
    "\n",
    "\n",
    "    def __init__(self,im):\n",
    "        self.im = im\n",
    "        self.selected_points = []\n",
    "        self.fig,ax = plt.subplots()\n",
    "        self.img = ax.imshow(self.im.copy())\n",
    "        self.ka = self.fig.canvas.mpl_connect('button_press_event', self.onclick)\n",
    "        disconnect_button = widgets.Button(description=\"Disconnect mpl\")\n",
    "        Disp.display(disconnect_button)\n",
    "        disconnect_button.on_click(self.disconnect_mpl)\n",
    "\n",
    "\n",
    "        \n",
    "    def poly_img(self,img,pts):\n",
    "        pts = np.array(pts, np.int32)\n",
    "        pts = pts.reshape((-1,1,2))\n",
    "        cv2.polylines(img,[pts],True,(np.random.randint(0,255),np.random.randint(0,255),np.random.randint(0,255)),7)\n",
    "        return img\n",
    "\n",
    "    def onclick(self, event):\n",
    "    #display(str(event))\n",
    "        self.selected_points.append([event.xdata,event.ydata])\n",
    "        if len(self.selected_points)>1:\n",
    "            self.fig\n",
    "            self.img.set_data(self.poly_img(self.im.copy(),self.selected_points))\n",
    "    def disconnect_mpl(self,_):\n",
    "        self.fig.canvas.mpl_disconnect(self.ka)\n",
    "\n",
    "        \n",
    "\n",
    "bs = bbox_select(img_gray)\n",
    "            "
   ]
  },
  {
   "cell_type": "code",
   "execution_count": null,
   "id": "84b5d164-b2e4-4dd6-8ba5-d44f737e903c",
   "metadata": {},
   "outputs": [],
   "source": []
  }
 ],
 "metadata": {
  "kernelspec": {
   "display_name": "Python 3 (ipykernel)",
   "language": "python",
   "name": "python3"
  },
  "language_info": {
   "codemirror_mode": {
    "name": "ipython",
    "version": 3
   },
   "file_extension": ".py",
   "mimetype": "text/x-python",
   "name": "python",
   "nbconvert_exporter": "python",
   "pygments_lexer": "ipython3",
   "version": "3.9.15"
  }
 },
 "nbformat": 4,
 "nbformat_minor": 5
}
