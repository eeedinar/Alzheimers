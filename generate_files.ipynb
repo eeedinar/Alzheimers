{
 "cells": [
  {
   "cell_type": "code",
   "execution_count": 20,
   "id": "conservative-aquatic",
   "metadata": {},
   "outputs": [],
   "source": [
    "%matplotlib widget\n",
    "from generate_files import *\n",
    "os.chdir('/Users/bashit.a/Documents/Alzheimer/Dec-2020/')   # location where your h5 and exp file are   Dec-2020      Mar-24/BNL-Data/        July-2021/BNL-Data/sample-3/\n",
    "\n",
    "## semi-specs\n",
    "qgrid2 = np.hstack([np.arange(0.005, 0.0499, 0.001), np.arange(0.05, 0.099, 0.002), np.arange(0.1, 3.2, 0.005)])"
   ]
  },
  {
   "cell_type": "code",
   "execution_count": 23,
   "id": "verbal-indicator",
   "metadata": {},
   "outputs": [
    {
     "name": "stdout",
     "output_type": "stream",
     "text": [
      "low valid idx = 2, low valid Q = 0.007, high valid idx = 124 , high valid Q = 0.370\n",
      "_SAXS Q = , [0.007 0.008 0.009 0.01  0.011 0.012 0.013 0.014 0.015 0.016 0.017 0.018\n",
      " 0.019 0.02  0.021 0.022 0.023 0.024 0.025 0.026 0.027 0.028 0.029 0.03\n",
      " 0.031 0.032 0.033 0.034 0.035 0.036 0.037 0.038 0.039 0.04  0.041 0.042\n",
      " 0.043 0.044 0.045 0.046 0.047 0.048 0.049 0.05  0.052 0.054 0.056 0.058\n",
      " 0.06  0.062 0.064 0.066 0.068 0.07  0.072 0.074 0.076 0.078 0.08  0.082\n",
      " 0.084 0.086 0.088 0.09  0.092 0.094 0.096 0.098 0.1   0.105 0.11  0.115\n",
      " 0.12  0.125 0.13  0.135 0.14  0.145 0.15  0.155 0.16  0.165 0.17  0.175\n",
      " 0.18  0.185 0.19  0.195 0.2   0.205 0.21  0.215 0.22  0.225 0.23  0.235\n",
      " 0.24  0.245 0.25  0.255 0.26  0.265 0.27  0.275 0.28  0.285 0.29  0.295\n",
      " 0.3   0.305 0.31  0.315 0.32  0.325 0.33  0.335 0.34  0.345 0.35  0.355\n",
      " 0.36  0.365 0.37 ]\n",
      "\n",
      "\n",
      "Successfully generated CSV for 2048_B8_masked.h5 \n",
      "\n",
      "\n"
     ]
    }
   ],
   "source": [
    "## Generate Excel file of 1-d averaging for SAXS and WAXS data\n",
    "# specs\n",
    "files = [\"2048_B8_masked.h5\",]    # [\"2048_B8_masked.h5\",] or cwd_files_search_with(seek_str='_masked.h5')\n",
    "scattering = '_SAXS'   # '_SAXS', '_WAXS2', 'merged'\n",
    "\n",
    "\n",
    "\n",
    "for file in files:\n",
    "    #generate_excel_file(file, qgrid2, scattering, method='one-frame', frame=0)\n",
    "    generate_excel_file(file, qgrid2, scattering, method='all-frames')\n",
    "    print(f'\\n\\nSuccessfully generated CSV for {file} \\n\\n')"
   ]
  },
  {
   "cell_type": "code",
   "execution_count": 5,
   "id": "identified-springer",
   "metadata": {},
   "outputs": [],
   "source": [
    "## export to Matlab mat format (to be working with Biel data)\n",
    "file = '2016_B8.h5'\n",
    "scattering = 'merged'\n",
    "with h5py.File(file,'r') as hdf:\n",
    "    Iq = hdf.get(file.split('.')[0] + '/processed')        # Iq = hdf.get('2048_B16/processed')\n",
    "    Iq = np.array(Iq.get(scattering))                      # Iq = np.array(2048_B16/processed/merged')\n",
    "    Iq = Iq[:,0,:]                                         # Iq shape (3721, 690)\n",
    "    Iq = np.expand_dims(Iq,axis=1)                         # Iq shape (3721, 1, 690)\n",
    "\n",
    "    if not os.path.exists('MATLAB'):\n",
    "        os.makedirs('MATLAB')\n",
    "    mat_contents = {}\n",
    "    mat_contents['SAXS_CircAv'] = {}\n",
    "    mat_contents['SAXS_CircAv']['BandAngles'] = qgrid2\n",
    "    mat_contents['SAXS_CircAv']['CircAv'] = Iq\n",
    "    sio.savemat(f'{file}.mat', mat_contents);\n",
    "    "
   ]
  },
  {
   "cell_type": "code",
   "execution_count": 4,
   "id": "northern-bench",
   "metadata": {
    "collapsed": true,
    "jupyter": {
     "outputs_hidden": true
    }
   },
   "outputs": [
    {
     "name": "stdout",
     "output_type": "stream",
     "text": [
      "Loading file 1934_B8_masked.h5\n"
     ]
    },
    {
     "data": {
      "application/vnd.jupyter.widget-view+json": {
       "model_id": "ac508a6d195e46419d5cb6573d3197ce",
       "version_major": 2,
       "version_minor": 0
      },
      "text/plain": [
       "Canvas(toolbar=Toolbar(toolitems=[('Home', 'Reset original view', 'home', 'home'), ('Back', 'Back to previous …"
      ]
     },
     "metadata": {},
     "output_type": "display_data"
    },
    {
     "name": "stdout",
     "output_type": "stream",
     "text": [
      "low valid idx = 2, low valid Q = 0.007, high valid idx = 124 , high valid Q = 0.370\n",
      "low valid idx = 109, low valid Q = 0.295, high valid idx = 578 , high valid Q = 2.640\n",
      "1934_B8_masked.h5 Task Finished. Figure Number =  1\n",
      "Loading file 1934_SN_masked.h5\n"
     ]
    },
    {
     "data": {
      "application/vnd.jupyter.widget-view+json": {
       "model_id": "76ab344c1c904d329a1ebec3aa43a5b5",
       "version_major": 2,
       "version_minor": 0
      },
      "text/plain": [
       "Canvas(toolbar=Toolbar(toolitems=[('Home', 'Reset original view', 'home', 'home'), ('Back', 'Back to previous …"
      ]
     },
     "metadata": {},
     "output_type": "display_data"
    },
    {
     "name": "stdout",
     "output_type": "stream",
     "text": [
      "low valid idx = 2, low valid Q = 0.007, high valid idx = 124 , high valid Q = 0.370\n",
      "low valid idx = 109, low valid Q = 0.295, high valid idx = 578 , high valid Q = 2.640\n",
      "1934_SN_masked.h5 Task Finished. Figure Number =  2\n",
      "Loading file 1934_SNa_masked.h5\n"
     ]
    },
    {
     "data": {
      "application/vnd.jupyter.widget-view+json": {
       "model_id": "d312c218b29f4f87b3e17a0650d8b72c",
       "version_major": 2,
       "version_minor": 0
      },
      "text/plain": [
       "Canvas(toolbar=Toolbar(toolitems=[('Home', 'Reset original view', 'home', 'home'), ('Back', 'Back to previous …"
      ]
     },
     "metadata": {},
     "output_type": "display_data"
    },
    {
     "name": "stdout",
     "output_type": "stream",
     "text": [
      "low valid idx = 2, low valid Q = 0.007, high valid idx = 124 , high valid Q = 0.370\n",
      "low valid idx = 109, low valid Q = 0.295, high valid idx = 578 , high valid Q = 2.640\n",
      "1934_SNa_masked.h5 Task Finished. Figure Number =  3\n",
      "Loading file 1943_B1_masked.h5\n"
     ]
    },
    {
     "data": {
      "application/vnd.jupyter.widget-view+json": {
       "model_id": "6b48b5f45404473e89f10d2155744d5e",
       "version_major": 2,
       "version_minor": 0
      },
      "text/plain": [
       "Canvas(toolbar=Toolbar(toolitems=[('Home', 'Reset original view', 'home', 'home'), ('Back', 'Back to previous …"
      ]
     },
     "metadata": {},
     "output_type": "display_data"
    },
    {
     "name": "stdout",
     "output_type": "stream",
     "text": [
      "low valid idx = 2, low valid Q = 0.007, high valid idx = 124 , high valid Q = 0.370\n",
      "low valid idx = 109, low valid Q = 0.295, high valid idx = 578 , high valid Q = 2.640\n",
      "1943_B1_masked.h5 Task Finished. Figure Number =  4\n",
      "Loading file 1943_B1a_masked.h5\n"
     ]
    },
    {
     "data": {
      "application/vnd.jupyter.widget-view+json": {
       "model_id": "38a009aa524c4aebb9485d79cd0e5f9f",
       "version_major": 2,
       "version_minor": 0
      },
      "text/plain": [
       "Canvas(toolbar=Toolbar(toolitems=[('Home', 'Reset original view', 'home', 'home'), ('Back', 'Back to previous …"
      ]
     },
     "metadata": {},
     "output_type": "display_data"
    },
    {
     "name": "stdout",
     "output_type": "stream",
     "text": [
      "low valid idx = 2, low valid Q = 0.007, high valid idx = 124 , high valid Q = 0.370\n",
      "low valid idx = 109, low valid Q = 0.295, high valid idx = 578 , high valid Q = 2.640\n",
      "1943_B1a_masked.h5 Task Finished. Figure Number =  5\n",
      "Loading file 2016_B8_masked.h5\n"
     ]
    },
    {
     "data": {
      "application/vnd.jupyter.widget-view+json": {
       "model_id": "365321fd1d9a48b88f0f35c3cba1c396",
       "version_major": 2,
       "version_minor": 0
      },
      "text/plain": [
       "Canvas(toolbar=Toolbar(toolitems=[('Home', 'Reset original view', 'home', 'home'), ('Back', 'Back to previous …"
      ]
     },
     "metadata": {},
     "output_type": "display_data"
    },
    {
     "name": "stdout",
     "output_type": "stream",
     "text": [
      "low valid idx = 2, low valid Q = 0.007, high valid idx = 124 , high valid Q = 0.370\n",
      "low valid idx = 109, low valid Q = 0.295, high valid idx = 578 , high valid Q = 2.640\n",
      "2016_B8_masked.h5 Task Finished. Figure Number =  6\n",
      "Loading file 2016_B8a_masked.h5\n"
     ]
    },
    {
     "data": {
      "application/vnd.jupyter.widget-view+json": {
       "model_id": "ff0bfd1da5954b38a9cddb1f61130a0b",
       "version_major": 2,
       "version_minor": 0
      },
      "text/plain": [
       "Canvas(toolbar=Toolbar(toolitems=[('Home', 'Reset original view', 'home', 'home'), ('Back', 'Back to previous …"
      ]
     },
     "metadata": {},
     "output_type": "display_data"
    },
    {
     "name": "stdout",
     "output_type": "stream",
     "text": [
      "low valid idx = 2, low valid Q = 0.007, high valid idx = 124 , high valid Q = 0.370\n",
      "low valid idx = 109, low valid Q = 0.295, high valid idx = 578 , high valid Q = 2.640\n",
      "2016_B8a_masked.h5 Task Finished. Figure Number =  7\n",
      "Loading file 2016_B8b_masked.h5\n"
     ]
    },
    {
     "data": {
      "application/vnd.jupyter.widget-view+json": {
       "model_id": "5aaf30b3122c4c26b148c86ace46fcaf",
       "version_major": 2,
       "version_minor": 0
      },
      "text/plain": [
       "Canvas(toolbar=Toolbar(toolitems=[('Home', 'Reset original view', 'home', 'home'), ('Back', 'Back to previous …"
      ]
     },
     "metadata": {},
     "output_type": "display_data"
    },
    {
     "name": "stdout",
     "output_type": "stream",
     "text": [
      "low valid idx = 2, low valid Q = 0.007, high valid idx = 124 , high valid Q = 0.370\n",
      "low valid idx = 109, low valid Q = 0.295, high valid idx = 578 , high valid Q = 2.640\n",
      "2016_B8b_masked.h5 Task Finished. Figure Number =  8\n",
      "Loading file 2016_B8c_masked.h5\n"
     ]
    },
    {
     "data": {
      "application/vnd.jupyter.widget-view+json": {
       "model_id": "6fb664e04d3c4cee95c87a9fa4d2076c",
       "version_major": 2,
       "version_minor": 0
      },
      "text/plain": [
       "Canvas(toolbar=Toolbar(toolitems=[('Home', 'Reset original view', 'home', 'home'), ('Back', 'Back to previous …"
      ]
     },
     "metadata": {},
     "output_type": "display_data"
    },
    {
     "name": "stdout",
     "output_type": "stream",
     "text": [
      "low valid idx = 2, low valid Q = 0.007, high valid idx = 124 , high valid Q = 0.370\n",
      "low valid idx = 109, low valid Q = 0.295, high valid idx = 578 , high valid Q = 2.640\n",
      "2016_B8c_masked.h5 Task Finished. Figure Number =  9\n",
      "Loading file 2047_B1_masked.h5\n"
     ]
    },
    {
     "data": {
      "application/vnd.jupyter.widget-view+json": {
       "model_id": "fe585877a6e949748168e8afd5b732cb",
       "version_major": 2,
       "version_minor": 0
      },
      "text/plain": [
       "Canvas(toolbar=Toolbar(toolitems=[('Home', 'Reset original view', 'home', 'home'), ('Back', 'Back to previous …"
      ]
     },
     "metadata": {},
     "output_type": "display_data"
    },
    {
     "name": "stdout",
     "output_type": "stream",
     "text": [
      "low valid idx = 2, low valid Q = 0.007, high valid idx = 124 , high valid Q = 0.370\n",
      "low valid idx = 109, low valid Q = 0.295, high valid idx = 578 , high valid Q = 2.640\n",
      "2047_B1_masked.h5 Task Finished. Figure Number =  10\n",
      "Loading file 2047_B1a_masked.h5\n"
     ]
    },
    {
     "data": {
      "application/vnd.jupyter.widget-view+json": {
       "model_id": "5e9adf06922b479f9b7ef8bb3fca570a",
       "version_major": 2,
       "version_minor": 0
      },
      "text/plain": [
       "Canvas(toolbar=Toolbar(toolitems=[('Home', 'Reset original view', 'home', 'home'), ('Back', 'Back to previous …"
      ]
     },
     "metadata": {},
     "output_type": "display_data"
    },
    {
     "name": "stdout",
     "output_type": "stream",
     "text": [
      "low valid idx = 2, low valid Q = 0.007, high valid idx = 124 , high valid Q = 0.370\n",
      "low valid idx = 109, low valid Q = 0.295, high valid idx = 578 , high valid Q = 2.640\n",
      "2047_B1a_masked.h5 Task Finished. Figure Number =  11\n",
      "Loading file 2048_B16_masked.h5\n"
     ]
    },
    {
     "data": {
      "application/vnd.jupyter.widget-view+json": {
       "model_id": "bafa609ba7f54e5abe6781e9341305b8",
       "version_major": 2,
       "version_minor": 0
      },
      "text/plain": [
       "Canvas(toolbar=Toolbar(toolitems=[('Home', 'Reset original view', 'home', 'home'), ('Back', 'Back to previous …"
      ]
     },
     "metadata": {},
     "output_type": "display_data"
    },
    {
     "name": "stdout",
     "output_type": "stream",
     "text": [
      "low valid idx = 2, low valid Q = 0.007, high valid idx = 124 , high valid Q = 0.370\n",
      "low valid idx = 109, low valid Q = 0.295, high valid idx = 564 , high valid Q = 2.570\n",
      "2048_B16_masked.h5 Task Finished. Figure Number =  12\n",
      "Loading file 2048_B16a_masked.h5\n"
     ]
    },
    {
     "data": {
      "application/vnd.jupyter.widget-view+json": {
       "model_id": "38c7574e582849a0b6cb524f7548e81b",
       "version_major": 2,
       "version_minor": 0
      },
      "text/plain": [
       "Canvas(toolbar=Toolbar(toolitems=[('Home', 'Reset original view', 'home', 'home'), ('Back', 'Back to previous …"
      ]
     },
     "metadata": {},
     "output_type": "display_data"
    },
    {
     "name": "stdout",
     "output_type": "stream",
     "text": [
      "low valid idx = 2, low valid Q = 0.007, high valid idx = 124 , high valid Q = 0.370\n",
      "low valid idx = 109, low valid Q = 0.295, high valid idx = 576 , high valid Q = 2.630\n",
      "2048_B16a_masked.h5 Task Finished. Figure Number =  13\n",
      "Loading file 2048_B16b_masked.h5\n"
     ]
    },
    {
     "data": {
      "application/vnd.jupyter.widget-view+json": {
       "model_id": "473d552aa34943988552697a64f7471b",
       "version_major": 2,
       "version_minor": 0
      },
      "text/plain": [
       "Canvas(toolbar=Toolbar(toolitems=[('Home', 'Reset original view', 'home', 'home'), ('Back', 'Back to previous …"
      ]
     },
     "metadata": {},
     "output_type": "display_data"
    },
    {
     "name": "stdout",
     "output_type": "stream",
     "text": [
      "low valid idx = 2, low valid Q = 0.007, high valid idx = 124 , high valid Q = 0.370\n",
      "low valid idx = 109, low valid Q = 0.295, high valid idx = 576 , high valid Q = 2.630\n",
      "2048_B16b_masked.h5 Task Finished. Figure Number =  14\n",
      "Loading file 2048_B6_masked.h5\n"
     ]
    },
    {
     "data": {
      "application/vnd.jupyter.widget-view+json": {
       "model_id": "9c121b0b55ff4b909d91045289858cfe",
       "version_major": 2,
       "version_minor": 0
      },
      "text/plain": [
       "Canvas(toolbar=Toolbar(toolitems=[('Home', 'Reset original view', 'home', 'home'), ('Back', 'Back to previous …"
      ]
     },
     "metadata": {},
     "output_type": "display_data"
    },
    {
     "name": "stdout",
     "output_type": "stream",
     "text": [
      "low valid idx = 2, low valid Q = 0.007, high valid idx = 124 , high valid Q = 0.370\n",
      "low valid idx = 109, low valid Q = 0.295, high valid idx = 578 , high valid Q = 2.640\n",
      "2048_B6_masked.h5 Task Finished. Figure Number =  15\n",
      "Loading file 2048_B8_masked.h5\n"
     ]
    },
    {
     "data": {
      "application/vnd.jupyter.widget-view+json": {
       "model_id": "5c8c37107a0e43f982674e61cd8d9ecd",
       "version_major": 2,
       "version_minor": 0
      },
      "text/plain": [
       "Canvas(toolbar=Toolbar(toolitems=[('Home', 'Reset original view', 'home', 'home'), ('Back', 'Back to previous …"
      ]
     },
     "metadata": {},
     "output_type": "display_data"
    },
    {
     "name": "stdout",
     "output_type": "stream",
     "text": [
      "low valid idx = 2, low valid Q = 0.007, high valid idx = 124 , high valid Q = 0.370\n",
      "low valid idx = 109, low valid Q = 0.295, high valid idx = 578 , high valid Q = 2.640\n",
      "2048_B8_masked.h5 Task Finished. Figure Number =  16\n",
      "PDF creation Finished\n"
     ]
    }
   ],
   "source": [
    "## heat plots for all files in a folder\n",
    "%matplotlib widget\n",
    "\n",
    "scatterings = ('_SAXS', '_WAXS2')\n",
    "qgrid2 = np.hstack([np.arange(0.005, 0.0499, 0.001), np.arange(0.05, 0.099, 0.002), np.arange(0.1, 3.2, 0.005)])\n",
    "\n",
    "plot_all_heat_maps_cwd('output.pdf', qgrid2, scatterings, seek_str='_masked.h5')"
   ]
  },
  {
   "cell_type": "code",
   "execution_count": 7,
   "id": "mighty-statistics",
   "metadata": {},
   "outputs": [],
   "source": [
    "## generate intensity data from h5 file to mat file\n",
    "\n",
    "file = '2048_B8_masked.h5'\n",
    "read_Iq(file, scattering='merged')\n",
    "save_mat(h5_top_group(file) +'_Iq', ('Iq', 'qgrid2'), (Iq, qgrid2))"
   ]
  },
  {
   "cell_type": "code",
   "execution_count": 9,
   "id": "practical-football",
   "metadata": {},
   "outputs": [
    {
     "name": "stdout",
     "output_type": "stream",
     "text": [
      "                    File  Width  Height  Total_Diff.\n",
      "0        1593_EC-roi0.h5     63      63         3969\n",
      "1        1593_EC-roi1.h5     63      63         3969\n",
      "2   1593_EC_mica-roi0.h5      6       6           36\n",
      "3        1593_FC-roi0.h5     62     124         7688\n",
      "4   1593_FC_mica-roi0.h5      6       6           36\n",
      "5        2109_EC-roi0.h5    124      61         7564\n",
      "6        2109_EC-roi1.h5     63      63         3969\n",
      "7   2109_EC_mica-roi0.h5      6       7           42\n",
      "8        2109_FC-roi0.h5    124      62         7688\n",
      "9   2109_FC_mica-roi0.h5      6       6           36\n",
      "10   sample7_bkg-roi0.h5      6       6           36\n",
      "\n",
      "Total Diffractions in this folder =  35033\n"
     ]
    }
   ],
   "source": [
    "## generate total number of diffraction patterns in a file\n",
    "files_sorted = cwd_files_search_with('.h5', search_where = 'end')\n",
    "\n",
    "df = pd.concat([pd.DataFrame([[file, *width_height(file), np.dot(*width_height(file))]], columns = ['File', 'Width', 'Height', 'Total_Diff.']) for file in files_sorted], ignore_index=True)\n",
    "print(df)\n",
    "print('\\nTotal Diffractions in this folder = ', df.sum()['Total_Diff.'])"
   ]
  },
  {
   "cell_type": "code",
   "execution_count": null,
   "id": "married-explanation",
   "metadata": {},
   "outputs": [],
   "source": [
    "### July 2021 July-18 - Wed-21\n",
    "# Sample#1 - 54281\n",
    "# Sample#2 - 1212\n",
    "# Sample#3 - 15676\n",
    "# Sample#4 - 65422\n",
    "# Sample#5 - 34850\n",
    "# Sample#6 - 65101\n",
    "# Sample#7 - 34847\n",
    "# Sample#8 - 15336\n",
    "# Sample#9 - 61365"
   ]
  }
 ],
 "metadata": {
  "kernelspec": {
   "display_name": "Python 3",
   "language": "python",
   "name": "python3"
  },
  "language_info": {
   "codemirror_mode": {
    "name": "ipython",
    "version": 3
   },
   "file_extension": ".py",
   "mimetype": "text/x-python",
   "name": "python",
   "nbconvert_exporter": "python",
   "pygments_lexer": "ipython3",
   "version": "3.8.6"
  }
 },
 "nbformat": 4,
 "nbformat_minor": 5
}
