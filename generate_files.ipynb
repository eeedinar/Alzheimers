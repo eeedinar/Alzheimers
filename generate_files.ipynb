{
 "cells": [
  {
   "cell_type": "code",
   "execution_count": 1,
   "id": "stainless-cincinnati",
   "metadata": {},
   "outputs": [],
   "source": [
    "%matplotlib widget\n",
    "from generate_files import *\n",
    "os.chdir('/Users/bashit.a/Documents/Alzheimer/Mar-24/BNL-Data')"
   ]
  },
  {
   "cell_type": "code",
   "execution_count": null,
   "id": "circular-processor",
   "metadata": {},
   "outputs": [],
   "source": [
    "## Generate Excel file for SAXS and WAXS data\n",
    "\n",
    "# specs\n",
    "files = [\"1934_B8_masked.h5\",]\n",
    "scattering = 'merged'   # '_SAXS', '_WAXS2', 'merged'\n",
    "\n",
    "## semi-specs\n",
    "qgrid2 = np.hstack([np.arange(0.005, 0.0499, 0.001), np.arange(0.05, 0.099, 0.002), np.arange(0.1, 3.2, 0.005)])\n",
    "\n",
    "for file in files:\n",
    "    #generate_excel_file(file, qgrid2, scattering, method='one-frame', frame=0)\n",
    "    generate_excel_file(file, qgrid2, scattering, method='all-frames')\n",
    "    print(f'\\n\\nSuccessfully generated CSV for {file} \\n\\n')"
   ]
  },
  {
   "cell_type": "code",
   "execution_count": null,
   "id": "tired-logging",
   "metadata": {},
   "outputs": [],
   "source": [
    "## export to Matlab mat format\n",
    "file = '2016_B8.h5'\n",
    "scattering = 'merged'\n",
    "with h5py.File(file,'r') as hdf:\n",
    "    Iq = hdf.get(file.split('.')[0] + '/processed')        # Iq = hdf.get('2048_B16/processed')\n",
    "    Iq = np.array(Iq.get(scattering))                      # Iq = np.array(2048_B16/processed/merged')\n",
    "    Iq = Iq[:,0,:]                                         # Iq shape (3721, 690)\n",
    "    Iq = np.expand_dims(Iq,axis=1)                         # Iq shape (3721, 1, 690)\n",
    "\n",
    "    if not os.path.exists('MATLAB'):\n",
    "        os.makedirs('MATLAB')\n",
    "    mat_contents = {}\n",
    "    mat_contents['SAXS_CircAv'] = {}\n",
    "    mat_contents['SAXS_CircAv']['BandAngles'] = qgrid2\n",
    "    mat_contents['SAXS_CircAv']['CircAv'] = Iq\n",
    "    sio.savemat(f'{file}.mat', mat_contents);\n",
    "    "
   ]
  },
  {
   "cell_type": "code",
   "execution_count": 2,
   "id": "above-chicken",
   "metadata": {},
   "outputs": [
    {
     "name": "stdout",
     "output_type": "stream",
     "text": [
      "Loading file 1886_EC-roi0.h5\n"
     ]
    },
    {
     "data": {
      "application/vnd.jupyter.widget-view+json": {
       "model_id": "dc45a20287bd4a45abebcc4841c0c540",
       "version_major": 2,
       "version_minor": 0
      },
      "text/plain": [
       "Canvas(toolbar=Toolbar(toolitems=[('Home', 'Reset original view', 'home', 'home'), ('Back', 'Back to previous …"
      ]
     },
     "metadata": {},
     "output_type": "display_data"
    },
    {
     "name": "stdout",
     "output_type": "stream",
     "text": [
      "low valid idx = 2, low valid Q = 0.007, high valid idx = 125 , high valid Q = 0.375\n",
      "low valid idx = 90, low valid Q = 0.200, high valid idx = 546 , high valid Q = 2.480\n",
      "1886_EC-roi0.h5 Task Finished. Figure Number =  1\n",
      "Loading file 1886_EC_bkg-roi0.h5\n"
     ]
    },
    {
     "data": {
      "application/vnd.jupyter.widget-view+json": {
       "model_id": "aff34df2232d47178db20f779e2f9e07",
       "version_major": 2,
       "version_minor": 0
      },
      "text/plain": [
       "Canvas(toolbar=Toolbar(toolitems=[('Home', 'Reset original view', 'home', 'home'), ('Back', 'Back to previous …"
      ]
     },
     "metadata": {},
     "output_type": "display_data"
    },
    {
     "name": "stdout",
     "output_type": "stream",
     "text": [
      "low valid idx = 2, low valid Q = 0.007, high valid idx = 125 , high valid Q = 0.375\n",
      "low valid idx = 90, low valid Q = 0.200, high valid idx = 546 , high valid Q = 2.480\n",
      "1886_EC_bkg-roi0.h5 Task Finished. Figure Number =  2\n",
      "Loading file 1886_EC_mica-roi0.h5\n"
     ]
    },
    {
     "data": {
      "application/vnd.jupyter.widget-view+json": {
       "model_id": "eae7c6d2ded04f70905d5f6a3f77f55d",
       "version_major": 2,
       "version_minor": 0
      },
      "text/plain": [
       "Canvas(toolbar=Toolbar(toolitems=[('Home', 'Reset original view', 'home', 'home'), ('Back', 'Back to previous …"
      ]
     },
     "metadata": {},
     "output_type": "display_data"
    },
    {
     "name": "stdout",
     "output_type": "stream",
     "text": [
      "low valid idx = 2, low valid Q = 0.007, high valid idx = 125 , high valid Q = 0.375\n",
      "low valid idx = 90, low valid Q = 0.200, high valid idx = 546 , high valid Q = 2.480\n",
      "1886_EC_mica-roi0.h5 Task Finished. Figure Number =  3\n",
      "Loading file 1886_FC-roi0.h5\n"
     ]
    },
    {
     "data": {
      "application/vnd.jupyter.widget-view+json": {
       "model_id": "0b1f2e07ae444357a13a5b36b71be2db",
       "version_major": 2,
       "version_minor": 0
      },
      "text/plain": [
       "Canvas(toolbar=Toolbar(toolitems=[('Home', 'Reset original view', 'home', 'home'), ('Back', 'Back to previous …"
      ]
     },
     "metadata": {},
     "output_type": "display_data"
    },
    {
     "name": "stdout",
     "output_type": "stream",
     "text": [
      "low valid idx = 2, low valid Q = 0.007, high valid idx = 125 , high valid Q = 0.375\n",
      "low valid idx = 90, low valid Q = 0.200, high valid idx = 546 , high valid Q = 2.480\n",
      "1886_FC-roi0.h5 Task Finished. Figure Number =  4\n",
      "Loading file 1886_FC_bkg-roi0.h5\n"
     ]
    },
    {
     "data": {
      "application/vnd.jupyter.widget-view+json": {
       "model_id": "784ea53381334b48bcb3ca3edeabfa1b",
       "version_major": 2,
       "version_minor": 0
      },
      "text/plain": [
       "Canvas(toolbar=Toolbar(toolitems=[('Home', 'Reset original view', 'home', 'home'), ('Back', 'Back to previous …"
      ]
     },
     "metadata": {},
     "output_type": "display_data"
    },
    {
     "name": "stdout",
     "output_type": "stream",
     "text": [
      "low valid idx = 2, low valid Q = 0.007, high valid idx = 125 , high valid Q = 0.375\n",
      "low valid idx = 90, low valid Q = 0.200, high valid idx = 546 , high valid Q = 2.480\n",
      "1886_FC_bkg-roi0.h5 Task Finished. Figure Number =  5\n",
      "Loading file 1886_FC_mica-roi0.h5\n"
     ]
    },
    {
     "data": {
      "application/vnd.jupyter.widget-view+json": {
       "model_id": "585137cb4ff6447dbd086c7b5af36496",
       "version_major": 2,
       "version_minor": 0
      },
      "text/plain": [
       "Canvas(toolbar=Toolbar(toolitems=[('Home', 'Reset original view', 'home', 'home'), ('Back', 'Back to previous …"
      ]
     },
     "metadata": {},
     "output_type": "display_data"
    },
    {
     "name": "stdout",
     "output_type": "stream",
     "text": [
      "low valid idx = 2, low valid Q = 0.007, high valid idx = 125 , high valid Q = 0.375\n",
      "low valid idx = 90, low valid Q = 0.200, high valid idx = 546 , high valid Q = 2.480\n",
      "1886_FC_mica-roi0.h5 Task Finished. Figure Number =  6\n",
      "Loading file 1887_EC-roi0.h5\n"
     ]
    },
    {
     "data": {
      "application/vnd.jupyter.widget-view+json": {
       "model_id": "d188294d756743d59a69d980f65518e4",
       "version_major": 2,
       "version_minor": 0
      },
      "text/plain": [
       "Canvas(toolbar=Toolbar(toolitems=[('Home', 'Reset original view', 'home', 'home'), ('Back', 'Back to previous …"
      ]
     },
     "metadata": {},
     "output_type": "display_data"
    },
    {
     "name": "stdout",
     "output_type": "stream",
     "text": [
      "low valid idx = 2, low valid Q = 0.007, high valid idx = 125 , high valid Q = 0.375\n",
      "low valid idx = 90, low valid Q = 0.200, high valid idx = 546 , high valid Q = 2.480\n",
      "1887_EC-roi0.h5 Task Finished. Figure Number =  7\n",
      "Loading file 1887_EC_mica-roi0.h5\n"
     ]
    },
    {
     "data": {
      "application/vnd.jupyter.widget-view+json": {
       "model_id": "cb14a6255c284483ba2b55853806b37f",
       "version_major": 2,
       "version_minor": 0
      },
      "text/plain": [
       "Canvas(toolbar=Toolbar(toolitems=[('Home', 'Reset original view', 'home', 'home'), ('Back', 'Back to previous …"
      ]
     },
     "metadata": {},
     "output_type": "display_data"
    },
    {
     "name": "stdout",
     "output_type": "stream",
     "text": [
      "low valid idx = 2, low valid Q = 0.007, high valid idx = 125 , high valid Q = 0.375\n",
      "low valid idx = 90, low valid Q = 0.200, high valid idx = 546 , high valid Q = 2.480\n",
      "1887_EC_mica-roi0.h5 Task Finished. Figure Number =  8\n",
      "Loading file 1887_FC-roi0.h5\n"
     ]
    },
    {
     "data": {
      "application/vnd.jupyter.widget-view+json": {
       "model_id": "e55a6fd3689c449b8a60a35fa2cc0fdf",
       "version_major": 2,
       "version_minor": 0
      },
      "text/plain": [
       "Canvas(toolbar=Toolbar(toolitems=[('Home', 'Reset original view', 'home', 'home'), ('Back', 'Back to previous …"
      ]
     },
     "metadata": {},
     "output_type": "display_data"
    },
    {
     "name": "stdout",
     "output_type": "stream",
     "text": [
      "low valid idx = 2, low valid Q = 0.007, high valid idx = 125 , high valid Q = 0.375\n",
      "low valid idx = 90, low valid Q = 0.200, high valid idx = 546 , high valid Q = 2.480\n",
      "1887_FC-roi0.h5 Task Finished. Figure Number =  9\n",
      "Loading file 1887_FC_mica-roi0.h5\n"
     ]
    },
    {
     "data": {
      "application/vnd.jupyter.widget-view+json": {
       "model_id": "f8aa58f3b3da4089a79c4c7d4caa8ae8",
       "version_major": 2,
       "version_minor": 0
      },
      "text/plain": [
       "Canvas(toolbar=Toolbar(toolitems=[('Home', 'Reset original view', 'home', 'home'), ('Back', 'Back to previous …"
      ]
     },
     "metadata": {},
     "output_type": "display_data"
    },
    {
     "name": "stdout",
     "output_type": "stream",
     "text": [
      "low valid idx = 2, low valid Q = 0.007, high valid idx = 125 , high valid Q = 0.375\n",
      "low valid idx = 90, low valid Q = 0.200, high valid idx = 546 , high valid Q = 2.480\n",
      "1887_FC_mica-roi0.h5 Task Finished. Figure Number =  10\n",
      "Loading file 2017_EC-roi0.h5\n"
     ]
    },
    {
     "data": {
      "application/vnd.jupyter.widget-view+json": {
       "model_id": "391c5e6fba0e448d85d54a2d20187ff5",
       "version_major": 2,
       "version_minor": 0
      },
      "text/plain": [
       "Canvas(toolbar=Toolbar(toolitems=[('Home', 'Reset original view', 'home', 'home'), ('Back', 'Back to previous …"
      ]
     },
     "metadata": {},
     "output_type": "display_data"
    },
    {
     "name": "stdout",
     "output_type": "stream",
     "text": [
      "low valid idx = 2, low valid Q = 0.007, high valid idx = 125 , high valid Q = 0.375\n",
      "low valid idx = 90, low valid Q = 0.200, high valid idx = 546 , high valid Q = 2.480\n",
      "2017_EC-roi0.h5 Task Finished. Figure Number =  11\n",
      "Loading file 2017_EC-roi0F.h5\n"
     ]
    },
    {
     "data": {
      "application/vnd.jupyter.widget-view+json": {
       "model_id": "a2798fb5374840c7baa14db5b52a932e",
       "version_major": 2,
       "version_minor": 0
      },
      "text/plain": [
       "Canvas(toolbar=Toolbar(toolitems=[('Home', 'Reset original view', 'home', 'home'), ('Back', 'Back to previous …"
      ]
     },
     "metadata": {},
     "output_type": "display_data"
    },
    {
     "name": "stdout",
     "output_type": "stream",
     "text": [
      "Loading file 2017_EC-roi1.h5\n"
     ]
    },
    {
     "data": {
      "application/vnd.jupyter.widget-view+json": {
       "model_id": "5b87e7f543d6462aaa01867613bdb889",
       "version_major": 2,
       "version_minor": 0
      },
      "text/plain": [
       "Canvas(toolbar=Toolbar(toolitems=[('Home', 'Reset original view', 'home', 'home'), ('Back', 'Back to previous …"
      ]
     },
     "metadata": {},
     "output_type": "display_data"
    },
    {
     "name": "stdout",
     "output_type": "stream",
     "text": [
      "low valid idx = 2, low valid Q = 0.007, high valid idx = 125 , high valid Q = 0.375\n",
      "low valid idx = 90, low valid Q = 0.200, high valid idx = 546 , high valid Q = 2.480\n",
      "2017_EC-roi1.h5 Task Finished. Figure Number =  13\n",
      "Loading file 2017_EC-roi2.h5\n"
     ]
    },
    {
     "data": {
      "application/vnd.jupyter.widget-view+json": {
       "model_id": "be6853bfbebe4deda15ae5d5e739be0b",
       "version_major": 2,
       "version_minor": 0
      },
      "text/plain": [
       "Canvas(toolbar=Toolbar(toolitems=[('Home', 'Reset original view', 'home', 'home'), ('Back', 'Back to previous …"
      ]
     },
     "metadata": {},
     "output_type": "display_data"
    },
    {
     "name": "stdout",
     "output_type": "stream",
     "text": [
      "low valid idx = 2, low valid Q = 0.007, high valid idx = 125 , high valid Q = 0.375\n",
      "low valid idx = 90, low valid Q = 0.200, high valid idx = 546 , high valid Q = 2.480\n",
      "2017_EC-roi2.h5 Task Finished. Figure Number =  14\n",
      "Loading file 2017_EC-roi3.h5\n"
     ]
    },
    {
     "data": {
      "application/vnd.jupyter.widget-view+json": {
       "model_id": "1aa5964d021e4b7c8c0b5f942f3a6579",
       "version_major": 2,
       "version_minor": 0
      },
      "text/plain": [
       "Canvas(toolbar=Toolbar(toolitems=[('Home', 'Reset original view', 'home', 'home'), ('Back', 'Back to previous …"
      ]
     },
     "metadata": {},
     "output_type": "display_data"
    },
    {
     "name": "stdout",
     "output_type": "stream",
     "text": [
      "low valid idx = 2, low valid Q = 0.007, high valid idx = 125 , high valid Q = 0.375\n",
      "low valid idx = 90, low valid Q = 0.200, high valid idx = 546 , high valid Q = 2.480\n",
      "2017_EC-roi3.h5 Task Finished. Figure Number =  15\n",
      "Loading file 2017_EC_mica-roi0.h5\n"
     ]
    },
    {
     "data": {
      "application/vnd.jupyter.widget-view+json": {
       "model_id": "b7ced92a5c3e4dccbcdb6383d8825235",
       "version_major": 2,
       "version_minor": 0
      },
      "text/plain": [
       "Canvas(toolbar=Toolbar(toolitems=[('Home', 'Reset original view', 'home', 'home'), ('Back', 'Back to previous …"
      ]
     },
     "metadata": {},
     "output_type": "display_data"
    },
    {
     "name": "stdout",
     "output_type": "stream",
     "text": [
      "low valid idx = 2, low valid Q = 0.007, high valid idx = 125 , high valid Q = 0.375\n",
      "low valid idx = 90, low valid Q = 0.200, high valid idx = 546 , high valid Q = 2.480\n",
      "2017_EC_mica-roi0.h5 Task Finished. Figure Number =  16\n",
      "Loading file 2017_FC-roi0.h5\n"
     ]
    },
    {
     "data": {
      "application/vnd.jupyter.widget-view+json": {
       "model_id": "c6a7a35cc2234c09baea7cb19167bce3",
       "version_major": 2,
       "version_minor": 0
      },
      "text/plain": [
       "Canvas(toolbar=Toolbar(toolitems=[('Home', 'Reset original view', 'home', 'home'), ('Back', 'Back to previous …"
      ]
     },
     "metadata": {},
     "output_type": "display_data"
    },
    {
     "name": "stdout",
     "output_type": "stream",
     "text": [
      "low valid idx = 2, low valid Q = 0.007, high valid idx = 125 , high valid Q = 0.375\n",
      "low valid idx = 90, low valid Q = 0.200, high valid idx = 546 , high valid Q = 2.480\n",
      "2017_FC-roi0.h5 Task Finished. Figure Number =  17\n",
      "Loading file 2017_FC-roi1.h5\n"
     ]
    },
    {
     "data": {
      "application/vnd.jupyter.widget-view+json": {
       "model_id": "b9a898f64b464d05b5620329c4242165",
       "version_major": 2,
       "version_minor": 0
      },
      "text/plain": [
       "Canvas(toolbar=Toolbar(toolitems=[('Home', 'Reset original view', 'home', 'home'), ('Back', 'Back to previous …"
      ]
     },
     "metadata": {},
     "output_type": "display_data"
    },
    {
     "name": "stdout",
     "output_type": "stream",
     "text": [
      "low valid idx = 2, low valid Q = 0.007, high valid idx = 125 , high valid Q = 0.375\n",
      "low valid idx = 90, low valid Q = 0.200, high valid idx = 546 , high valid Q = 2.480\n",
      "2017_FC-roi1.h5 Task Finished. Figure Number =  18\n",
      "Loading file 2017_FC-roi2.h5\n"
     ]
    },
    {
     "data": {
      "application/vnd.jupyter.widget-view+json": {
       "model_id": "32e9f0dae184491ab25786b3b2f7601f",
       "version_major": 2,
       "version_minor": 0
      },
      "text/plain": [
       "Canvas(toolbar=Toolbar(toolitems=[('Home', 'Reset original view', 'home', 'home'), ('Back', 'Back to previous …"
      ]
     },
     "metadata": {},
     "output_type": "display_data"
    },
    {
     "name": "stdout",
     "output_type": "stream",
     "text": [
      "low valid idx = 2, low valid Q = 0.007, high valid idx = 125 , high valid Q = 0.375\n",
      "low valid idx = 90, low valid Q = 0.200, high valid idx = 546 , high valid Q = 2.480\n",
      "2017_FC-roi2.h5 Task Finished. Figure Number =  19\n",
      "Loading file 2017_FC-roi3.h5\n"
     ]
    },
    {
     "data": {
      "application/vnd.jupyter.widget-view+json": {
       "model_id": "8ce7d908afaf4b9f89f113635e9189bc",
       "version_major": 2,
       "version_minor": 0
      },
      "text/plain": [
       "Canvas(toolbar=Toolbar(toolitems=[('Home', 'Reset original view', 'home', 'home'), ('Back', 'Back to previous …"
      ]
     },
     "metadata": {},
     "output_type": "display_data"
    },
    {
     "name": "stdout",
     "output_type": "stream",
     "text": [
      "low valid idx = 2, low valid Q = 0.007, high valid idx = 125 , high valid Q = 0.375\n",
      "low valid idx = 90, low valid Q = 0.200, high valid idx = 546 , high valid Q = 2.480\n",
      "2017_FC-roi3.h5 Task Finished. Figure Number =  20\n",
      "Loading file 2018_EC-roi0.h5\n"
     ]
    },
    {
     "name": "stderr",
     "output_type": "stream",
     "text": [
      "/Users/bashit.a/Documents/Alzheimer/Codes/essential_func.py:193: RuntimeWarning: More than 20 figures have been opened. Figures created through the pyplot interface (`matplotlib.pyplot.figure`) are retained until explicitly closed and may consume too much memory. (To control this warning, see the rcParam `figure.max_open_warning`).\n",
      "  f, axs = plt.subplots(1, len(scatterings), num=f'{file} Heat maps', figsize=(10,5))\n"
     ]
    },
    {
     "data": {
      "application/vnd.jupyter.widget-view+json": {
       "model_id": "e684f07946484f07ad1861a3fa319b49",
       "version_major": 2,
       "version_minor": 0
      },
      "text/plain": [
       "Canvas(toolbar=Toolbar(toolitems=[('Home', 'Reset original view', 'home', 'home'), ('Back', 'Back to previous …"
      ]
     },
     "metadata": {},
     "output_type": "display_data"
    },
    {
     "name": "stdout",
     "output_type": "stream",
     "text": [
      "low valid idx = 2, low valid Q = 0.007, high valid idx = 125 , high valid Q = 0.375\n",
      "low valid idx = 90, low valid Q = 0.200, high valid idx = 546 , high valid Q = 2.480\n",
      "2018_EC-roi0.h5 Task Finished. Figure Number =  21\n",
      "Loading file 2018_EC-roi1.h5\n"
     ]
    },
    {
     "data": {
      "application/vnd.jupyter.widget-view+json": {
       "model_id": "73bf36d112c74a919ed4ead4cade421b",
       "version_major": 2,
       "version_minor": 0
      },
      "text/plain": [
       "Canvas(toolbar=Toolbar(toolitems=[('Home', 'Reset original view', 'home', 'home'), ('Back', 'Back to previous …"
      ]
     },
     "metadata": {},
     "output_type": "display_data"
    },
    {
     "name": "stdout",
     "output_type": "stream",
     "text": [
      "low valid idx = 2, low valid Q = 0.007, high valid idx = 125 , high valid Q = 0.375\n",
      "low valid idx = 90, low valid Q = 0.200, high valid idx = 546 , high valid Q = 2.480\n",
      "2018_EC-roi1.h5 Task Finished. Figure Number =  22\n",
      "Loading file 2018_EC-roi2.h5\n"
     ]
    },
    {
     "data": {
      "application/vnd.jupyter.widget-view+json": {
       "model_id": "0fb94756a0134367b85745454885ce27",
       "version_major": 2,
       "version_minor": 0
      },
      "text/plain": [
       "Canvas(toolbar=Toolbar(toolitems=[('Home', 'Reset original view', 'home', 'home'), ('Back', 'Back to previous …"
      ]
     },
     "metadata": {},
     "output_type": "display_data"
    },
    {
     "name": "stdout",
     "output_type": "stream",
     "text": [
      "low valid idx = 2, low valid Q = 0.007, high valid idx = 125 , high valid Q = 0.375\n",
      "low valid idx = 90, low valid Q = 0.200, high valid idx = 546 , high valid Q = 2.480\n",
      "2018_EC-roi2.h5 Task Finished. Figure Number =  23\n",
      "Loading file 2018_EC-roi3.h5\n"
     ]
    },
    {
     "data": {
      "application/vnd.jupyter.widget-view+json": {
       "model_id": "5171268d27be4853b31f7a5e2ffa2c0b",
       "version_major": 2,
       "version_minor": 0
      },
      "text/plain": [
       "Canvas(toolbar=Toolbar(toolitems=[('Home', 'Reset original view', 'home', 'home'), ('Back', 'Back to previous …"
      ]
     },
     "metadata": {},
     "output_type": "display_data"
    },
    {
     "name": "stdout",
     "output_type": "stream",
     "text": [
      "low valid idx = 2, low valid Q = 0.007, high valid idx = 125 , high valid Q = 0.375\n",
      "low valid idx = 90, low valid Q = 0.200, high valid idx = 546 , high valid Q = 2.480\n",
      "2018_EC-roi3.h5 Task Finished. Figure Number =  24\n",
      "Loading file 2018_EC_mica-roi0.h5\n"
     ]
    },
    {
     "data": {
      "application/vnd.jupyter.widget-view+json": {
       "model_id": "c2e4842cd6b242a893ecf4585883f721",
       "version_major": 2,
       "version_minor": 0
      },
      "text/plain": [
       "Canvas(toolbar=Toolbar(toolitems=[('Home', 'Reset original view', 'home', 'home'), ('Back', 'Back to previous …"
      ]
     },
     "metadata": {},
     "output_type": "display_data"
    },
    {
     "name": "stdout",
     "output_type": "stream",
     "text": [
      "low valid idx = 2, low valid Q = 0.007, high valid idx = 125 , high valid Q = 0.375\n",
      "low valid idx = 90, low valid Q = 0.200, high valid idx = 546 , high valid Q = 2.480\n",
      "2018_EC_mica-roi0.h5 Task Finished. Figure Number =  25\n",
      "Loading file 2018_FC-roi0.h5\n"
     ]
    },
    {
     "data": {
      "application/vnd.jupyter.widget-view+json": {
       "model_id": "abcf14dd09cf438db2d1938c7d1cf6f5",
       "version_major": 2,
       "version_minor": 0
      },
      "text/plain": [
       "Canvas(toolbar=Toolbar(toolitems=[('Home', 'Reset original view', 'home', 'home'), ('Back', 'Back to previous …"
      ]
     },
     "metadata": {},
     "output_type": "display_data"
    },
    {
     "name": "stdout",
     "output_type": "stream",
     "text": [
      "low valid idx = 2, low valid Q = 0.007, high valid idx = 125 , high valid Q = 0.375\n",
      "low valid idx = 90, low valid Q = 0.200, high valid idx = 546 , high valid Q = 2.480\n",
      "2018_FC-roi0.h5 Task Finished. Figure Number =  26\n",
      "Loading file 2018_FC-roi1.h5\n"
     ]
    },
    {
     "data": {
      "application/vnd.jupyter.widget-view+json": {
       "model_id": "8ec4fb089d244f4fa037b79346c366de",
       "version_major": 2,
       "version_minor": 0
      },
      "text/plain": [
       "Canvas(toolbar=Toolbar(toolitems=[('Home', 'Reset original view', 'home', 'home'), ('Back', 'Back to previous …"
      ]
     },
     "metadata": {},
     "output_type": "display_data"
    },
    {
     "name": "stdout",
     "output_type": "stream",
     "text": [
      "low valid idx = 2, low valid Q = 0.007, high valid idx = 125 , high valid Q = 0.375\n",
      "low valid idx = 90, low valid Q = 0.200, high valid idx = 546 , high valid Q = 2.480\n",
      "2018_FC-roi1.h5 Task Finished. Figure Number =  27\n",
      "Loading file 2018_FC-roi2.h5\n"
     ]
    },
    {
     "data": {
      "application/vnd.jupyter.widget-view+json": {
       "model_id": "6d782e0f5cf749cf99ab68fc56127f65",
       "version_major": 2,
       "version_minor": 0
      },
      "text/plain": [
       "Canvas(toolbar=Toolbar(toolitems=[('Home', 'Reset original view', 'home', 'home'), ('Back', 'Back to previous …"
      ]
     },
     "metadata": {},
     "output_type": "display_data"
    },
    {
     "name": "stdout",
     "output_type": "stream",
     "text": [
      "low valid idx = 2, low valid Q = 0.007, high valid idx = 125 , high valid Q = 0.375\n",
      "low valid idx = 90, low valid Q = 0.200, high valid idx = 546 , high valid Q = 2.480\n",
      "2018_FC-roi2.h5 Task Finished. Figure Number =  28\n",
      "Loading file 2018_FC-roi3.h5\n"
     ]
    },
    {
     "data": {
      "application/vnd.jupyter.widget-view+json": {
       "model_id": "62947e02c7e0438c8161125884d80e98",
       "version_major": 2,
       "version_minor": 0
      },
      "text/plain": [
       "Canvas(toolbar=Toolbar(toolitems=[('Home', 'Reset original view', 'home', 'home'), ('Back', 'Back to previous …"
      ]
     },
     "metadata": {},
     "output_type": "display_data"
    },
    {
     "name": "stdout",
     "output_type": "stream",
     "text": [
      "low valid idx = 2, low valid Q = 0.007, high valid idx = 125 , high valid Q = 0.375\n",
      "low valid idx = 90, low valid Q = 0.200, high valid idx = 546 , high valid Q = 2.480\n",
      "2018_FC-roi3.h5 Task Finished. Figure Number =  29\n",
      "Loading file 2018_FC-roi4.h5\n"
     ]
    },
    {
     "data": {
      "application/vnd.jupyter.widget-view+json": {
       "model_id": "1df373be0f50478198b4670d73af57f7",
       "version_major": 2,
       "version_minor": 0
      },
      "text/plain": [
       "Canvas(toolbar=Toolbar(toolitems=[('Home', 'Reset original view', 'home', 'home'), ('Back', 'Back to previous …"
      ]
     },
     "metadata": {},
     "output_type": "display_data"
    },
    {
     "name": "stdout",
     "output_type": "stream",
     "text": [
      "low valid idx = 2, low valid Q = 0.007, high valid idx = 125 , high valid Q = 0.375\n",
      "low valid idx = 90, low valid Q = 0.200, high valid idx = 546 , high valid Q = 2.480\n",
      "2018_FC-roi4.h5 Task Finished. Figure Number =  30\n",
      "Loading file 2018_FC_mica-roi0.h5\n"
     ]
    },
    {
     "data": {
      "application/vnd.jupyter.widget-view+json": {
       "model_id": "b7fb67c477ae4e23b36c57d96c7c43fd",
       "version_major": 2,
       "version_minor": 0
      },
      "text/plain": [
       "Canvas(toolbar=Toolbar(toolitems=[('Home', 'Reset original view', 'home', 'home'), ('Back', 'Back to previous …"
      ]
     },
     "metadata": {},
     "output_type": "display_data"
    },
    {
     "name": "stdout",
     "output_type": "stream",
     "text": [
      "low valid idx = 2, low valid Q = 0.007, high valid idx = 125 , high valid Q = 0.375\n",
      "low valid idx = 90, low valid Q = 0.200, high valid idx = 546 , high valid Q = 2.480\n",
      "2018_FC_mica-roi0.h5 Task Finished. Figure Number =  31\n",
      "Loading file 2062_EC-roi0.h5\n"
     ]
    },
    {
     "data": {
      "application/vnd.jupyter.widget-view+json": {
       "model_id": "178ff8ed7daf4d05acb20dbf2b50b325",
       "version_major": 2,
       "version_minor": 0
      },
      "text/plain": [
       "Canvas(toolbar=Toolbar(toolitems=[('Home', 'Reset original view', 'home', 'home'), ('Back', 'Back to previous …"
      ]
     },
     "metadata": {},
     "output_type": "display_data"
    },
    {
     "name": "stdout",
     "output_type": "stream",
     "text": [
      "low valid idx = 2, low valid Q = 0.007, high valid idx = 125 , high valid Q = 0.375\n",
      "low valid idx = 90, low valid Q = 0.200, high valid idx = 546 , high valid Q = 2.480\n",
      "2062_EC-roi0.h5 Task Finished. Figure Number =  32\n",
      "Loading file 2062_EC-roi1.h5\n"
     ]
    },
    {
     "data": {
      "application/vnd.jupyter.widget-view+json": {
       "model_id": "8cce64fa68a74d4f8cdce7a802548c0d",
       "version_major": 2,
       "version_minor": 0
      },
      "text/plain": [
       "Canvas(toolbar=Toolbar(toolitems=[('Home', 'Reset original view', 'home', 'home'), ('Back', 'Back to previous …"
      ]
     },
     "metadata": {},
     "output_type": "display_data"
    },
    {
     "name": "stdout",
     "output_type": "stream",
     "text": [
      "low valid idx = 2, low valid Q = 0.007, high valid idx = 125 , high valid Q = 0.375\n",
      "low valid idx = 90, low valid Q = 0.200, high valid idx = 546 , high valid Q = 2.480\n",
      "2062_EC-roi1.h5 Task Finished. Figure Number =  33\n",
      "Loading file 2062_EC-roi2.h5\n"
     ]
    },
    {
     "data": {
      "application/vnd.jupyter.widget-view+json": {
       "model_id": "ab646690b507403cb827f8d3260ba7c0",
       "version_major": 2,
       "version_minor": 0
      },
      "text/plain": [
       "Canvas(toolbar=Toolbar(toolitems=[('Home', 'Reset original view', 'home', 'home'), ('Back', 'Back to previous …"
      ]
     },
     "metadata": {},
     "output_type": "display_data"
    },
    {
     "name": "stdout",
     "output_type": "stream",
     "text": [
      "low valid idx = 2, low valid Q = 0.007, high valid idx = 125 , high valid Q = 0.375\n",
      "low valid idx = 90, low valid Q = 0.200, high valid idx = 546 , high valid Q = 2.480\n",
      "2062_EC-roi2.h5 Task Finished. Figure Number =  34\n",
      "Loading file 2062_EC-roi3.h5\n"
     ]
    },
    {
     "data": {
      "application/vnd.jupyter.widget-view+json": {
       "model_id": "9e84b78916e94f04a1a8c08511cb58b1",
       "version_major": 2,
       "version_minor": 0
      },
      "text/plain": [
       "Canvas(toolbar=Toolbar(toolitems=[('Home', 'Reset original view', 'home', 'home'), ('Back', 'Back to previous …"
      ]
     },
     "metadata": {},
     "output_type": "display_data"
    },
    {
     "name": "stdout",
     "output_type": "stream",
     "text": [
      "low valid idx = 2, low valid Q = 0.007, high valid idx = 125 , high valid Q = 0.375\n",
      "low valid idx = 90, low valid Q = 0.200, high valid idx = 546 , high valid Q = 2.480\n",
      "2062_EC-roi3.h5 Task Finished. Figure Number =  35\n",
      "Loading file 2062_EC_mica-roi0.h5\n"
     ]
    },
    {
     "data": {
      "application/vnd.jupyter.widget-view+json": {
       "model_id": "fbe0d41778804545aa7cfe8a75f9e31d",
       "version_major": 2,
       "version_minor": 0
      },
      "text/plain": [
       "Canvas(toolbar=Toolbar(toolitems=[('Home', 'Reset original view', 'home', 'home'), ('Back', 'Back to previous …"
      ]
     },
     "metadata": {},
     "output_type": "display_data"
    },
    {
     "name": "stdout",
     "output_type": "stream",
     "text": [
      "low valid idx = 2, low valid Q = 0.007, high valid idx = 125 , high valid Q = 0.375\n",
      "low valid idx = 90, low valid Q = 0.200, high valid idx = 546 , high valid Q = 2.480\n",
      "2062_EC_mica-roi0.h5 Task Finished. Figure Number =  36\n",
      "Loading file 2062_FC-roi0.h5\n"
     ]
    },
    {
     "data": {
      "application/vnd.jupyter.widget-view+json": {
       "model_id": "2d4b4488e4df47ebaccfc4a2d948f320",
       "version_major": 2,
       "version_minor": 0
      },
      "text/plain": [
       "Canvas(toolbar=Toolbar(toolitems=[('Home', 'Reset original view', 'home', 'home'), ('Back', 'Back to previous …"
      ]
     },
     "metadata": {},
     "output_type": "display_data"
    },
    {
     "name": "stdout",
     "output_type": "stream",
     "text": [
      "low valid idx = 2, low valid Q = 0.007, high valid idx = 125 , high valid Q = 0.375\n",
      "low valid idx = 90, low valid Q = 0.200, high valid idx = 546 , high valid Q = 2.480\n",
      "2062_FC-roi0.h5 Task Finished. Figure Number =  37\n",
      "Loading file 2062_FC-roi1.h5\n"
     ]
    },
    {
     "data": {
      "application/vnd.jupyter.widget-view+json": {
       "model_id": "6744df60d1d5423b8e6725ea6f849568",
       "version_major": 2,
       "version_minor": 0
      },
      "text/plain": [
       "Canvas(toolbar=Toolbar(toolitems=[('Home', 'Reset original view', 'home', 'home'), ('Back', 'Back to previous …"
      ]
     },
     "metadata": {},
     "output_type": "display_data"
    },
    {
     "name": "stdout",
     "output_type": "stream",
     "text": [
      "low valid idx = 2, low valid Q = 0.007, high valid idx = 125 , high valid Q = 0.375\n",
      "low valid idx = 90, low valid Q = 0.200, high valid idx = 546 , high valid Q = 2.480\n",
      "2062_FC-roi1.h5 Task Finished. Figure Number =  38\n",
      "Loading file 2062_FC-roi2.h5\n"
     ]
    },
    {
     "data": {
      "application/vnd.jupyter.widget-view+json": {
       "model_id": "d3dd014f5db04fc785ed966abd4c2cae",
       "version_major": 2,
       "version_minor": 0
      },
      "text/plain": [
       "Canvas(toolbar=Toolbar(toolitems=[('Home', 'Reset original view', 'home', 'home'), ('Back', 'Back to previous …"
      ]
     },
     "metadata": {},
     "output_type": "display_data"
    },
    {
     "name": "stdout",
     "output_type": "stream",
     "text": [
      "low valid idx = 2, low valid Q = 0.007, high valid idx = 125 , high valid Q = 0.375\n",
      "low valid idx = 90, low valid Q = 0.200, high valid idx = 546 , high valid Q = 2.480\n",
      "2062_FC-roi2.h5 Task Finished. Figure Number =  39\n",
      "Loading file 2062_FC-roi3.h5\n"
     ]
    },
    {
     "data": {
      "application/vnd.jupyter.widget-view+json": {
       "model_id": "56adb49ed328475fa1830795da35abc3",
       "version_major": 2,
       "version_minor": 0
      },
      "text/plain": [
       "Canvas(toolbar=Toolbar(toolitems=[('Home', 'Reset original view', 'home', 'home'), ('Back', 'Back to previous …"
      ]
     },
     "metadata": {},
     "output_type": "display_data"
    },
    {
     "name": "stdout",
     "output_type": "stream",
     "text": [
      "low valid idx = 2, low valid Q = 0.007, high valid idx = 125 , high valid Q = 0.375\n",
      "low valid idx = 90, low valid Q = 0.200, high valid idx = 546 , high valid Q = 2.480\n",
      "2062_FC-roi3.h5 Task Finished. Figure Number =  40\n",
      "Loading file 2062_FC_mica-roi0.h5\n"
     ]
    },
    {
     "data": {
      "application/vnd.jupyter.widget-view+json": {
       "model_id": "1de492415b0742bfad95993135183fbe",
       "version_major": 2,
       "version_minor": 0
      },
      "text/plain": [
       "Canvas(toolbar=Toolbar(toolitems=[('Home', 'Reset original view', 'home', 'home'), ('Back', 'Back to previous …"
      ]
     },
     "metadata": {},
     "output_type": "display_data"
    },
    {
     "name": "stdout",
     "output_type": "stream",
     "text": [
      "low valid idx = 2, low valid Q = 0.007, high valid idx = 125 , high valid Q = 0.375\n",
      "low valid idx = 90, low valid Q = 0.200, high valid idx = 546 , high valid Q = 2.480\n",
      "2062_FC_mica-roi0.h5 Task Finished. Figure Number =  41\n",
      "Loading file 2144_EC-roi0.h5\n"
     ]
    },
    {
     "data": {
      "application/vnd.jupyter.widget-view+json": {
       "model_id": "79c9b3d9f49c42a489b10607ec09bd4b",
       "version_major": 2,
       "version_minor": 0
      },
      "text/plain": [
       "Canvas(toolbar=Toolbar(toolitems=[('Home', 'Reset original view', 'home', 'home'), ('Back', 'Back to previous …"
      ]
     },
     "metadata": {},
     "output_type": "display_data"
    },
    {
     "name": "stdout",
     "output_type": "stream",
     "text": [
      "low valid idx = 2, low valid Q = 0.007, high valid idx = 125 , high valid Q = 0.375\n",
      "low valid idx = 90, low valid Q = 0.200, high valid idx = 546 , high valid Q = 2.480\n",
      "2144_EC-roi0.h5 Task Finished. Figure Number =  42\n",
      "Loading file 2144_EC-roi1.h5\n"
     ]
    },
    {
     "data": {
      "application/vnd.jupyter.widget-view+json": {
       "model_id": "e14e30f9c28a4e43993e0eb6cf9aa502",
       "version_major": 2,
       "version_minor": 0
      },
      "text/plain": [
       "Canvas(toolbar=Toolbar(toolitems=[('Home', 'Reset original view', 'home', 'home'), ('Back', 'Back to previous …"
      ]
     },
     "metadata": {},
     "output_type": "display_data"
    },
    {
     "name": "stdout",
     "output_type": "stream",
     "text": [
      "low valid idx = 2, low valid Q = 0.007, high valid idx = 125 , high valid Q = 0.375\n",
      "low valid idx = 90, low valid Q = 0.200, high valid idx = 546 , high valid Q = 2.480\n",
      "2144_EC-roi1.h5 Task Finished. Figure Number =  43\n",
      "Loading file 2144_EC-roi2.h5\n"
     ]
    },
    {
     "data": {
      "application/vnd.jupyter.widget-view+json": {
       "model_id": "f21e85eb4619452db527d3ccf14ca7bf",
       "version_major": 2,
       "version_minor": 0
      },
      "text/plain": [
       "Canvas(toolbar=Toolbar(toolitems=[('Home', 'Reset original view', 'home', 'home'), ('Back', 'Back to previous …"
      ]
     },
     "metadata": {},
     "output_type": "display_data"
    },
    {
     "name": "stdout",
     "output_type": "stream",
     "text": [
      "low valid idx = 2, low valid Q = 0.007, high valid idx = 125 , high valid Q = 0.375\n",
      "low valid idx = 90, low valid Q = 0.200, high valid idx = 546 , high valid Q = 2.480\n",
      "2144_EC-roi2.h5 Task Finished. Figure Number =  44\n",
      "Loading file 2144_EC-roi3.h5\n"
     ]
    },
    {
     "data": {
      "application/vnd.jupyter.widget-view+json": {
       "model_id": "235bac75aa4f4be5ad145d729b66e767",
       "version_major": 2,
       "version_minor": 0
      },
      "text/plain": [
       "Canvas(toolbar=Toolbar(toolitems=[('Home', 'Reset original view', 'home', 'home'), ('Back', 'Back to previous …"
      ]
     },
     "metadata": {},
     "output_type": "display_data"
    },
    {
     "name": "stdout",
     "output_type": "stream",
     "text": [
      "low valid idx = 2, low valid Q = 0.007, high valid idx = 125 , high valid Q = 0.375\n",
      "low valid idx = 90, low valid Q = 0.200, high valid idx = 546 , high valid Q = 2.480\n",
      "2144_EC-roi3.h5 Task Finished. Figure Number =  45\n",
      "Loading file 2144_EC_mica-roi0.h5\n"
     ]
    },
    {
     "data": {
      "application/vnd.jupyter.widget-view+json": {
       "model_id": "f69ce010ce3d4cbf813831819b5dea7c",
       "version_major": 2,
       "version_minor": 0
      },
      "text/plain": [
       "Canvas(toolbar=Toolbar(toolitems=[('Home', 'Reset original view', 'home', 'home'), ('Back', 'Back to previous …"
      ]
     },
     "metadata": {},
     "output_type": "display_data"
    },
    {
     "name": "stdout",
     "output_type": "stream",
     "text": [
      "low valid idx = 2, low valid Q = 0.007, high valid idx = 125 , high valid Q = 0.375\n",
      "low valid idx = 90, low valid Q = 0.200, high valid idx = 546 , high valid Q = 2.480\n",
      "2144_EC_mica-roi0.h5 Task Finished. Figure Number =  46\n",
      "Loading file 2144_FC-roi0.h5\n"
     ]
    },
    {
     "data": {
      "application/vnd.jupyter.widget-view+json": {
       "model_id": "6929fe1b8a2f489da5afb2c4e70fc7eb",
       "version_major": 2,
       "version_minor": 0
      },
      "text/plain": [
       "Canvas(toolbar=Toolbar(toolitems=[('Home', 'Reset original view', 'home', 'home'), ('Back', 'Back to previous …"
      ]
     },
     "metadata": {},
     "output_type": "display_data"
    },
    {
     "name": "stdout",
     "output_type": "stream",
     "text": [
      "low valid idx = 2, low valid Q = 0.007, high valid idx = 125 , high valid Q = 0.375\n",
      "low valid idx = 90, low valid Q = 0.200, high valid idx = 546 , high valid Q = 2.480\n",
      "2144_FC-roi0.h5 Task Finished. Figure Number =  47\n",
      "Loading file 2144_FC-roi1.h5\n"
     ]
    },
    {
     "data": {
      "application/vnd.jupyter.widget-view+json": {
       "model_id": "b1be3c08573349d1b1cf72094b4c07b1",
       "version_major": 2,
       "version_minor": 0
      },
      "text/plain": [
       "Canvas(toolbar=Toolbar(toolitems=[('Home', 'Reset original view', 'home', 'home'), ('Back', 'Back to previous …"
      ]
     },
     "metadata": {},
     "output_type": "display_data"
    },
    {
     "name": "stdout",
     "output_type": "stream",
     "text": [
      "low valid idx = 2, low valid Q = 0.007, high valid idx = 125 , high valid Q = 0.375\n",
      "low valid idx = 90, low valid Q = 0.200, high valid idx = 546 , high valid Q = 2.480\n",
      "2144_FC-roi1.h5 Task Finished. Figure Number =  48\n",
      "Loading file 2144_FC-roi2.h5\n"
     ]
    },
    {
     "data": {
      "application/vnd.jupyter.widget-view+json": {
       "model_id": "208b2aa03f1d4cbbb26eefcd77a29dcb",
       "version_major": 2,
       "version_minor": 0
      },
      "text/plain": [
       "Canvas(toolbar=Toolbar(toolitems=[('Home', 'Reset original view', 'home', 'home'), ('Back', 'Back to previous …"
      ]
     },
     "metadata": {},
     "output_type": "display_data"
    },
    {
     "name": "stdout",
     "output_type": "stream",
     "text": [
      "low valid idx = 2, low valid Q = 0.007, high valid idx = 125 , high valid Q = 0.375\n",
      "low valid idx = 90, low valid Q = 0.200, high valid idx = 546 , high valid Q = 2.480\n",
      "2144_FC-roi2.h5 Task Finished. Figure Number =  49\n",
      "Loading file 2144_FC-roi3.h5\n"
     ]
    },
    {
     "data": {
      "application/vnd.jupyter.widget-view+json": {
       "model_id": "f3106e7e09564c268a73b36774fb68cc",
       "version_major": 2,
       "version_minor": 0
      },
      "text/plain": [
       "Canvas(toolbar=Toolbar(toolitems=[('Home', 'Reset original view', 'home', 'home'), ('Back', 'Back to previous …"
      ]
     },
     "metadata": {},
     "output_type": "display_data"
    },
    {
     "name": "stdout",
     "output_type": "stream",
     "text": [
      "low valid idx = 2, low valid Q = 0.007, high valid idx = 125 , high valid Q = 0.375\n",
      "low valid idx = 90, low valid Q = 0.200, high valid idx = 546 , high valid Q = 2.480\n",
      "2144_FC-roi3.h5 Task Finished. Figure Number =  50\n",
      "Loading file 2144_FC_mica-roi0.h5\n"
     ]
    },
    {
     "data": {
      "application/vnd.jupyter.widget-view+json": {
       "model_id": "2d3ca2636dd44a6f988cf81d47817479",
       "version_major": 2,
       "version_minor": 0
      },
      "text/plain": [
       "Canvas(toolbar=Toolbar(toolitems=[('Home', 'Reset original view', 'home', 'home'), ('Back', 'Back to previous …"
      ]
     },
     "metadata": {},
     "output_type": "display_data"
    },
    {
     "name": "stdout",
     "output_type": "stream",
     "text": [
      "low valid idx = 2, low valid Q = 0.007, high valid idx = 125 , high valid Q = 0.375\n",
      "low valid idx = 90, low valid Q = 0.200, high valid idx = 546 , high valid Q = 2.480\n",
      "2144_FC_mica-roi0.h5 Task Finished. Figure Number =  51\n",
      "Loading file 2302_EC-roi0.h5\n"
     ]
    },
    {
     "data": {
      "application/vnd.jupyter.widget-view+json": {
       "model_id": "12879f001774433b93689ef322ff2721",
       "version_major": 2,
       "version_minor": 0
      },
      "text/plain": [
       "Canvas(toolbar=Toolbar(toolitems=[('Home', 'Reset original view', 'home', 'home'), ('Back', 'Back to previous …"
      ]
     },
     "metadata": {},
     "output_type": "display_data"
    },
    {
     "name": "stdout",
     "output_type": "stream",
     "text": [
      "low valid idx = 2, low valid Q = 0.007, high valid idx = 125 , high valid Q = 0.375\n",
      "low valid idx = 90, low valid Q = 0.200, high valid idx = 546 , high valid Q = 2.480\n",
      "2302_EC-roi0.h5 Task Finished. Figure Number =  52\n",
      "Loading file 2302_EC-roi1.h5\n"
     ]
    },
    {
     "data": {
      "application/vnd.jupyter.widget-view+json": {
       "model_id": "c370771c47654e30b366d8830848026c",
       "version_major": 2,
       "version_minor": 0
      },
      "text/plain": [
       "Canvas(toolbar=Toolbar(toolitems=[('Home', 'Reset original view', 'home', 'home'), ('Back', 'Back to previous …"
      ]
     },
     "metadata": {},
     "output_type": "display_data"
    },
    {
     "name": "stdout",
     "output_type": "stream",
     "text": [
      "low valid idx = 2, low valid Q = 0.007, high valid idx = 125 , high valid Q = 0.375\n",
      "low valid idx = 90, low valid Q = 0.200, high valid idx = 546 , high valid Q = 2.480\n",
      "2302_EC-roi1.h5 Task Finished. Figure Number =  53\n",
      "Loading file 2302_EC-roi2.h5\n"
     ]
    },
    {
     "data": {
      "application/vnd.jupyter.widget-view+json": {
       "model_id": "a9c266a6c292431bb18eac4832d82b2b",
       "version_major": 2,
       "version_minor": 0
      },
      "text/plain": [
       "Canvas(toolbar=Toolbar(toolitems=[('Home', 'Reset original view', 'home', 'home'), ('Back', 'Back to previous …"
      ]
     },
     "metadata": {},
     "output_type": "display_data"
    },
    {
     "name": "stdout",
     "output_type": "stream",
     "text": [
      "low valid idx = 2, low valid Q = 0.007, high valid idx = 125 , high valid Q = 0.375\n",
      "low valid idx = 90, low valid Q = 0.200, high valid idx = 546 , high valid Q = 2.480\n",
      "2302_EC-roi2.h5 Task Finished. Figure Number =  54\n",
      "Loading file 2302_EC-roi3.h5\n"
     ]
    },
    {
     "data": {
      "application/vnd.jupyter.widget-view+json": {
       "model_id": "c4d6a12e15ac4b1ab6483f34b8aa9c11",
       "version_major": 2,
       "version_minor": 0
      },
      "text/plain": [
       "Canvas(toolbar=Toolbar(toolitems=[('Home', 'Reset original view', 'home', 'home'), ('Back', 'Back to previous …"
      ]
     },
     "metadata": {},
     "output_type": "display_data"
    },
    {
     "name": "stdout",
     "output_type": "stream",
     "text": [
      "low valid idx = 2, low valid Q = 0.007, high valid idx = 125 , high valid Q = 0.375\n",
      "low valid idx = 90, low valid Q = 0.200, high valid idx = 546 , high valid Q = 2.480\n",
      "2302_EC-roi3.h5 Task Finished. Figure Number =  55\n",
      "Loading file 2302_EC_mica-roi0.h5\n"
     ]
    },
    {
     "data": {
      "application/vnd.jupyter.widget-view+json": {
       "model_id": "2d110651437c41c09584b22cf5263a77",
       "version_major": 2,
       "version_minor": 0
      },
      "text/plain": [
       "Canvas(toolbar=Toolbar(toolitems=[('Home', 'Reset original view', 'home', 'home'), ('Back', 'Back to previous …"
      ]
     },
     "metadata": {},
     "output_type": "display_data"
    },
    {
     "name": "stdout",
     "output_type": "stream",
     "text": [
      "low valid idx = 2, low valid Q = 0.007, high valid idx = 125 , high valid Q = 0.375\n",
      "low valid idx = 90, low valid Q = 0.200, high valid idx = 546 , high valid Q = 2.480\n",
      "2302_EC_mica-roi0.h5 Task Finished. Figure Number =  56\n",
      "Loading file 2302_FC-roi0.h5\n"
     ]
    },
    {
     "data": {
      "application/vnd.jupyter.widget-view+json": {
       "model_id": "425be6949d55451dab89b98cbc97fb19",
       "version_major": 2,
       "version_minor": 0
      },
      "text/plain": [
       "Canvas(toolbar=Toolbar(toolitems=[('Home', 'Reset original view', 'home', 'home'), ('Back', 'Back to previous …"
      ]
     },
     "metadata": {},
     "output_type": "display_data"
    },
    {
     "name": "stdout",
     "output_type": "stream",
     "text": [
      "low valid idx = 2, low valid Q = 0.007, high valid idx = 125 , high valid Q = 0.375\n",
      "low valid idx = 90, low valid Q = 0.200, high valid idx = 546 , high valid Q = 2.480\n",
      "2302_FC-roi0.h5 Task Finished. Figure Number =  57\n",
      "Loading file 2302_FC-roi1.h5\n"
     ]
    },
    {
     "data": {
      "application/vnd.jupyter.widget-view+json": {
       "model_id": "bd8020c9ebb642b5850257c1d70a767a",
       "version_major": 2,
       "version_minor": 0
      },
      "text/plain": [
       "Canvas(toolbar=Toolbar(toolitems=[('Home', 'Reset original view', 'home', 'home'), ('Back', 'Back to previous …"
      ]
     },
     "metadata": {},
     "output_type": "display_data"
    },
    {
     "name": "stdout",
     "output_type": "stream",
     "text": [
      "low valid idx = 2, low valid Q = 0.007, high valid idx = 125 , high valid Q = 0.375\n",
      "low valid idx = 90, low valid Q = 0.200, high valid idx = 546 , high valid Q = 2.480\n",
      "2302_FC-roi1.h5 Task Finished. Figure Number =  58\n",
      "Loading file 2302_FC-roi2.h5\n"
     ]
    },
    {
     "data": {
      "application/vnd.jupyter.widget-view+json": {
       "model_id": "20782e18b1a746da875fdbd844a20b83",
       "version_major": 2,
       "version_minor": 0
      },
      "text/plain": [
       "Canvas(toolbar=Toolbar(toolitems=[('Home', 'Reset original view', 'home', 'home'), ('Back', 'Back to previous …"
      ]
     },
     "metadata": {},
     "output_type": "display_data"
    },
    {
     "name": "stdout",
     "output_type": "stream",
     "text": [
      "low valid idx = 2, low valid Q = 0.007, high valid idx = 125 , high valid Q = 0.375\n",
      "low valid idx = 90, low valid Q = 0.200, high valid idx = 546 , high valid Q = 2.480\n",
      "2302_FC-roi2.h5 Task Finished. Figure Number =  59\n",
      "Loading file 2302_FC-roi3.h5\n"
     ]
    },
    {
     "data": {
      "application/vnd.jupyter.widget-view+json": {
       "model_id": "f6977e07da3145d68ea6d9acbc0c0900",
       "version_major": 2,
       "version_minor": 0
      },
      "text/plain": [
       "Canvas(toolbar=Toolbar(toolitems=[('Home', 'Reset original view', 'home', 'home'), ('Back', 'Back to previous …"
      ]
     },
     "metadata": {},
     "output_type": "display_data"
    },
    {
     "name": "stdout",
     "output_type": "stream",
     "text": [
      "low valid idx = 2, low valid Q = 0.007, high valid idx = 125 , high valid Q = 0.375\n",
      "low valid idx = 90, low valid Q = 0.200, high valid idx = 546 , high valid Q = 2.480\n",
      "2302_FC-roi3.h5 Task Finished. Figure Number =  60\n",
      "Loading file 2302_FC_mica-roi0.h5\n"
     ]
    },
    {
     "data": {
      "application/vnd.jupyter.widget-view+json": {
       "model_id": "e7ce5e51f0a04813b9528be82f54edc7",
       "version_major": 2,
       "version_minor": 0
      },
      "text/plain": [
       "Canvas(toolbar=Toolbar(toolitems=[('Home', 'Reset original view', 'home', 'home'), ('Back', 'Back to previous …"
      ]
     },
     "metadata": {},
     "output_type": "display_data"
    },
    {
     "name": "stdout",
     "output_type": "stream",
     "text": [
      "low valid idx = 2, low valid Q = 0.007, high valid idx = 125 , high valid Q = 0.375\n",
      "low valid idx = 90, low valid Q = 0.200, high valid idx = 546 , high valid Q = 2.480\n",
      "2302_FC_mica-roi0.h5 Task Finished. Figure Number =  61\n",
      "Loading file P1img.h5\n"
     ]
    },
    {
     "data": {
      "application/vnd.jupyter.widget-view+json": {
       "model_id": "5604b4c54f624eb3b4d966e0b4b465bc",
       "version_major": 2,
       "version_minor": 0
      },
      "text/plain": [
       "Canvas(toolbar=Toolbar(toolitems=[('Home', 'Reset original view', 'home', 'home'), ('Back', 'Back to previous …"
      ]
     },
     "metadata": {},
     "output_type": "display_data"
    },
    {
     "name": "stdout",
     "output_type": "stream",
     "text": [
      "Loading file P2img.h5\n"
     ]
    },
    {
     "data": {
      "application/vnd.jupyter.widget-view+json": {
       "model_id": "66cd9d97bcf2448a95aa3b926f15113e",
       "version_major": 2,
       "version_minor": 0
      },
      "text/plain": [
       "Canvas(toolbar=Toolbar(toolitems=[('Home', 'Reset original view', 'home', 'home'), ('Back', 'Back to previous …"
      ]
     },
     "metadata": {},
     "output_type": "display_data"
    },
    {
     "name": "stdout",
     "output_type": "stream",
     "text": [
      "Loading file P3img.h5\n"
     ]
    },
    {
     "data": {
      "application/vnd.jupyter.widget-view+json": {
       "model_id": "779bc5a3f9024a2a8833809defdfe39d",
       "version_major": 2,
       "version_minor": 0
      },
      "text/plain": [
       "Canvas(toolbar=Toolbar(toolitems=[('Home', 'Reset original view', 'home', 'home'), ('Back', 'Back to previous …"
      ]
     },
     "metadata": {},
     "output_type": "display_data"
    },
    {
     "name": "stdout",
     "output_type": "stream",
     "text": [
      "Loading file P4img.h5\n"
     ]
    },
    {
     "data": {
      "application/vnd.jupyter.widget-view+json": {
       "model_id": "99edcdd38aa5483fb794a6e43de28ecf",
       "version_major": 2,
       "version_minor": 0
      },
      "text/plain": [
       "Canvas(toolbar=Toolbar(toolitems=[('Home', 'Reset original view', 'home', 'home'), ('Back', 'Back to previous …"
      ]
     },
     "metadata": {},
     "output_type": "display_data"
    },
    {
     "name": "stdout",
     "output_type": "stream",
     "text": [
      "Loading file P5img.h5\n"
     ]
    },
    {
     "data": {
      "application/vnd.jupyter.widget-view+json": {
       "model_id": "8621a3fd8053419590464a01edd6a341",
       "version_major": 2,
       "version_minor": 0
      },
      "text/plain": [
       "Canvas(toolbar=Toolbar(toolitems=[('Home', 'Reset original view', 'home', 'home'), ('Back', 'Back to previous …"
      ]
     },
     "metadata": {},
     "output_type": "display_data"
    },
    {
     "name": "stdout",
     "output_type": "stream",
     "text": [
      "Loading file exp.h5\n"
     ]
    },
    {
     "data": {
      "application/vnd.jupyter.widget-view+json": {
       "model_id": "5a54bfc69bca4ff5ac074a6503315a61",
       "version_major": 2,
       "version_minor": 0
      },
      "text/plain": [
       "Canvas(toolbar=Toolbar(toolitems=[('Home', 'Reset original view', 'home', 'home'), ('Back', 'Back to previous …"
      ]
     },
     "metadata": {},
     "output_type": "display_data"
    },
    {
     "name": "stdout",
     "output_type": "stream",
     "text": [
      "Loading file sample2_bkg-roi0.h5\n"
     ]
    },
    {
     "data": {
      "application/vnd.jupyter.widget-view+json": {
       "model_id": "83f31745e0e5428fad4dce5cbf8d6922",
       "version_major": 2,
       "version_minor": 0
      },
      "text/plain": [
       "Canvas(toolbar=Toolbar(toolitems=[('Home', 'Reset original view', 'home', 'home'), ('Back', 'Back to previous …"
      ]
     },
     "metadata": {},
     "output_type": "display_data"
    },
    {
     "name": "stdout",
     "output_type": "stream",
     "text": [
      "low valid idx = 2, low valid Q = 0.007, high valid idx = 125 , high valid Q = 0.375\n",
      "low valid idx = 90, low valid Q = 0.200, high valid idx = 546 , high valid Q = 2.480\n",
      "sample2_bkg-roi0.h5 Task Finished. Figure Number =  68\n",
      "Loading file sample3_bkg-roi0.h5\n"
     ]
    },
    {
     "data": {
      "application/vnd.jupyter.widget-view+json": {
       "model_id": "38aad7af87844c10b2962a0d5bdacc6c",
       "version_major": 2,
       "version_minor": 0
      },
      "text/plain": [
       "Canvas(toolbar=Toolbar(toolitems=[('Home', 'Reset original view', 'home', 'home'), ('Back', 'Back to previous …"
      ]
     },
     "metadata": {},
     "output_type": "display_data"
    },
    {
     "name": "stdout",
     "output_type": "stream",
     "text": [
      "low valid idx = 2, low valid Q = 0.007, high valid idx = 125 , high valid Q = 0.375\n",
      "low valid idx = 90, low valid Q = 0.200, high valid idx = 546 , high valid Q = 2.480\n",
      "sample3_bkg-roi0.h5 Task Finished. Figure Number =  69\n",
      "Loading file sample4_bkg-roi0.h5\n"
     ]
    },
    {
     "data": {
      "application/vnd.jupyter.widget-view+json": {
       "model_id": "39d74fc8e6a54675bd9651e95c94e466",
       "version_major": 2,
       "version_minor": 0
      },
      "text/plain": [
       "Canvas(toolbar=Toolbar(toolitems=[('Home', 'Reset original view', 'home', 'home'), ('Back', 'Back to previous …"
      ]
     },
     "metadata": {},
     "output_type": "display_data"
    },
    {
     "name": "stdout",
     "output_type": "stream",
     "text": [
      "low valid idx = 2, low valid Q = 0.007, high valid idx = 125 , high valid Q = 0.375\n",
      "low valid idx = 90, low valid Q = 0.200, high valid idx = 546 , high valid Q = 2.480\n",
      "sample4_bkg-roi0.h5 Task Finished. Figure Number =  70\n",
      "Loading file std.h5\n"
     ]
    },
    {
     "data": {
      "application/vnd.jupyter.widget-view+json": {
       "model_id": "544eddadf2ff4302bb2ea8e61ab22045",
       "version_major": 2,
       "version_minor": 0
      },
      "text/plain": [
       "Canvas(toolbar=Toolbar(toolitems=[('Home', 'Reset original view', 'home', 'home'), ('Back', 'Back to previous …"
      ]
     },
     "metadata": {},
     "output_type": "display_data"
    },
    {
     "name": "stdout",
     "output_type": "stream",
     "text": [
      "PDF creation Finished\n"
     ]
    }
   ],
   "source": [
    "## heat plots for all files in a folder\n",
    "%matplotlib widget\n",
    "\n",
    "scatterings = ('_SAXS', '_WAXS2')\n",
    "qgrid2 = np.hstack([np.arange(0.005, 0.0499, 0.001), np.arange(0.05, 0.099, 0.002), np.arange(0.1, 3.2, 0.005)])\n",
    "\n",
    "plot_all_heat_maps_cwd('output.pdf', qgrid2, scatterings)"
   ]
  },
  {
   "cell_type": "code",
   "execution_count": null,
   "id": "mental-database",
   "metadata": {},
   "outputs": [],
   "source": []
  }
 ],
 "metadata": {
  "kernelspec": {
   "display_name": "Python 3",
   "language": "python",
   "name": "python3"
  },
  "language_info": {
   "codemirror_mode": {
    "name": "ipython",
    "version": 3
   },
   "file_extension": ".py",
   "mimetype": "text/x-python",
   "name": "python",
   "nbconvert_exporter": "python",
   "pygments_lexer": "ipython3",
   "version": "3.8.6"
  }
 },
 "nbformat": 4,
 "nbformat_minor": 5
}
