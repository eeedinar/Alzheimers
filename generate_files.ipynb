{
 "cells": [
  {
   "cell_type": "code",
   "execution_count": 52,
   "id": "tight-services",
   "metadata": {},
   "outputs": [
    {
     "name": "stdout",
     "output_type": "stream",
     "text": [
      "Python directory is set to load samples from : Mar-2023-Misc\n"
     ]
    }
   ],
   "source": [
    "%matplotlib widget\n",
    "from generate_files import *\n",
    "from essential_func import *\n",
    "qgrid2 = np.hstack([np.arange(0.005, 0.0499, 0.001), np.arange(0.05, 0.099, 0.002), np.arange(0.1, 3.2, 0.005)])\n",
    "\n",
    "samples_csv                = 'data_directory.csv'\n",
    "default_sample_dir         = 'Mar-2023-Misc' # 'Oct-2023-Sample#2122'       # 'July-2021-Sample#6'    '21-Nov'   'July-sorted'   '20-Dec'    '22-Oct'   'Oct-2022-1971'   'Mar-2023-Sample#1898'\n",
    "csv_and_code_abs_directory = '/Users/bashit.a/Documents/Alzheimer/Codes/'\n",
    "\n",
    "_,dropdown_name_list, cwd, exp_folder = change_python_path(dropdown_name = default_sample_dir, csv_file_location = csv_and_code_abs_directory, samples_csv = samples_csv)\n",
    "## semi-specs\n",
    "qgrid2 = np.hstack([np.arange(0.005, 0.0499, 0.001), np.arange(0.05, 0.099, 0.002), np.arange(0.1, 3.2, 0.005)])"
   ]
  },
  {
   "cell_type": "code",
   "execution_count": 53,
   "id": "e03f6a6c-6d5e-4328-b979-965db379a7fd",
   "metadata": {},
   "outputs": [
    {
     "name": "stdout",
     "output_type": "stream",
     "text": [
      "total files 7\n"
     ]
    },
    {
     "data": {
      "text/plain": [
       "['2029_DG_UNSTAINED-roi0_0_0_masked.h5',\n",
       " '2029_DG_UNSTAINED-roi1_0_0_masked.h5',\n",
       " '2048-roi0_0_0_masked.h5',\n",
       " '2048_B8_UNSTAINED-roi0_0_0_masked_intp.h5',\n",
       " '2048_B8_UNSTAINED-roi1_0_0_masked_intp.h5',\n",
       " '2428-roi0_0_0_masked.h5',\n",
       " '2428-roi1_0_0_masked_intp.h5']"
      ]
     },
     "execution_count": 53,
     "metadata": {},
     "output_type": "execute_result"
    }
   ],
   "source": [
    "### list of all files in cwd with masked and intp, if no masking was done-will not count in here\n",
    "raw_file_list = []\n",
    "for file in sorted(cwd_files_search_with(seek_str='.h5', search_where = 'end', directory = cwd)):\n",
    "    if file.find('_masked_intp') >= 0:\n",
    "        raw_file_list.remove(file.split('_intp')[0]+'.h5' )\n",
    "    elif file.find('_masked') >= 0:\n",
    "        raw_file_list.remove(file.split('_masked')[0]+'.h5' )\n",
    "    raw_file_list.append(file)\n",
    "\n",
    "print(f'total files {len(raw_file_list)}')\n",
    "raw_file_list"
   ]
  },
  {
   "cell_type": "code",
   "execution_count": 54,
   "id": "received-posting",
   "metadata": {
    "tags": []
   },
   "outputs": [
    {
     "name": "stdout",
     "output_type": "stream",
     "text": [
      "Processing 2029_DG_UNSTAINED-roi0_0_0_masked.h5\n",
      "\n",
      "\n",
      "Successfully generated CSV for 2029_DG_UNSTAINED-roi0_0_0_masked.h5 \n",
      "\n",
      "\n",
      "WIDTH, HEIGHT = (62, 61)\n",
      "Processing 2029_DG_UNSTAINED-roi1_0_0_masked.h5\n",
      "\n",
      "\n",
      "Successfully generated CSV for 2029_DG_UNSTAINED-roi1_0_0_masked.h5 \n",
      "\n",
      "\n",
      "WIDTH, HEIGHT = (62, 61)\n",
      "Processing 2048-roi0_0_0_masked.h5\n",
      "\n",
      "\n",
      "Successfully generated CSV for 2048-roi0_0_0_masked.h5 \n",
      "\n",
      "\n",
      "WIDTH, HEIGHT = (61, 62)\n",
      "Processing 2048_B8_UNSTAINED-roi0_0_0_masked_intp.h5\n",
      "\n",
      "\n",
      "Successfully generated CSV for 2048_B8_UNSTAINED-roi0_0_0_masked_intp.h5 \n",
      "\n",
      "\n",
      "WIDTH, HEIGHT = (61, 62)\n",
      "Processing 2048_B8_UNSTAINED-roi1_0_0_masked_intp.h5\n",
      "\n",
      "\n",
      "Successfully generated CSV for 2048_B8_UNSTAINED-roi1_0_0_masked_intp.h5 \n",
      "\n",
      "\n",
      "WIDTH, HEIGHT = (61, 61)\n",
      "Processing 2428-roi0_0_0_masked.h5\n",
      "\n",
      "\n",
      "Successfully generated CSV for 2428-roi0_0_0_masked.h5 \n",
      "\n",
      "\n",
      "WIDTH, HEIGHT = (41, 40)\n",
      "Processing 2428-roi1_0_0_masked_intp.h5\n",
      "\n",
      "\n",
      "Successfully generated CSV for 2428-roi1_0_0_masked_intp.h5 \n",
      "\n",
      "\n",
      "WIDTH, HEIGHT = (62, 61)\n"
     ]
    }
   ],
   "source": [
    "## Generate Excel file of 1-d averaging for SAXS and WAXS data\n",
    "# specs\n",
    "files = raw_file_list #raw_file_list # cwd_files_search_with(seek_str='.h5')      # ['2512_EC-roi1_masked.h5']      [\"2048_B8_masked.h5\", '2109_EC-roi1_masked.h5'] or    cwd_files_search_with(seek_str='_masked.h5')\n",
    "scatterings = ('merged',)   # ('_SAXS', '_WAXS2','merged')\n",
    "\n",
    "for file in files:\n",
    "    #generate_excel_file(file, qgrid2, scattering, method='one-frame', frame=0)\n",
    "    print(f'Processing {file}')\n",
    "    for scattering in scatterings:\n",
    "        generate_excel_file(file, qgrid2, scattering,  method='all-frames', with_q=True)   # method='one-frame', frame=10 or  method = 'all-frames'\n",
    "        generate_excel_file(file, qgrid2, scattering,  method='all-frames', folder='CSV_Conv-8-point', with_q=True, window_size=8)   # method='one-frame', frame=10 or  method = 'all-frames'\n",
    "        print(f'\\n\\nSuccessfully generated CSV for {file} \\n\\n')\n",
    "    print(f'WIDTH, HEIGHT = {width_height(file)}')"
   ]
  },
  {
   "cell_type": "code",
   "execution_count": 5,
   "id": "fiscal-manual",
   "metadata": {},
   "outputs": [],
   "source": [
    "## export to Matlab mat format (to be working with Biel data)\n",
    "file = '2016_B8.h5'\n",
    "scattering = 'merged'\n",
    "with h5py.File(file,'r') as hdf:\n",
    "    Iq = hdf.get(file.split('.')[0] + '/processed')        # Iq = hdf.get('2048_B16/processed')\n",
    "    Iq = np.array(Iq.get(scattering))                      # Iq = np.array(2048_B16/processed/merged')\n",
    "    Iq = Iq[:,0,:]                                         # Iq shape (3721, 690)\n",
    "    Iq = np.expand_dims(Iq,axis=1)                         # Iq shape (3721, 1, 690)\n",
    "\n",
    "    if not os.path.exists('MATLAB'):\n",
    "        os.makedirs('MATLAB')\n",
    "    mat_contents = {}\n",
    "    mat_contents['SAXS_CircAv'] = {}\n",
    "    mat_contents['SAXS_CircAv']['BandAngles'] = qgrid2\n",
    "    mat_contents['SAXS_CircAv']['CircAv'] = Iq\n",
    "    sio.savemat(f'{file}.mat', mat_contents);"
   ]
  },
  {
   "cell_type": "code",
   "execution_count": 4,
   "id": "choice-metadata",
   "metadata": {
    "collapsed": true,
    "jupyter": {
     "outputs_hidden": true
    }
   },
   "outputs": [
    {
     "name": "stdout",
     "output_type": "stream",
     "text": [
      "Loading file 1934_B8_masked.h5\n"
     ]
    },
    {
     "data": {
      "application/vnd.jupyter.widget-view+json": {
       "model_id": "ac508a6d195e46419d5cb6573d3197ce",
       "version_major": 2,
       "version_minor": 0
      },
      "text/plain": [
       "Canvas(toolbar=Toolbar(toolitems=[('Home', 'Reset original view', 'home', 'home'), ('Back', 'Back to previous …"
      ]
     },
     "metadata": {},
     "output_type": "display_data"
    },
    {
     "name": "stdout",
     "output_type": "stream",
     "text": [
      "low valid idx = 2, low valid Q = 0.007, high valid idx = 124 , high valid Q = 0.370\n",
      "low valid idx = 109, low valid Q = 0.295, high valid idx = 578 , high valid Q = 2.640\n",
      "1934_B8_masked.h5 Task Finished. Figure Number =  1\n",
      "Loading file 1934_SN_masked.h5\n"
     ]
    },
    {
     "data": {
      "application/vnd.jupyter.widget-view+json": {
       "model_id": "76ab344c1c904d329a1ebec3aa43a5b5",
       "version_major": 2,
       "version_minor": 0
      },
      "text/plain": [
       "Canvas(toolbar=Toolbar(toolitems=[('Home', 'Reset original view', 'home', 'home'), ('Back', 'Back to previous …"
      ]
     },
     "metadata": {},
     "output_type": "display_data"
    },
    {
     "name": "stdout",
     "output_type": "stream",
     "text": [
      "low valid idx = 2, low valid Q = 0.007, high valid idx = 124 , high valid Q = 0.370\n",
      "low valid idx = 109, low valid Q = 0.295, high valid idx = 578 , high valid Q = 2.640\n",
      "1934_SN_masked.h5 Task Finished. Figure Number =  2\n",
      "Loading file 1934_SNa_masked.h5\n"
     ]
    },
    {
     "data": {
      "application/vnd.jupyter.widget-view+json": {
       "model_id": "d312c218b29f4f87b3e17a0650d8b72c",
       "version_major": 2,
       "version_minor": 0
      },
      "text/plain": [
       "Canvas(toolbar=Toolbar(toolitems=[('Home', 'Reset original view', 'home', 'home'), ('Back', 'Back to previous …"
      ]
     },
     "metadata": {},
     "output_type": "display_data"
    },
    {
     "name": "stdout",
     "output_type": "stream",
     "text": [
      "low valid idx = 2, low valid Q = 0.007, high valid idx = 124 , high valid Q = 0.370\n",
      "low valid idx = 109, low valid Q = 0.295, high valid idx = 578 , high valid Q = 2.640\n",
      "1934_SNa_masked.h5 Task Finished. Figure Number =  3\n",
      "Loading file 1943_B1_masked.h5\n"
     ]
    },
    {
     "data": {
      "application/vnd.jupyter.widget-view+json": {
       "model_id": "6b48b5f45404473e89f10d2155744d5e",
       "version_major": 2,
       "version_minor": 0
      },
      "text/plain": [
       "Canvas(toolbar=Toolbar(toolitems=[('Home', 'Reset original view', 'home', 'home'), ('Back', 'Back to previous …"
      ]
     },
     "metadata": {},
     "output_type": "display_data"
    },
    {
     "name": "stdout",
     "output_type": "stream",
     "text": [
      "low valid idx = 2, low valid Q = 0.007, high valid idx = 124 , high valid Q = 0.370\n",
      "low valid idx = 109, low valid Q = 0.295, high valid idx = 578 , high valid Q = 2.640\n",
      "1943_B1_masked.h5 Task Finished. Figure Number =  4\n",
      "Loading file 1943_B1a_masked.h5\n"
     ]
    },
    {
     "data": {
      "application/vnd.jupyter.widget-view+json": {
       "model_id": "38a009aa524c4aebb9485d79cd0e5f9f",
       "version_major": 2,
       "version_minor": 0
      },
      "text/plain": [
       "Canvas(toolbar=Toolbar(toolitems=[('Home', 'Reset original view', 'home', 'home'), ('Back', 'Back to previous …"
      ]
     },
     "metadata": {},
     "output_type": "display_data"
    },
    {
     "name": "stdout",
     "output_type": "stream",
     "text": [
      "low valid idx = 2, low valid Q = 0.007, high valid idx = 124 , high valid Q = 0.370\n",
      "low valid idx = 109, low valid Q = 0.295, high valid idx = 578 , high valid Q = 2.640\n",
      "1943_B1a_masked.h5 Task Finished. Figure Number =  5\n",
      "Loading file 2016_B8_masked.h5\n"
     ]
    },
    {
     "data": {
      "application/vnd.jupyter.widget-view+json": {
       "model_id": "365321fd1d9a48b88f0f35c3cba1c396",
       "version_major": 2,
       "version_minor": 0
      },
      "text/plain": [
       "Canvas(toolbar=Toolbar(toolitems=[('Home', 'Reset original view', 'home', 'home'), ('Back', 'Back to previous …"
      ]
     },
     "metadata": {},
     "output_type": "display_data"
    },
    {
     "name": "stdout",
     "output_type": "stream",
     "text": [
      "low valid idx = 2, low valid Q = 0.007, high valid idx = 124 , high valid Q = 0.370\n",
      "low valid idx = 109, low valid Q = 0.295, high valid idx = 578 , high valid Q = 2.640\n",
      "2016_B8_masked.h5 Task Finished. Figure Number =  6\n",
      "Loading file 2016_B8a_masked.h5\n"
     ]
    },
    {
     "data": {
      "application/vnd.jupyter.widget-view+json": {
       "model_id": "ff0bfd1da5954b38a9cddb1f61130a0b",
       "version_major": 2,
       "version_minor": 0
      },
      "text/plain": [
       "Canvas(toolbar=Toolbar(toolitems=[('Home', 'Reset original view', 'home', 'home'), ('Back', 'Back to previous …"
      ]
     },
     "metadata": {},
     "output_type": "display_data"
    },
    {
     "name": "stdout",
     "output_type": "stream",
     "text": [
      "low valid idx = 2, low valid Q = 0.007, high valid idx = 124 , high valid Q = 0.370\n",
      "low valid idx = 109, low valid Q = 0.295, high valid idx = 578 , high valid Q = 2.640\n",
      "2016_B8a_masked.h5 Task Finished. Figure Number =  7\n",
      "Loading file 2016_B8b_masked.h5\n"
     ]
    },
    {
     "data": {
      "application/vnd.jupyter.widget-view+json": {
       "model_id": "5aaf30b3122c4c26b148c86ace46fcaf",
       "version_major": 2,
       "version_minor": 0
      },
      "text/plain": [
       "Canvas(toolbar=Toolbar(toolitems=[('Home', 'Reset original view', 'home', 'home'), ('Back', 'Back to previous …"
      ]
     },
     "metadata": {},
     "output_type": "display_data"
    },
    {
     "name": "stdout",
     "output_type": "stream",
     "text": [
      "low valid idx = 2, low valid Q = 0.007, high valid idx = 124 , high valid Q = 0.370\n",
      "low valid idx = 109, low valid Q = 0.295, high valid idx = 578 , high valid Q = 2.640\n",
      "2016_B8b_masked.h5 Task Finished. Figure Number =  8\n",
      "Loading file 2016_B8c_masked.h5\n"
     ]
    },
    {
     "data": {
      "application/vnd.jupyter.widget-view+json": {
       "model_id": "6fb664e04d3c4cee95c87a9fa4d2076c",
       "version_major": 2,
       "version_minor": 0
      },
      "text/plain": [
       "Canvas(toolbar=Toolbar(toolitems=[('Home', 'Reset original view', 'home', 'home'), ('Back', 'Back to previous …"
      ]
     },
     "metadata": {},
     "output_type": "display_data"
    },
    {
     "name": "stdout",
     "output_type": "stream",
     "text": [
      "low valid idx = 2, low valid Q = 0.007, high valid idx = 124 , high valid Q = 0.370\n",
      "low valid idx = 109, low valid Q = 0.295, high valid idx = 578 , high valid Q = 2.640\n",
      "2016_B8c_masked.h5 Task Finished. Figure Number =  9\n",
      "Loading file 2047_B1_masked.h5\n"
     ]
    },
    {
     "data": {
      "application/vnd.jupyter.widget-view+json": {
       "model_id": "fe585877a6e949748168e8afd5b732cb",
       "version_major": 2,
       "version_minor": 0
      },
      "text/plain": [
       "Canvas(toolbar=Toolbar(toolitems=[('Home', 'Reset original view', 'home', 'home'), ('Back', 'Back to previous …"
      ]
     },
     "metadata": {},
     "output_type": "display_data"
    },
    {
     "name": "stdout",
     "output_type": "stream",
     "text": [
      "low valid idx = 2, low valid Q = 0.007, high valid idx = 124 , high valid Q = 0.370\n",
      "low valid idx = 109, low valid Q = 0.295, high valid idx = 578 , high valid Q = 2.640\n",
      "2047_B1_masked.h5 Task Finished. Figure Number =  10\n",
      "Loading file 2047_B1a_masked.h5\n"
     ]
    },
    {
     "data": {
      "application/vnd.jupyter.widget-view+json": {
       "model_id": "5e9adf06922b479f9b7ef8bb3fca570a",
       "version_major": 2,
       "version_minor": 0
      },
      "text/plain": [
       "Canvas(toolbar=Toolbar(toolitems=[('Home', 'Reset original view', 'home', 'home'), ('Back', 'Back to previous …"
      ]
     },
     "metadata": {},
     "output_type": "display_data"
    },
    {
     "name": "stdout",
     "output_type": "stream",
     "text": [
      "low valid idx = 2, low valid Q = 0.007, high valid idx = 124 , high valid Q = 0.370\n",
      "low valid idx = 109, low valid Q = 0.295, high valid idx = 578 , high valid Q = 2.640\n",
      "2047_B1a_masked.h5 Task Finished. Figure Number =  11\n",
      "Loading file 2048_B16_masked.h5\n"
     ]
    },
    {
     "data": {
      "application/vnd.jupyter.widget-view+json": {
       "model_id": "bafa609ba7f54e5abe6781e9341305b8",
       "version_major": 2,
       "version_minor": 0
      },
      "text/plain": [
       "Canvas(toolbar=Toolbar(toolitems=[('Home', 'Reset original view', 'home', 'home'), ('Back', 'Back to previous …"
      ]
     },
     "metadata": {},
     "output_type": "display_data"
    },
    {
     "name": "stdout",
     "output_type": "stream",
     "text": [
      "low valid idx = 2, low valid Q = 0.007, high valid idx = 124 , high valid Q = 0.370\n",
      "low valid idx = 109, low valid Q = 0.295, high valid idx = 564 , high valid Q = 2.570\n",
      "2048_B16_masked.h5 Task Finished. Figure Number =  12\n",
      "Loading file 2048_B16a_masked.h5\n"
     ]
    },
    {
     "data": {
      "application/vnd.jupyter.widget-view+json": {
       "model_id": "38c7574e582849a0b6cb524f7548e81b",
       "version_major": 2,
       "version_minor": 0
      },
      "text/plain": [
       "Canvas(toolbar=Toolbar(toolitems=[('Home', 'Reset original view', 'home', 'home'), ('Back', 'Back to previous …"
      ]
     },
     "metadata": {},
     "output_type": "display_data"
    },
    {
     "name": "stdout",
     "output_type": "stream",
     "text": [
      "low valid idx = 2, low valid Q = 0.007, high valid idx = 124 , high valid Q = 0.370\n",
      "low valid idx = 109, low valid Q = 0.295, high valid idx = 576 , high valid Q = 2.630\n",
      "2048_B16a_masked.h5 Task Finished. Figure Number =  13\n",
      "Loading file 2048_B16b_masked.h5\n"
     ]
    },
    {
     "data": {
      "application/vnd.jupyter.widget-view+json": {
       "model_id": "473d552aa34943988552697a64f7471b",
       "version_major": 2,
       "version_minor": 0
      },
      "text/plain": [
       "Canvas(toolbar=Toolbar(toolitems=[('Home', 'Reset original view', 'home', 'home'), ('Back', 'Back to previous …"
      ]
     },
     "metadata": {},
     "output_type": "display_data"
    },
    {
     "name": "stdout",
     "output_type": "stream",
     "text": [
      "low valid idx = 2, low valid Q = 0.007, high valid idx = 124 , high valid Q = 0.370\n",
      "low valid idx = 109, low valid Q = 0.295, high valid idx = 576 , high valid Q = 2.630\n",
      "2048_B16b_masked.h5 Task Finished. Figure Number =  14\n",
      "Loading file 2048_B6_masked.h5\n"
     ]
    },
    {
     "data": {
      "application/vnd.jupyter.widget-view+json": {
       "model_id": "9c121b0b55ff4b909d91045289858cfe",
       "version_major": 2,
       "version_minor": 0
      },
      "text/plain": [
       "Canvas(toolbar=Toolbar(toolitems=[('Home', 'Reset original view', 'home', 'home'), ('Back', 'Back to previous …"
      ]
     },
     "metadata": {},
     "output_type": "display_data"
    },
    {
     "name": "stdout",
     "output_type": "stream",
     "text": [
      "low valid idx = 2, low valid Q = 0.007, high valid idx = 124 , high valid Q = 0.370\n",
      "low valid idx = 109, low valid Q = 0.295, high valid idx = 578 , high valid Q = 2.640\n",
      "2048_B6_masked.h5 Task Finished. Figure Number =  15\n",
      "Loading file 2048_B8_masked.h5\n"
     ]
    },
    {
     "data": {
      "application/vnd.jupyter.widget-view+json": {
       "model_id": "5c8c37107a0e43f982674e61cd8d9ecd",
       "version_major": 2,
       "version_minor": 0
      },
      "text/plain": [
       "Canvas(toolbar=Toolbar(toolitems=[('Home', 'Reset original view', 'home', 'home'), ('Back', 'Back to previous …"
      ]
     },
     "metadata": {},
     "output_type": "display_data"
    },
    {
     "name": "stdout",
     "output_type": "stream",
     "text": [
      "low valid idx = 2, low valid Q = 0.007, high valid idx = 124 , high valid Q = 0.370\n",
      "low valid idx = 109, low valid Q = 0.295, high valid idx = 578 , high valid Q = 2.640\n",
      "2048_B8_masked.h5 Task Finished. Figure Number =  16\n",
      "PDF creation Finished\n"
     ]
    }
   ],
   "source": [
    "## heat plots for all files in a folder\n",
    "%matplotlib widget\n",
    "\n",
    "scatterings = ('_SAXS', '_WAXS2')\n",
    "qgrid2 = np.hstack([np.arange(0.005, 0.0499, 0.001), np.arange(0.05, 0.099, 0.002), np.arange(0.1, 3.2, 0.005)])\n",
    "\n",
    "plot_all_heat_maps_cwd('output.pdf', qgrid2, scatterings, seek_str='_masked.h5')"
   ]
  },
  {
   "cell_type": "code",
   "execution_count": 7,
   "id": "everyday-father",
   "metadata": {},
   "outputs": [],
   "source": [
    "## generate intensity data from h5 file to mat file\n",
    "\n",
    "file = '2048_B8_masked.h5'\n",
    "read_Iq(file, scattering='merged')\n",
    "save_mat(h5_top_group(file) +'_Iq', ('Iq', 'qgrid2'), (Iq, qgrid2))"
   ]
  },
  {
   "cell_type": "code",
   "execution_count": 55,
   "id": "computational-western",
   "metadata": {},
   "outputs": [
    {
     "name": "stdout",
     "output_type": "stream",
     "text": [
      "                                        File  Width  Height  Total_Diff.\n",
      "0       2029_DG_UNSTAINED-roi0_0_0_masked.h5     62      61         3782\n",
      "1       2029_DG_UNSTAINED-roi1_0_0_masked.h5     62      61         3782\n",
      "2                    2048-roi0_0_0_masked.h5     61      62         3782\n",
      "3  2048_B8_UNSTAINED-roi0_0_0_masked_intp.h5     61      62         3782\n",
      "4  2048_B8_UNSTAINED-roi1_0_0_masked_intp.h5     61      61         3721\n",
      "5                    2428-roi0_0_0_masked.h5     41      40         1640\n",
      "6               2428-roi1_0_0_masked_intp.h5     62      61         3782\n",
      "\n",
      "Total Diffractions in this folder =  24271\n"
     ]
    }
   ],
   "source": [
    "## generate total number of diffraction patterns in a file\n",
    "files_sorted = raw_file_list # raw_file_list    cwd_files_search_with('.h5', search_where = 'end')\n",
    "\n",
    "df = pd.concat([pd.DataFrame([[file, *width_height(file), np.dot(*width_height(file))]], columns = ['File', 'Width', 'Height', 'Total_Diff.']) for file in files_sorted], ignore_index=True)\n",
    "print(df)\n",
    "print('\\nTotal Diffractions in this folder = ', df.sum()['Total_Diff.'])\n",
    "df.to_csv(f'{default_sample_dir}.csv')"
   ]
  },
  {
   "cell_type": "code",
   "execution_count": null,
   "id": "champion-table",
   "metadata": {},
   "outputs": [],
   "source": [
    "### July 2021 July-18 - Wed-21\n",
    "# Sample#1 - 54281\n",
    "# Sample#2 - 1212\n",
    "# Sample#3 - 15676\n",
    "# Sample#4 - 65422\n",
    "# Sample#5 - 34850\n",
    "# Sample#6 - 65101\n",
    "# Sample#7 - 34847\n",
    "# Sample#8 - 15336\n",
    "# Sample#9 - 61365"
   ]
  },
  {
   "cell_type": "code",
   "execution_count": 41,
   "id": "irish-witch",
   "metadata": {},
   "outputs": [
    {
     "name": "stdout",
     "output_type": "stream",
     "text": [
      "['2029_DG_UNSTAINED-roi0_0_0.h5' '2029_DG_UNSTAINED-roi1_0_0.h5'\n",
      " '2048-roi0_0_0.h5' '2048_B8_UNSTAINED-roi0_0_0.h5'\n",
      " '2048_B8_UNSTAINED-roi1_0_0.h5' '2428-roi0_0_0.h5' '2428-roi1_0_0.h5']\n"
     ]
    }
   ],
   "source": [
    "### list of raw data files list in a directory\n",
    "\n",
    "raw_file_list = []\n",
    "for file in cwd_files_search_with(seek_str='.h5', search_where = 'end', directory = cwd):\n",
    "    raw_file_list.append(h5_top_group(file) + '.h5')\n",
    "raw_file_list = np.unique(np.array(raw_file_list))\n",
    "print(raw_file_list)"
   ]
  },
  {
   "cell_type": "code",
   "execution_count": 11,
   "id": "computational-family",
   "metadata": {},
   "outputs": [
    {
     "data": {
      "application/vnd.jupyter.widget-view+json": {
       "model_id": "aa0fdf6036594574a54f44912b3998a9",
       "version_major": 2,
       "version_minor": 0
      },
      "image/png": "[encoded data removed]",
      "text/html": [
       "\n",
       "            <div style=\"display: inline-block;\">\n",
       "                <div class=\"jupyter-widgets widget-label\" style=\"text-align: center;\">\n",
       "                    Figure\n",
       "                </div>\n",
       "                <img src='data:image/png;base64,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' width=640.0/>\n",
       "            </div>\n",
       "        "
      ],
      "text/plain": [
       "Canvas(toolbar=Toolbar(toolitems=[('Home', 'Reset original view', 'home', 'home'), ('Back', 'Back to previous …"
      ]
     },
     "metadata": {},
     "output_type": "display_data"
    }
   ],
   "source": [
    "### checking csv file data\n",
    "file = \"2048-roi0_0_0_masked.h5_merged.csv\"\n",
    "\n",
    "df = pd.read_csv(os.path.join(cwd, 'CSV', file))\n",
    "\n",
    "f= plt.subplots()\n",
    "plt.plot(np.log(df.loc[3781]))\n",
    "plt.show()"
   ]
  },
  {
   "cell_type": "code",
   "execution_count": null,
   "id": "absolute-ghost",
   "metadata": {},
   "outputs": [],
   "source": []
  }
 ],
 "metadata": {
  "kernelspec": {
   "display_name": "Python 3 (ipykernel)",
   "language": "python",
   "name": "python3"
  },
  "language_info": {
   "codemirror_mode": {
    "name": "ipython",
    "version": 3
   },
   "file_extension": ".py",
   "mimetype": "text/x-python",
   "name": "python",
   "nbconvert_exporter": "python",
   "pygments_lexer": "ipython3",
   "version": "3.11.4"
  }
 },
 "nbformat": 4,
 "nbformat_minor": 5
}
