{
 "cells": [
  {
   "cell_type": "code",
   "execution_count": 1,
   "id": "humanitarian-strain",
   "metadata": {},
   "outputs": [],
   "source": [
    "%matplotlib widget\n",
    "from generate_files import *\n",
    "os.chdir('/Users/bashit.a/Documents/Alzheimer/July-2021/BNL-Data/sample-5/')   # location where your h5 and exp file are  Nov-2021    Dec-2020      Mar-24/BNL-Data/        July-2021/BNL-Data/sample-3/\n",
    "\n",
    "## semi-specs\n",
    "qgrid2 = np.hstack([np.arange(0.005, 0.0499, 0.001), np.arange(0.05, 0.099, 0.002), np.arange(0.1, 3.2, 0.005)])"
   ]
  },
  {
   "cell_type": "code",
   "execution_count": 2,
   "id": "natural-verification",
   "metadata": {},
   "outputs": [
    {
     "name": "stdout",
     "output_type": "stream",
     "text": [
      "_SAXS Q = , [0.005 0.006 0.007 0.008 0.009 0.01  0.011 0.012 0.013 0.014 0.015 0.016\n",
      " 0.017 0.018 0.019 0.02  0.021 0.022 0.023 0.024 0.025 0.026 0.027 0.028\n",
      " 0.029 0.03  0.031 0.032 0.033 0.034 0.035 0.036 0.037 0.038 0.039 0.04\n",
      " 0.041 0.042 0.043 0.044 0.045 0.046 0.047 0.048 0.049 0.05  0.052 0.054\n",
      " 0.056 0.058 0.06  0.062 0.064 0.066 0.068 0.07  0.072 0.074 0.076 0.078\n",
      " 0.08  0.082 0.084 0.086 0.088 0.09  0.092 0.094 0.096 0.098 0.1   0.105\n",
      " 0.11  0.115 0.12  0.125 0.13  0.135 0.14  0.145 0.15  0.155 0.16  0.165\n",
      " 0.17  0.175 0.18  0.185 0.19  0.195 0.2   0.205 0.21  0.215 0.22  0.225\n",
      " 0.23  0.235 0.24  0.245 0.25  0.255 0.26  0.265 0.27  0.275 0.28  0.285\n",
      " 0.29  0.295 0.3   0.305 0.31  0.315 0.32  0.325]\n",
      "\n",
      "\n",
      "Successfully generated CSV for 2512_EC-roi1_masked.h5 \n",
      "\n",
      "\n",
      "_WAXS2 Q = , [0.185 0.19  0.195 0.2   0.205 0.21  0.215 0.22  0.225 0.23  0.235 0.24\n",
      " 0.245 0.25  0.255 0.26  0.265 0.27  0.275 0.28  0.285 0.29  0.295 0.3\n",
      " 0.305 0.31  0.315 0.32  0.325 0.33  0.335 0.34  0.345 0.35  0.355 0.36\n",
      " 0.365 0.37  0.375 0.38  0.385 0.39  0.395 0.4   0.405 0.41  0.415 0.42\n",
      " 0.425 0.43  0.435 0.44  0.445 0.45  0.455 0.46  0.465 0.47  0.475 0.48\n",
      " 0.485 0.49  0.495 0.5   0.505 0.51  0.515 0.52  0.525 0.53  0.535 0.54\n",
      " 0.545 0.55  0.555 0.56  0.565 0.57  0.575 0.58  0.585 0.59  0.595 0.6\n",
      " 0.605 0.61  0.615 0.62  0.625 0.63  0.635 0.64  0.645 0.65  0.655 0.66\n",
      " 0.665 0.67  0.675 0.68  0.685 0.69  0.695 0.7   0.705 0.71  0.715 0.72\n",
      " 0.725 0.73  0.735 0.74  0.745 0.75  0.755 0.76  0.765 0.77  0.775 0.78\n",
      " 0.785 0.79  0.795 0.8   0.805 0.81  0.815 0.82  0.825 0.83  0.835 0.84\n",
      " 0.845 0.85  0.855 0.86  0.865 0.87  0.875 0.88  0.885 0.89  0.895 0.9\n",
      " 0.905 0.91  0.915 0.92  0.925 0.93  0.935 0.94  0.945 0.95  0.955 0.96\n",
      " 0.965 0.97  0.975 0.98  0.985 0.99  0.995 1.    1.005 1.01  1.015 1.02\n",
      " 1.025 1.03  1.035 1.04  1.045 1.05  1.055 1.06  1.065 1.07  1.075 1.08\n",
      " 1.085 1.09  1.095 1.1   1.105 1.11  1.115 1.12  1.125 1.13  1.135 1.14\n",
      " 1.145 1.15  1.155 1.16  1.165 1.17  1.175 1.18  1.185 1.19  1.195 1.2\n",
      " 1.205 1.21  1.215 1.22  1.225 1.23  1.235 1.24  1.245 1.25  1.255 1.26\n",
      " 1.265 1.27  1.275 1.28  1.285 1.29  1.295 1.3   1.305 1.31  1.315 1.32\n",
      " 1.325 1.33  1.335 1.34  1.345 1.35  1.355 1.36  1.365 1.37  1.375 1.38\n",
      " 1.385 1.39  1.395 1.4   1.405 1.41  1.415 1.42  1.425 1.43  1.435 1.44\n",
      " 1.445 1.45  1.455 1.46  1.465 1.47  1.475 1.48  1.485 1.49  1.495 1.5\n",
      " 1.505 1.51  1.515 1.52  1.525 1.53  1.535 1.54  1.545 1.55  1.555 1.56\n",
      " 1.565 1.57  1.575 1.58  1.585 1.59  1.595 1.6   1.605 1.61  1.615 1.62\n",
      " 1.625 1.63  1.635 1.64  1.645 1.65  1.655 1.66  1.665 1.67  1.675 1.68\n",
      " 1.685 1.69  1.695 1.7   1.705 1.71  1.715 1.72  1.725 1.73  1.735 1.74\n",
      " 1.745 1.75  1.755 1.76  1.765 1.77  1.775 1.78  1.785 1.79  1.795 1.8\n",
      " 1.805 1.81  1.815 1.82  1.825 1.83  1.835 1.84  1.845 1.85  1.855 1.86\n",
      " 1.865 1.87  1.875 1.88  1.885 1.89  1.895 1.9   1.905 1.91  1.915 1.92\n",
      " 1.925 1.93  1.935 1.94  1.945 1.95  1.955 1.96  1.965 1.97  1.975 1.98\n",
      " 1.985 1.99  1.995 2.    2.005 2.01  2.015 2.02  2.025 2.03  2.035 2.04\n",
      " 2.045 2.05  2.055 2.06  2.065 2.07  2.075 2.08  2.085 2.09  2.095 2.1\n",
      " 2.105 2.11  2.115 2.12  2.125 2.13  2.135 2.14  2.145 2.15  2.155 2.16\n",
      " 2.165 2.17  2.175 2.18  2.185 2.19  2.195 2.2   2.205 2.21  2.215 2.22\n",
      " 2.225 2.23  2.235 2.24  2.245 2.25  2.255 2.26  2.265 2.27  2.275 2.28\n",
      " 2.285 2.29  2.295 2.3   2.305 2.31  2.315 2.32  2.325 2.33  2.335 2.34\n",
      " 2.345 2.35  2.355 2.36  2.365 2.37  2.375 2.38  2.385 2.39  2.395 2.4\n",
      " 2.405 2.41  2.415 2.42  2.425 2.43  2.435 2.44  2.445 2.45  2.455 2.46\n",
      " 2.465 2.47  2.475 2.48  2.485 2.49  2.495 2.5   2.505 2.51  2.515 2.52\n",
      " 2.525 2.53  2.535 2.54  2.545 2.55  2.555 2.56  2.565 2.57  2.575 2.58\n",
      " 2.585 2.59  2.595 2.6   2.605 2.61  2.615 2.62  2.625 2.63  2.635 2.64\n",
      " 2.645 2.65  2.655 2.66  2.665 2.67  2.675 2.68  2.685 2.69  2.695 2.7\n",
      " 2.705 2.71  2.715 2.72  2.725 2.73  2.735 2.74  2.745 2.75  2.755 2.76\n",
      " 2.765 2.77  2.775 2.78  2.785 2.79  2.795 2.8   2.805 2.81  2.815 2.82\n",
      " 2.825 2.83  2.835 2.84  2.845]\n",
      "\n",
      "\n",
      "Successfully generated CSV for 2512_EC-roi1_masked.h5 \n",
      "\n",
      "\n",
      "merged Q = , [0.005 0.006 0.007 0.008 0.009 0.01  0.011 0.012 0.013 0.014 0.015 0.016\n",
      " 0.017 0.018 0.019 0.02  0.021 0.022 0.023 0.024 0.025 0.026 0.027 0.028\n",
      " 0.029 0.03  0.031 0.032 0.033 0.034 0.035 0.036 0.037 0.038 0.039 0.04\n",
      " 0.041 0.042 0.043 0.044 0.045 0.046 0.047 0.048 0.049 0.05  0.052 0.054\n",
      " 0.056 0.058 0.06  0.062 0.064 0.066 0.068 0.07  0.072 0.074 0.076 0.078\n",
      " 0.08  0.082 0.084 0.086 0.088 0.09  0.092 0.094 0.096 0.098 0.1   0.105\n",
      " 0.11  0.115 0.12  0.125 0.13  0.135 0.14  0.145 0.15  0.155 0.16  0.165\n",
      " 0.17  0.175 0.18  0.185 0.19  0.195 0.2   0.205 0.21  0.215 0.22  0.225\n",
      " 0.23  0.235 0.24  0.245 0.25  0.255 0.26  0.265 0.27  0.275 0.28  0.285\n",
      " 0.29  0.295 0.3   0.305 0.31  0.315 0.32  0.325 0.33  0.335 0.34  0.345\n",
      " 0.35  0.355 0.36  0.365 0.37  0.375 0.38  0.385 0.39  0.395 0.4   0.405\n",
      " 0.41  0.415 0.42  0.425 0.43  0.435 0.44  0.445 0.45  0.455 0.46  0.465\n",
      " 0.47  0.475 0.48  0.485 0.49  0.495 0.5   0.505 0.51  0.515 0.52  0.525\n",
      " 0.53  0.535 0.54  0.545 0.55  0.555 0.56  0.565 0.57  0.575 0.58  0.585\n",
      " 0.59  0.595 0.6   0.605 0.61  0.615 0.62  0.625 0.63  0.635 0.64  0.645\n",
      " 0.65  0.655 0.66  0.665 0.67  0.675 0.68  0.685 0.69  0.695 0.7   0.705\n",
      " 0.71  0.715 0.72  0.725 0.73  0.735 0.74  0.745 0.75  0.755 0.76  0.765\n",
      " 0.77  0.775 0.78  0.785 0.79  0.795 0.8   0.805 0.81  0.815 0.82  0.825\n",
      " 0.83  0.835 0.84  0.845 0.85  0.855 0.86  0.865 0.87  0.875 0.88  0.885\n",
      " 0.89  0.895 0.9   0.905 0.91  0.915 0.92  0.925 0.93  0.935 0.94  0.945\n",
      " 0.95  0.955 0.96  0.965 0.97  0.975 0.98  0.985 0.99  0.995 1.    1.005\n",
      " 1.01  1.015 1.02  1.025 1.03  1.035 1.04  1.045 1.05  1.055 1.06  1.065\n",
      " 1.07  1.075 1.08  1.085 1.09  1.095 1.1   1.105 1.11  1.115 1.12  1.125\n",
      " 1.13  1.135 1.14  1.145 1.15  1.155 1.16  1.165 1.17  1.175 1.18  1.185\n",
      " 1.19  1.195 1.2   1.205 1.21  1.215 1.22  1.225 1.23  1.235 1.24  1.245\n",
      " 1.25  1.255 1.26  1.265 1.27  1.275 1.28  1.285 1.29  1.295 1.3   1.305\n",
      " 1.31  1.315 1.32  1.325 1.33  1.335 1.34  1.345 1.35  1.355 1.36  1.365\n",
      " 1.37  1.375 1.38  1.385 1.39  1.395 1.4   1.405 1.41  1.415 1.42  1.425\n",
      " 1.43  1.435 1.44  1.445 1.45  1.455 1.46  1.465 1.47  1.475 1.48  1.485\n",
      " 1.49  1.495 1.5   1.505 1.51  1.515 1.52  1.525 1.53  1.535 1.54  1.545\n",
      " 1.55  1.555 1.56  1.565 1.57  1.575 1.58  1.585 1.59  1.595 1.6   1.605\n",
      " 1.61  1.615 1.62  1.625 1.63  1.635 1.64  1.645 1.65  1.655 1.66  1.665\n",
      " 1.67  1.675 1.68  1.685 1.69  1.695 1.7   1.705 1.71  1.715 1.72  1.725\n",
      " 1.73  1.735 1.74  1.745 1.75  1.755 1.76  1.765 1.77  1.775 1.78  1.785\n",
      " 1.79  1.795 1.8   1.805 1.81  1.815 1.82  1.825 1.83  1.835 1.84  1.845\n",
      " 1.85  1.855 1.86  1.865 1.87  1.875 1.88  1.885 1.89  1.895 1.9   1.905\n",
      " 1.91  1.915 1.92  1.925 1.93  1.935 1.94  1.945 1.95  1.955 1.96  1.965\n",
      " 1.97  1.975 1.98  1.985 1.99  1.995 2.    2.005 2.01  2.015 2.02  2.025\n",
      " 2.03  2.035 2.04  2.045 2.05  2.055 2.06  2.065 2.07  2.075 2.08  2.085\n",
      " 2.09  2.095 2.1   2.105 2.11  2.115 2.12  2.125 2.13  2.135 2.14  2.145\n",
      " 2.15  2.155 2.16  2.165 2.17  2.175 2.18  2.185 2.19  2.195 2.2   2.205\n",
      " 2.21  2.215 2.22  2.225 2.23  2.235 2.24  2.245 2.25  2.255 2.26  2.265\n",
      " 2.27  2.275 2.28  2.285 2.29  2.295 2.3   2.305 2.31  2.315 2.32  2.325\n",
      " 2.33  2.335 2.34  2.345 2.35  2.355 2.36  2.365 2.37  2.375 2.38  2.385\n",
      " 2.39  2.395 2.4   2.405 2.41  2.415 2.42  2.425 2.43  2.435 2.44  2.445\n",
      " 2.45  2.455 2.46  2.465 2.47  2.475 2.48  2.485 2.49  2.495 2.5   2.505\n",
      " 2.51  2.515 2.52  2.525 2.53  2.535 2.54  2.545 2.55  2.555 2.56  2.565\n",
      " 2.57  2.575 2.58  2.585 2.59  2.595 2.6   2.605 2.61  2.615 2.62  2.625\n",
      " 2.63  2.635 2.64  2.645 2.65  2.655 2.66  2.665 2.67  2.675 2.68  2.685\n",
      " 2.69  2.695 2.7   2.705 2.71  2.715 2.72  2.725 2.73  2.735 2.74  2.745\n",
      " 2.75  2.755 2.76  2.765 2.77  2.775 2.78  2.785 2.79  2.795 2.8   2.805\n",
      " 2.81  2.815 2.82  2.825 2.83  2.835 2.84  2.845]\n",
      "\n",
      "\n",
      "Successfully generated CSV for 2512_EC-roi1_masked.h5 \n",
      "\n",
      "\n",
      "WIDTH, HEIGHT = (62, 62)\n"
     ]
    }
   ],
   "source": [
    "## Generate Excel file of 1-d averaging for SAXS and WAXS data\n",
    "# specs\n",
    "files = ['2512_EC-roi1_masked.h5']    # [\"2048_B8_masked.h5\", '2109_EC-roi1_masked.h5'] or cwd_files_search_with(seek_str='_masked.h5')\n",
    "scatterings = ('_SAXS', '_WAXS2','merged')   # ('_SAXS', '_WAXS2','merged')\n",
    "\n",
    "for file in files:\n",
    "    #generate_excel_file(file, qgrid2, scattering, method='one-frame', frame=0)\n",
    "    for scattering in scatterings:\n",
    "        generate_excel_file(file, qgrid2, scattering,  method='all-frames', with_q=True)   # method='one-frame', frame=10 or  method = 'all-frames'\n",
    "        print(f'\\n\\nSuccessfully generated CSV for {file} \\n\\n')\n",
    "    print(f'WIDTH, HEIGHT = {width_height(file)}')"
   ]
  },
  {
   "cell_type": "code",
   "execution_count": 5,
   "id": "elder-perspective",
   "metadata": {},
   "outputs": [],
   "source": [
    "## export to Matlab mat format (to be working with Biel data)\n",
    "file = '2016_B8.h5'\n",
    "scattering = 'merged'\n",
    "with h5py.File(file,'r') as hdf:\n",
    "    Iq = hdf.get(file.split('.')[0] + '/processed')        # Iq = hdf.get('2048_B16/processed')\n",
    "    Iq = np.array(Iq.get(scattering))                      # Iq = np.array(2048_B16/processed/merged')\n",
    "    Iq = Iq[:,0,:]                                         # Iq shape (3721, 690)\n",
    "    Iq = np.expand_dims(Iq,axis=1)                         # Iq shape (3721, 1, 690)\n",
    "\n",
    "    if not os.path.exists('MATLAB'):\n",
    "        os.makedirs('MATLAB')\n",
    "    mat_contents = {}\n",
    "    mat_contents['SAXS_CircAv'] = {}\n",
    "    mat_contents['SAXS_CircAv']['BandAngles'] = qgrid2\n",
    "    mat_contents['SAXS_CircAv']['CircAv'] = Iq\n",
    "    sio.savemat(f'{file}.mat', mat_contents);"
   ]
  },
  {
   "cell_type": "code",
   "execution_count": 4,
   "id": "conservative-system",
   "metadata": {
    "collapsed": true,
    "jupyter": {
     "outputs_hidden": true
    }
   },
   "outputs": [
    {
     "name": "stdout",
     "output_type": "stream",
     "text": [
      "Loading file 1934_B8_masked.h5\n"
     ]
    },
    {
     "data": {
      "application/vnd.jupyter.widget-view+json": {
       "model_id": "ac508a6d195e46419d5cb6573d3197ce",
       "version_major": 2,
       "version_minor": 0
      },
      "text/plain": [
       "Canvas(toolbar=Toolbar(toolitems=[('Home', 'Reset original view', 'home', 'home'), ('Back', 'Back to previous …"
      ]
     },
     "metadata": {},
     "output_type": "display_data"
    },
    {
     "name": "stdout",
     "output_type": "stream",
     "text": [
      "low valid idx = 2, low valid Q = 0.007, high valid idx = 124 , high valid Q = 0.370\n",
      "low valid idx = 109, low valid Q = 0.295, high valid idx = 578 , high valid Q = 2.640\n",
      "1934_B8_masked.h5 Task Finished. Figure Number =  1\n",
      "Loading file 1934_SN_masked.h5\n"
     ]
    },
    {
     "data": {
      "application/vnd.jupyter.widget-view+json": {
       "model_id": "76ab344c1c904d329a1ebec3aa43a5b5",
       "version_major": 2,
       "version_minor": 0
      },
      "text/plain": [
       "Canvas(toolbar=Toolbar(toolitems=[('Home', 'Reset original view', 'home', 'home'), ('Back', 'Back to previous …"
      ]
     },
     "metadata": {},
     "output_type": "display_data"
    },
    {
     "name": "stdout",
     "output_type": "stream",
     "text": [
      "low valid idx = 2, low valid Q = 0.007, high valid idx = 124 , high valid Q = 0.370\n",
      "low valid idx = 109, low valid Q = 0.295, high valid idx = 578 , high valid Q = 2.640\n",
      "1934_SN_masked.h5 Task Finished. Figure Number =  2\n",
      "Loading file 1934_SNa_masked.h5\n"
     ]
    },
    {
     "data": {
      "application/vnd.jupyter.widget-view+json": {
       "model_id": "d312c218b29f4f87b3e17a0650d8b72c",
       "version_major": 2,
       "version_minor": 0
      },
      "text/plain": [
       "Canvas(toolbar=Toolbar(toolitems=[('Home', 'Reset original view', 'home', 'home'), ('Back', 'Back to previous …"
      ]
     },
     "metadata": {},
     "output_type": "display_data"
    },
    {
     "name": "stdout",
     "output_type": "stream",
     "text": [
      "low valid idx = 2, low valid Q = 0.007, high valid idx = 124 , high valid Q = 0.370\n",
      "low valid idx = 109, low valid Q = 0.295, high valid idx = 578 , high valid Q = 2.640\n",
      "1934_SNa_masked.h5 Task Finished. Figure Number =  3\n",
      "Loading file 1943_B1_masked.h5\n"
     ]
    },
    {
     "data": {
      "application/vnd.jupyter.widget-view+json": {
       "model_id": "6b48b5f45404473e89f10d2155744d5e",
       "version_major": 2,
       "version_minor": 0
      },
      "text/plain": [
       "Canvas(toolbar=Toolbar(toolitems=[('Home', 'Reset original view', 'home', 'home'), ('Back', 'Back to previous …"
      ]
     },
     "metadata": {},
     "output_type": "display_data"
    },
    {
     "name": "stdout",
     "output_type": "stream",
     "text": [
      "low valid idx = 2, low valid Q = 0.007, high valid idx = 124 , high valid Q = 0.370\n",
      "low valid idx = 109, low valid Q = 0.295, high valid idx = 578 , high valid Q = 2.640\n",
      "1943_B1_masked.h5 Task Finished. Figure Number =  4\n",
      "Loading file 1943_B1a_masked.h5\n"
     ]
    },
    {
     "data": {
      "application/vnd.jupyter.widget-view+json": {
       "model_id": "38a009aa524c4aebb9485d79cd0e5f9f",
       "version_major": 2,
       "version_minor": 0
      },
      "text/plain": [
       "Canvas(toolbar=Toolbar(toolitems=[('Home', 'Reset original view', 'home', 'home'), ('Back', 'Back to previous …"
      ]
     },
     "metadata": {},
     "output_type": "display_data"
    },
    {
     "name": "stdout",
     "output_type": "stream",
     "text": [
      "low valid idx = 2, low valid Q = 0.007, high valid idx = 124 , high valid Q = 0.370\n",
      "low valid idx = 109, low valid Q = 0.295, high valid idx = 578 , high valid Q = 2.640\n",
      "1943_B1a_masked.h5 Task Finished. Figure Number =  5\n",
      "Loading file 2016_B8_masked.h5\n"
     ]
    },
    {
     "data": {
      "application/vnd.jupyter.widget-view+json": {
       "model_id": "365321fd1d9a48b88f0f35c3cba1c396",
       "version_major": 2,
       "version_minor": 0
      },
      "text/plain": [
       "Canvas(toolbar=Toolbar(toolitems=[('Home', 'Reset original view', 'home', 'home'), ('Back', 'Back to previous …"
      ]
     },
     "metadata": {},
     "output_type": "display_data"
    },
    {
     "name": "stdout",
     "output_type": "stream",
     "text": [
      "low valid idx = 2, low valid Q = 0.007, high valid idx = 124 , high valid Q = 0.370\n",
      "low valid idx = 109, low valid Q = 0.295, high valid idx = 578 , high valid Q = 2.640\n",
      "2016_B8_masked.h5 Task Finished. Figure Number =  6\n",
      "Loading file 2016_B8a_masked.h5\n"
     ]
    },
    {
     "data": {
      "application/vnd.jupyter.widget-view+json": {
       "model_id": "ff0bfd1da5954b38a9cddb1f61130a0b",
       "version_major": 2,
       "version_minor": 0
      },
      "text/plain": [
       "Canvas(toolbar=Toolbar(toolitems=[('Home', 'Reset original view', 'home', 'home'), ('Back', 'Back to previous …"
      ]
     },
     "metadata": {},
     "output_type": "display_data"
    },
    {
     "name": "stdout",
     "output_type": "stream",
     "text": [
      "low valid idx = 2, low valid Q = 0.007, high valid idx = 124 , high valid Q = 0.370\n",
      "low valid idx = 109, low valid Q = 0.295, high valid idx = 578 , high valid Q = 2.640\n",
      "2016_B8a_masked.h5 Task Finished. Figure Number =  7\n",
      "Loading file 2016_B8b_masked.h5\n"
     ]
    },
    {
     "data": {
      "application/vnd.jupyter.widget-view+json": {
       "model_id": "5aaf30b3122c4c26b148c86ace46fcaf",
       "version_major": 2,
       "version_minor": 0
      },
      "text/plain": [
       "Canvas(toolbar=Toolbar(toolitems=[('Home', 'Reset original view', 'home', 'home'), ('Back', 'Back to previous …"
      ]
     },
     "metadata": {},
     "output_type": "display_data"
    },
    {
     "name": "stdout",
     "output_type": "stream",
     "text": [
      "low valid idx = 2, low valid Q = 0.007, high valid idx = 124 , high valid Q = 0.370\n",
      "low valid idx = 109, low valid Q = 0.295, high valid idx = 578 , high valid Q = 2.640\n",
      "2016_B8b_masked.h5 Task Finished. Figure Number =  8\n",
      "Loading file 2016_B8c_masked.h5\n"
     ]
    },
    {
     "data": {
      "application/vnd.jupyter.widget-view+json": {
       "model_id": "6fb664e04d3c4cee95c87a9fa4d2076c",
       "version_major": 2,
       "version_minor": 0
      },
      "text/plain": [
       "Canvas(toolbar=Toolbar(toolitems=[('Home', 'Reset original view', 'home', 'home'), ('Back', 'Back to previous …"
      ]
     },
     "metadata": {},
     "output_type": "display_data"
    },
    {
     "name": "stdout",
     "output_type": "stream",
     "text": [
      "low valid idx = 2, low valid Q = 0.007, high valid idx = 124 , high valid Q = 0.370\n",
      "low valid idx = 109, low valid Q = 0.295, high valid idx = 578 , high valid Q = 2.640\n",
      "2016_B8c_masked.h5 Task Finished. Figure Number =  9\n",
      "Loading file 2047_B1_masked.h5\n"
     ]
    },
    {
     "data": {
      "application/vnd.jupyter.widget-view+json": {
       "model_id": "fe585877a6e949748168e8afd5b732cb",
       "version_major": 2,
       "version_minor": 0
      },
      "text/plain": [
       "Canvas(toolbar=Toolbar(toolitems=[('Home', 'Reset original view', 'home', 'home'), ('Back', 'Back to previous …"
      ]
     },
     "metadata": {},
     "output_type": "display_data"
    },
    {
     "name": "stdout",
     "output_type": "stream",
     "text": [
      "low valid idx = 2, low valid Q = 0.007, high valid idx = 124 , high valid Q = 0.370\n",
      "low valid idx = 109, low valid Q = 0.295, high valid idx = 578 , high valid Q = 2.640\n",
      "2047_B1_masked.h5 Task Finished. Figure Number =  10\n",
      "Loading file 2047_B1a_masked.h5\n"
     ]
    },
    {
     "data": {
      "application/vnd.jupyter.widget-view+json": {
       "model_id": "5e9adf06922b479f9b7ef8bb3fca570a",
       "version_major": 2,
       "version_minor": 0
      },
      "text/plain": [
       "Canvas(toolbar=Toolbar(toolitems=[('Home', 'Reset original view', 'home', 'home'), ('Back', 'Back to previous …"
      ]
     },
     "metadata": {},
     "output_type": "display_data"
    },
    {
     "name": "stdout",
     "output_type": "stream",
     "text": [
      "low valid idx = 2, low valid Q = 0.007, high valid idx = 124 , high valid Q = 0.370\n",
      "low valid idx = 109, low valid Q = 0.295, high valid idx = 578 , high valid Q = 2.640\n",
      "2047_B1a_masked.h5 Task Finished. Figure Number =  11\n",
      "Loading file 2048_B16_masked.h5\n"
     ]
    },
    {
     "data": {
      "application/vnd.jupyter.widget-view+json": {
       "model_id": "bafa609ba7f54e5abe6781e9341305b8",
       "version_major": 2,
       "version_minor": 0
      },
      "text/plain": [
       "Canvas(toolbar=Toolbar(toolitems=[('Home', 'Reset original view', 'home', 'home'), ('Back', 'Back to previous …"
      ]
     },
     "metadata": {},
     "output_type": "display_data"
    },
    {
     "name": "stdout",
     "output_type": "stream",
     "text": [
      "low valid idx = 2, low valid Q = 0.007, high valid idx = 124 , high valid Q = 0.370\n",
      "low valid idx = 109, low valid Q = 0.295, high valid idx = 564 , high valid Q = 2.570\n",
      "2048_B16_masked.h5 Task Finished. Figure Number =  12\n",
      "Loading file 2048_B16a_masked.h5\n"
     ]
    },
    {
     "data": {
      "application/vnd.jupyter.widget-view+json": {
       "model_id": "38c7574e582849a0b6cb524f7548e81b",
       "version_major": 2,
       "version_minor": 0
      },
      "text/plain": [
       "Canvas(toolbar=Toolbar(toolitems=[('Home', 'Reset original view', 'home', 'home'), ('Back', 'Back to previous …"
      ]
     },
     "metadata": {},
     "output_type": "display_data"
    },
    {
     "name": "stdout",
     "output_type": "stream",
     "text": [
      "low valid idx = 2, low valid Q = 0.007, high valid idx = 124 , high valid Q = 0.370\n",
      "low valid idx = 109, low valid Q = 0.295, high valid idx = 576 , high valid Q = 2.630\n",
      "2048_B16a_masked.h5 Task Finished. Figure Number =  13\n",
      "Loading file 2048_B16b_masked.h5\n"
     ]
    },
    {
     "data": {
      "application/vnd.jupyter.widget-view+json": {
       "model_id": "473d552aa34943988552697a64f7471b",
       "version_major": 2,
       "version_minor": 0
      },
      "text/plain": [
       "Canvas(toolbar=Toolbar(toolitems=[('Home', 'Reset original view', 'home', 'home'), ('Back', 'Back to previous …"
      ]
     },
     "metadata": {},
     "output_type": "display_data"
    },
    {
     "name": "stdout",
     "output_type": "stream",
     "text": [
      "low valid idx = 2, low valid Q = 0.007, high valid idx = 124 , high valid Q = 0.370\n",
      "low valid idx = 109, low valid Q = 0.295, high valid idx = 576 , high valid Q = 2.630\n",
      "2048_B16b_masked.h5 Task Finished. Figure Number =  14\n",
      "Loading file 2048_B6_masked.h5\n"
     ]
    },
    {
     "data": {
      "application/vnd.jupyter.widget-view+json": {
       "model_id": "9c121b0b55ff4b909d91045289858cfe",
       "version_major": 2,
       "version_minor": 0
      },
      "text/plain": [
       "Canvas(toolbar=Toolbar(toolitems=[('Home', 'Reset original view', 'home', 'home'), ('Back', 'Back to previous …"
      ]
     },
     "metadata": {},
     "output_type": "display_data"
    },
    {
     "name": "stdout",
     "output_type": "stream",
     "text": [
      "low valid idx = 2, low valid Q = 0.007, high valid idx = 124 , high valid Q = 0.370\n",
      "low valid idx = 109, low valid Q = 0.295, high valid idx = 578 , high valid Q = 2.640\n",
      "2048_B6_masked.h5 Task Finished. Figure Number =  15\n",
      "Loading file 2048_B8_masked.h5\n"
     ]
    },
    {
     "data": {
      "application/vnd.jupyter.widget-view+json": {
       "model_id": "5c8c37107a0e43f982674e61cd8d9ecd",
       "version_major": 2,
       "version_minor": 0
      },
      "text/plain": [
       "Canvas(toolbar=Toolbar(toolitems=[('Home', 'Reset original view', 'home', 'home'), ('Back', 'Back to previous …"
      ]
     },
     "metadata": {},
     "output_type": "display_data"
    },
    {
     "name": "stdout",
     "output_type": "stream",
     "text": [
      "low valid idx = 2, low valid Q = 0.007, high valid idx = 124 , high valid Q = 0.370\n",
      "low valid idx = 109, low valid Q = 0.295, high valid idx = 578 , high valid Q = 2.640\n",
      "2048_B8_masked.h5 Task Finished. Figure Number =  16\n",
      "PDF creation Finished\n"
     ]
    }
   ],
   "source": [
    "## heat plots for all files in a folder\n",
    "%matplotlib widget\n",
    "\n",
    "scatterings = ('_SAXS', '_WAXS2')\n",
    "qgrid2 = np.hstack([np.arange(0.005, 0.0499, 0.001), np.arange(0.05, 0.099, 0.002), np.arange(0.1, 3.2, 0.005)])\n",
    "\n",
    "plot_all_heat_maps_cwd('output.pdf', qgrid2, scatterings, seek_str='_masked.h5')"
   ]
  },
  {
   "cell_type": "code",
   "execution_count": 7,
   "id": "virtual-ancient",
   "metadata": {},
   "outputs": [],
   "source": [
    "## generate intensity data from h5 file to mat file\n",
    "\n",
    "file = '2048_B8_masked.h5'\n",
    "read_Iq(file, scattering='merged')\n",
    "save_mat(h5_top_group(file) +'_Iq', ('Iq', 'qgrid2'), (Iq, qgrid2))"
   ]
  },
  {
   "cell_type": "code",
   "execution_count": 9,
   "id": "sunset-federal",
   "metadata": {},
   "outputs": [
    {
     "name": "stdout",
     "output_type": "stream",
     "text": [
      "                    File  Width  Height  Total_Diff.\n",
      "0        1593_EC-roi0.h5     63      63         3969\n",
      "1        1593_EC-roi1.h5     63      63         3969\n",
      "2   1593_EC_mica-roi0.h5      6       6           36\n",
      "3        1593_FC-roi0.h5     62     124         7688\n",
      "4   1593_FC_mica-roi0.h5      6       6           36\n",
      "5        2109_EC-roi0.h5    124      61         7564\n",
      "6        2109_EC-roi1.h5     63      63         3969\n",
      "7   2109_EC_mica-roi0.h5      6       7           42\n",
      "8        2109_FC-roi0.h5    124      62         7688\n",
      "9   2109_FC_mica-roi0.h5      6       6           36\n",
      "10   sample7_bkg-roi0.h5      6       6           36\n",
      "\n",
      "Total Diffractions in this folder =  35033\n"
     ]
    }
   ],
   "source": [
    "## generate total number of diffraction patterns in a file\n",
    "files_sorted = cwd_files_search_with('.h5', search_where = 'end')\n",
    "\n",
    "df = pd.concat([pd.DataFrame([[file, *width_height(file), np.dot(*width_height(file))]], columns = ['File', 'Width', 'Height', 'Total_Diff.']) for file in files_sorted], ignore_index=True)\n",
    "print(df)\n",
    "print('\\nTotal Diffractions in this folder = ', df.sum()['Total_Diff.'])"
   ]
  },
  {
   "cell_type": "code",
   "execution_count": null,
   "id": "meaning-orlando",
   "metadata": {},
   "outputs": [],
   "source": [
    "### Read data from CSV files\n"
   ]
  },
  {
   "cell_type": "code",
   "execution_count": null,
   "id": "grateful-delicious",
   "metadata": {},
   "outputs": [],
   "source": [
    "### July 2021 July-18 - Wed-21\n",
    "# Sample#1 - 54281\n",
    "# Sample#2 - 1212\n",
    "# Sample#3 - 15676\n",
    "# Sample#4 - 65422\n",
    "# Sample#5 - 34850\n",
    "# Sample#6 - 65101\n",
    "# Sample#7 - 34847\n",
    "# Sample#8 - 15336\n",
    "# Sample#9 - 61365"
   ]
  }
 ],
 "metadata": {
  "kernelspec": {
   "display_name": "Python 3",
   "language": "python",
   "name": "python3"
  },
  "language_info": {
   "codemirror_mode": {
    "name": "ipython",
    "version": 3
   },
   "file_extension": ".py",
   "mimetype": "text/x-python",
   "name": "python",
   "nbconvert_exporter": "python",
   "pygments_lexer": "ipython3",
   "version": "3.8.6"
  }
 },
 "nbformat": 4,
 "nbformat_minor": 5
}
