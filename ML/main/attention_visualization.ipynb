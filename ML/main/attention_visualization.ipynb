{
 "cells": [
  {
   "cell_type": "code",
   "execution_count": 17,
   "id": "7f442496-ab3b-4145-875e-30179c7dc719",
   "metadata": {},
   "outputs": [
    {
     "name": "stdout",
     "output_type": "stream",
     "text": [
      "/Users/bashit.a/Documents/Alzheimer/Codes/ML\n"
     ]
    }
   ],
   "source": [
    "import torch\n",
    "import torch.nn as nn\n",
    "import numpy as np\n",
    "import pylab as plt\n",
    "import sys, os\n",
    "parentdir  = os.path.abspath(os.path.join('..'))\n",
    "print(parentdir)\n",
    "sys.path.insert(1, os.path.join(parentdir, 'dataloader'))\n",
    "sys.path.insert(1, os.path.join(parentdir, 'models'))"
   ]
  },
  {
   "cell_type": "code",
   "execution_count": 54,
   "id": "ea1f455d-3d69-45d9-9f56-e8d638dfbcf7",
   "metadata": {},
   "outputs": [],
   "source": [
    "### File Locations\n",
    "column_names= {\"Diffuse_Plaque\":1. , \"Tissue\":0.}   # \"Diffuse_Plaque\"   \"Neurofibrillary_Tangle_(tau)\"    \"Neuritic_Plaque\"  \"Tissue\"\n",
    "Excel_File  = \"/Users/bashit.a/Documents/Alzheimer/Mar-2023/Mar-2023-Samples.xlsx\"   # \"/home/bashit.a/Codes/ML/Mar-2023-Samples.xlsx\"   \"/Users/bashit.a/Documents/Alzheimer/Mar-2023/Mar-2023-Samples.xlsx\"\n",
    "sheet       = 'Mar-2023-Samples'\n",
    "BNL_dir     = '/Volumes/HDD/BNL-Data/Mar-2023'      # '/Volumes/HDD/BNL-Data/Mar-2023'         '/scratch/bashit.a/BNL-Data/Mar-2023'\n",
    "sub_dir     = \"CSV_Conv-8-point\"  # CSV_Conv-8-point  CSV\n",
    "val_files   = [\"1948 V1-roi0_0_0_masked.h5\"] # None [\"1948_HIPPO-roi1_0_0_masked_intp.h5\", \"2428-roi1_0_0_masked_intp.h5\"]\n",
    "\n",
    "\n",
    "# loading dataset and model from directory\n",
    "from Transformer import Transformer\n",
    "from lesions import get_dataloaders_fixed_val_files\n",
    "\n",
    "# get dataset\n",
    "qvalue_lower_bound = 0.66\n",
    "qvalue_upper_bound = 1.46\n",
    "classes = ['0','1']\n",
    "\n",
    "# Perform training and validation by checking relative loss on a set of data that was not used for training, and report this loss\n",
    "qgrid2 = np.hstack([np.arange(0.005, 0.0499, 0.001), np.arange(0.05, 0.099, 0.002), np.arange(0.1, 3.2, 0.005)])\n",
    "lidx = np.argmin(qgrid2 < qvalue_lower_bound)   # qvalue = 0.7,  idx = 190\n",
    "uidx = np.argmin(qgrid2 < qvalue_upper_bound)   # qvalue = 1.46, idx = 342\n",
    "input_dim = (uidx - lidx)                              # (342-190) = 152\n",
    "\n",
    "\n",
    "n_heads        = 1\n",
    "hidden_dim     = 32\n",
    "N              = 1\n",
    "dropout        = 0\n",
    "\n",
    "seq_len        = 2\n",
    "assert input_dim%seq_len ==0 , f'q value range is not divisible by {seq_len} '\n",
    "embedding_dim  = input_dim//seq_len"
   ]
  },
  {
   "cell_type": "code",
   "execution_count": 57,
   "id": "e0460816-7928-4969-8de4-d4a2177213e8",
   "metadata": {},
   "outputs": [
    {
     "data": {
      "text/plain": [
       "<All keys matched successfully>"
      ]
     },
     "execution_count": 57,
     "metadata": {},
     "output_type": "execute_result"
    }
   ],
   "source": [
    "device         = torch.device(\"cuda\" if torch.cuda.is_available() else \"cpu\")\n",
    "PATH = '../runs/model_20240117_175102'             # path where model is saved\n",
    "\n",
    "model = Transformer(n_heads, seq_len, embedding_dim, hidden_dim, N, dropout)\n",
    "model.to(device)\n",
    "model.load_state_dict(torch.load(PATH))"
   ]
  },
  {
   "cell_type": "code",
   "execution_count": 58,
   "id": "e798caeb-66d0-4298-8b3e-c929f8a36167",
   "metadata": {},
   "outputs": [
    {
     "name": "stdout",
     "output_type": "stream",
     "text": [
      "Setting Training Dataset ...\n",
      "Diffuse_Plaque:1.0 contains 369 samples\n",
      "Tissue:0.0 contains 2226 samples\n",
      "Setting Validation Dataset ...\n",
      "Diffuse_Plaque:1.0 contains 67 samples\n",
      "Tissue:0.0 contains 96 samples\n",
      "weight_for_0 : [0.58288413], weight_for_1 : [3.5162601], weights sum :  [2595.], total samoples : [2595.]\n",
      "training_loader size : 1 ; validation_loader size : 1\n"
     ]
    }
   ],
   "source": [
    "weights, training_loader, validation_loader = get_dataloaders_fixed_val_files(Excel_File, sheet, BNL_dir, sub_dir, column_names, val_files, lidx=lidx, uidx=uidx)\n",
    "X_val, y_val = next(iter(validation_loader))\n",
    "X_val = X_val.to(device)\n",
    "y_val = y_val.to(device)\n",
    "# model.encoder.modules_list[0].self_attention.attention_scores[0,0,:,:]"
   ]
  },
  {
   "cell_type": "code",
   "execution_count": 97,
   "id": "8397b256-8082-4e56-b442-b7a90eac3134",
   "metadata": {
    "scrolled": true
   },
   "outputs": [
    {
     "data": {
      "application/vnd.jupyter.widget-view+json": {
       "model_id": "be3f04fd186b42118ab8898eda874a03",
       "version_major": 2,
       "version_minor": 0
      },
      "text/plain": [
       "interactive(children=(IntSlider(value=81, description='frame', max=162), Output()), _dom_classes=('widget-inte…"
      ]
     },
     "metadata": {},
     "output_type": "display_data"
    },
    {
     "data": {
      "text/plain": [
       "<function __main__.plot(frame)>"
      ]
     },
     "execution_count": 97,
     "metadata": {},
     "output_type": "execute_result"
    }
   ],
   "source": [
    "%matplotlib widget\n",
    "import ipywidgets as widgets\n",
    "from ipywidgets import interact, interactive, fixed, interact_manual\n",
    "\n",
    "model.eval()\n",
    "model(X_val, None)\n",
    "def plot(frame):\n",
    "    attention_scores = model.encoder.modules_list[0].self_attention.attention_scores[frame,0,:,:].to('cpu').detach().numpy()\n",
    "    plt.close('all')\n",
    "    plt.imshow(attention_scores)\n",
    "    plt.colorbar()\n",
    "    plt.show()\n",
    "\n",
    "frames = widgets.SelectionSlider(\n",
    "    options=validation_loader.dataset.frames,\n",
    "    value=validation_loader.dataset.frames[0],\n",
    "    description='Frames : ',\n",
    "    disabled=False,\n",
    "    continuous_update=False,\n",
    "    orientation='horizontal',\n",
    "    readout=True\n",
    ")\n",
    "\n",
    "interact(plot, frame=(0,162,1))"
   ]
  },
  {
   "cell_type": "code",
   "execution_count": 42,
   "id": "504f0187-ba53-4923-baa2-b4eddc1de1b9",
   "metadata": {},
   "outputs": [
    {
     "data": {
      "text/plain": [
       "160"
      ]
     },
     "execution_count": 42,
     "metadata": {},
     "output_type": "execute_result"
    }
   ],
   "source": [
    "qvalue_lower_bound = 0.66\n",
    "qvalue_upper_bound = 1.46\n",
    "classes = ['0','1']\n",
    "\n",
    "# Perform training and validation by checking relative loss on a set of data that was not used for training, and report this loss\n",
    "qgrid2 = np.hstack([np.arange(0.005, 0.0499, 0.001), np.arange(0.05, 0.099, 0.002), np.arange(0.1, 3.2, 0.005)])\n",
    "lidx = np.argmin(qgrid2 < qvalue_lower_bound)   # qvalue = 0.7,  idx = 190\n",
    "uidx = np.argmin(qgrid2 < qvalue_upper_bound)   # qvalue = 1.46, idx = 342\n",
    "input_dim = (uidx - lidx) \n",
    "input_dim"
   ]
  },
  {
   "cell_type": "code",
   "execution_count": 94,
   "id": "bca179dd-c58e-4b95-9319-bb1fd0980b58",
   "metadata": {
    "collapsed": true,
    "jupyter": {
     "outputs_hidden": true
    }
   },
   "outputs": [
    {
     "data": {
      "text/plain": [
       "(2547,\n",
       " 2548,\n",
       " 2549,\n",
       " 2550,\n",
       " 2532,\n",
       " 2533,\n",
       " 2534,\n",
       " 2535,\n",
       " 2536,\n",
       " 2537,\n",
       " 2422,\n",
       " 2423,\n",
       " 2424,\n",
       " 2425,\n",
       " 2426,\n",
       " 2427,\n",
       " 2408,\n",
       " 2409,\n",
       " 2410,\n",
       " 2411,\n",
       " 2412,\n",
       " 2413,\n",
       " 2298,\n",
       " 2299,\n",
       " 2300,\n",
       " 2301,\n",
       " 2302,\n",
       " 2303,\n",
       " 2284,\n",
       " 2285,\n",
       " 2286,\n",
       " 2287,\n",
       " 2288,\n",
       " 2289,\n",
       " 2174,\n",
       " 2175,\n",
       " 2176,\n",
       " 2177,\n",
       " 2178,\n",
       " 2179,\n",
       " 2160,\n",
       " 2161,\n",
       " 2162,\n",
       " 2163,\n",
       " 2164,\n",
       " 2165,\n",
       " 2050,\n",
       " 2051,\n",
       " 2052,\n",
       " 2053,\n",
       " 2054,\n",
       " 2055,\n",
       " 2036,\n",
       " 2037,\n",
       " 2038,\n",
       " 2039,\n",
       " 2040,\n",
       " 2041,\n",
       " 1927,\n",
       " 1928,\n",
       " 1929,\n",
       " 1930,\n",
       " 1913,\n",
       " 1914,\n",
       " 1915,\n",
       " 1916,\n",
       " 1917)"
      ]
     },
     "execution_count": 94,
     "metadata": {},
     "output_type": "execute_result"
    }
   ],
   "source": [
    "tuple(validation_loader.dataset.frames[:67])"
   ]
  },
  {
   "cell_type": "code",
   "execution_count": 85,
   "id": "66e67364-cb3c-42ae-bde5-c7749564d727",
   "metadata": {},
   "outputs": [
    {
     "data": {
      "text/plain": [
       "int"
      ]
     },
     "execution_count": 85,
     "metadata": {},
     "output_type": "execute_result"
    }
   ],
   "source": [
    "type(frames.value)"
   ]
  },
  {
   "cell_type": "code",
   "execution_count": 1,
   "id": "0f5bcbb9-9f72-4307-ad7a-d1f11eacbf42",
   "metadata": {},
   "outputs": [
    {
     "name": "stderr",
     "output_type": "stream",
     "text": [
      "\u001b[34m\u001b[1mwandb\u001b[0m: Logging into wandb.ai. (Learn how to deploy a W&B server locally: https://wandb.me/wandb-server)\n",
      "\u001b[34m\u001b[1mwandb\u001b[0m: You can find your API key in your browser here: https://wandb.ai/authorize\n",
      "\u001b[34m\u001b[1mwandb\u001b[0m: Paste an API key from your profile and hit enter, or press ctrl+c to quit:"
     ]
    },
    {
     "name": "stdin",
     "output_type": "stream",
     "text": [
      "  ········\n"
     ]
    },
    {
     "name": "stderr",
     "output_type": "stream",
     "text": [
      "\u001b[34m\u001b[1mwandb\u001b[0m: Appending key for api.wandb.ai to your netrc file: /Users/bashit.a/.netrc\n"
     ]
    },
    {
     "data": {
      "text/plain": [
       "True"
      ]
     },
     "execution_count": 1,
     "metadata": {},
     "output_type": "execute_result"
    }
   ],
   "source": [
    "import wandb\n",
    "import random  # for demo script\n",
    "\n",
    "wandb.login()"
   ]
  },
  {
   "cell_type": "code",
   "execution_count": null,
   "id": "c3a4dd57-6ab5-493a-852c-21d6ec037685",
   "metadata": {},
   "outputs": [],
   "source": []
  }
 ],
 "metadata": {
  "kernelspec": {
   "display_name": "Python 3 (ipykernel)",
   "language": "python",
   "name": "python3"
  },
  "language_info": {
   "codemirror_mode": {
    "name": "ipython",
    "version": 3
   },
   "file_extension": ".py",
   "mimetype": "text/x-python",
   "name": "python",
   "nbconvert_exporter": "python",
   "pygments_lexer": "ipython3",
   "version": "3.11.4"
  }
 },
 "nbformat": 4,
 "nbformat_minor": 5
}
