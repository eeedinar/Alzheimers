{
 "cells": [
  {
   "cell_type": "code",
   "execution_count": 1,
   "metadata": {},
   "outputs": [],
   "source": [
    "%matplotlib widget\n",
    "import os, time\n",
    "from py4xs.hdf import h5xs,h5exp,lsh5\n",
    "from py4xs.data2d import Data2d\n",
    "import numpy as np\n",
    "import pylab as plt\n",
    "\n",
    "exp_file  = '/Users/bashit.a/Documents/Alzheimer/Oct-2022/'   # July-2021/BNL-Data/  Nov-2021/\n",
    "samples   = '/Users/bashit.a/Documents/Alzheimer/Oct-2022/'   # '/Users/bashit.a/Documents/Alzheimer/Oct-2022/'\n",
    "\n",
    "\n",
    "os.chdir(samples)"
   ]
  },
  {
   "cell_type": "code",
   "execution_count": 1,
   "metadata": {},
   "outputs": [],
   "source": [
    "# os.environ[\"HDF5_PLUGIN_PATH\"]\n",
    "import os\n",
    "import numpy as np\n",
    "# import hdf5plugin\n",
    "# import tables\n",
    "# os.environ[\"HDF5_PLUGIN_PATH\"] = hdf5plugin.PLUGINS_PATH\n",
    "samples   = '/Users/bashit.a/Documents/Alzheimer/Oct-2022/'   # '/Users/bashit.a/Documents/Alzheimer/Oct-2022/'\n",
    "os.chdir(samples)\n",
    "import h5py\n"
   ]
  },
  {
   "cell_type": "code",
   "execution_count": null,
   "metadata": {},
   "outputs": [],
   "source": [
    "\n",
    "file = \"1968-roi7_0_0.h5\"\n",
    "with h5py.File(file,'r') as hdf:\n",
    "    dset_waxs = np.array(hdf.get(f'{file.split(\".\")[0]}/primary/data/pilW2_image'))         # waxs data read from h5 file"
   ]
  },
  {
   "cell_type": "code",
   "execution_count": 2,
   "metadata": {},
   "outputs": [
    {
     "name": "stdout",
     "output_type": "stream",
     "text": [
      "_WAXS2\n"
     ]
    }
   ],
   "source": [
    "de = h5exp(exp_file+\"exp.h5\")\n",
    "#de.qgrid\n",
    "print(de.detectors[1].extension)\n",
    "qgrid2 = np.hstack([np.arange(0.005, 0.0499, 0.001), np.arange(0.05, 0.099, 0.002), np.arange(0.1, 3.2, 0.005)])\n",
    "#print(qgrid2)"
   ]
  },
  {
   "cell_type": "code",
   "execution_count": null,
   "metadata": {
    "collapsed": true,
    "jupyter": {
     "outputs_hidden": true
    }
   },
   "outputs": [
    {
     "name": "stdout",
     "output_type": "stream",
     "text": [
      "Loading file at 1672794577.655005\n",
      "start processing: load_data()\n",
      "['1968-roi3_0_0']\n",
      "processing started: sample = 1968-roi3_0_0, starting frame = #0\n",
      "loading data from 2D image:  1968-roi3_0_0_f00000_SAXS\n",
      "loading data from 2D image:  1968-roi3_0_0_f00000_WAXS2\n",
      "loading data from 2D image:  1968-roi3_0_0_f00001_SAXS\n",
      "loading data from 2D image:  1968-roi3_0_0_f00001_WAXS2\n",
      "loading data from 2D image:  1968-roi3_0_0_f00002_SAXS\n",
      "loading data from 2D image:  1968-roi3_0_0_f00002_WAXS2\n",
      "loading data from 2D image:  1968-roi3_0_0_f00003_SAXS\n",
      "loading data from 2D image:  1968-roi3_0_0_f00003_WAXS2\n",
      "loading data from 2D image:  1968-roi3_0_0_f00004_SAXS\n",
      "loading data from 2D image:  1968-roi3_0_0_f00004_WAXS2\n",
      "loading data from 2D image:  1968-roi3_0_0_f00005_SAXS\n",
      "loading data from 2D image:  1968-roi3_0_0_f00005_WAXS2\n",
      "loading data from 2D image:  1968-roi3_0_0_f00006_SAXS\n",
      "loading data from 2D image:  1968-roi3_0_0_f00006_WAXS2\n",
      "loading data from 2D image:  1968-roi3_0_0_f00007_SAXS\n",
      "loading data from 2D image:  1968-roi3_0_0_f00007_WAXS2\n",
      "loading data from 2D image:  1968-roi3_0_0_f00008_SAXS\n",
      "loading data from 2D image:  1968-roi3_0_0_f00008_WAXS2\n",
      "loading data from 2D image:  1968-roi3_0_0_f00009_SAXS\n",
      "loading data from 2D image:  1968-roi3_0_0_f00009_WAXS2\n",
      "loading data from 2D image:  1968-roi3_0_0_f00010_SAXS\n",
      "loading data from 2D image:  1968-roi3_0_0_f00010_WAXS2\n",
      "loading data from 2D image:  1968-roi3_0_0_f00011_SAXS\n",
      "loading data from 2D image:  1968-roi3_0_0_f00011_WAXS2\n",
      "loading data from 2D image:  1968-roi3_0_0_f00012_SAXS\n",
      "loading data from 2D image:  1968-roi3_0_0_f00012_WAXS2\n",
      "loading data from 2D image:  1968-roi3_0_0_f00013_SAXS\n",
      "loading data from 2D image:  1968-roi3_0_0_f00013_WAXS2\n",
      "loading data from 2D image:  1968-roi3_0_0_f00014_SAXS\n",
      "loading data from 2D image:  1968-roi3_0_0_f00014_WAXS2\n",
      "loading data from 2D image:  1968-roi3_0_0_f00015_SAXS\n",
      "loading data from 2D image:  1968-roi3_0_0_f00015_WAXS2\n",
      "loading data from 2D image:  1968-roi3_0_0_f00016_SAXS\n",
      "loading data from 2D image:  1968-roi3_0_0_f00016_WAXS2\n",
      "loading data from 2D image:  1968-roi3_0_0_f00017_SAXS\n",
      "loading data from 2D image:  1968-roi3_0_0_f00017_WAXS2\n",
      "loading data from 2D image:  1968-roi3_0_0_f00018_SAXS\n",
      "loading data from 2D image:  1968-roi3_0_0_f00018_WAXS2\n",
      "loading data from 2D image:  1968-roi3_0_0_f00019_SAXS\n",
      "loading data from 2D image:  1968-roi3_0_0_f00019_WAXS2\n",
      "loading data from 2D image:  1968-roi3_0_0_f00020_SAXS\n",
      "loading data from 2D image:  1968-roi3_0_0_f00020_WAXS2\n",
      "loading data from 2D image:  1968-roi3_0_0_f00021_SAXS\n",
      "loading data from 2D image:  1968-roi3_0_0_f00021_WAXS2\n",
      "loading data from 2D image:  1968-roi3_0_0_f00022_SAXS\n",
      "loading data from 2D image:  1968-roi3_0_0_f00022_WAXS2\n",
      "loading data from 2D image:  1968-roi3_0_0_f00023_SAXS\n",
      "loading data from 2D image:  1968-roi3_0_0_f00023_WAXS2\n",
      "loading data from 2D image:  1968-roi3_0_0_f00024_SAXS\n",
      "loading data from 2D image:  1968-roi3_0_0_f00024_WAXS2\n",
      "loading data from 2D image:  1968-roi3_0_0_f00025_SAXS\n",
      "loading data from 2D image:  1968-roi3_0_0_f00025_WAXS2\n",
      "loading data from 2D image:  1968-roi3_0_0_f00026_SAXS\n",
      "loading data from 2D image:  1968-roi3_0_0_f00026_WAXS2\n",
      "loading data from 2D image:  1968-roi3_0_0_f00027_SAXS\n",
      "loading data from 2D image:  1968-roi3_0_0_f00027_WAXS2\n",
      "loading data from 2D image:  1968-roi3_0_0_f00028_SAXS\n",
      "loading data from 2D image:  1968-roi3_0_0_f00028_WAXS2\n",
      "loading data from 2D image:  1968-roi3_0_0_f00029_SAXS\n",
      "loading data from 2D image:  1968-roi3_0_0_f00029_WAXS2\n",
      "loading data from 2D image:  1968-roi3_0_0_f00030_SAXS\n",
      "loading data from 2D image:  1968-roi3_0_0_f00030_WAXS2\n",
      "loading data from 2D image:  1968-roi3_0_0_f00031_SAXS\n",
      "loading data from 2D image:  1968-roi3_0_0_f00031_WAXS2\n",
      "loading data from 2D image:  1968-roi3_0_0_f00032_SAXS\n",
      "loading data from 2D image:  1968-roi3_0_0_f00032_WAXS2\n",
      "loading data from 2D image:  1968-roi3_0_0_f00033_SAXS\n",
      "loading data from 2D image:  1968-roi3_0_0_f00033_WAXS2\n",
      "loading data from 2D image:  1968-roi3_0_0_f00034_SAXS\n",
      "loading data from 2D image:  1968-roi3_0_0_f00034_WAXS2\n",
      "loading data from 2D image:  1968-roi3_0_0_f00035_SAXS\n",
      "loading data from 2D image:  1968-roi3_0_0_f00035_WAXS2\n",
      "loading data from 2D image:  1968-roi3_0_0_f00036_SAXS\n",
      "loading data from 2D image:  1968-roi3_0_0_f00036_WAXS2\n",
      "loading data from 2D image:  1968-roi3_0_0_f00037_SAXS\n",
      "loading data from 2D image:  1968-roi3_0_0_f00037_WAXS2\n",
      "loading data from 2D image:  1968-roi3_0_0_f00038_SAXS\n",
      "loading data from 2D image:  1968-roi3_0_0_f00038_WAXS2\n",
      "loading data from 2D image:  1968-roi3_0_0_f00039_SAXS\n",
      "loading data from 2D image:  1968-roi3_0_0_f00039_WAXS2\n",
      "loading data from 2D image:  1968-roi3_0_0_f00040_SAXS\n",
      "loading data from 2D image:  1968-roi3_0_0_f00040_WAXS2\n",
      "loading data from 2D image:  1968-roi3_0_0_f00041_SAXS\n",
      "loading data from 2D image:  1968-roi3_0_0_f00041_WAXS2\n",
      "loading data from 2D image:  1968-roi3_0_0_f00042_SAXS\n",
      "loading data from 2D image:  1968-roi3_0_0_f00042_WAXS2\n",
      "loading data from 2D image:  1968-roi3_0_0_f00043_SAXS\n",
      "loading data from 2D image:  1968-roi3_0_0_f00043_WAXS2\n",
      "loading data from 2D image:  1968-roi3_0_0_f00044_SAXS\n",
      "loading data from 2D image:  1968-roi3_0_0_f00044_WAXS2\n",
      "loading data from 2D image:  1968-roi3_0_0_f00045_SAXS\n",
      "loading data from 2D image:  1968-roi3_0_0_f00045_WAXS2\n",
      "loading data from 2D image:  1968-roi3_0_0_f00046_SAXS\n",
      "loading data from 2D image:  1968-roi3_0_0_f00046_WAXS2\n",
      "loading data from 2D image:  1968-roi3_0_0_f00047_SAXS\n",
      "loading data from 2D image:  1968-roi3_0_0_f00047_WAXS2\n",
      "loading data from 2D image:  1968-roi3_0_0_f00048_SAXS\n",
      "loading data from 2D image:  1968-roi3_0_0_f00048_WAXS2\n",
      "loading data from 2D image:  1968-roi3_0_0_f00049_SAXS\n",
      "loading data from 2D image:  1968-roi3_0_0_f00049_WAXS2\n",
      "loading data from 2D image:  1968-roi3_0_0_f00050_SAXS\n",
      "loading data from 2D image:  1968-roi3_0_0_f00050_WAXS2\n",
      "loading data from 2D image:  1968-roi3_0_0_f00051_SAXS\n",
      "loading data from 2D image:  1968-roi3_0_0_f00051_WAXS2\n",
      "loading data from 2D image:  1968-roi3_0_0_f00052_SAXS\n",
      "loading data from 2D image:  1968-roi3_0_0_f00052_WAXS2\n",
      "loading data from 2D image:  1968-roi3_0_0_f00053_SAXS\n",
      "loading data from 2D image:  1968-roi3_0_0_f00053_WAXS2\n",
      "loading data from 2D image:  1968-roi3_0_0_f00054_SAXS\n",
      "loading data from 2D image:  1968-roi3_0_0_f00054_WAXS2\n",
      "loading data from 2D image:  1968-roi3_0_0_f00055_SAXS\n",
      "loading data from 2D image:  1968-roi3_0_0_f00055_WAXS2\n",
      "loading data from 2D image:  1968-roi3_0_0_f00056_SAXS\n",
      "loading data from 2D image:  1968-roi3_0_0_f00056_WAXS2\n",
      "loading data from 2D image:  1968-roi3_0_0_f00057_SAXS\n",
      "loading data from 2D image:  1968-roi3_0_0_f00057_WAXS2\n",
      "loading data from 2D image:  1968-roi3_0_0_f00058_SAXS\n",
      "loading data from 2D image:  1968-roi3_0_0_f00058_WAXS2\n",
      "loading data from 2D image:  1968-roi3_0_0_f00059_SAXS\n",
      "loading data from 2D image:  1968-roi3_0_0_f00059_WAXS2\n",
      "loading data from 2D image:  1968-roi3_0_0_f00060_SAXS\n",
      "loading data from 2D image:  1968-roi3_0_0_f00060_WAXS2\n",
      "loading data from 2D image:  1968-roi3_0_0_f00061_SAXS\n",
      "loading data from 2D image:  1968-roi3_0_0_f00061_WAXS2\n",
      "loading data from 2D image:  1968-roi3_0_0_f00062_SAXS\n",
      "loading data from 2D image:  1968-roi3_0_0_f00062_WAXS2\n",
      "loading data from 2D image:  1968-roi3_0_0_f00063_SAXS\n",
      "loading data from 2D image:  1968-roi3_0_0_f00063_WAXS2\n",
      "loading data from 2D image:  1968-roi3_0_0_f00064_SAXS\n",
      "loading data from 2D image:  1968-roi3_0_0_f00064_WAXS2\n",
      "loading data from 2D image:  1968-roi3_0_0_f00065_SAXS\n",
      "loading data from 2D image:  1968-roi3_0_0_f00065_WAXS2\n",
      "loading data from 2D image:  1968-roi3_0_0_f00066_SAXS\n",
      "loading data from 2D image:  1968-roi3_0_0_f00066_WAXS2\n",
      "loading data from 2D image:  1968-roi3_0_0_f00067_SAXS\n",
      "loading data from 2D image:  1968-roi3_0_0_f00067_WAXS2\n",
      "loading data from 2D image:  1968-roi3_0_0_f00068_SAXS\n",
      "loading data from 2D image:  1968-roi3_0_0_f00068_WAXS2\n",
      "loading data from 2D image:  1968-roi3_0_0_f00069_SAXS\n",
      "loading data from 2D image:  1968-roi3_0_0_f00069_WAXS2\n",
      "loading data from 2D image:  1968-roi3_0_0_f00070_SAXS\n",
      "loading data from 2D image:  1968-roi3_0_0_f00070_WAXS2\n",
      "loading data from 2D image:  1968-roi3_0_0_f00071_SAXS\n",
      "loading data from 2D image:  1968-roi3_0_0_f00071_WAXS2\n",
      "loading data from 2D image:  1968-roi3_0_0_f00072_SAXS\n",
      "loading data from 2D image:  1968-roi3_0_0_f00072_WAXS2\n",
      "loading data from 2D image:  1968-roi3_0_0_f00073_SAXS\n",
      "loading data from 2D image:  1968-roi3_0_0_f00073_WAXS2\n",
      "loading data from 2D image:  1968-roi3_0_0_f00074_SAXS\n",
      "loading data from 2D image:  1968-roi3_0_0_f00074_WAXS2\n",
      "loading data from 2D image:  1968-roi3_0_0_f00075_SAXS\n",
      "loading data from 2D image:  1968-roi3_0_0_f00075_WAXS2\n",
      "loading data from 2D image:  1968-roi3_0_0_f00076_SAXS\n",
      "loading data from 2D image:  1968-roi3_0_0_f00076_WAXS2\n",
      "loading data from 2D image:  1968-roi3_0_0_f00077_SAXS\n",
      "loading data from 2D image:  1968-roi3_0_0_f00077_WAXS2\n",
      "loading data from 2D image:  1968-roi3_0_0_f00078_SAXS\n",
      "loading data from 2D image:  1968-roi3_0_0_f00078_WAXS2\n",
      "loading data from 2D image:  1968-roi3_0_0_f00079_SAXS\n",
      "loading data from 2D image:  1968-roi3_0_0_f00079_WAXS2\n",
      "loading data from 2D image:  1968-roi3_0_0_f00080_SAXS\n",
      "loading data from 2D image:  1968-roi3_0_0_f00080_WAXS2\n",
      "loading data from 2D image:  1968-roi3_0_0_f00081_SAXS\n",
      "loading data from 2D image:  1968-roi3_0_0_f00081_WAXS2\n",
      "loading data from 2D image:  1968-roi3_0_0_f00082_SAXS\n",
      "loading data from 2D image:  1968-roi3_0_0_f00082_WAXS2\n",
      "loading data from 2D image:  1968-roi3_0_0_f00083_SAXS\n",
      "loading data from 2D image:  1968-roi3_0_0_f00083_WAXS2\n",
      "loading data from 2D image:  1968-roi3_0_0_f00084_SAXS\n",
      "loading data from 2D image:  1968-roi3_0_0_f00084_WAXS2\n",
      "loading data from 2D image:  1968-roi3_0_0_f00085_SAXS\n",
      "loading data from 2D image:  1968-roi3_0_0_f00085_WAXS2\n",
      "loading data from 2D image:  1968-roi3_0_0_f00086_SAXS\n",
      "loading data from 2D image:  1968-roi3_0_0_f00086_WAXS2\n",
      "loading data from 2D image:  1968-roi3_0_0_f00087_SAXS\n",
      "loading data from 2D image:  1968-roi3_0_0_f00087_WAXS2\n",
      "loading data from 2D image:  1968-roi3_0_0_f00088_SAXS\n",
      "loading data from 2D image:  1968-roi3_0_0_f00088_WAXS2\n",
      "loading data from 2D image:  1968-roi3_0_0_f00089_SAXS\n",
      "loading data from 2D image:  1968-roi3_0_0_f00089_WAXS2\n",
      "loading data from 2D image:  1968-roi3_0_0_f00090_SAXS\n",
      "loading data from 2D image:  1968-roi3_0_0_f00090_WAXS2\n",
      "loading data from 2D image:  1968-roi3_0_0_f00091_SAXS\n",
      "loading data from 2D image:  1968-roi3_0_0_f00091_WAXS2\n",
      "loading data from 2D image:  1968-roi3_0_0_f00092_SAXS\n",
      "loading data from 2D image:  1968-roi3_0_0_f00092_WAXS2\n",
      "loading data from 2D image:  1968-roi3_0_0_f00093_SAXS\n",
      "loading data from 2D image:  1968-roi3_0_0_f00093_WAXS2\n",
      "loading data from 2D image:  1968-roi3_0_0_f00094_SAXS\n",
      "loading data from 2D image:  1968-roi3_0_0_f00094_WAXS2\n",
      "loading data from 2D image:  1968-roi3_0_0_f00095_SAXS\n",
      "loading data from 2D image:  1968-roi3_0_0_f00095_WAXS2\n",
      "loading data from 2D image:  1968-roi3_0_0_f00096_SAXS\n",
      "loading data from 2D image:  1968-roi3_0_0_f00096_WAXS2\n",
      "loading data from 2D image:  1968-roi3_0_0_f00097_SAXS\n",
      "loading data from 2D image:  1968-roi3_0_0_f00097_WAXS2\n",
      "loading data from 2D image:  1968-roi3_0_0_f00098_SAXS\n",
      "loading data from 2D image:  1968-roi3_0_0_f00098_WAXS2\n",
      "loading data from 2D image:  1968-roi3_0_0_f00099_SAXS\n",
      "loading data from 2D image:  1968-roi3_0_0_f00099_WAXS2\n",
      "loading data from 2D image:  1968-roi3_0_0_f00100_SAXS\n",
      "loading data from 2D image:  1968-roi3_0_0_f00100_WAXS2\n",
      "loading data from 2D image:  1968-roi3_0_0_f00101_SAXS\n",
      "loading data from 2D image:  1968-roi3_0_0_f00101_WAXS2\n",
      "loading data from 2D image:  1968-roi3_0_0_f00102_SAXS\n",
      "loading data from 2D image:  1968-roi3_0_0_f00102_WAXS2\n",
      "loading data from 2D image:  1968-roi3_0_0_f00103_SAXS\n",
      "loading data from 2D image:  1968-roi3_0_0_f00103_WAXS2\n",
      "loading data from 2D image:  1968-roi3_0_0_f00104_SAXS\n",
      "loading data from 2D image:  1968-roi3_0_0_f00104_WAXS2\n",
      "loading data from 2D image:  1968-roi3_0_0_f00105_SAXS\n",
      "loading data from 2D image:  1968-roi3_0_0_f00105_WAXS2\n",
      "loading data from 2D image:  1968-roi3_0_0_f00106_SAXS\n",
      "loading data from 2D image:  1968-roi3_0_0_f00106_WAXS2\n",
      "loading data from 2D image:  1968-roi3_0_0_f00107_SAXS\n",
      "loading data from 2D image:  1968-roi3_0_0_f00107_WAXS2\n",
      "loading data from 2D image:  1968-roi3_0_0_f00108_SAXS\n",
      "loading data from 2D image:  1968-roi3_0_0_f00108_WAXS2\n",
      "loading data from 2D image:  1968-roi3_0_0_f00109_SAXS\n",
      "loading data from 2D image:  1968-roi3_0_0_f00109_WAXS2\n",
      "loading data from 2D image:  1968-roi3_0_0_f00110_SAXS\n",
      "loading data from 2D image:  1968-roi3_0_0_f00110_WAXS2\n",
      "loading data from 2D image:  1968-roi3_0_0_f00111_SAXS\n",
      "loading data from 2D image:  1968-roi3_0_0_f00111_WAXS2\n",
      "loading data from 2D image:  1968-roi3_0_0_f00112_SAXS\n",
      "loading data from 2D image:  1968-roi3_0_0_f00112_WAXS2\n",
      "loading data from 2D image:  1968-roi3_0_0_f00113_SAXS\n",
      "loading data from 2D image:  1968-roi3_0_0_f00113_WAXS2\n",
      "loading data from 2D image:  1968-roi3_0_0_f00114_SAXS\n",
      "loading data from 2D image:  1968-roi3_0_0_f00114_WAXS2\n",
      "loading data from 2D image:  1968-roi3_0_0_f00115_SAXS\n",
      "loading data from 2D image:  1968-roi3_0_0_f00115_WAXS2\n",
      "loading data from 2D image:  1968-roi3_0_0_f00116_SAXS\n",
      "loading data from 2D image:  1968-roi3_0_0_f00116_WAXS2\n",
      "loading data from 2D image:  1968-roi3_0_0_f00117_SAXS\n",
      "loading data from 2D image:  1968-roi3_0_0_f00117_WAXS2\n",
      "loading data from 2D image:  1968-roi3_0_0_f00118_SAXS\n",
      "loading data from 2D image:  1968-roi3_0_0_f00118_WAXS2\n",
      "loading data from 2D image:  1968-roi3_0_0_f00119_SAXS\n",
      "loading data from 2D image:  1968-roi3_0_0_f00119_WAXS2\n",
      "loading data from 2D image:  1968-roi3_0_0_f00120_SAXS\n",
      "loading data from 2D image:  1968-roi3_0_0_f00120_WAXS2\n",
      "loading data from 2D image:  1968-roi3_0_0_f00121_SAXS\n",
      "loading data from 2D image:  1968-roi3_0_0_f00121_WAXS2\n",
      "loading data from 2D image:  1968-roi3_0_0_f00122_SAXS\n",
      "loading data from 2D image:  1968-roi3_0_0_f00122_WAXS2\n",
      "loading data from 2D image:  1968-roi3_0_0_f00123_SAXS\n",
      "loading data from 2D image:  1968-roi3_0_0_f00123_WAXS2\n",
      "loading data from 2D image:  1968-roi3_0_0_f00124_SAXS\n",
      "loading data from 2D image:  1968-roi3_0_0_f00124_WAXS2\n",
      "loading data from 2D image:  1968-roi3_0_0_f00125_SAXS\n",
      "loading data from 2D image:  1968-roi3_0_0_f00125_WAXS2\n",
      "loading data from 2D image:  1968-roi3_0_0_f00126_SAXS\n",
      "loading data from 2D image:  1968-roi3_0_0_f00126_WAXS2\n",
      "loading data from 2D image:  1968-roi3_0_0_f00127_SAXS\n",
      "loading data from 2D image:  1968-roi3_0_0_f00127_WAXS2\n",
      "loading data from 2D image:  1968-roi3_0_0_f00128_SAXS\n",
      "loading data from 2D image:  1968-roi3_0_0_f00128_WAXS2\n",
      "loading data from 2D image:  1968-roi3_0_0_f00129_SAXS\n",
      "loading data from 2D image:  1968-roi3_0_0_f00129_WAXS2\n",
      "loading data from 2D image:  1968-roi3_0_0_f00130_SAXS\n",
      "loading data from 2D image:  1968-roi3_0_0_f00130_WAXS2\n",
      "loading data from 2D image:  1968-roi3_0_0_f00131_SAXS\n",
      "loading data from 2D image:  1968-roi3_0_0_f00131_WAXS2\n",
      "loading data from 2D image:  1968-roi3_0_0_f00132_SAXS\n",
      "loading data from 2D image:  1968-roi3_0_0_f00132_WAXS2\n",
      "loading data from 2D image:  1968-roi3_0_0_f00133_SAXS\n",
      "loading data from 2D image:  1968-roi3_0_0_f00133_WAXS2\n",
      "loading data from 2D image:  1968-roi3_0_0_f00134_SAXS\n",
      "loading data from 2D image:  1968-roi3_0_0_f00134_WAXS2\n",
      "loading data from 2D image:  1968-roi3_0_0_f00135_SAXS\n",
      "loading data from 2D image:  1968-roi3_0_0_f00135_WAXS2\n",
      "loading data from 2D image:  1968-roi3_0_0_f00136_SAXS\n",
      "loading data from 2D image:  1968-roi3_0_0_f00136_WAXS2\n",
      "loading data from 2D image:  1968-roi3_0_0_f00137_SAXS\n",
      "loading data from 2D image:  1968-roi3_0_0_f00137_WAXS2\n",
      "loading data from 2D image:  1968-roi3_0_0_f00138_SAXS\n",
      "loading data from 2D image:  1968-roi3_0_0_f00138_WAXS2\n",
      "loading data from 2D image:  1968-roi3_0_0_f00139_SAXS\n",
      "loading data from 2D image:  1968-roi3_0_0_f00139_WAXS2\n",
      "loading data from 2D image:  1968-roi3_0_0_f00140_SAXS\n",
      "loading data from 2D image:  1968-roi3_0_0_f00140_WAXS2\n",
      "loading data from 2D image:  1968-roi3_0_0_f00141_SAXS\n",
      "loading data from 2D image:  1968-roi3_0_0_f00141_WAXS2\n",
      "loading data from 2D image:  1968-roi3_0_0_f00142_SAXS\n",
      "loading data from 2D image:  1968-roi3_0_0_f00142_WAXS2\n",
      "loading data from 2D image:  1968-roi3_0_0_f00143_SAXS\n",
      "loading data from 2D image:  1968-roi3_0_0_f00143_WAXS2\n",
      "loading data from 2D image:  1968-roi3_0_0_f00144_SAXS\n",
      "loading data from 2D image:  1968-roi3_0_0_f00144_WAXS2\n",
      "loading data from 2D image:  1968-roi3_0_0_f00145_SAXS\n",
      "loading data from 2D image:  1968-roi3_0_0_f00145_WAXS2\n",
      "loading data from 2D image:  1968-roi3_0_0_f00146_SAXS\n",
      "loading data from 2D image:  1968-roi3_0_0_f00146_WAXS2\n",
      "loading data from 2D image:  1968-roi3_0_0_f00147_SAXS\n",
      "loading data from 2D image:  1968-roi3_0_0_f00147_WAXS2\n",
      "loading data from 2D image:  1968-roi3_0_0_f00148_SAXS\n",
      "loading data from 2D image:  1968-roi3_0_0_f00148_WAXS2\n",
      "loading data from 2D image:  1968-roi3_0_0_f00149_SAXS\n",
      "loading data from 2D image:  1968-roi3_0_0_f00149_WAXS2\n",
      "loading data from 2D image:  1968-roi3_0_0_f00150_SAXS\n",
      "loading data from 2D image:  1968-roi3_0_0_f00150_WAXS2\n",
      "loading data from 2D image:  1968-roi3_0_0_f00151_SAXS\n",
      "loading data from 2D image:  1968-roi3_0_0_f00151_WAXS2\n",
      "loading data from 2D image:  1968-roi3_0_0_f00152_SAXS\n",
      "loading data from 2D image:  1968-roi3_0_0_f00152_WAXS2\n",
      "loading data from 2D image:  1968-roi3_0_0_f00153_SAXS\n",
      "loading data from 2D image:  1968-roi3_0_0_f00153_WAXS2\n",
      "loading data from 2D image:  1968-roi3_0_0_f00154_SAXS\n",
      "loading data from 2D image:  1968-roi3_0_0_f00154_WAXS2\n",
      "loading data from 2D image:  1968-roi3_0_0_f00155_SAXS\n",
      "loading data from 2D image:  1968-roi3_0_0_f00155_WAXS2\n",
      "loading data from 2D image:  1968-roi3_0_0_f00156_SAXS\n",
      "loading data from 2D image:  1968-roi3_0_0_f00156_WAXS2\n",
      "loading data from 2D image:  1968-roi3_0_0_f00157_SAXS\n",
      "loading data from 2D image:  1968-roi3_0_0_f00157_WAXS2\n",
      "loading data from 2D image:  1968-roi3_0_0_f00158_SAXS\n",
      "loading data from 2D image:  1968-roi3_0_0_f00158_WAXS2\n",
      "loading data from 2D image:  1968-roi3_0_0_f00159_SAXS\n",
      "loading data from 2D image:  1968-roi3_0_0_f00159_WAXS2\n",
      "loading data from 2D image:  1968-roi3_0_0_f00160_SAXS\n",
      "loading data from 2D image:  1968-roi3_0_0_f00160_WAXS2\n",
      "loading data from 2D image:  1968-roi3_0_0_f00161_SAXS\n",
      "loading data from 2D image:  1968-roi3_0_0_f00161_WAXS2\n",
      "loading data from 2D image:  1968-roi3_0_0_f00162_SAXS\n",
      "loading data from 2D image:  1968-roi3_0_0_f00162_WAXS2\n",
      "loading data from 2D image:  1968-roi3_0_0_f00163_SAXS\n",
      "loading data from 2D image:  1968-roi3_0_0_f00163_WAXS2\n",
      "loading data from 2D image:  1968-roi3_0_0_f00164_SAXS\n",
      "loading data from 2D image:  1968-roi3_0_0_f00164_WAXS2\n",
      "loading data from 2D image:  1968-roi3_0_0_f00165_SAXS\n",
      "loading data from 2D image:  1968-roi3_0_0_f00165_WAXS2\n",
      "loading data from 2D image:  1968-roi3_0_0_f00166_SAXS\n",
      "loading data from 2D image:  1968-roi3_0_0_f00166_WAXS2\n",
      "loading data from 2D image:  1968-roi3_0_0_f00167_SAXS\n",
      "loading data from 2D image:  1968-roi3_0_0_f00167_WAXS2\n",
      "loading data from 2D image:  1968-roi3_0_0_f00168_SAXS\n",
      "loading data from 2D image:  1968-roi3_0_0_f00168_WAXS2\n",
      "loading data from 2D image:  1968-roi3_0_0_f00169_SAXS\n",
      "loading data from 2D image:  1968-roi3_0_0_f00169_WAXS2\n",
      "loading data from 2D image:  1968-roi3_0_0_f00170_SAXS\n",
      "loading data from 2D image:  1968-roi3_0_0_f00170_WAXS2\n",
      "loading data from 2D image:  1968-roi3_0_0_f00171_SAXS\n",
      "loading data from 2D image:  1968-roi3_0_0_f00171_WAXS2\n",
      "loading data from 2D image:  1968-roi3_0_0_f00172_SAXS\n",
      "loading data from 2D image:  1968-roi3_0_0_f00172_WAXS2\n",
      "loading data from 2D image:  1968-roi3_0_0_f00173_SAXS\n",
      "loading data from 2D image:  1968-roi3_0_0_f00173_WAXS2\n",
      "loading data from 2D image:  1968-roi3_0_0_f00174_SAXS\n",
      "loading data from 2D image:  1968-roi3_0_0_f00174_WAXS2\n",
      "loading data from 2D image:  1968-roi3_0_0_f00175_SAXS\n",
      "loading data from 2D image:  1968-roi3_0_0_f00175_WAXS2\n",
      "loading data from 2D image:  1968-roi3_0_0_f00176_SAXS\n",
      "loading data from 2D image:  1968-roi3_0_0_f00176_WAXS2\n",
      "loading data from 2D image:  1968-roi3_0_0_f00177_SAXS\n",
      "loading data from 2D image:  1968-roi3_0_0_f00177_WAXS2\n",
      "loading data from 2D image:  1968-roi3_0_0_f00178_SAXS\n",
      "loading data from 2D image:  1968-roi3_0_0_f00178_WAXS2\n",
      "loading data from 2D image:  1968-roi3_0_0_f00179_SAXS\n",
      "loading data from 2D image:  1968-roi3_0_0_f00179_WAXS2\n",
      "loading data from 2D image:  1968-roi3_0_0_f00180_SAXS\n",
      "loading data from 2D image:  1968-roi3_0_0_f00180_WAXS2\n",
      "loading data from 2D image:  1968-roi3_0_0_f00181_SAXS\n",
      "loading data from 2D image:  1968-roi3_0_0_f00181_WAXS2\n",
      "loading data from 2D image:  1968-roi3_0_0_f00182_SAXS\n",
      "loading data from 2D image:  1968-roi3_0_0_f00182_WAXS2\n",
      "loading data from 2D image:  1968-roi3_0_0_f00183_SAXS\n",
      "loading data from 2D image:  1968-roi3_0_0_f00183_WAXS2\n",
      "loading data from 2D image:  1968-roi3_0_0_f00184_SAXS\n",
      "loading data from 2D image:  1968-roi3_0_0_f00184_WAXS2\n",
      "loading data from 2D image:  1968-roi3_0_0_f00185_SAXS\n",
      "loading data from 2D image:  1968-roi3_0_0_f00185_WAXS2\n",
      "loading data from 2D image:  1968-roi3_0_0_f00186_SAXS\n",
      "loading data from 2D image:  1968-roi3_0_0_f00186_WAXS2\n",
      "loading data from 2D image:  1968-roi3_0_0_f00187_SAXS\n",
      "loading data from 2D image:  1968-roi3_0_0_f00187_WAXS2\n",
      "loading data from 2D image:  1968-roi3_0_0_f00188_SAXS\n",
      "loading data from 2D image:  1968-roi3_0_0_f00188_WAXS2\n",
      "loading data from 2D image:  1968-roi3_0_0_f00189_SAXS\n",
      "loading data from 2D image:  1968-roi3_0_0_f00189_WAXS2\n",
      "loading data from 2D image:  1968-roi3_0_0_f00190_SAXS\n",
      "loading data from 2D image:  1968-roi3_0_0_f00190_WAXS2\n",
      "loading data from 2D image:  1968-roi3_0_0_f00191_SAXS\n",
      "loading data from 2D image:  1968-roi3_0_0_f00191_WAXS2\n",
      "loading data from 2D image:  1968-roi3_0_0_f00192_SAXS\n",
      "loading data from 2D image:  1968-roi3_0_0_f00192_WAXS2\n",
      "loading data from 2D image:  1968-roi3_0_0_f00193_SAXS\n",
      "loading data from 2D image:  1968-roi3_0_0_f00193_WAXS2\n",
      "loading data from 2D image:  1968-roi3_0_0_f00194_SAXS\n",
      "loading data from 2D image:  1968-roi3_0_0_f00194_WAXS2\n",
      "loading data from 2D image:  1968-roi3_0_0_f00195_SAXS\n",
      "loading data from 2D image:  1968-roi3_0_0_f00195_WAXS2\n",
      "loading data from 2D image:  1968-roi3_0_0_f00196_SAXS\n",
      "loading data from 2D image:  1968-roi3_0_0_f00196_WAXS2\n",
      "loading data from 2D image:  1968-roi3_0_0_f00197_SAXS\n",
      "loading data from 2D image:  1968-roi3_0_0_f00197_WAXS2\n",
      "loading data from 2D image:  1968-roi3_0_0_f00198_SAXS\n",
      "loading data from 2D image:  1968-roi3_0_0_f00198_WAXS2\n",
      "loading data from 2D image:  1968-roi3_0_0_f00199_SAXS\n",
      "loading data from 2D image:  1968-roi3_0_0_f00199_WAXS2\n",
      "loading data from 2D image:  1968-roi3_0_0_f00200_SAXS\n",
      "loading data from 2D image:  1968-roi3_0_0_f00200_WAXS2\n",
      "loading data from 2D image:  1968-roi3_0_0_f00201_SAXS\n",
      "loading data from 2D image:  1968-roi3_0_0_f00201_WAXS2\n",
      "loading data from 2D image:  1968-roi3_0_0_f00202_SAXS\n",
      "loading data from 2D image:  1968-roi3_0_0_f00202_WAXS2\n",
      "loading data from 2D image:  1968-roi3_0_0_f00203_SAXS\n",
      "loading data from 2D image:  1968-roi3_0_0_f00203_WAXS2\n",
      "loading data from 2D image:  1968-roi3_0_0_f00204_SAXS\n",
      "loading data from 2D image:  1968-roi3_0_0_f00204_WAXS2\n",
      "loading data from 2D image:  1968-roi3_0_0_f00205_SAXS\n",
      "loading data from 2D image:  1968-roi3_0_0_f00205_WAXS2\n",
      "loading data from 2D image:  1968-roi3_0_0_f00206_SAXS\n",
      "loading data from 2D image:  1968-roi3_0_0_f00206_WAXS2\n",
      "loading data from 2D image:  1968-roi3_0_0_f00207_SAXS\n",
      "loading data from 2D image:  1968-roi3_0_0_f00207_WAXS2\n",
      "loading data from 2D image:  1968-roi3_0_0_f00208_SAXS\n",
      "loading data from 2D image:  1968-roi3_0_0_f00208_WAXS2\n",
      "loading data from 2D image:  1968-roi3_0_0_f00209_SAXS\n",
      "loading data from 2D image:  1968-roi3_0_0_f00209_WAXS2\n",
      "loading data from 2D image:  1968-roi3_0_0_f00210_SAXS\n",
      "loading data from 2D image:  1968-roi3_0_0_f00210_WAXS2\n",
      "loading data from 2D image:  1968-roi3_0_0_f00211_SAXS\n",
      "loading data from 2D image:  1968-roi3_0_0_f00211_WAXS2\n",
      "loading data from 2D image:  1968-roi3_0_0_f00212_SAXS\n",
      "loading data from 2D image:  1968-roi3_0_0_f00212_WAXS2\n",
      "loading data from 2D image:  1968-roi3_0_0_f00213_SAXS\n",
      "loading data from 2D image:  1968-roi3_0_0_f00213_WAXS2\n",
      "loading data from 2D image:  1968-roi3_0_0_f00214_SAXS\n",
      "loading data from 2D image:  1968-roi3_0_0_f00214_WAXS2\n",
      "loading data from 2D image:  1968-roi3_0_0_f00215_SAXS\n",
      "loading data from 2D image:  1968-roi3_0_0_f00215_WAXS2\n",
      "loading data from 2D image:  1968-roi3_0_0_f00216_SAXS\n",
      "loading data from 2D image:  1968-roi3_0_0_f00216_WAXS2\n",
      "loading data from 2D image:  1968-roi3_0_0_f00217_SAXS\n",
      "loading data from 2D image:  1968-roi3_0_0_f00217_WAXS2\n",
      "loading data from 2D image:  1968-roi3_0_0_f00218_SAXS\n",
      "loading data from 2D image:  1968-roi3_0_0_f00218_WAXS2\n",
      "loading data from 2D image:  1968-roi3_0_0_f00219_SAXS\n",
      "loading data from 2D image:  1968-roi3_0_0_f00219_WAXS2\n",
      "loading data from 2D image:  1968-roi3_0_0_f00220_SAXS\n",
      "loading data from 2D image:  1968-roi3_0_0_f00220_WAXS2\n",
      "loading data from 2D image:  1968-roi3_0_0_f00221_SAXS\n",
      "loading data from 2D image:  1968-roi3_0_0_f00221_WAXS2\n",
      "loading data from 2D image:  1968-roi3_0_0_f00222_SAXS\n",
      "loading data from 2D image:  1968-roi3_0_0_f00222_WAXS2\n",
      "loading data from 2D image:  1968-roi3_0_0_f00223_SAXS\n",
      "loading data from 2D image:  1968-roi3_0_0_f00223_WAXS2\n",
      "loading data from 2D image:  1968-roi3_0_0_f00224_SAXS\n",
      "loading data from 2D image:  1968-roi3_0_0_f00224_WAXS2\n",
      "loading data from 2D image:  1968-roi3_0_0_f00225_SAXS\n",
      "loading data from 2D image:  1968-roi3_0_0_f00225_WAXS2\n",
      "loading data from 2D image:  1968-roi3_0_0_f00226_SAXS\n",
      "loading data from 2D image:  1968-roi3_0_0_f00226_WAXS2\n",
      "loading data from 2D image:  1968-roi3_0_0_f00227_SAXS\n",
      "loading data from 2D image:  1968-roi3_0_0_f00227_WAXS2\n",
      "loading data from 2D image:  1968-roi3_0_0_f00228_SAXS\n",
      "loading data from 2D image:  1968-roi3_0_0_f00228_WAXS2\n",
      "loading data from 2D image:  1968-roi3_0_0_f00229_SAXS\n",
      "loading data from 2D image:  1968-roi3_0_0_f00229_WAXS2\n",
      "loading data from 2D image:  1968-roi3_0_0_f00230_SAXS\n",
      "loading data from 2D image:  1968-roi3_0_0_f00230_WAXS2\n",
      "loading data from 2D image:  1968-roi3_0_0_f00231_SAXS\n",
      "loading data from 2D image:  1968-roi3_0_0_f00231_WAXS2\n",
      "loading data from 2D image:  1968-roi3_0_0_f00232_SAXS\n",
      "loading data from 2D image:  1968-roi3_0_0_f00232_WAXS2\n",
      "loading data from 2D image:  1968-roi3_0_0_f00233_SAXS\n",
      "loading data from 2D image:  1968-roi3_0_0_f00233_WAXS2\n",
      "loading data from 2D image:  1968-roi3_0_0_f00234_SAXS\n",
      "loading data from 2D image:  1968-roi3_0_0_f00234_WAXS2\n",
      "loading data from 2D image:  1968-roi3_0_0_f00235_SAXS\n",
      "loading data from 2D image:  1968-roi3_0_0_f00235_WAXS2\n",
      "loading data from 2D image:  1968-roi3_0_0_f00236_SAXS\n",
      "loading data from 2D image:  1968-roi3_0_0_f00236_WAXS2\n",
      "loading data from 2D image:  1968-roi3_0_0_f00237_SAXS\n",
      "loading data from 2D image:  1968-roi3_0_0_f00237_WAXS2\n",
      "loading data from 2D image:  1968-roi3_0_0_f00238_SAXS\n",
      "loading data from 2D image:  1968-roi3_0_0_f00238_WAXS2\n",
      "loading data from 2D image:  1968-roi3_0_0_f00239_SAXS\n",
      "loading data from 2D image:  1968-roi3_0_0_f00239_WAXS2\n",
      "loading data from 2D image:  1968-roi3_0_0_f00240_SAXS\n",
      "loading data from 2D image:  1968-roi3_0_0_f00240_WAXS2\n",
      "loading data from 2D image:  1968-roi3_0_0_f00241_SAXS\n",
      "loading data from 2D image:  1968-roi3_0_0_f00241_WAXS2\n",
      "loading data from 2D image:  1968-roi3_0_0_f00242_SAXS\n",
      "loading data from 2D image:  1968-roi3_0_0_f00242_WAXS2\n",
      "loading data from 2D image:  1968-roi3_0_0_f00243_SAXS\n",
      "loading data from 2D image:  1968-roi3_0_0_f00243_WAXS2\n",
      "loading data from 2D image:  1968-roi3_0_0_f00244_SAXS\n",
      "loading data from 2D image:  1968-roi3_0_0_f00244_WAXS2\n",
      "loading data from 2D image:  1968-roi3_0_0_f00245_SAXS\n",
      "loading data from 2D image:  1968-roi3_0_0_f00245_WAXS2\n",
      "loading data from 2D image:  1968-roi3_0_0_f00246_SAXS\n",
      "loading data from 2D image:  1968-roi3_0_0_f00246_WAXS2\n",
      "loading data from 2D image:  1968-roi3_0_0_f00247_SAXS\n",
      "loading data from 2D image:  1968-roi3_0_0_f00247_WAXS2\n",
      "loading data from 2D image:  1968-roi3_0_0_f00248_SAXS\n",
      "loading data from 2D image:  1968-roi3_0_0_f00248_WAXS2\n",
      "loading data from 2D image:  1968-roi3_0_0_f00249_SAXS\n",
      "loading data from 2D image:  1968-roi3_0_0_f00249_WAXS2\n",
      "loading data from 2D image:  1968-roi3_0_0_f00250_SAXS\n",
      "loading data from 2D image:  1968-roi3_0_0_f00250_WAXS2\n",
      "loading data from 2D image:  1968-roi3_0_0_f00251_SAXS\n",
      "loading data from 2D image:  1968-roi3_0_0_f00251_WAXS2\n",
      "loading data from 2D image:  1968-roi3_0_0_f00252_SAXS\n",
      "loading data from 2D image:  1968-roi3_0_0_f00252_WAXS2\n",
      "loading data from 2D image:  1968-roi3_0_0_f00253_SAXS\n",
      "loading data from 2D image:  1968-roi3_0_0_f00253_WAXS2\n",
      "loading data from 2D image:  1968-roi3_0_0_f00254_SAXS\n",
      "loading data from 2D image:  1968-roi3_0_0_f00254_WAXS2\n",
      "loading data from 2D image:  1968-roi3_0_0_f00255_SAXS\n",
      "loading data from 2D image:  1968-roi3_0_0_f00255_WAXS2\n",
      "loading data from 2D image:  1968-roi3_0_0_f00256_SAXS\n",
      "loading data from 2D image:  1968-roi3_0_0_f00256_WAXS2\n",
      "loading data from 2D image:  1968-roi3_0_0_f00257_SAXS\n",
      "loading data from 2D image:  1968-roi3_0_0_f00257_WAXS2\n",
      "loading data from 2D image:  1968-roi3_0_0_f00258_SAXS\n",
      "loading data from 2D image:  1968-roi3_0_0_f00258_WAXS2\n",
      "loading data from 2D image:  1968-roi3_0_0_f00259_SAXS\n",
      "loading data from 2D image:  1968-roi3_0_0_f00259_WAXS2\n",
      "loading data from 2D image:  1968-roi3_0_0_f00260_SAXS\n",
      "loading data from 2D image:  1968-roi3_0_0_f00260_WAXS2\n",
      "loading data from 2D image:  1968-roi3_0_0_f00261_SAXS\n",
      "loading data from 2D image:  1968-roi3_0_0_f00261_WAXS2\n",
      "loading data from 2D image:  1968-roi3_0_0_f00262_SAXS\n",
      "loading data from 2D image:  1968-roi3_0_0_f00262_WAXS2\n",
      "loading data from 2D image:  1968-roi3_0_0_f00263_SAXS\n",
      "loading data from 2D image:  1968-roi3_0_0_f00263_WAXS2\n",
      "loading data from 2D image:  1968-roi3_0_0_f00264_SAXS\n",
      "loading data from 2D image:  1968-roi3_0_0_f00264_WAXS2\n",
      "loading data from 2D image:  1968-roi3_0_0_f00265_SAXS\n",
      "loading data from 2D image:  1968-roi3_0_0_f00265_WAXS2\n",
      "loading data from 2D image:  1968-roi3_0_0_f00266_SAXS\n",
      "loading data from 2D image:  1968-roi3_0_0_f00266_WAXS2\n",
      "loading data from 2D image:  1968-roi3_0_0_f00267_SAXS\n",
      "loading data from 2D image:  1968-roi3_0_0_f00267_WAXS2\n",
      "loading data from 2D image:  1968-roi3_0_0_f00268_SAXS\n",
      "loading data from 2D image:  1968-roi3_0_0_f00268_WAXS2\n",
      "loading data from 2D image:  1968-roi3_0_0_f00269_SAXS\n",
      "loading data from 2D image:  1968-roi3_0_0_f00269_WAXS2\n",
      "loading data from 2D image:  1968-roi3_0_0_f00270_SAXS\n",
      "loading data from 2D image:  1968-roi3_0_0_f00270_WAXS2\n",
      "loading data from 2D image:  1968-roi3_0_0_f00271_SAXS\n",
      "loading data from 2D image:  1968-roi3_0_0_f00271_WAXS2\n",
      "loading data from 2D image:  1968-roi3_0_0_f00272_SAXS\n",
      "loading data from 2D image:  1968-roi3_0_0_f00272_WAXS2\n",
      "loading data from 2D image:  1968-roi3_0_0_f00273_SAXS\n",
      "loading data from 2D image:  1968-roi3_0_0_f00273_WAXS2\n",
      "loading data from 2D image:  1968-roi3_0_0_f00274_SAXS\n",
      "loading data from 2D image:  1968-roi3_0_0_f00274_WAXS2\n",
      "loading data from 2D image:  1968-roi3_0_0_f00275_SAXS\n",
      "loading data from 2D image:  1968-roi3_0_0_f00275_WAXS2\n",
      "loading data from 2D image:  1968-roi3_0_0_f00276_SAXS\n",
      "loading data from 2D image:  1968-roi3_0_0_f00276_WAXS2\n",
      "loading data from 2D image:  1968-roi3_0_0_f00277_SAXS\n",
      "loading data from 2D image:  1968-roi3_0_0_f00277_WAXS2\n",
      "loading data from 2D image:  1968-roi3_0_0_f00278_SAXS\n",
      "loading data from 2D image:  1968-roi3_0_0_f00278_WAXS2\n",
      "loading data from 2D image:  1968-roi3_0_0_f00279_SAXS\n",
      "loading data from 2D image:  1968-roi3_0_0_f00279_WAXS2\n",
      "loading data from 2D image:  1968-roi3_0_0_f00280_SAXS\n",
      "loading data from 2D image:  1968-roi3_0_0_f00280_WAXS2\n",
      "loading data from 2D image:  1968-roi3_0_0_f00281_SAXS\n",
      "loading data from 2D image:  1968-roi3_0_0_f00281_WAXS2\n",
      "loading data from 2D image:  1968-roi3_0_0_f00282_SAXS\n",
      "loading data from 2D image:  1968-roi3_0_0_f00282_WAXS2\n",
      "loading data from 2D image:  1968-roi3_0_0_f00283_SAXS\n",
      "loading data from 2D image:  1968-roi3_0_0_f00283_WAXS2\n",
      "loading data from 2D image:  1968-roi3_0_0_f00284_SAXS\n",
      "loading data from 2D image:  1968-roi3_0_0_f00284_WAXS2\n",
      "loading data from 2D image:  1968-roi3_0_0_f00285_SAXS\n",
      "loading data from 2D image:  1968-roi3_0_0_f00285_WAXS2\n",
      "loading data from 2D image:  1968-roi3_0_0_f00286_SAXS\n",
      "loading data from 2D image:  1968-roi3_0_0_f00286_WAXS2\n",
      "loading data from 2D image:  1968-roi3_0_0_f00287_SAXS\n",
      "loading data from 2D image:  1968-roi3_0_0_f00287_WAXS2\n",
      "loading data from 2D image:  1968-roi3_0_0_f00288_SAXS\n",
      "loading data from 2D image:  1968-roi3_0_0_f00288_WAXS2\n",
      "loading data from 2D image:  1968-roi3_0_0_f00289_SAXS\n",
      "loading data from 2D image:  1968-roi3_0_0_f00289_WAXS2\n",
      "loading data from 2D image:  1968-roi3_0_0_f00290_SAXS\n",
      "loading data from 2D image:  1968-roi3_0_0_f00290_WAXS2\n",
      "loading data from 2D image:  1968-roi3_0_0_f00291_SAXS\n",
      "loading data from 2D image:  1968-roi3_0_0_f00291_WAXS2\n",
      "loading data from 2D image:  1968-roi3_0_0_f00292_SAXS\n",
      "loading data from 2D image:  1968-roi3_0_0_f00292_WAXS2\n",
      "loading data from 2D image:  1968-roi3_0_0_f00293_SAXS\n",
      "loading data from 2D image:  1968-roi3_0_0_f00293_WAXS2\n",
      "loading data from 2D image:  "
     ]
    }
   ],
   "source": [
    "### load one file in a directory\n",
    "dt  = h5xs(\"1968-roi3_0_0.h5\", [de.detectors, qgrid2])\n",
    "tic = time.time()\n",
    "print(f'Loading file at {tic}')\n",
    "dt.load_data(N=8, debug=True)\n",
    "tac = time.time()\n",
    "print(f'total processing time {tac-tic} seconds')"
   ]
  },
  {
   "cell_type": "code",
   "execution_count": null,
   "metadata": {
    "collapsed": true,
    "jupyter": {
     "outputs_hidden": true
    }
   },
   "outputs": [
    {
     "name": "stdout",
     "output_type": "stream",
     "text": [
      "Loading file at 1626906251.766905\n",
      "Loading file sample6_bkg-roi0.h5\n",
      "data received: sn=sample6_bkg-roi0, fr1=0\n",
      "data received: sn=sample6_bkg-roi0, fr1=4\n",
      "data received: sn=sample6_bkg-roi0, fr1=8\n",
      "data received: sn=sample6_bkg-roi0, fr1=12\n",
      "data received: sn=sample6_bkg-roi0, fr1=16\n",
      "data received: sn=sample6_bkg-roi0, fr1=20\n",
      "data received: sn=sample6_bkg-roi0, fr1=24\n",
      "data received: sn=sample6_bkg-roi0, fr1=28\n",
      "Loading file 2512_EC_mica-roi0.h5\n",
      "data received: sn=2512_EC_mica-roi0, fr1=0\n",
      "data received: sn=2512_EC_mica-roi0, fr1=5\n",
      "data received: sn=2512_EC_mica-roi0, fr1=10\n",
      "data received: sn=2512_EC_mica-roi0, fr1=15\n",
      "data received: sn=2512_EC_mica-roi0, fr1=20\n",
      "data received: sn=2512_EC_mica-roi0, fr1=25\n",
      "data received: sn=2512_EC_mica-roi0, fr1=30\n",
      "data received: sn=2512_EC_mica-roi0, fr1=35\n",
      "Loading file 2410_Caudate-roi0.h5\n",
      "data received: sn=2410_Caudate-roi0, fr1=0\n",
      "data received: sn=2410_Caudate-roi0, fr1=480\n",
      "data received: sn=2410_Caudate-roi0, fr1=960\n",
      "data received: sn=2410_Caudate-roi0, fr1=1440\n",
      "data received: sn=2410_Caudate-roi0, fr1=1920\n",
      "data received: sn=2410_Caudate-roi0, fr1=2400\n",
      "data received: sn=2410_Caudate-roi0, fr1=2880\n",
      "data received: sn=2410_Caudate-roi0, fr1=3360\n",
      "Loading file 2346_EC-roi0.h5\n"
     ]
    }
   ],
   "source": [
    "### load all files in a directory\n",
    "def load_all_cwd():\n",
    "    import os\n",
    "    for file in [each for each in os.listdir(os.getcwd()) if each.endswith('.h5')]:\n",
    "        try:\n",
    "            print(f'Loading file {file}')\n",
    "            dt  = h5xs(file, [de.detectors, qgrid2])\n",
    "            dt.load_data(N=8)\n",
    "        except:\n",
    "            print(f'Loading failed {file}')\n",
    "\n",
    "tic = time.time()\n",
    "print(f'Loading file at {tic}')            \n",
    "load_all_cwd()\n",
    "print(f'total processing time {time.time()-tic} seconds')"
   ]
  },
  {
   "cell_type": "code",
   "execution_count": 1,
   "metadata": {
    "collapsed": true,
    "jupyter": {
     "outputs_hidden": true
    }
   },
   "outputs": [
    {
     "ename": "NameError",
     "evalue": "name 'dt' is not defined",
     "output_type": "error",
     "traceback": [
      "\u001b[0;31m---------------------------------------------------------------------------\u001b[0m",
      "\u001b[0;31mNameError\u001b[0m                                 Traceback (most recent call last)",
      "\u001b[0;32m<ipython-input-1-874e21417bfc>\u001b[0m in \u001b[0;36m<module>\u001b[0;34m\u001b[0m\n\u001b[0;32m----> 1\u001b[0;31m \u001b[0mdt\u001b[0m\u001b[0;34m.\u001b[0m\u001b[0md1s\u001b[0m\u001b[0;34m[\u001b[0m\u001b[0;34m'2048_B8'\u001b[0m\u001b[0;34m]\u001b[0m\u001b[0;34m[\u001b[0m\u001b[0;34m'_WAXS2'\u001b[0m\u001b[0;34m]\u001b[0m\u001b[0;34m[\u001b[0m\u001b[0;36m2223\u001b[0m\u001b[0;34m]\u001b[0m\u001b[0;34m\u001b[0m\u001b[0;34m\u001b[0m\u001b[0m\n\u001b[0m",
      "\u001b[0;31mNameError\u001b[0m: name 'dt' is not defined"
     ]
    }
   ],
   "source": [
    "dt.d1s['2048_B8']['_WAXS2'][2223].plot()"
   ]
  },
  {
   "cell_type": "code",
   "execution_count": 46,
   "metadata": {},
   "outputs": [
    {
     "data": {
      "application/vnd.jupyter.widget-view+json": {
       "model_id": "4be7f98aea2a46e4bf01532b5b0e1072",
       "version_major": 2,
       "version_minor": 0
      },
      "text/plain": [
       "Canvas(toolbar=Toolbar(toolitems=[('Home', 'Reset original view', 'home', 'home'), ('Back', 'Back to previous …"
      ]
     },
     "metadata": {},
     "output_type": "display_data"
    }
   ],
   "source": [
    "dt0.d1s['mica']['merged'][20].plot()"
   ]
  },
  {
   "cell_type": "code",
   "execution_count": 19,
   "metadata": {},
   "outputs": [
    {
     "name": "stdout",
     "output_type": "stream",
     "text": [
      "1\n",
      "3\n",
      "7\n",
      "21\n",
      "61\n",
      "183\n",
      "427\n"
     ]
    }
   ],
   "source": [
    "num = 1281\n",
    "for i in range(int(num/2)):\n",
    "    if i!=0 and num%i==0:\n",
    "        print(i)"
   ]
  },
  {
   "cell_type": "code",
   "execution_count": 35,
   "metadata": {
    "collapsed": true,
    "jupyter": {
     "outputs_hidden": true
    }
   },
   "outputs": [
    {
     "data": {
      "application/vnd.jupyter.widget-view+json": {
       "model_id": "2bfe60fdcc6349a79962c0d147bf8ba9",
       "version_major": 2,
       "version_minor": 0
      },
      "text/plain": [
       "Canvas(toolbar=Toolbar(toolitems=[('Home', 'Reset original view', 'home', 'home'), ('Back', 'Back to previous …"
      ]
     },
     "metadata": {},
     "output_type": "display_data"
    },
    {
     "name": "stdout",
     "output_type": "stream",
     "text": [
      "2016_B8c.h5 Iq shape (1, 690, 1281)\n",
      "n_patterns 1281\n",
      "qgrid2 idx range = [2, 125] and values [0.007, 0.370]\n",
      "Heat Map _SAXS Shape = (1, 123, 1281)\n",
      "Heat Map Q-shape = (123,)\n",
      "n_Intensity 123 Width 61 Height 21\n",
      "circ_value.shape (1, 1281)\n",
      "2016_B8c.h5 Iq shape (1, 690, 1281)\n",
      "n_patterns 1281\n",
      "qgrid2 idx range = [109, 579] and values [0.295, 2.640]\n",
      "Heat Map _WAXS2 Shape = (1, 470, 1281)\n",
      "Heat Map Q-shape = (470,)\n",
      "n_Intensity 470 Width 61 Height 21\n",
      "circ_value.shape (1, 1281)\n",
      "Task Finished. Figure Number =  1\n"
     ]
    },
    {
     "data": {
      "text/plain": [
       "'\\nW=141,H=41 (bad)\\nW=47,H=123 (moderate)\\nW=123,H47 (bad)\\n\\nn_patterns=5781, Width=41 , Height=141\\nn_patterns=4961, Width=41 , Height=121\\n\\nn_patterns=4941, Width=61 , Height=81\\nn_patterns=4141, Width=41 , Height=101\\nn_patterns=3721, Width=61 , Height=61\\nn_patterns=1281, Width=61 , Height=21\\n'"
      ]
     },
     "execution_count": 35,
     "metadata": {},
     "output_type": "execute_result"
    }
   ],
   "source": [
    "'''\n",
    "W=141,H=41 (bad)\n",
    "W=47,H=123 (moderate)\n",
    "W=123,H47 (bad)\n",
    "\n",
    "n_patterns=5781, Width=41 , Height=141\n",
    "n_patterns=4961, Width=41 , Height=121\n",
    "\n",
    "n_patterns=4941, Width=61 , Height=81\n",
    "n_patterns=4141, Width=41 , Height=101\n",
    "n_patterns=3721, Width=61 , Height=61\n",
    "n_patterns=1281, Width=61 , Height=21\n",
    "'''\n",
    "\n",
    "#file = '2016_B8c.h5'\n",
    "#plt.figure()\n",
    "#sns.heatmap(generate_heat_map_data(file, '_SAXS', n_patterns=1281, Width=61 , Height=21), square=True, cmap = \"viridis\", cbar_kws={\"shrink\": .3} )"
   ]
  },
  {
   "cell_type": "code",
   "execution_count": 116,
   "metadata": {},
   "outputs": [
    {
     "name": "stdout",
     "output_type": "stream",
     "text": [
      " em1_sum_all_mean_value\n",
      " em2_current1_mean_value\n",
      " em2_current2_mean_value\n",
      " em2_sum_all_mean_value\n",
      " pil1M_image\n",
      " pilW2_image\n",
      " ss_sx\n",
      " ss_sz\n"
     ]
    }
   ],
   "source": [
    "lsh5(dt.fh5[f\"{dt.samples[0]}/primary/data\"])"
   ]
  },
  {
   "cell_type": "code",
   "execution_count": 117,
   "metadata": {},
   "outputs": [
    {
     "data": {
      "application/vnd.jupyter.widget-view+json": {
       "model_id": "190cb4d721cf4972bd4fd6c79eea91ee",
       "version_major": 2,
       "version_minor": 0
      },
      "text/plain": [
       "Canvas(toolbar=Toolbar(toolitems=[('Home', 'Reset original view', 'home', 'home'), ('Back', 'Back to previous …"
      ]
     },
     "metadata": {},
     "output_type": "display_data"
    },
    {
     "data": {
      "text/plain": [
       "[<matplotlib.lines.Line2D at 0x124613a00>]"
      ]
     },
     "execution_count": 117,
     "metadata": {},
     "output_type": "execute_result"
    },
    {
     "data": {
      "image/png": "[encoded data removed]",
      "text/plain": [
       "<Figure size 432x288 with 1 Axes>"
      ]
     },
     "metadata": {
      "needs_background": "light"
     },
     "output_type": "display_data"
    }
   ],
   "source": [
    "plt.figure()\n",
    "plt.plot(dt.fh5[f\"{dt.samples[0]}/primary\"])"
   ]
  },
  {
   "cell_type": "code",
   "execution_count": 11,
   "metadata": {},
   "outputs": [],
   "source": [
    "idx = ~np.isnan(Iq_R)"
   ]
  },
  {
   "cell_type": "code",
   "execution_count": 14,
   "metadata": {},
   "outputs": [
    {
     "data": {
      "text/plain": [
       "(690, 690, (690,))"
      ]
     },
     "execution_count": 14,
     "metadata": {},
     "output_type": "execute_result"
    }
   ],
   "source": [
    "len(Iq_R), len(qgrid2), qgrid2.shape"
   ]
  },
  {
   "cell_type": "code",
   "execution_count": 16,
   "metadata": {},
   "outputs": [],
   "source": [
    "c_tot = np.zeros(qgrid2.shape)"
   ]
  },
  {
   "cell_type": "code",
   "execution_count": 17,
   "metadata": {},
   "outputs": [],
   "source": [
    "c_tot[idx] += 1"
   ]
  },
  {
   "cell_type": "code",
   "execution_count": 20,
   "metadata": {},
   "outputs": [],
   "source": [
    "d_max = np.zeros(qgrid2.shape)\n",
    "d_min = np.zeros(qgrid2.shape)+1.e32"
   ]
  },
  {
   "cell_type": "code",
   "execution_count": 37,
   "metadata": {
    "collapsed": true,
    "jupyter": {
     "outputs_hidden": true
    }
   },
   "outputs": [
    {
     "data": {
      "text/plain": [
       "array([False, False,  True,  True,  True,  True,  True,  True,  True,\n",
       "        True,  True,  True,  True,  True,  True,  True,  True,  True,\n",
       "        True,  True,  True,  True,  True,  True,  True,  True,  True,\n",
       "        True,  True,  True,  True,  True,  True,  True,  True,  True,\n",
       "        True,  True,  True,  True,  True,  True,  True,  True,  True,\n",
       "        True,  True,  True,  True,  True,  True,  True,  True,  True,\n",
       "        True,  True,  True,  True,  True,  True,  True,  True,  True,\n",
       "        True,  True,  True,  True,  True,  True,  True,  True,  True,\n",
       "        True,  True,  True,  True,  True,  True,  True,  True,  True,\n",
       "        True,  True,  True,  True,  True,  True,  True,  True,  True,\n",
       "        True,  True,  True,  True,  True,  True,  True,  True,  True,\n",
       "        True,  True,  True,  True,  True,  True,  True,  True,  True,\n",
       "        True,  True,  True,  True,  True,  True,  True,  True,  True,\n",
       "        True,  True,  True,  True,  True,  True,  True,  True, False,\n",
       "       False, False, False, False, False, False, False, False, False,\n",
       "       False, False, False, False, False, False, False, False, False,\n",
       "       False, False, False, False, False, False, False, False, False,\n",
       "       False, False, False, False, False, False, False, False, False,\n",
       "       False, False, False, False, False, False, False, False, False,\n",
       "       False, False, False, False, False, False, False, False, False,\n",
       "       False, False, False, False, False, False, False, False, False,\n",
       "       False, False, False, False, False, False, False, False, False,\n",
       "       False, False, False, False, False, False, False, False, False,\n",
       "       False, False, False, False, False, False, False, False, False,\n",
       "       False, False, False, False, False, False, False, False, False,\n",
       "       False, False, False, False, False, False, False, False, False,\n",
       "       False, False, False, False, False, False, False, False, False,\n",
       "       False, False, False, False, False, False, False, False, False,\n",
       "       False, False, False, False, False, False, False, False, False,\n",
       "       False, False, False, False, False, False, False, False, False,\n",
       "       False, False, False, False, False, False, False, False, False,\n",
       "       False, False, False, False, False, False, False, False, False,\n",
       "       False, False, False, False, False, False, False, False, False,\n",
       "       False, False, False, False, False, False, False, False, False,\n",
       "       False, False, False, False, False, False, False, False, False,\n",
       "       False, False, False, False, False, False, False, False, False,\n",
       "       False, False, False, False, False, False, False, False, False,\n",
       "       False, False, False, False, False, False, False, False, False,\n",
       "       False, False, False, False, False, False, False, False, False,\n",
       "       False, False, False, False, False, False, False, False, False,\n",
       "       False, False, False, False, False, False, False, False, False,\n",
       "       False, False, False, False, False, False, False, False, False,\n",
       "       False, False, False, False, False, False, False, False, False,\n",
       "       False, False, False, False, False, False, False, False, False,\n",
       "       False, False, False, False, False, False, False, False, False,\n",
       "       False, False, False, False, False, False, False, False, False,\n",
       "       False, False, False, False, False, False, False, False, False,\n",
       "       False, False, False, False, False, False, False, False, False,\n",
       "       False, False, False, False, False, False, False, False, False,\n",
       "       False, False, False, False, False, False, False, False, False,\n",
       "       False, False, False, False, False, False, False, False, False,\n",
       "       False, False, False, False, False, False, False, False, False,\n",
       "       False, False, False, False, False, False, False, False, False,\n",
       "       False, False, False, False, False, False, False, False, False,\n",
       "       False, False, False, False, False, False, False, False, False,\n",
       "       False, False, False, False, False, False, False, False, False,\n",
       "       False, False, False, False, False, False, False, False, False,\n",
       "       False, False, False, False, False, False, False, False, False,\n",
       "       False, False, False, False, False, False, False, False, False,\n",
       "       False, False, False, False, False, False, False, False, False,\n",
       "       False, False, False, False, False, False, False, False, False,\n",
       "       False, False, False, False, False, False, False, False, False,\n",
       "       False, False, False, False, False, False, False, False, False,\n",
       "       False, False, False, False, False, False, False, False, False,\n",
       "       False, False, False, False, False, False, False, False, False,\n",
       "       False, False, False, False, False, False, False, False, False,\n",
       "       False, False, False, False, False, False, False, False, False,\n",
       "       False, False, False, False, False, False, False, False, False,\n",
       "       False, False, False, False, False, False, False, False, False,\n",
       "       False, False, False, False, False, False, False, False, False,\n",
       "       False, False, False, False, False, False, False, False, False,\n",
       "       False, False, False, False, False, False, False, False, False,\n",
       "       False, False, False, False, False, False, False, False, False,\n",
       "       False, False, False, False, False, False, False, False, False,\n",
       "       False, False, False, False, False, False, False, False, False,\n",
       "       False, False, False, False, False, False, False, False, False,\n",
       "       False, False, False, False, False, False])"
      ]
     },
     "execution_count": 37,
     "metadata": {},
     "output_type": "execute_result"
    }
   ],
   "source": [
    "idx1 = (np.ma.fix_invalid(Iq_R, fill_value=-1)>d_max).data\n",
    "idx2 = (np.ma.fix_invalid(Iq_R, fill_value=1e32)<d_min).data\n",
    "idx2"
   ]
  },
  {
   "cell_type": "code",
   "execution_count": 74,
   "metadata": {},
   "outputs": [
    {
     "name": "stdout",
     "output_type": "stream",
     "text": [
      "[[Ellipsis 1 2 3]\n",
      " [Ellipsis 1 2 3]]\n",
      "[[0 1 2 3]\n",
      " [4 5 6 7]]\n"
     ]
    },
    {
     "data": {
      "text/plain": [
       "{'WASX1'}"
      ]
     },
     "execution_count": 74,
     "metadata": {},
     "output_type": "execute_result"
    }
   ],
   "source": [
    "l = [0, 6, 2]\n",
    "l.sort()\n",
    "print(l[::-1])\n",
    "\n",
    "l=np.array([[..., 1,2,3],[..., 1,2,3]])\n",
    "h=np.array([[0, 1,2,3],[4,5,6,7]])\n",
    "g = {'merged':[]}\n",
    "g['merged']= l\n",
    "print(g['merged'])\n",
    "g['merged'][...] =h \n",
    "print(g['merged'][...])\n",
    "\n",
    "d_dn = ['SAXS', 'WASX2']\n",
    "det_name = ['SAXS', 'WASX1', 'WASX2']\n",
    "set(det_name).difference(d_dn)"
   ]
  },
  {
   "cell_type": "code",
   "execution_count": 1,
   "metadata": {},
   "outputs": [
    {
     "ename": "NameError",
     "evalue": "name 'h5xs' is not defined",
     "output_type": "error",
     "traceback": [
      "\u001b[0;31m---------------------------------------------------------------------------\u001b[0m",
      "\u001b[0;31mNameError\u001b[0m                                 Traceback (most recent call last)",
      "\u001b[0;32m<ipython-input-1-c1f86a0a9115>\u001b[0m in \u001b[0;36m<module>\u001b[0;34m\u001b[0m\n\u001b[0;32m----> 1\u001b[0;31m \u001b[0mdt0\u001b[0m  \u001b[0;34m=\u001b[0m \u001b[0mh5xs\u001b[0m\u001b[0;34m(\u001b[0m\u001b[0;34m\"mica.h5\"\u001b[0m\u001b[0;34m,\u001b[0m \u001b[0;34m[\u001b[0m\u001b[0mde\u001b[0m\u001b[0;34m.\u001b[0m\u001b[0mdetectors\u001b[0m\u001b[0;34m,\u001b[0m \u001b[0mqgrid2\u001b[0m\u001b[0;34m]\u001b[0m\u001b[0;34m)\u001b[0m\u001b[0;34m\u001b[0m\u001b[0;34m\u001b[0m\u001b[0m\n\u001b[0m\u001b[1;32m      2\u001b[0m \u001b[0mdt0\u001b[0m\u001b[0;34m.\u001b[0m\u001b[0mload_data\u001b[0m\u001b[0;34m(\u001b[0m\u001b[0mN\u001b[0m\u001b[0;34m=\u001b[0m\u001b[0;36m8\u001b[0m\u001b[0;34m)\u001b[0m\u001b[0;34m\u001b[0m\u001b[0;34m\u001b[0m\u001b[0m\n\u001b[1;32m      3\u001b[0m \u001b[0mlist\u001b[0m\u001b[0;34m(\u001b[0m\u001b[0mdt0\u001b[0m\u001b[0;34m.\u001b[0m\u001b[0mfh5\u001b[0m\u001b[0;34m.\u001b[0m\u001b[0mattrs\u001b[0m\u001b[0;34m)\u001b[0m\u001b[0;34m\u001b[0m\u001b[0;34m\u001b[0m\u001b[0m\n\u001b[1;32m      4\u001b[0m \u001b[0mdt0\u001b[0m\u001b[0;34m.\u001b[0m\u001b[0mfh5\u001b[0m\u001b[0;34m.\u001b[0m\u001b[0mattrs\u001b[0m\u001b[0;34m[\u001b[0m\u001b[0;34m'trans'\u001b[0m\u001b[0;34m]\u001b[0m\u001b[0;34m\u001b[0m\u001b[0;34m\u001b[0m\u001b[0m\n\u001b[1;32m      5\u001b[0m \u001b[0mde\u001b[0m\u001b[0;34m.\u001b[0m\u001b[0mdetectors\u001b[0m\u001b[0;34m[\u001b[0m\u001b[0;36m0\u001b[0m\u001b[0;34m]\u001b[0m\u001b[0;34m.\u001b[0m\u001b[0mextension\u001b[0m\u001b[0;34m\u001b[0m\u001b[0;34m\u001b[0m\u001b[0m\n",
      "\u001b[0;31mNameError\u001b[0m: name 'h5xs' is not defined"
     ]
    }
   ],
   "source": [
    "dt0  = h5xs(\"mica.h5\", [de.detectors, qgrid2])\n",
    "dt0.load_data(N=8)\n",
    "list(dt0.fh5.attrs)\n",
    "dt0.fh5.attrs['trans']\n",
    "de.detectors[0].extension\n",
    "de.detectors[1].extension\n",
    "\n",
    "del dt0\n",
    "import os\n",
    "os.cpu_count()"
   ]
  },
  {
   "cell_type": "code",
   "execution_count": 2,
   "metadata": {
    "collapsed": true,
    "jupyter": {
     "outputs_hidden": true
    },
    "tags": []
   },
   "outputs": [
    {
     "name": "stdout",
     "output_type": "stream",
     "text": [
      "['2029_Dentate_gyrus-roi0']\n"
     ]
    },
    {
     "data": {
      "application/vnd.jupyter.widget-view+json": {
       "model_id": "7058c27fcfef41319669b75ef296c960",
       "version_major": 2,
       "version_minor": 0
      },
      "text/plain": [
       "Canvas(toolbar=Toolbar(toolitems=[('Home', 'Reset original view', 'home', 'home'), ('Back', 'Back to previous …"
      ]
     },
     "metadata": {},
     "output_type": "display_data"
    },
    {
     "ename": "OSError",
     "evalue": "Can't read data (can't open directory: /Users/bashit.a/miniforge3/envs/py38/lib/hdf5/plugin)",
     "output_type": "error",
     "traceback": [
      "\u001b[0;31m---------------------------------------------------------------------------\u001b[0m",
      "\u001b[0;31mOSError\u001b[0m                                   Traceback (most recent call last)",
      "\u001b[0;32m<ipython-input-2-5bba671d204a>\u001b[0m in \u001b[0;36m<module>\u001b[0;34m\u001b[0m\n\u001b[1;32m     11\u001b[0m \u001b[0mplt\u001b[0m\u001b[0;34m.\u001b[0m\u001b[0msubplot\u001b[0m\u001b[0;34m(\u001b[0m\u001b[0;36m121\u001b[0m\u001b[0;34m)\u001b[0m\u001b[0;34m\u001b[0m\u001b[0;34m\u001b[0m\u001b[0m\n\u001b[1;32m     12\u001b[0m \u001b[0max\u001b[0m \u001b[0;34m=\u001b[0m \u001b[0mplt\u001b[0m\u001b[0;34m.\u001b[0m\u001b[0mgca\u001b[0m\u001b[0;34m(\u001b[0m\u001b[0;34m)\u001b[0m\u001b[0;34m\u001b[0m\u001b[0;34m\u001b[0m\u001b[0m\n\u001b[0;32m---> 13\u001b[0;31m \u001b[0mdt\u001b[0m\u001b[0;34m.\u001b[0m\u001b[0mshow_data\u001b[0m\u001b[0;34m(\u001b[0m\u001b[0msn\u001b[0m\u001b[0;34m=\u001b[0m\u001b[0;34m'2029_Dentate_gyrus-roi0'\u001b[0m\u001b[0;34m,\u001b[0m \u001b[0mdet_ext\u001b[0m\u001b[0;34m=\u001b[0m\u001b[0;34m\"_SAXS\"\u001b[0m\u001b[0;34m,\u001b[0m \u001b[0max\u001b[0m\u001b[0;34m=\u001b[0m\u001b[0max\u001b[0m\u001b[0;34m,\u001b[0m \u001b[0mfrn\u001b[0m\u001b[0;34m=\u001b[0m\u001b[0;36m100\u001b[0m\u001b[0;34m)\u001b[0m\u001b[0;34m\u001b[0m\u001b[0;34m\u001b[0m\u001b[0m\n\u001b[0m\u001b[1;32m     14\u001b[0m \u001b[0mplt\u001b[0m\u001b[0;34m.\u001b[0m\u001b[0msubplot\u001b[0m\u001b[0;34m(\u001b[0m\u001b[0;36m122\u001b[0m\u001b[0;34m)\u001b[0m\u001b[0;34m\u001b[0m\u001b[0;34m\u001b[0m\u001b[0m\n\u001b[1;32m     15\u001b[0m \u001b[0max\u001b[0m \u001b[0;34m=\u001b[0m \u001b[0mplt\u001b[0m\u001b[0;34m.\u001b[0m\u001b[0mgca\u001b[0m\u001b[0;34m(\u001b[0m\u001b[0;34m)\u001b[0m\u001b[0;34m\u001b[0m\u001b[0;34m\u001b[0m\u001b[0m\n",
      "\u001b[0;32m~/miniforge3/envs/py38/lib/python3.8/site-packages/py4xs/hdf.py\u001b[0m in \u001b[0;36mshow_data\u001b[0;34m(self, sn, det_ext, frn, ax, logScale, showMask, mask_alpha, clim, showRef, cmap, dtype)\u001b[0m\n\u001b[1;32m    788\u001b[0m         \"\"\" display frame #frn of the data under det for sample sn\n\u001b[1;32m    789\u001b[0m         \"\"\"\n\u001b[0;32m--> 790\u001b[0;31m         \u001b[0md2\u001b[0m \u001b[0;34m=\u001b[0m \u001b[0mself\u001b[0m\u001b[0;34m.\u001b[0m\u001b[0mget_d2\u001b[0m\u001b[0;34m(\u001b[0m\u001b[0msn\u001b[0m\u001b[0;34m=\u001b[0m\u001b[0msn\u001b[0m\u001b[0;34m,\u001b[0m \u001b[0mdet_ext\u001b[0m\u001b[0;34m=\u001b[0m\u001b[0mdet_ext\u001b[0m\u001b[0;34m,\u001b[0m \u001b[0mfrn\u001b[0m\u001b[0;34m=\u001b[0m\u001b[0mfrn\u001b[0m\u001b[0;34m,\u001b[0m \u001b[0mdtype\u001b[0m\u001b[0;34m=\u001b[0m\u001b[0mdtype\u001b[0m\u001b[0;34m)\u001b[0m\u001b[0;34m\u001b[0m\u001b[0;34m\u001b[0m\u001b[0m\n\u001b[0m\u001b[1;32m    791\u001b[0m         \u001b[0;32mif\u001b[0m \u001b[0max\u001b[0m \u001b[0;32mis\u001b[0m \u001b[0;32mNone\u001b[0m\u001b[0;34m:\u001b[0m\u001b[0;34m\u001b[0m\u001b[0;34m\u001b[0m\u001b[0m\n\u001b[1;32m    792\u001b[0m             \u001b[0mplt\u001b[0m\u001b[0;34m.\u001b[0m\u001b[0mfigure\u001b[0m\u001b[0;34m(\u001b[0m\u001b[0;34m)\u001b[0m\u001b[0;34m\u001b[0m\u001b[0;34m\u001b[0m\u001b[0m\n",
      "\u001b[0;32m~/miniforge3/envs/py38/lib/python3.8/site-packages/py4xs/hdf.py\u001b[0m in \u001b[0;36mget_d2\u001b[0;34m(self, sn, det_ext, frn, dtype)\u001b[0m\n\u001b[1;32m    691\u001b[0m             \u001b[0mdset\u001b[0m \u001b[0;34m=\u001b[0m \u001b[0mself\u001b[0m\u001b[0;34m.\u001b[0m\u001b[0mfh5\u001b[0m\u001b[0;34m[\u001b[0m\u001b[0;34m\"%s/primary/data/%s\"\u001b[0m \u001b[0;34m%\u001b[0m \u001b[0;34m(\u001b[0m\u001b[0msn\u001b[0m\u001b[0;34m,\u001b[0m \u001b[0mself\u001b[0m\u001b[0;34m.\u001b[0m\u001b[0mdet_name\u001b[0m\u001b[0;34m[\u001b[0m\u001b[0mdet\u001b[0m\u001b[0;34m.\u001b[0m\u001b[0mextension\u001b[0m\u001b[0;34m]\u001b[0m\u001b[0;34m)\u001b[0m\u001b[0;34m]\u001b[0m\u001b[0;34m\u001b[0m\u001b[0;34m\u001b[0m\u001b[0m\n\u001b[1;32m    692\u001b[0m             \u001b[0mfrn\u001b[0m \u001b[0;34m=\u001b[0m \u001b[0mself\u001b[0m\u001b[0;34m.\u001b[0m\u001b[0mverify_frn\u001b[0m\u001b[0;34m(\u001b[0m\u001b[0msn\u001b[0m\u001b[0;34m,\u001b[0m \u001b[0mfrn\u001b[0m\u001b[0;34m)\u001b[0m\u001b[0;34m\u001b[0m\u001b[0;34m\u001b[0m\u001b[0m\n\u001b[0;32m--> 693\u001b[0;31m             \u001b[0md2\u001b[0m \u001b[0;34m=\u001b[0m \u001b[0mData2d\u001b[0m\u001b[0;34m(\u001b[0m\u001b[0mdset\u001b[0m\u001b[0;34m[\u001b[0m\u001b[0mtuple\u001b[0m\u001b[0;34m(\u001b[0m\u001b[0mfrn\u001b[0m\u001b[0;34m)\u001b[0m\u001b[0;34m]\u001b[0m\u001b[0;34m,\u001b[0m \u001b[0mexp\u001b[0m\u001b[0;34m=\u001b[0m\u001b[0mdet\u001b[0m\u001b[0;34m.\u001b[0m\u001b[0mexp_para\u001b[0m\u001b[0;34m,\u001b[0m \u001b[0mdtype\u001b[0m\u001b[0;34m=\u001b[0m\u001b[0mdtype\u001b[0m\u001b[0;34m)\u001b[0m\u001b[0;34m\u001b[0m\u001b[0;34m\u001b[0m\u001b[0m\n\u001b[0m\u001b[1;32m    694\u001b[0m             \u001b[0md2\u001b[0m\u001b[0;34m.\u001b[0m\u001b[0mmd\u001b[0m\u001b[0;34m[\u001b[0m\u001b[0;34m\"frame #\"\u001b[0m\u001b[0;34m]\u001b[0m \u001b[0;34m=\u001b[0m \u001b[0mfrn\u001b[0m\u001b[0;34m\u001b[0m\u001b[0;34m\u001b[0m\u001b[0m\n\u001b[1;32m    695\u001b[0m             \u001b[0md2s\u001b[0m\u001b[0;34m[\u001b[0m\u001b[0mdet\u001b[0m\u001b[0;34m.\u001b[0m\u001b[0mextension\u001b[0m\u001b[0;34m]\u001b[0m \u001b[0;34m=\u001b[0m \u001b[0md2\u001b[0m\u001b[0;34m\u001b[0m\u001b[0;34m\u001b[0m\u001b[0m\n",
      "\u001b[0;32mh5py/_objects.pyx\u001b[0m in \u001b[0;36mh5py._objects.with_phil.wrapper\u001b[0;34m()\u001b[0m\n",
      "\u001b[0;32mh5py/_objects.pyx\u001b[0m in \u001b[0;36mh5py._objects.with_phil.wrapper\u001b[0;34m()\u001b[0m\n",
      "\u001b[0;32m~/miniforge3/envs/py38/lib/python3.8/site-packages/h5py/_hl/dataset.py\u001b[0m in \u001b[0;36m__getitem__\u001b[0;34m(self, args)\u001b[0m\n\u001b[1;32m    571\u001b[0m         \u001b[0mmspace\u001b[0m \u001b[0;34m=\u001b[0m \u001b[0mh5s\u001b[0m\u001b[0;34m.\u001b[0m\u001b[0mcreate_simple\u001b[0m\u001b[0;34m(\u001b[0m\u001b[0mmshape\u001b[0m\u001b[0;34m)\u001b[0m\u001b[0;34m\u001b[0m\u001b[0;34m\u001b[0m\u001b[0m\n\u001b[1;32m    572\u001b[0m         \u001b[0mfspace\u001b[0m \u001b[0;34m=\u001b[0m \u001b[0mselection\u001b[0m\u001b[0;34m.\u001b[0m\u001b[0mid\u001b[0m\u001b[0;34m\u001b[0m\u001b[0;34m\u001b[0m\u001b[0m\n\u001b[0;32m--> 573\u001b[0;31m         \u001b[0mself\u001b[0m\u001b[0;34m.\u001b[0m\u001b[0mid\u001b[0m\u001b[0;34m.\u001b[0m\u001b[0mread\u001b[0m\u001b[0;34m(\u001b[0m\u001b[0mmspace\u001b[0m\u001b[0;34m,\u001b[0m \u001b[0mfspace\u001b[0m\u001b[0;34m,\u001b[0m \u001b[0marr\u001b[0m\u001b[0;34m,\u001b[0m \u001b[0mmtype\u001b[0m\u001b[0;34m,\u001b[0m \u001b[0mdxpl\u001b[0m\u001b[0;34m=\u001b[0m\u001b[0mself\u001b[0m\u001b[0;34m.\u001b[0m\u001b[0m_dxpl\u001b[0m\u001b[0;34m)\u001b[0m\u001b[0;34m\u001b[0m\u001b[0;34m\u001b[0m\u001b[0m\n\u001b[0m\u001b[1;32m    574\u001b[0m \u001b[0;34m\u001b[0m\u001b[0m\n\u001b[1;32m    575\u001b[0m         \u001b[0;31m# Patch up the output for NumPy\u001b[0m\u001b[0;34m\u001b[0m\u001b[0;34m\u001b[0m\u001b[0;34m\u001b[0m\u001b[0m\n",
      "\u001b[0;32mh5py/_objects.pyx\u001b[0m in \u001b[0;36mh5py._objects.with_phil.wrapper\u001b[0;34m()\u001b[0m\n",
      "\u001b[0;32mh5py/_objects.pyx\u001b[0m in \u001b[0;36mh5py._objects.with_phil.wrapper\u001b[0;34m()\u001b[0m\n",
      "\u001b[0;32mh5py/h5d.pyx\u001b[0m in \u001b[0;36mh5py.h5d.DatasetID.read\u001b[0;34m()\u001b[0m\n",
      "\u001b[0;32mh5py/_proxy.pyx\u001b[0m in \u001b[0;36mh5py._proxy.dset_rw\u001b[0;34m()\u001b[0m\n",
      "\u001b[0;32mh5py/_proxy.pyx\u001b[0m in \u001b[0;36mh5py._proxy.H5PY_H5Dread\u001b[0;34m()\u001b[0m\n",
      "\u001b[0;31mOSError\u001b[0m: Can't read data (can't open directory: /Users/bashit.a/miniforge3/envs/py38/lib/hdf5/plugin)"
     ]
    }
   ],
   "source": [
    "# checking std data\n",
    "import tables\n",
    "\n",
    "de = h5exp(\"/Users/bashit.a/Documents/Alzheimer/Nov-2021/exp.h5\")\n",
    "qgrid2 = np.hstack([np.arange(0.005, 0.0499, 0.001), np.arange(0.05, 0.099, 0.002), np.arange(0.1, 3.2, 0.005)])\n",
    "\n",
    "dt = h5xs(\"/Users/bashit.a/Documents/Alzheimer/Nov-2021/2029_Dentate_gyrus-roi0.h5\", [de.detectors, qgrid2])\n",
    "print(dt.samples)\n",
    "plt.figure(figsize=(12,8))\n",
    "plt.subplot(121)\n",
    "ax = plt.gca()\n",
    "dt.show_data(sn='2029_Dentate_gyrus-roi0', det_ext=\"_SAXS\", ax=ax, frn=100)\n",
    "plt.subplot(122)\n",
    "ax = plt.gca()\n",
    "dt.show_data(sn='2029_Dentate_gyrus-roi0', det_ext=\"_WAXS2\", ax=ax, frn=100, showRef=[[1.5, 1.4],'r:'], clim=(0.1, 7),  mask_alpha=0.01, logScale=False, showMask=False) # cmap='cividis',"
   ]
  },
  {
   "cell_type": "code",
   "execution_count": 9,
   "metadata": {},
   "outputs": [
    {
     "name": "stdout",
     "output_type": "stream",
     "text": [
      "2029_Dentate_gyrus-roi1\n"
     ]
    }
   ],
   "source": [
    "### plot data\n",
    "%matplotlib widget\n",
    "dt  = h5xs(\"2029_Dentate_gyrus-roi1.h5\", [de.detectors, qgrid2])\n",
    "sn = dt.samples[0]\n",
    "print(sn)"
   ]
  },
  {
   "cell_type": "code",
   "execution_count": null,
   "metadata": {},
   "outputs": [],
   "source": []
  }
 ],
 "metadata": {
  "kernelspec": {
   "display_name": "Python 3 (ipykernel)",
   "language": "python",
   "name": "python3"
  },
  "language_info": {
   "codemirror_mode": {
    "name": "ipython",
    "version": 3
   },
   "file_extension": ".py",
   "mimetype": "text/x-python",
   "name": "python",
   "nbconvert_exporter": "python",
   "pygments_lexer": "ipython3",
   "version": "3.9.15"
  }
 },
 "nbformat": 4,
 "nbformat_minor": 4
}
